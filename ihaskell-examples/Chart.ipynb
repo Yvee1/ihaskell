{
 "cells": [
  {
   "cell_type": "code",
   "execution_count": 7,
   "metadata": {},
   "outputs": [
    {
     "ename": "",
     "evalue": "",
     "header": "MessageHeader {mhIdentifiers = [\"85c1cc66-8b7f-40de-a92a-19393a28c838\"], mhParentHeader = Just (MessageHeader {mhIdentifiers = [\"85c1cc66-8b7f-40de-a92a-19393a28c838\"], mhParentHeader = Nothing, mhMetadata = Metadata (fromList [(\"recordTiming\",Bool False),(\"deletedCells\",Array []),(\"cellId\",String \"e06e723d-a809-4b05-834f-aeab328ed8c1\")]), mhMessageId = UUID {uuidToString = \"4516cef4-3e96-4877-9bb4-a007028acd22\"}, mhSessionId = UUID {uuidToString = \"85c1cc66-8b7f-40de-a92a-19393a28c838\"}, mhUsername = \"\", mhMsgType = ExecuteRequestMessage, mhBuffers = []}), mhMetadata = Metadata (fromList []), mhMessageId = UUID {uuidToString = \"47d4a46e-6c6a-433f-b0c0-5e7bb42fbc42\"}, mhSessionId = UUID {uuidToString = \"85c1cc66-8b7f-40de-a92a-19393a28c838\"}, mhUsername = \"\", mhMsgType = ExecuteErrorMessage, mhBuffers = []}",
     "output_type": "error",
     "traceback": [
      "<interactive>:1:1: error:\n    Could not find module ‘Graphics.Rendering.Chart’\n    Perhaps you meant\n      Graphics.Rendering.Cairo (from cairo-0.13.8.0)\n      Graphics.Rendering.Pango (from pango-0.13.8.0)\n      Graphics.Rendering.SVG\n    Use -v (or `:set -v` in ghci) to see a list of the files searched for."
     ]
    }
   ],
   "source": [
    "import Graphics.Rendering.Chart\n",
    "import Data.Colour\n",
    "import Data.Colour.Names\n",
    "import Data.Default.Class\n",
    "import Control.Lens"
   ]
  },
  {
   "cell_type": "code",
   "execution_count": 8,
   "metadata": {},
   "outputs": [
    {
     "ename": "",
     "evalue": "",
     "header": "MessageHeader {mhIdentifiers = [\"85c1cc66-8b7f-40de-a92a-19393a28c838\"], mhParentHeader = Just (MessageHeader {mhIdentifiers = [\"85c1cc66-8b7f-40de-a92a-19393a28c838\"], mhParentHeader = Nothing, mhMetadata = Metadata (fromList [(\"recordTiming\",Bool False),(\"deletedCells\",Array []),(\"cellId\",String \"ad92dd85-d2c7-4655-988b-c5554386613e\")]), mhMessageId = UUID {uuidToString = \"5f2dfa64-93f0-4fbc-890a-5b894dfd7501\"}, mhSessionId = UUID {uuidToString = \"85c1cc66-8b7f-40de-a92a-19393a28c838\"}, mhUsername = \"\", mhMsgType = ExecuteRequestMessage, mhBuffers = []}), mhMetadata = Metadata (fromList []), mhMessageId = UUID {uuidToString = \"7e9e5dfb-27c2-4501-be2d-c8933e242bca\"}, mhSessionId = UUID {uuidToString = \"85c1cc66-8b7f-40de-a92a-19393a28c838\"}, mhUsername = \"\", mhMsgType = ExecuteErrorMessage, mhBuffers = []}",
     "output_type": "error",
     "traceback": [
      "<interactive>:10:16: error: Not in scope: type constructor or class ‘Layout’\n<interactive>:10:23: error: Not in scope: type constructor or class ‘PlotIndex’"
     ]
    }
   ],
   "source": [
    "chart borders = toRenderable layout\n",
    "  where\n",
    "  layout = \n",
    "        layout_title .~ \"Sample Bars\" ++ btitle\n",
    "      $ layout_title_style . font_size .~ 10\n",
    "      $ layout_x_axis . laxis_generate .~ autoIndexAxis alabels\n",
    "      $ layout_y_axis . laxis_override .~ axisGridHide\n",
    "      $ layout_left_axis_visibility . axis_show_ticks .~ False\n",
    "      $ layout_plots .~ [ plotBars bars2 ]\n",
    "      $ def :: Layout PlotIndex Double\n",
    "\n",
    "  bars2 = plot_bars_titles .~ [\"Cash\",\"Equity\"]\n",
    "      $ plot_bars_values .~ addIndexes [[20,45],[45,30],[30,20],[70,25]]\n",
    "      $ plot_bars_style .~ BarsClustered\n",
    "      $ plot_bars_spacing .~ BarsFixGap 30 5\n",
    "      $ plot_bars_item_styles .~ map mkstyle (cycle defaultColorSeq)\n",
    "      $ def\n",
    "\n",
    "  alabels = [ \"Jun\", \"Jul\", \"Aug\", \"Sep\", \"Oct\" ]\n",
    "\n",
    "  btitle = if borders then \"\" else \" (no borders)\"\n",
    "  bstyle = if borders then Just (solidLine 1.0 $ opaque black) else Nothing\n",
    "  mkstyle c = (solidFillStyle c, bstyle)"
   ]
  },
  {
   "cell_type": "code",
   "execution_count": 9,
   "metadata": {},
   "outputs": [
    {
     "ename": "",
     "evalue": "",
     "header": "MessageHeader {mhIdentifiers = [\"85c1cc66-8b7f-40de-a92a-19393a28c838\"], mhParentHeader = Just (MessageHeader {mhIdentifiers = [\"85c1cc66-8b7f-40de-a92a-19393a28c838\"], mhParentHeader = Nothing, mhMetadata = Metadata (fromList [(\"recordTiming\",Bool False),(\"deletedCells\",Array []),(\"cellId\",String \"f5e01516-0715-410a-857f-7c657ebe809f\")]), mhMessageId = UUID {uuidToString = \"236b691e-e8c9-4df5-a631-3a847e8dc7ed\"}, mhSessionId = UUID {uuidToString = \"85c1cc66-8b7f-40de-a92a-19393a28c838\"}, mhUsername = \"\", mhMsgType = ExecuteRequestMessage, mhBuffers = []}), mhMetadata = Metadata (fromList []), mhMessageId = UUID {uuidToString = \"1187d470-1f90-414d-8729-df4e61783821\"}, mhSessionId = UUID {uuidToString = \"85c1cc66-8b7f-40de-a92a-19393a28c838\"}, mhUsername = \"\", mhMsgType = ExecuteErrorMessage, mhBuffers = []}",
     "output_type": "error",
     "traceback": [
      "<interactive>:1:1: error:\n    • Variable not in scope: chart :: Bool -> t\n    • Perhaps you meant one of these: ‘IHaskellTH.charL’ (imported from Language.Haskell.TH), ‘IHaskellSysIO.char8’ (imported from System.IO)"
     ]
    }
   ],
   "source": [
    "chart True"
   ]
  },
  {
   "cell_type": "code",
   "execution_count": 10,
   "metadata": {},
   "outputs": [
    {
     "ename": "",
     "evalue": "",
     "header": "MessageHeader {mhIdentifiers = [\"85c1cc66-8b7f-40de-a92a-19393a28c838\"], mhParentHeader = Just (MessageHeader {mhIdentifiers = [\"85c1cc66-8b7f-40de-a92a-19393a28c838\"], mhParentHeader = Nothing, mhMetadata = Metadata (fromList [(\"recordTiming\",Bool False),(\"deletedCells\",Array []),(\"cellId\",String \"1d0033f1-c55d-44fc-bd4a-c1f3eeb5ed6e\")]), mhMessageId = UUID {uuidToString = \"96e8ff4b-a485-423b-991c-5bc9079e740f\"}, mhSessionId = UUID {uuidToString = \"85c1cc66-8b7f-40de-a92a-19393a28c838\"}, mhUsername = \"\", mhMsgType = ExecuteRequestMessage, mhBuffers = []}), mhMetadata = Metadata (fromList []), mhMessageId = UUID {uuidToString = \"57f03e43-a122-455f-a56c-b869b881c4a6\"}, mhSessionId = UUID {uuidToString = \"85c1cc66-8b7f-40de-a92a-19393a28c838\"}, mhUsername = \"\", mhMsgType = ExecuteErrorMessage, mhBuffers = []}",
     "output_type": "error",
     "traceback": [
      "<interactive>:1:1: error: Variable not in scope: a"
     ]
    }
   ],
   "source": [
    ":t a"
   ]
  },
  {
   "cell_type": "code",
   "execution_count": 11,
   "metadata": {},
   "outputs": [
    {
     "ename": "",
     "evalue": "",
     "header": "MessageHeader {mhIdentifiers = [\"85c1cc66-8b7f-40de-a92a-19393a28c838\"], mhParentHeader = Just (MessageHeader {mhIdentifiers = [\"85c1cc66-8b7f-40de-a92a-19393a28c838\"], mhParentHeader = Nothing, mhMetadata = Metadata (fromList [(\"recordTiming\",Bool False),(\"deletedCells\",Array []),(\"cellId\",String \"535e6e18-bddb-4942-b162-87df4b5d107a\")]), mhMessageId = UUID {uuidToString = \"7b853ed7-65db-4235-87dc-57a51e7049aa\"}, mhSessionId = UUID {uuidToString = \"85c1cc66-8b7f-40de-a92a-19393a28c838\"}, mhUsername = \"\", mhMsgType = ExecuteRequestMessage, mhBuffers = []}), mhMetadata = Metadata (fromList []), mhMessageId = UUID {uuidToString = \"ef42b81d-09d2-4503-9abd-d60c3a950055\"}, mhSessionId = UUID {uuidToString = \"85c1cc66-8b7f-40de-a92a-19393a28c838\"}, mhUsername = \"\", mhMsgType = ExecuteErrorMessage, mhBuffers = []}",
     "output_type": "error",
     "traceback": [
      "<interactive>:1:1: error: Variable not in scope: render :: t0 -> t\n<interactive>:1:8: error: Variable not in scope: a"
     ]
    }
   ],
   "source": [
    "render a"
   ]
  },
  {
   "cell_type": "code",
   "execution_count": null,
   "metadata": {},
   "outputs": [],
   "source": []
  }
 ],
 "metadata": {
  "kernelspec": {
   "display_name": "Haskell - haskell",
   "language": "haskell",
   "name": "ihaskell_haskell"
  },
  "language_info": {
   "codemirror_mode": "ihaskell",
   "file_extension": ".hs",
   "name": "haskell",
   "pygments_lexer": "Haskell",
   "version": "8.8.3"
  }
 },
 "nbformat": 4,
 "nbformat_minor": 4
}
