{
 "cells": [
  {
   "cell_type": "code",
   "execution_count": 1,
   "metadata": {
    "collapsed": false,
    "jupyter": {
     "outputs_hidden": false
    }
   },
   "outputs": [],
   "source": [
    "import Diagrams.Backend.Cairo.CmdLine"
   ]
  },
  {
   "cell_type": "code",
   "execution_count": 7,
   "metadata": {
    "collapsed": false,
    "jupyter": {
     "outputs_hidden": false
    }
   },
   "outputs": [],
   "source": [
    "{-# LANGUAGE NoMonomorphismRestriction FlexibleContexts #-}\n",
    "import Diagrams.Prelude\n",
    "import Data.List\n",
    "import Data.Ord (comparing)\n",
    "import Data.Function (on)\n",
    "import Data.Maybe (fromMaybe)\n",
    "import Data.Colour.SRGB (sRGB24read)\n",
    "\n",
    "colors = map sRGB24read[\"#000000\", \"#D1DBBD\", \"#91AA9D\", \"#3E606F\", \"#193441\", \"#000000\"]"
   ]
  },
  {
   "cell_type": "markdown",
   "metadata": {
    "hidden": false
   },
   "source": [
    "A subset is represented by the size of the parent set paired with the\n",
    "list of elements in the subset.  `isSubset` tests whether one set is a\n",
    "subset of another; `subsetsBySize` lists all the subsets of a set of\n",
    "size `n`, grouped according to size.\n",
    "\n"
   ]
  },
  {
   "cell_type": "code",
   "execution_count": 8,
   "metadata": {
    "collapsed": false,
    "jupyter": {
     "outputs_hidden": false
    }
   },
   "outputs": [
    {
     "data": {
      "text/html": [
       "<style>/* Styles used for the Hoogle display in the pager */\n",
       ".hoogle-doc {\n",
       "display: block;\n",
       "padding-bottom: 1.3em;\n",
       "padding-left: 0.4em;\n",
       "}\n",
       ".hoogle-code {\n",
       "display: block;\n",
       "font-family: monospace;\n",
       "white-space: pre;\n",
       "}\n",
       ".hoogle-text {\n",
       "display: block;\n",
       "}\n",
       ".hoogle-name {\n",
       "color: green;\n",
       "font-weight: bold;\n",
       "}\n",
       ".hoogle-head {\n",
       "font-weight: bold;\n",
       "}\n",
       ".hoogle-sub {\n",
       "display: block;\n",
       "margin-left: 0.4em;\n",
       "}\n",
       ".hoogle-package {\n",
       "font-weight: bold;\n",
       "font-style: italic;\n",
       "}\n",
       ".hoogle-module {\n",
       "font-weight: bold;\n",
       "}\n",
       ".hoogle-class {\n",
       "font-weight: bold;\n",
       "}\n",
       ".get-type {\n",
       "color: green;\n",
       "font-weight: bold;\n",
       "font-family: monospace;\n",
       "display: block;\n",
       "white-space: pre-wrap;\n",
       "}\n",
       ".show-type {\n",
       "color: green;\n",
       "font-weight: bold;\n",
       "font-family: monospace;\n",
       "margin-left: 1em;\n",
       "}\n",
       ".mono {\n",
       "font-family: monospace;\n",
       "display: block;\n",
       "}\n",
       ".err-msg {\n",
       "color: red;\n",
       "font-style: italic;\n",
       "font-family: monospace;\n",
       "white-space: pre;\n",
       "display: block;\n",
       "}\n",
       "#unshowable {\n",
       "color: red;\n",
       "font-weight: bold;\n",
       "}\n",
       ".err-msg.in.collapse {\n",
       "padding-top: 0.7em;\n",
       "}\n",
       ".highlight-code {\n",
       "white-space: pre;\n",
       "font-family: monospace;\n",
       "}\n",
       ".suggestion-warning { \n",
       "font-weight: bold;\n",
       "color: rgb(200, 130, 0);\n",
       "}\n",
       ".suggestion-error { \n",
       "font-weight: bold;\n",
       "color: red;\n",
       "}\n",
       ".suggestion-name {\n",
       "font-weight: bold;\n",
       "}\n",
       "</style><div class=\"suggestion-name\" style=\"clear:both;\">Use sortOn</div><div class=\"suggestion-row\" style=\"float: left;\"><div class=\"suggestion-warning\">Found:</div><div class=\"highlight-code\" id=\"haskell\">sortBy (comparing length)</div></div><div class=\"suggestion-row\" style=\"float: left;\"><div class=\"suggestion-warning\">Why Not:</div><div class=\"highlight-code\" id=\"haskell\">sortOn length</div></div>"
      ],
      "text/plain": [
       "Line 8: Use sortOn\n",
       "Found:\n",
       "sortBy (comparing length)\n",
       "Why not:\n",
       "sortOn length"
      ]
     },
     "metadata": {},
     "output_type": "display_data"
    }
   ],
   "source": [
    "data Subset = Subset Int [Int]\n",
    "\n",
    "(Subset _ elts1) `isSubset` (Subset _ elts2) = all (`elem` elts2) elts1\n",
    "\n",
    "subsetsBySize :: Int -> [[Subset]]\n",
    "subsetsBySize n = map (map (Subset n))\n",
    "                . groupBy ((==) `on` length)\n",
    "                . sortBy (comparing length)\n",
    "                . subsequences\n",
    "                $ [1..n]\n"
   ]
  },
  {
   "cell_type": "markdown",
   "metadata": {
    "hidden": false
   },
   "source": [
    "Draw the elements of a subset, by drawing a colored square for each\n",
    "element present, and leaving a blank space for absent elements.\n",
    "\n"
   ]
  },
  {
   "cell_type": "code",
   "execution_count": 13,
   "metadata": {
    "collapsed": false,
    "jupyter": {
     "outputs_hidden": false
    }
   },
   "outputs": [],
   "source": [
    "drawElts :: Int -> [Int] -> Diagram B\n",
    "drawElts n elts = hcat\n",
    "                . map (\\i -> if i `elem` elts\n",
    "                               then drawElt i\n",
    "                               else strutX 1\n",
    "                      )\n",
    "                $ [1..n]\n",
    "\n",
    "drawElt :: Int -> Diagram B\n",
    "drawElt e = unitSquare # fc (colors !! e) # lw thin"
   ]
  },
  {
   "cell_type": "markdown",
   "metadata": {
    "hidden": false
   },
   "source": [
    "Draw a subset by drawing a dashed rectangle around the elements.  Note\n",
    "that we also assign a name to the rectangle, corresponding to the\n",
    "elements it contains, which we use to draw connections between subsets\n",
    "later.\n",
    "\n"
   ]
  },
  {
   "cell_type": "code",
   "execution_count": 15,
   "metadata": {
    "collapsed": false,
    "jupyter": {
     "outputs_hidden": false
    }
   },
   "outputs": [
    {
     "data": {
      "text/html": [
       "<style>/* Styles used for the Hoogle display in the pager */\n",
       ".hoogle-doc {\n",
       "display: block;\n",
       "padding-bottom: 1.3em;\n",
       "padding-left: 0.4em;\n",
       "}\n",
       ".hoogle-code {\n",
       "display: block;\n",
       "font-family: monospace;\n",
       "white-space: pre;\n",
       "}\n",
       ".hoogle-text {\n",
       "display: block;\n",
       "}\n",
       ".hoogle-name {\n",
       "color: green;\n",
       "font-weight: bold;\n",
       "}\n",
       ".hoogle-head {\n",
       "font-weight: bold;\n",
       "}\n",
       ".hoogle-sub {\n",
       "display: block;\n",
       "margin-left: 0.4em;\n",
       "}\n",
       ".hoogle-package {\n",
       "font-weight: bold;\n",
       "font-style: italic;\n",
       "}\n",
       ".hoogle-module {\n",
       "font-weight: bold;\n",
       "}\n",
       ".hoogle-class {\n",
       "font-weight: bold;\n",
       "}\n",
       ".get-type {\n",
       "color: green;\n",
       "font-weight: bold;\n",
       "font-family: monospace;\n",
       "display: block;\n",
       "white-space: pre-wrap;\n",
       "}\n",
       ".show-type {\n",
       "color: green;\n",
       "font-weight: bold;\n",
       "font-family: monospace;\n",
       "margin-left: 1em;\n",
       "}\n",
       ".mono {\n",
       "font-family: monospace;\n",
       "display: block;\n",
       "}\n",
       ".err-msg {\n",
       "color: red;\n",
       "font-style: italic;\n",
       "font-family: monospace;\n",
       "white-space: pre;\n",
       "display: block;\n",
       "}\n",
       "#unshowable {\n",
       "color: red;\n",
       "font-weight: bold;\n",
       "}\n",
       ".err-msg.in.collapse {\n",
       "padding-top: 0.7em;\n",
       "}\n",
       ".highlight-code {\n",
       "white-space: pre;\n",
       "font-family: monospace;\n",
       "}\n",
       ".suggestion-warning { \n",
       "font-weight: bold;\n",
       "color: rgb(200, 130, 0);\n",
       "}\n",
       ".suggestion-error { \n",
       "font-weight: bold;\n",
       "color: red;\n",
       "}\n",
       ".suggestion-name {\n",
       "font-weight: bold;\n",
       "}\n",
       "</style><div class=\"suggestion-name\" style=\"clear:both;\">Redundant bracket</div><div class=\"suggestion-row\" style=\"float: left;\"><div class=\"suggestion-warning\">Found:</div><div class=\"highlight-code\" id=\"haskell\">(drawElts n elts # centerXY\n",
       "   <>\n",
       "     rect (fromIntegral n + 0.5) 1.5 # dashingG [0.2, 0.2] 0 # lw thin\n",
       "       # named elts)</div></div><div class=\"suggestion-row\" style=\"float: left;\"><div class=\"suggestion-warning\">Why Not:</div><div class=\"highlight-code\" id=\"haskell\">drawElts n elts # centerXY\n",
       "  <>\n",
       "    rect (fromIntegral n + 0.5) 1.5 # dashingG [0.2, 0.2] 0 # lw thin\n",
       "      # named elts</div></div>"
      ],
      "text/plain": [
       "Line 1: Redundant bracket\n",
       "Found:\n",
       "(drawElts n elts # centerXY\n",
       "   <>\n",
       "     rect (fromIntegral n + 0.5) 1.5 # dashingG [0.2, 0.2] 0 # lw thin\n",
       "       # named elts)\n",
       "Why not:\n",
       "drawElts n elts # centerXY\n",
       "  <>\n",
       "    rect (fromIntegral n + 0.5) 1.5 # dashingG [0.2, 0.2] 0 # lw thin\n",
       "      # named elts"
      ]
     },
     "metadata": {},
     "output_type": "display_data"
    }
   ],
   "source": [
    "drawSet (Subset n elts) = (    drawElts n elts # centerXY\n",
    "                            <> rect (fromIntegral n + 0.5) 1.5\n",
    "                                 # dashingG [0.2,0.2] 0\n",
    "                                 # lw thin\n",
    "                                 # named elts\n",
    "                          )"
   ]
  },
  {
   "cell_type": "markdown",
   "metadata": {
    "hidden": false
   },
   "source": [
    "Draw a Hasse diagram by drawing subsets grouped by size in rows, and\n",
    "connecting each set to its subsets in the row below.  [See the user\n",
    "manual](http://projects.haskell.org/diagrams/manual/diagrams-manual.html#named-subdiagrams)\n",
    "for a more in-depth explanation of how names are used to connect subsets.\n",
    "\n"
   ]
  },
  {
   "cell_type": "markdown",
   "metadata": {
    "hidden": false
   },
   "source": [
    "To generate all the connections, we apply `connectSome` to each pair\n",
    "of adjacent rows, which calls `connect` on those pairs where one is a\n",
    "subset of the other.\n",
    "\n"
   ]
  },
  {
   "cell_type": "markdown",
   "metadata": {
    "hidden": false
   },
   "source": [
    "Connect two subsets by looking up the subdiagrams named with their\n",
    "elements, and drawing a line from the upper boundary of one to the\n",
    "lower boundary of the other.\n",
    "\n"
   ]
  },
  {
   "cell_type": "code",
   "execution_count": 19,
   "metadata": {
    "collapsed": false,
    "jupyter": {
     "outputs_hidden": false
    }
   },
   "outputs": [],
   "source": [
    "hasseRow = centerX . hcat' (with & sep .~ 2) . map drawSet\n",
    "\n",
    "hasseDiagram n = setsD # drawConnections # centerXY\n",
    "  where setsD = vcat' (with & sep .~ fromIntegral n)\n",
    "              . map hasseRow\n",
    "              . reverse\n",
    "              $ subsets\n",
    "        subsets = subsetsBySize n\n",
    "        drawConnections = applyAll connections\n",
    "\n",
    "\n",
    "        connections = concat $ zipWith connectSome subsets (tail subsets)\n",
    "        connectSome subs1 subs2 = [ connect s1 s2 | s1 <- subs1\n",
    "                                                  , s2 <- subs2\n",
    "                                                  , s1 `isSubset` s2 ]\n",
    "\n",
    "\n",
    "        connect (Subset _ elts1) (Subset _ elts2) =\n",
    "          withNames [elts1, elts2] $ \\[b1, b2] ->\n",
    "            beneath ((boundaryFrom b1 unitY ~~ boundaryFrom b2 unit_Y) # lw thin)\n",
    "\n",
    "example = pad 1.1 $ hasseDiagram 4"
   ]
  },
  {
   "cell_type": "code",
   "execution_count": 20,
   "metadata": {
    "collapsed": false,
    "jupyter": {
     "outputs_hidden": false
    }
   },
   "outputs": [
    {
     "data": {
      "image/png": "[encoded data removed]",
      "image/svg+xml": [
       "<?xml version=\"1.0\" encoding=\"UTF-8\"?>\n",
       "<svg xmlns=\"http://www.w3.org/2000/svg\" xmlns:xlink=\"http://www.w3.org/1999/xlink\" width=\"422.065436pt\" height=\"268.068588pt\" viewBox=\"0 0 422.065436 268.068588\" version=\"1.1\">\n",
       "<g id=\"surface2\">\n",
       "<path style=\"fill:none;stroke-width:0.672733;stroke-linecap:butt;stroke-linejoin:miter;stroke:rgb(0%,0%,0%);stroke-opacity:1;stroke-miterlimit:10;\" d=\"M 211.03125 240.328125 L 109.921875 198.847656 \"/>\n",
       "<path style=\"fill:none;stroke-width:0.672733;stroke-linecap:butt;stroke-linejoin:miter;stroke:rgb(0%,0%,0%);stroke-opacity:1;stroke-miterlimit:10;\" d=\"M 211.03125 240.328125 L 177.328125 198.847656 \"/>\n",
       "<path style=\"fill:none;stroke-width:0.672733;stroke-linecap:butt;stroke-linejoin:miter;stroke:rgb(0%,0%,0%);stroke-opacity:1;stroke-miterlimit:10;\" d=\"M 211.03125 240.328125 L 244.734375 198.847656 \"/>\n",
       "<path style=\"fill:none;stroke-width:0.672733;stroke-linecap:butt;stroke-linejoin:miter;stroke:rgb(0%,0%,0%);stroke-opacity:1;stroke-miterlimit:10;\" d=\"M 211.03125 240.328125 L 312.140625 198.847656 \"/>\n",
       "<path style=\"fill:none;stroke-width:0.672733;stroke-linecap:butt;stroke-linejoin:miter;stroke:rgb(0%,0%,0%);stroke-opacity:1;stroke-miterlimit:10;\" d=\"M 109.921875 183.292969 L 42.515625 141.8125 \"/>\n",
       "<path style=\"fill:none;stroke-width:0.672733;stroke-linecap:butt;stroke-linejoin:miter;stroke:rgb(0%,0%,0%);stroke-opacity:1;stroke-miterlimit:10;\" d=\"M 109.921875 183.292969 L 109.921875 141.8125 \"/>\n",
       "<path style=\"fill:none;stroke-width:0.672733;stroke-linecap:butt;stroke-linejoin:miter;stroke:rgb(0%,0%,0%);stroke-opacity:1;stroke-miterlimit:10;\" d=\"M 109.921875 183.292969 L 244.734375 141.8125 \"/>\n",
       "<path style=\"fill:none;stroke-width:0.672733;stroke-linecap:butt;stroke-linejoin:miter;stroke:rgb(0%,0%,0%);stroke-opacity:1;stroke-miterlimit:10;\" d=\"M 177.328125 183.292969 L 42.515625 141.8125 \"/>\n",
       "<path style=\"fill:none;stroke-width:0.672733;stroke-linecap:butt;stroke-linejoin:miter;stroke:rgb(0%,0%,0%);stroke-opacity:1;stroke-miterlimit:10;\" d=\"M 177.328125 183.292969 L 177.328125 141.8125 \"/>\n",
       "<path style=\"fill:none;stroke-width:0.672733;stroke-linecap:butt;stroke-linejoin:miter;stroke:rgb(0%,0%,0%);stroke-opacity:1;stroke-miterlimit:10;\" d=\"M 177.328125 183.292969 L 312.140625 141.8125 \"/>\n",
       "<path style=\"fill:none;stroke-width:0.672733;stroke-linecap:butt;stroke-linejoin:miter;stroke:rgb(0%,0%,0%);stroke-opacity:1;stroke-miterlimit:10;\" d=\"M 244.734375 183.292969 L 109.921875 141.8125 \"/>\n",
       "<path style=\"fill:none;stroke-width:0.672733;stroke-linecap:butt;stroke-linejoin:miter;stroke:rgb(0%,0%,0%);stroke-opacity:1;stroke-miterlimit:10;\" d=\"M 244.734375 183.292969 L 177.328125 141.8125 \"/>\n",
       "<path style=\"fill:none;stroke-width:0.672733;stroke-linecap:butt;stroke-linejoin:miter;stroke:rgb(0%,0%,0%);stroke-opacity:1;stroke-miterlimit:10;\" d=\"M 244.734375 183.292969 L 379.546875 141.8125 \"/>\n",
       "<path style=\"fill:none;stroke-width:0.672733;stroke-linecap:butt;stroke-linejoin:miter;stroke:rgb(0%,0%,0%);stroke-opacity:1;stroke-miterlimit:10;\" d=\"M 312.140625 183.292969 L 244.734375 141.8125 \"/>\n",
       "<path style=\"fill:none;stroke-width:0.672733;stroke-linecap:butt;stroke-linejoin:miter;stroke:rgb(0%,0%,0%);stroke-opacity:1;stroke-miterlimit:10;\" d=\"M 312.140625 183.292969 L 312.140625 141.8125 \"/>\n",
       "<path style=\"fill:none;stroke-width:0.672733;stroke-linecap:butt;stroke-linejoin:miter;stroke:rgb(0%,0%,0%);stroke-opacity:1;stroke-miterlimit:10;\" d=\"M 312.140625 183.292969 L 379.546875 141.8125 \"/>\n",
       "<path style=\"fill:none;stroke-width:0.672733;stroke-linecap:butt;stroke-linejoin:miter;stroke:rgb(0%,0%,0%);stroke-opacity:1;stroke-miterlimit:10;\" d=\"M 42.519531 126.257812 L 109.925781 84.777344 \"/>\n",
       "<path style=\"fill:none;stroke-width:0.672733;stroke-linecap:butt;stroke-linejoin:miter;stroke:rgb(0%,0%,0%);stroke-opacity:1;stroke-miterlimit:10;\" d=\"M 42.519531 126.257812 L 177.332031 84.777344 \"/>\n",
       "<path style=\"fill:none;stroke-width:0.672733;stroke-linecap:butt;stroke-linejoin:miter;stroke:rgb(0%,0%,0%);stroke-opacity:1;stroke-miterlimit:10;\" d=\"M 109.921875 126.257812 L 109.921875 84.777344 \"/>\n",
       "<path style=\"fill:none;stroke-width:0.672733;stroke-linecap:butt;stroke-linejoin:miter;stroke:rgb(0%,0%,0%);stroke-opacity:1;stroke-miterlimit:10;\" d=\"M 109.921875 126.257812 L 244.734375 84.777344 \"/>\n",
       "<path style=\"fill:none;stroke-width:0.672733;stroke-linecap:butt;stroke-linejoin:miter;stroke:rgb(0%,0%,0%);stroke-opacity:1;stroke-miterlimit:10;\" d=\"M 177.328125 126.257812 L 109.921875 84.777344 \"/>\n",
       "<path style=\"fill:none;stroke-width:0.672733;stroke-linecap:butt;stroke-linejoin:miter;stroke:rgb(0%,0%,0%);stroke-opacity:1;stroke-miterlimit:10;\" d=\"M 177.328125 126.257812 L 312.140625 84.777344 \"/>\n",
       "<path style=\"fill:none;stroke-width:0.672733;stroke-linecap:butt;stroke-linejoin:miter;stroke:rgb(0%,0%,0%);stroke-opacity:1;stroke-miterlimit:10;\" d=\"M 244.734375 126.257812 L 177.328125 84.777344 \"/>\n",
       "<path style=\"fill:none;stroke-width:0.672733;stroke-linecap:butt;stroke-linejoin:miter;stroke:rgb(0%,0%,0%);stroke-opacity:1;stroke-miterlimit:10;\" d=\"M 244.734375 126.257812 L 244.734375 84.777344 \"/>\n",
       "<path style=\"fill:none;stroke-width:0.672733;stroke-linecap:butt;stroke-linejoin:miter;stroke:rgb(0%,0%,0%);stroke-opacity:1;stroke-miterlimit:10;\" d=\"M 312.140625 126.257812 L 177.328125 84.777344 \"/>\n",
       "<path style=\"fill:none;stroke-width:0.672733;stroke-linecap:butt;stroke-linejoin:miter;stroke:rgb(0%,0%,0%);stroke-opacity:1;stroke-miterlimit:10;\" d=\"M 312.140625 126.257812 L 312.140625 84.777344 \"/>\n",
       "<path style=\"fill:none;stroke-width:0.672733;stroke-linecap:butt;stroke-linejoin:miter;stroke:rgb(0%,0%,0%);stroke-opacity:1;stroke-miterlimit:10;\" d=\"M 379.546875 126.257812 L 244.734375 84.777344 \"/>\n",
       "<path style=\"fill:none;stroke-width:0.672733;stroke-linecap:butt;stroke-linejoin:miter;stroke:rgb(0%,0%,0%);stroke-opacity:1;stroke-miterlimit:10;\" d=\"M 379.546875 126.257812 L 312.140625 84.777344 \"/>\n",
       "<path style=\"fill:none;stroke-width:0.672733;stroke-linecap:butt;stroke-linejoin:miter;stroke:rgb(0%,0%,0%);stroke-opacity:1;stroke-miterlimit:10;\" d=\"M 109.921875 69.222656 L 211.03125 27.742188 \"/>\n",
       "<path style=\"fill:none;stroke-width:0.672733;stroke-linecap:butt;stroke-linejoin:miter;stroke:rgb(0%,0%,0%);stroke-opacity:1;stroke-miterlimit:10;\" d=\"M 177.328125 69.222656 L 211.03125 27.742188 \"/>\n",
       "<path style=\"fill:none;stroke-width:0.672733;stroke-linecap:butt;stroke-linejoin:miter;stroke:rgb(0%,0%,0%);stroke-opacity:1;stroke-miterlimit:10;\" d=\"M 244.734375 69.222656 L 211.03125 27.742188 \"/>\n",
       "<path style=\"fill:none;stroke-width:0.672733;stroke-linecap:butt;stroke-linejoin:miter;stroke:rgb(0%,0%,0%);stroke-opacity:1;stroke-miterlimit:10;\" d=\"M 312.140625 69.222656 L 211.03125 27.742188 \"/>\n",
       "<path style=\"fill:none;stroke-width:0.672733;stroke-linecap:butt;stroke-linejoin:miter;stroke:rgb(0%,0%,0%);stroke-opacity:1;stroke-dasharray:2.074032,2.074032;stroke-miterlimit:10;\" d=\"M 234.367188 255.882812 L 234.367188 240.328125 L 187.703125 240.328125 L 187.703125 255.882812 Z M 234.367188 255.882812 \"/>\n",
       "<path style=\"fill:none;stroke-width:0.672733;stroke-linecap:butt;stroke-linejoin:miter;stroke:rgb(0%,0%,0%);stroke-opacity:1;stroke-dasharray:2.074032,2.074032;stroke-miterlimit:10;\" d=\"M 335.476562 198.847656 L 335.476562 183.292969 L 288.8125 183.292969 L 288.8125 198.847656 Z M 335.476562 198.847656 \"/>\n",
       "<path style=\"fill-rule:nonzero;fill:rgb(9.803922%,20.392157%,25.490196%);fill-opacity:1;stroke-width:0.672733;stroke-linecap:butt;stroke-linejoin:miter;stroke:rgb(0%,0%,0%);stroke-opacity:1;stroke-miterlimit:10;\" d=\"M 332.882812 196.253906 L 332.882812 185.882812 L 322.511719 185.882812 L 322.511719 196.253906 Z M 332.882812 196.253906 \"/>\n",
       "<path style=\"fill:none;stroke-width:0.672733;stroke-linecap:butt;stroke-linejoin:miter;stroke:rgb(0%,0%,0%);stroke-opacity:1;stroke-dasharray:2.074032,2.074032;stroke-miterlimit:10;\" d=\"M 268.070312 198.847656 L 268.070312 183.292969 L 221.40625 183.292969 L 221.40625 198.847656 Z M 268.070312 198.847656 \"/>\n",
       "<path style=\"fill-rule:nonzero;fill:rgb(24.313725%,37.647059%,43.529412%);fill-opacity:1;stroke-width:0.672733;stroke-linecap:butt;stroke-linejoin:miter;stroke:rgb(0%,0%,0%);stroke-opacity:1;stroke-miterlimit:10;\" d=\"M 255.105469 196.253906 L 255.105469 185.882812 L 244.734375 185.882812 L 244.734375 196.253906 Z M 255.105469 196.253906 \"/>\n",
       "<path style=\"fill:none;stroke-width:0.672733;stroke-linecap:butt;stroke-linejoin:miter;stroke:rgb(0%,0%,0%);stroke-opacity:1;stroke-dasharray:2.074032,2.074032;stroke-miterlimit:10;\" d=\"M 200.664062 198.847656 L 200.664062 183.292969 L 154 183.292969 L 154 198.847656 Z M 200.664062 198.847656 \"/>\n",
       "<path style=\"fill-rule:nonzero;fill:rgb(56.862745%,66.666667%,61.568627%);fill-opacity:1;stroke-width:0.672733;stroke-linecap:butt;stroke-linejoin:miter;stroke:rgb(0%,0%,0%);stroke-opacity:1;stroke-miterlimit:10;\" d=\"M 177.328125 196.253906 L 177.328125 185.882812 L 166.957031 185.882812 L 166.957031 196.253906 Z M 177.328125 196.253906 \"/>\n",
       "<path style=\"fill:none;stroke-width:0.672733;stroke-linecap:butt;stroke-linejoin:miter;stroke:rgb(0%,0%,0%);stroke-opacity:1;stroke-dasharray:2.074032,2.074032;stroke-miterlimit:10;\" d=\"M 133.257812 198.847656 L 133.257812 183.292969 L 86.59375 183.292969 L 86.59375 198.847656 Z M 133.257812 198.847656 \"/>\n",
       "<path style=\"fill-rule:nonzero;fill:rgb(81.960784%,85.882353%,74.117647%);fill-opacity:1;stroke-width:0.672733;stroke-linecap:butt;stroke-linejoin:miter;stroke:rgb(0%,0%,0%);stroke-opacity:1;stroke-miterlimit:10;\" d=\"M 99.554688 196.253906 L 99.554688 185.882812 L 89.183594 185.882812 L 89.183594 196.253906 Z M 99.554688 196.253906 \"/>\n",
       "<path style=\"fill:none;stroke-width:0.672733;stroke-linecap:butt;stroke-linejoin:miter;stroke:rgb(0%,0%,0%);stroke-opacity:1;stroke-dasharray:2.074032,2.074032;stroke-miterlimit:10;\" d=\"M 402.878906 141.8125 L 402.878906 126.257812 L 356.214844 126.257812 L 356.214844 141.8125 Z M 402.878906 141.8125 \"/>\n",
       "<path style=\"fill-rule:nonzero;fill:rgb(9.803922%,20.392157%,25.490196%);fill-opacity:1;stroke-width:0.672733;stroke-linecap:butt;stroke-linejoin:miter;stroke:rgb(0%,0%,0%);stroke-opacity:1;stroke-miterlimit:10;\" d=\"M 400.289062 139.21875 L 400.289062 128.847656 L 389.917969 128.847656 L 389.917969 139.21875 Z M 400.289062 139.21875 \"/>\n",
       "<path style=\"fill-rule:nonzero;fill:rgb(24.313725%,37.647059%,43.529412%);fill-opacity:1;stroke-width:0.672733;stroke-linecap:butt;stroke-linejoin:miter;stroke:rgb(0%,0%,0%);stroke-opacity:1;stroke-miterlimit:10;\" d=\"M 389.917969 139.21875 L 389.917969 128.847656 L 379.546875 128.847656 L 379.546875 139.21875 Z M 389.917969 139.21875 \"/>\n",
       "<path style=\"fill:none;stroke-width:0.672733;stroke-linecap:butt;stroke-linejoin:miter;stroke:rgb(0%,0%,0%);stroke-opacity:1;stroke-dasharray:2.074032,2.074032;stroke-miterlimit:10;\" d=\"M 335.476562 141.8125 L 335.476562 126.257812 L 288.8125 126.257812 L 288.8125 141.8125 Z M 335.476562 141.8125 \"/>\n",
       "<path style=\"fill-rule:nonzero;fill:rgb(9.803922%,20.392157%,25.490196%);fill-opacity:1;stroke-width:0.672733;stroke-linecap:butt;stroke-linejoin:miter;stroke:rgb(0%,0%,0%);stroke-opacity:1;stroke-miterlimit:10;\" d=\"M 332.882812 139.21875 L 332.882812 128.847656 L 322.511719 128.847656 L 322.511719 139.21875 Z M 332.882812 139.21875 \"/>\n",
       "<path style=\"fill-rule:nonzero;fill:rgb(56.862745%,66.666667%,61.568627%);fill-opacity:1;stroke-width:0.672733;stroke-linecap:butt;stroke-linejoin:miter;stroke:rgb(0%,0%,0%);stroke-opacity:1;stroke-miterlimit:10;\" d=\"M 312.140625 139.21875 L 312.140625 128.847656 L 301.769531 128.847656 L 301.769531 139.21875 Z M 312.140625 139.21875 \"/>\n",
       "<path style=\"fill:none;stroke-width:0.672733;stroke-linecap:butt;stroke-linejoin:miter;stroke:rgb(0%,0%,0%);stroke-opacity:1;stroke-dasharray:2.074032,2.074032;stroke-miterlimit:10;\" d=\"M 268.070312 141.8125 L 268.070312 126.257812 L 221.40625 126.257812 L 221.40625 141.8125 Z M 268.070312 141.8125 \"/>\n",
       "<path style=\"fill-rule:nonzero;fill:rgb(9.803922%,20.392157%,25.490196%);fill-opacity:1;stroke-width:0.672733;stroke-linecap:butt;stroke-linejoin:miter;stroke:rgb(0%,0%,0%);stroke-opacity:1;stroke-miterlimit:10;\" d=\"M 265.476562 139.21875 L 265.476562 128.847656 L 255.105469 128.847656 L 255.105469 139.21875 Z M 265.476562 139.21875 \"/>\n",
       "<path style=\"fill-rule:nonzero;fill:rgb(81.960784%,85.882353%,74.117647%);fill-opacity:1;stroke-width:0.672733;stroke-linecap:butt;stroke-linejoin:miter;stroke:rgb(0%,0%,0%);stroke-opacity:1;stroke-miterlimit:10;\" d=\"M 234.367188 139.21875 L 234.367188 128.847656 L 223.996094 128.847656 L 223.996094 139.21875 Z M 234.367188 139.21875 \"/>\n",
       "<path style=\"fill:none;stroke-width:0.672733;stroke-linecap:butt;stroke-linejoin:miter;stroke:rgb(0%,0%,0%);stroke-opacity:1;stroke-dasharray:2.074032,2.074032;stroke-miterlimit:10;\" d=\"M 200.664062 141.8125 L 200.664062 126.257812 L 154 126.257812 L 154 141.8125 Z M 200.664062 141.8125 \"/>\n",
       "<path style=\"fill-rule:nonzero;fill:rgb(24.313725%,37.647059%,43.529412%);fill-opacity:1;stroke-width:0.672733;stroke-linecap:butt;stroke-linejoin:miter;stroke:rgb(0%,0%,0%);stroke-opacity:1;stroke-miterlimit:10;\" d=\"M 187.699219 139.21875 L 187.699219 128.847656 L 177.328125 128.847656 L 177.328125 139.21875 Z M 187.699219 139.21875 \"/>\n",
       "<path style=\"fill-rule:nonzero;fill:rgb(56.862745%,66.666667%,61.568627%);fill-opacity:1;stroke-width:0.672733;stroke-linecap:butt;stroke-linejoin:miter;stroke:rgb(0%,0%,0%);stroke-opacity:1;stroke-miterlimit:10;\" d=\"M 177.328125 139.21875 L 177.328125 128.847656 L 166.957031 128.847656 L 166.957031 139.21875 Z M 177.328125 139.21875 \"/>\n",
       "<path style=\"fill:none;stroke-width:0.672733;stroke-linecap:butt;stroke-linejoin:miter;stroke:rgb(0%,0%,0%);stroke-opacity:1;stroke-dasharray:2.074032,2.074032;stroke-miterlimit:10;\" d=\"M 133.257812 141.8125 L 133.257812 126.257812 L 86.59375 126.257812 L 86.59375 141.8125 Z M 133.257812 141.8125 \"/>\n",
       "<path style=\"fill-rule:nonzero;fill:rgb(24.313725%,37.647059%,43.529412%);fill-opacity:1;stroke-width:0.672733;stroke-linecap:butt;stroke-linejoin:miter;stroke:rgb(0%,0%,0%);stroke-opacity:1;stroke-miterlimit:10;\" d=\"M 120.292969 139.21875 L 120.292969 128.847656 L 109.921875 128.847656 L 109.921875 139.21875 Z M 120.292969 139.21875 \"/>\n",
       "<path style=\"fill-rule:nonzero;fill:rgb(81.960784%,85.882353%,74.117647%);fill-opacity:1;stroke-width:0.672733;stroke-linecap:butt;stroke-linejoin:miter;stroke:rgb(0%,0%,0%);stroke-opacity:1;stroke-miterlimit:10;\" d=\"M 99.554688 139.21875 L 99.554688 128.847656 L 89.183594 128.847656 L 89.183594 139.21875 Z M 99.554688 139.21875 \"/>\n",
       "<path style=\"fill:none;stroke-width:0.672733;stroke-linecap:butt;stroke-linejoin:miter;stroke:rgb(0%,0%,0%);stroke-opacity:1;stroke-dasharray:2.074032,2.074032;stroke-miterlimit:10;\" d=\"M 65.851562 141.8125 L 65.851562 126.257812 L 19.1875 126.257812 L 19.1875 141.8125 Z M 65.851562 141.8125 \"/>\n",
       "<path style=\"fill-rule:nonzero;fill:rgb(56.862745%,66.666667%,61.568627%);fill-opacity:1;stroke-width:0.672733;stroke-linecap:butt;stroke-linejoin:miter;stroke:rgb(0%,0%,0%);stroke-opacity:1;stroke-miterlimit:10;\" d=\"M 42.519531 139.21875 L 42.519531 128.847656 L 32.148438 128.847656 L 32.148438 139.21875 Z M 42.519531 139.21875 \"/>\n",
       "<path style=\"fill-rule:nonzero;fill:rgb(81.960784%,85.882353%,74.117647%);fill-opacity:1;stroke-width:0.672733;stroke-linecap:butt;stroke-linejoin:miter;stroke:rgb(0%,0%,0%);stroke-opacity:1;stroke-miterlimit:10;\" d=\"M 32.148438 139.21875 L 32.148438 128.847656 L 21.777344 128.847656 L 21.777344 139.21875 Z M 32.148438 139.21875 \"/>\n",
       "<path style=\"fill:none;stroke-width:0.672733;stroke-linecap:butt;stroke-linejoin:miter;stroke:rgb(0%,0%,0%);stroke-opacity:1;stroke-dasharray:2.074032,2.074032;stroke-miterlimit:10;\" d=\"M 335.476562 84.777344 L 335.476562 69.222656 L 288.8125 69.222656 L 288.8125 84.777344 Z M 335.476562 84.777344 \"/>\n",
       "<path style=\"fill-rule:nonzero;fill:rgb(9.803922%,20.392157%,25.490196%);fill-opacity:1;stroke-width:0.672733;stroke-linecap:butt;stroke-linejoin:miter;stroke:rgb(0%,0%,0%);stroke-opacity:1;stroke-miterlimit:10;\" d=\"M 332.882812 82.183594 L 332.882812 71.8125 L 322.511719 71.8125 L 322.511719 82.183594 Z M 332.882812 82.183594 \"/>\n",
       "<path style=\"fill-rule:nonzero;fill:rgb(24.313725%,37.647059%,43.529412%);fill-opacity:1;stroke-width:0.672733;stroke-linecap:butt;stroke-linejoin:miter;stroke:rgb(0%,0%,0%);stroke-opacity:1;stroke-miterlimit:10;\" d=\"M 322.511719 82.183594 L 322.511719 71.8125 L 312.140625 71.8125 L 312.140625 82.183594 Z M 322.511719 82.183594 \"/>\n",
       "<path style=\"fill-rule:nonzero;fill:rgb(56.862745%,66.666667%,61.568627%);fill-opacity:1;stroke-width:0.672733;stroke-linecap:butt;stroke-linejoin:miter;stroke:rgb(0%,0%,0%);stroke-opacity:1;stroke-miterlimit:10;\" d=\"M 312.140625 82.183594 L 312.140625 71.8125 L 301.769531 71.8125 L 301.769531 82.183594 Z M 312.140625 82.183594 \"/>\n",
       "<path style=\"fill:none;stroke-width:0.672733;stroke-linecap:butt;stroke-linejoin:miter;stroke:rgb(0%,0%,0%);stroke-opacity:1;stroke-dasharray:2.074032,2.074032;stroke-miterlimit:10;\" d=\"M 268.070312 84.777344 L 268.070312 69.222656 L 221.40625 69.222656 L 221.40625 84.777344 Z M 268.070312 84.777344 \"/>\n",
       "<path style=\"fill-rule:nonzero;fill:rgb(9.803922%,20.392157%,25.490196%);fill-opacity:1;stroke-width:0.672733;stroke-linecap:butt;stroke-linejoin:miter;stroke:rgb(0%,0%,0%);stroke-opacity:1;stroke-miterlimit:10;\" d=\"M 265.476562 82.183594 L 265.476562 71.8125 L 255.105469 71.8125 L 255.105469 82.183594 Z M 265.476562 82.183594 \"/>\n",
       "<path style=\"fill-rule:nonzero;fill:rgb(24.313725%,37.647059%,43.529412%);fill-opacity:1;stroke-width:0.672733;stroke-linecap:butt;stroke-linejoin:miter;stroke:rgb(0%,0%,0%);stroke-opacity:1;stroke-miterlimit:10;\" d=\"M 255.105469 82.183594 L 255.105469 71.8125 L 244.734375 71.8125 L 244.734375 82.183594 Z M 255.105469 82.183594 \"/>\n",
       "<path style=\"fill-rule:nonzero;fill:rgb(81.960784%,85.882353%,74.117647%);fill-opacity:1;stroke-width:0.672733;stroke-linecap:butt;stroke-linejoin:miter;stroke:rgb(0%,0%,0%);stroke-opacity:1;stroke-miterlimit:10;\" d=\"M 234.367188 82.183594 L 234.367188 71.8125 L 223.996094 71.8125 L 223.996094 82.183594 Z M 234.367188 82.183594 \"/>\n",
       "<path style=\"fill:none;stroke-width:0.672733;stroke-linecap:butt;stroke-linejoin:miter;stroke:rgb(0%,0%,0%);stroke-opacity:1;stroke-dasharray:2.074032,2.074032;stroke-miterlimit:10;\" d=\"M 200.664062 84.777344 L 200.664062 69.222656 L 154 69.222656 L 154 84.777344 Z M 200.664062 84.777344 \"/>\n",
       "<path style=\"fill-rule:nonzero;fill:rgb(9.803922%,20.392157%,25.490196%);fill-opacity:1;stroke-width:0.672733;stroke-linecap:butt;stroke-linejoin:miter;stroke:rgb(0%,0%,0%);stroke-opacity:1;stroke-miterlimit:10;\" d=\"M 198.070312 82.183594 L 198.070312 71.8125 L 187.699219 71.8125 L 187.699219 82.183594 Z M 198.070312 82.183594 \"/>\n",
       "<path style=\"fill-rule:nonzero;fill:rgb(56.862745%,66.666667%,61.568627%);fill-opacity:1;stroke-width:0.672733;stroke-linecap:butt;stroke-linejoin:miter;stroke:rgb(0%,0%,0%);stroke-opacity:1;stroke-miterlimit:10;\" d=\"M 177.328125 82.183594 L 177.328125 71.8125 L 166.957031 71.8125 L 166.957031 82.183594 Z M 177.328125 82.183594 \"/>\n",
       "<path style=\"fill-rule:nonzero;fill:rgb(81.960784%,85.882353%,74.117647%);fill-opacity:1;stroke-width:0.672733;stroke-linecap:butt;stroke-linejoin:miter;stroke:rgb(0%,0%,0%);stroke-opacity:1;stroke-miterlimit:10;\" d=\"M 166.960938 82.183594 L 166.960938 71.8125 L 156.589844 71.8125 L 156.589844 82.183594 Z M 166.960938 82.183594 \"/>\n",
       "<path style=\"fill:none;stroke-width:0.672733;stroke-linecap:butt;stroke-linejoin:miter;stroke:rgb(0%,0%,0%);stroke-opacity:1;stroke-dasharray:2.074032,2.074032;stroke-miterlimit:10;\" d=\"M 133.257812 84.777344 L 133.257812 69.222656 L 86.59375 69.222656 L 86.59375 84.777344 Z M 133.257812 84.777344 \"/>\n",
       "<path style=\"fill-rule:nonzero;fill:rgb(24.313725%,37.647059%,43.529412%);fill-opacity:1;stroke-width:0.672733;stroke-linecap:butt;stroke-linejoin:miter;stroke:rgb(0%,0%,0%);stroke-opacity:1;stroke-miterlimit:10;\" d=\"M 120.292969 82.183594 L 120.292969 71.8125 L 109.921875 71.8125 L 109.921875 82.183594 Z M 120.292969 82.183594 \"/>\n",
       "<path style=\"fill-rule:nonzero;fill:rgb(56.862745%,66.666667%,61.568627%);fill-opacity:1;stroke-width:0.672733;stroke-linecap:butt;stroke-linejoin:miter;stroke:rgb(0%,0%,0%);stroke-opacity:1;stroke-miterlimit:10;\" d=\"M 109.921875 82.183594 L 109.921875 71.8125 L 99.550781 71.8125 L 99.550781 82.183594 Z M 109.921875 82.183594 \"/>\n",
       "<path style=\"fill-rule:nonzero;fill:rgb(81.960784%,85.882353%,74.117647%);fill-opacity:1;stroke-width:0.672733;stroke-linecap:butt;stroke-linejoin:miter;stroke:rgb(0%,0%,0%);stroke-opacity:1;stroke-miterlimit:10;\" d=\"M 99.554688 82.183594 L 99.554688 71.8125 L 89.183594 71.8125 L 89.183594 82.183594 Z M 99.554688 82.183594 \"/>\n",
       "<path style=\"fill:none;stroke-width:0.672733;stroke-linecap:butt;stroke-linejoin:miter;stroke:rgb(0%,0%,0%);stroke-opacity:1;stroke-dasharray:2.074032,2.074032;stroke-miterlimit:10;\" d=\"M 234.367188 27.738281 L 234.367188 12.183594 L 187.703125 12.183594 L 187.703125 27.738281 Z M 234.367188 27.738281 \"/>\n",
       "<path style=\"fill-rule:nonzero;fill:rgb(9.803922%,20.392157%,25.490196%);fill-opacity:1;stroke-width:0.672733;stroke-linecap:butt;stroke-linejoin:miter;stroke:rgb(0%,0%,0%);stroke-opacity:1;stroke-miterlimit:10;\" d=\"M 231.773438 25.148438 L 231.773438 14.777344 L 221.402344 14.777344 L 221.402344 25.148438 Z M 231.773438 25.148438 \"/>\n",
       "<path style=\"fill-rule:nonzero;fill:rgb(24.313725%,37.647059%,43.529412%);fill-opacity:1;stroke-width:0.672733;stroke-linecap:butt;stroke-linejoin:miter;stroke:rgb(0%,0%,0%);stroke-opacity:1;stroke-miterlimit:10;\" d=\"M 221.402344 25.148438 L 221.402344 14.777344 L 211.03125 14.777344 L 211.03125 25.148438 Z M 221.402344 25.148438 \"/>\n",
       "<path style=\"fill-rule:nonzero;fill:rgb(56.862745%,66.666667%,61.568627%);fill-opacity:1;stroke-width:0.672733;stroke-linecap:butt;stroke-linejoin:miter;stroke:rgb(0%,0%,0%);stroke-opacity:1;stroke-miterlimit:10;\" d=\"M 211.03125 25.148438 L 211.03125 14.777344 L 200.660156 14.777344 L 200.660156 25.148438 Z M 211.03125 25.148438 \"/>\n",
       "<path style=\"fill-rule:nonzero;fill:rgb(81.960784%,85.882353%,74.117647%);fill-opacity:1;stroke-width:0.672733;stroke-linecap:butt;stroke-linejoin:miter;stroke:rgb(0%,0%,0%);stroke-opacity:1;stroke-miterlimit:10;\" d=\"M 200.664062 25.148438 L 200.664062 14.777344 L 190.292969 14.777344 L 190.292969 25.148438 Z M 200.664062 25.148438 \"/>\n",
       "</g>\n",
       "</svg>\n"
      ]
     },
     "metadata": {},
     "output_type": "display_data"
    }
   ],
   "source": [
    "diagram example"
   ]
  },
  {
   "cell_type": "code",
   "execution_count": null,
   "metadata": {},
   "outputs": [],
   "source": []
  }
 ],
 "metadata": {
  "kernelspec": {
   "display_name": "Haskell - haskell",
   "language": "haskell",
   "name": "ihaskell_haskell"
  },
  "language_info": {
   "codemirror_mode": "ihaskell",
   "file_extension": ".hs",
   "name": "haskell",
   "pygments_lexer": "Haskell",
   "version": "8.8.3"
  }
 },
 "nbformat": 4,
 "nbformat_minor": 4
}
