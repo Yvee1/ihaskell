{
 "cells": [
  {
   "cell_type": "code",
   "execution_count": 1,
   "metadata": {
    "collapsed": false,
    "jupyter": {
     "outputs_hidden": false
    }
   },
   "outputs": [],
   "source": [
    "import Diagrams.Backend.SVG.CmdLine"
   ]
  },
  {
   "cell_type": "code",
   "execution_count": 2,
   "metadata": {
    "collapsed": false,
    "jupyter": {
     "outputs_hidden": false
    }
   },
   "outputs": [
    {
     "ename": "",
     "evalue": "",
     "header": "MessageHeader {mhIdentifiers = [\"b19b9d48-33aa-4174-8ebd-1c02ede5e349\"], mhParentHeader = Just (MessageHeader {mhIdentifiers = [\"b19b9d48-33aa-4174-8ebd-1c02ede5e349\"], mhParentHeader = Nothing, mhMetadata = Metadata (fromList [(\"jupyter\",Object (fromList [(\"outputs_hidden\",Bool False)])),(\"recordTiming\",Bool False),(\"deletedCells\",Array []),(\"cellId\",String \"02df7352-411b-45d5-8970-59e1ae1a2a5c\"),(\"collapsed\",Bool False)]), mhMessageId = UUID {uuidToString = \"9a109c3c-ee8d-4fd9-b8c2-c0c91f962f41\"}, mhSessionId = UUID {uuidToString = \"b19b9d48-33aa-4174-8ebd-1c02ede5e349\"}, mhUsername = \"\", mhMsgType = ExecuteRequestMessage, mhBuffers = []}), mhMetadata = Metadata (fromList []), mhMessageId = UUID {uuidToString = \"139be383-cba1-4533-8149-2e7013b10ec1\"}, mhSessionId = UUID {uuidToString = \"b19b9d48-33aa-4174-8ebd-1c02ede5e349\"}, mhUsername = \"\", mhMsgType = ExecuteErrorMessage, mhBuffers = []}",
     "output_type": "error",
     "traceback": [
      "<interactive>:1:1: error:\n    Could not find module ‘Data.Colour.Palette.BrewerSet’\n    Use -v (or `:set -v` in ghci) to see a list of the files searched for."
     ]
    }
   ],
   "source": [
    "{-# LANGUAGE NoMonomorphismRestriction #-}\n",
    "{-# LANGUAGE MultiParamTypeClasses #-}\n",
    "{-# LANGUAGE FlexibleContexts #-}\n",
    "\n",
    "import Diagrams.Prelude\n",
    "import Data.Colour.Palette.BrewerSet"
   ]
  },
  {
   "cell_type": "markdown",
   "metadata": {
    "hidden": false
   },
   "source": [
    "This code demonstrates the circle-packing layout from the `diagrams-contrib`\n",
    "package. For more information on the algorithm used, see the [`circle-packing`\n",
    "package](http://hackage.haskell.org/package/circle%2Dpacking).\n",
    "\n"
   ]
  },
  {
   "cell_type": "code",
   "execution_count": null,
   "metadata": {
    "collapsed": false,
    "jupyter": {
     "outputs_hidden": false
    }
   },
   "outputs": [],
   "source": [
    "import Diagrams.TwoD.Layout.CirclePacking\n"
   ]
  },
  {
   "cell_type": "markdown",
   "metadata": {
    "hidden": false
   },
   "source": [
    "Lets collect some objects of varying size and color to draw. They do not need\n",
    "to be single shapes but can be arbitrary complex diagrams, as demonstrated by\n",
    "including some Spierpinsky triangles among them.\n",
    "\n"
   ]
  },
  {
   "cell_type": "code",
   "execution_count": null,
   "metadata": {
    "collapsed": false,
    "jupyter": {
     "outputs_hidden": false
    }
   },
   "outputs": [],
   "source": [
    "colorize = zipWith fc $ cycle (brewerSet Dark2 8)\n",
    "\n",
    "sierpinski :: Int -> Diagram B\n",
    "sierpinski 1 = eqTriangle 1\n",
    "sierpinski n = (s === (s ||| s) # centerX) # alignY (-1/3)\n",
    "  where s = sierpinski (n-1)\n"
   ]
  },
  {
   "cell_type": "code",
   "execution_count": null,
   "metadata": {
    "collapsed": false,
    "jupyter": {
     "outputs_hidden": false
    }
   },
   "outputs": [],
   "source": [
    "objects :: [Diagram B]\n",
    "objects = lw thin . colorize $\n",
    "    scale 0.04 (sierpinski 7) :\n",
    "    scale 0.03 (sierpinski 7) :\n",
    "    [ circle r  | r <- [0.1,0.2..1.6] ] ++\n",
    "    [ hexagon r | r <- [0.1,0.2..0.7] ] ++\n",
    "    [ decagon r | r <- [0.1,0.2..0.7] ]\n"
   ]
  },
  {
   "cell_type": "markdown",
   "metadata": {
    "hidden": false
   },
   "source": [
    "And now we can leave the layouting to `diagrams-contrib`:\n",
    "\n"
   ]
  },
  {
   "cell_type": "code",
   "execution_count": null,
   "metadata": {
    "collapsed": false,
    "jupyter": {
     "outputs_hidden": false
    }
   },
   "outputs": [],
   "source": [
    "example = renderCirclePacking (approxRadius 6) objects\n"
   ]
  },
  {
   "cell_type": "code",
   "execution_count": null,
   "metadata": {
    "collapsed": false,
    "jupyter": {
     "outputs_hidden": false
    }
   },
   "outputs": [],
   "source": [
    "main = mainWith (example :: Diagram B)\n"
   ]
  }
 ],
 "metadata": {
  "kernelspec": {
   "display_name": "Haskell - haskell",
   "language": "haskell",
   "name": "ihaskell_haskell"
  },
  "language_info": {
   "codemirror_mode": "ihaskell",
   "file_extension": ".hs",
   "name": "haskell",
   "pygments_lexer": "Haskell",
   "version": "8.8.3"
  }
 },
 "nbformat": 4,
 "nbformat_minor": 4
}
