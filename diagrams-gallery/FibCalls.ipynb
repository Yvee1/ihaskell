{
 "cells": [
  {
   "cell_type": "code",
   "execution_count": 7,
   "metadata": {
    "collapsed": false,
    "jupyter": {
     "outputs_hidden": false
    }
   },
   "outputs": [],
   "source": [
    "{-# LANGUAGE NoMonomorphismRestriction FlexibleContexts #-}\n",
    "import Diagrams.Prelude"
   ]
  },
  {
   "cell_type": "markdown",
   "metadata": {
    "hidden": false
   },
   "source": [
    "We make use of a tree layout module from the `diagrams-contrib` package:\n",
    "\n"
   ]
  },
  {
   "cell_type": "code",
   "execution_count": 8,
   "metadata": {
    "collapsed": false,
    "jupyter": {
     "outputs_hidden": false
    }
   },
   "outputs": [],
   "source": [
    "import Diagrams.TwoD.Layout.Tree"
   ]
  },
  {
   "cell_type": "markdown",
   "metadata": {
    "hidden": false
   },
   "source": [
    "Generate the tree of naive Fibonacci calls.\n",
    "\n"
   ]
  },
  {
   "cell_type": "code",
   "execution_count": 9,
   "metadata": {
    "collapsed": false,
    "jupyter": {
     "outputs_hidden": false
    }
   },
   "outputs": [],
   "source": [
    "fibCalls :: Integer -> BTree Integer\n",
    "fibCalls 0 = leaf 0\n",
    "fibCalls 1 = leaf 1\n",
    "fibCalls n = BNode n (fibCalls (n-1)) (fibCalls (n-2))"
   ]
  },
  {
   "cell_type": "markdown",
   "metadata": {
    "hidden": false
   },
   "source": [
    "Lay out the tree and render it by providing a function to render nodes\n",
    "and a function to render edges.\n",
    "\n"
   ]
  },
  {
   "cell_type": "code",
   "execution_count": 10,
   "metadata": {
    "collapsed": false,
    "jupyter": {
     "outputs_hidden": false
    }
   },
   "outputs": [
    {
     "data": {
      "text/html": [
       "<style>/* Styles used for the Hoogle display in the pager */\n",
       ".hoogle-doc {\n",
       "display: block;\n",
       "padding-bottom: 1.3em;\n",
       "padding-left: 0.4em;\n",
       "}\n",
       ".hoogle-code {\n",
       "display: block;\n",
       "font-family: monospace;\n",
       "white-space: pre;\n",
       "}\n",
       ".hoogle-text {\n",
       "display: block;\n",
       "}\n",
       ".hoogle-name {\n",
       "color: green;\n",
       "font-weight: bold;\n",
       "}\n",
       ".hoogle-head {\n",
       "font-weight: bold;\n",
       "}\n",
       ".hoogle-sub {\n",
       "display: block;\n",
       "margin-left: 0.4em;\n",
       "}\n",
       ".hoogle-package {\n",
       "font-weight: bold;\n",
       "font-style: italic;\n",
       "}\n",
       ".hoogle-module {\n",
       "font-weight: bold;\n",
       "}\n",
       ".hoogle-class {\n",
       "font-weight: bold;\n",
       "}\n",
       ".get-type {\n",
       "color: green;\n",
       "font-weight: bold;\n",
       "font-family: monospace;\n",
       "display: block;\n",
       "white-space: pre-wrap;\n",
       "}\n",
       ".show-type {\n",
       "color: green;\n",
       "font-weight: bold;\n",
       "font-family: monospace;\n",
       "margin-left: 1em;\n",
       "}\n",
       ".mono {\n",
       "font-family: monospace;\n",
       "display: block;\n",
       "}\n",
       ".err-msg {\n",
       "color: red;\n",
       "font-style: italic;\n",
       "font-family: monospace;\n",
       "white-space: pre;\n",
       "display: block;\n",
       "}\n",
       "#unshowable {\n",
       "color: red;\n",
       "font-weight: bold;\n",
       "}\n",
       ".err-msg.in.collapse {\n",
       "padding-top: 0.7em;\n",
       "}\n",
       ".highlight-code {\n",
       "white-space: pre;\n",
       "font-family: monospace;\n",
       "}\n",
       ".suggestion-warning { \n",
       "font-weight: bold;\n",
       "color: rgb(200, 130, 0);\n",
       "}\n",
       ".suggestion-error { \n",
       "font-weight: bold;\n",
       "color: red;\n",
       "}\n",
       ".suggestion-name {\n",
       "font-weight: bold;\n",
       "}\n",
       "</style><div class=\"suggestion-name\" style=\"clear:both;\">Redundant bracket</div><div class=\"suggestion-row\" style=\"float: left;\"><div class=\"suggestion-warning\">Found:</div><div class=\"highlight-code\" id=\"haskell\">\\ n -> (text (\"fib \" ++ show n) <> roundedRect 3 1.3 0.3 # fc gold)</div></div><div class=\"suggestion-row\" style=\"float: left;\"><div class=\"suggestion-warning\">Why Not:</div><div class=\"highlight-code\" id=\"haskell\">\\ n -> text (\"fib \" ++ show n) <> roundedRect 3 1.3 0.3 # fc gold</div></div>"
      ],
      "text/plain": [
       "Line 5: Redundant bracket\n",
       "Found:\n",
       "\\ n -> (text (\"fib \" ++ show n) <> roundedRect 3 1.3 0.3 # fc gold)\n",
       "Why not:\n",
       "\\ n -> text (\"fib \" ++ show n) <> roundedRect 3 1.3 0.3 # fc gold"
      ]
     },
     "metadata": {},
     "output_type": "display_data"
    }
   ],
   "source": [
    "Just t = uniqueXLayout 2 2 (fibCalls 5)\n",
    "\n",
    "example = pad 1.1 . centerXY\n",
    "        $ renderTree\n",
    "            (\\n -> (text (\"fib \" ++ show n)\n",
    "                    <> roundedRect 3 1.3 0.3 # fc gold)\n",
    "            )\n",
    "            (~~) t\n",
    "        `atop` square 1 # scaleY 12 # translateY (-5)\n",
    "                        # scaleX 34\n",
    "                        # lw none # fc whitesmoke"
   ]
  },
  {
   "cell_type": "code",
   "execution_count": 13,
   "metadata": {
    "collapsed": false,
    "jupyter": {
     "outputs_hidden": false
    }
   },
   "outputs": [
    {
     "data": {
      "image/png": "[encoded data removed]",
      "image/svg+xml": [
       "<?xml version=\"1.0\" encoding=\"UTF-8\"?>\n",
       "<svg xmlns=\"http://www.w3.org/2000/svg\" xmlns:xlink=\"http://www.w3.org/1999/xlink\" width=\"471.495167pt\" height=\"166.410059pt\" viewBox=\"0 0 471.495167 166.410059\" version=\"1.1\">\n",
       "<defs>\n",
       "<g>\n",
       "<symbol overflow=\"visible\" id=\"glyph-2020-08-1729104.871849783s0-0\">\n",
       "<path style=\"stroke:none;\" d=\"M 0.84375 2.96875 L 0.84375 -11.859375 L 9.25 -11.859375 L 9.25 2.96875 Z M 1.78125 2.03125 L 8.3125 2.03125 L 8.3125 -10.90625 L 1.78125 -10.90625 Z M 1.78125 2.03125 \"/>\n",
       "</symbol>\n",
       "<symbol overflow=\"visible\" id=\"glyph-2020-08-1729104.871849783s0-1\">\n",
       "<path style=\"stroke:none;\" d=\"M 8.796875 -10.5625 L 8.015625 -10.5625 C 8.003906 -11.03125 7.832031 -11.378906 7.5 -11.609375 C 7.164062 -11.847656 6.660156 -11.96875 5.984375 -11.96875 C 5.148438 -11.96875 4.535156 -11.769531 4.140625 -11.375 C 3.753906 -10.988281 3.5625 -10.378906 3.5625 -9.546875 L 3.5625 -8.71875 L 9.40625 -8.71875 L 9.40625 -0.875 L 10.828125 -0.875 L 10.828125 0 L 6.4375 0 L 6.4375 -0.875 L 7.890625 -0.875 L 7.890625 -7.84375 L 3.5625 -7.84375 L 3.5625 -0.875 L 4.984375 -0.875 L 4.984375 0 L 0.609375 0 L 0.609375 -0.875 L 2.046875 -0.875 L 2.046875 -7.84375 L 0.609375 -7.84375 L 0.609375 -8.71875 L 2.046875 -8.71875 L 2.046875 -9.515625 C 2.046875 -10.585938 2.363281 -11.398438 3 -11.953125 C 3.644531 -12.503906 4.597656 -12.78125 5.859375 -12.78125 C 6.328125 -12.78125 6.8125 -12.742188 7.3125 -12.671875 C 7.8125 -12.597656 8.304688 -12.488281 8.796875 -12.34375 Z M 8.796875 -10.5625 \"/>\n",
       "</symbol>\n",
       "<symbol overflow=\"visible\" id=\"glyph-2020-08-1729104.871849783s0-2\">\n",
       "<path style=\"stroke:none;\" d=\"M 1.9375 -0.875 L 1.9375 -11.90625 L 0.484375 -11.90625 L 0.484375 -12.78125 L 3.453125 -12.78125 L 3.453125 -7.359375 C 3.742188 -7.910156 4.117188 -8.316406 4.578125 -8.578125 C 5.035156 -8.835938 5.597656 -8.96875 6.265625 -8.96875 C 7.335938 -8.96875 8.210938 -8.539062 8.890625 -7.6875 C 9.578125 -6.84375 9.921875 -5.738281 9.921875 -4.375 C 9.921875 -3 9.578125 -1.882812 8.890625 -1.03125 C 8.210938 -0.1875 7.335938 0.234375 6.265625 0.234375 C 5.597656 0.234375 5.035156 0.101562 4.578125 -0.15625 C 4.117188 -0.414062 3.742188 -0.816406 3.453125 -1.359375 L 3.453125 0 L 0.484375 0 L 0.484375 -0.875 Z M 3.453125 -3.9375 C 3.453125 -2.882812 3.648438 -2.082031 4.046875 -1.53125 C 4.453125 -0.976562 5.035156 -0.703125 5.796875 -0.703125 C 6.578125 -0.703125 7.164062 -1.007812 7.5625 -1.625 C 7.957031 -2.25 8.15625 -3.164062 8.15625 -4.375 C 8.15625 -5.582031 7.957031 -6.488281 7.5625 -7.09375 C 7.164062 -7.707031 6.578125 -8.015625 5.796875 -8.015625 C 5.035156 -8.015625 4.453125 -7.738281 4.046875 -7.1875 C 3.648438 -6.632812 3.453125 -5.835938 3.453125 -4.796875 Z M 3.453125 -3.9375 \"/>\n",
       "</symbol>\n",
       "<symbol overflow=\"visible\" id=\"glyph-2020-08-1729104.871849783s0-3\">\n",
       "<path style=\"stroke:none;\" d=\"\"/>\n",
       "</symbol>\n",
       "<symbol overflow=\"visible\" id=\"glyph-2020-08-1729104.871849783s0-4\">\n",
       "<path style=\"stroke:none;\" d=\"M 2.390625 0 L 2.390625 -0.875 L 4.515625 -0.875 L 4.515625 -11.0625 L 2.046875 -9.46875 L 2.046875 -10.546875 L 5.046875 -12.484375 L 6.171875 -12.484375 L 6.171875 -0.875 L 8.3125 -0.875 L 8.3125 0 Z M 2.390625 0 \"/>\n",
       "</symbol>\n",
       "<symbol overflow=\"visible\" id=\"glyph-2020-08-1729104.871849783s0-5\">\n",
       "<path style=\"stroke:none;\" d=\"M 5.34375 -0.578125 C 6.175781 -0.578125 6.800781 -1.035156 7.21875 -1.953125 C 7.632812 -2.867188 7.84375 -4.253906 7.84375 -6.109375 C 7.84375 -7.972656 7.632812 -9.363281 7.21875 -10.28125 C 6.800781 -11.207031 6.175781 -11.671875 5.34375 -11.671875 C 4.507812 -11.671875 3.882812 -11.207031 3.46875 -10.28125 C 3.050781 -9.363281 2.84375 -7.972656 2.84375 -6.109375 C 2.84375 -4.253906 3.050781 -2.867188 3.46875 -1.953125 C 3.882812 -1.035156 4.507812 -0.578125 5.34375 -0.578125 Z M 5.34375 0.234375 C 4.007812 0.234375 2.96875 -0.320312 2.21875 -1.4375 C 1.476562 -2.550781 1.109375 -4.109375 1.109375 -6.109375 C 1.109375 -8.117188 1.476562 -9.679688 2.21875 -10.796875 C 2.96875 -11.921875 4.007812 -12.484375 5.34375 -12.484375 C 6.675781 -12.484375 7.710938 -11.921875 8.453125 -10.796875 C 9.203125 -9.679688 9.578125 -8.117188 9.578125 -6.109375 C 9.578125 -4.109375 9.203125 -2.550781 8.453125 -1.4375 C 7.710938 -0.320312 6.675781 0.234375 5.34375 0.234375 Z M 5.34375 0.234375 \"/>\n",
       "</symbol>\n",
       "<symbol overflow=\"visible\" id=\"glyph-2020-08-1729104.871849783s0-6\">\n",
       "<path style=\"stroke:none;\" d=\"M 2.15625 -9.328125 L 1.234375 -9.328125 L 1.234375 -11.515625 C 1.816406 -11.828125 2.40625 -12.066406 3 -12.234375 C 3.59375 -12.398438 4.175781 -12.484375 4.75 -12.484375 C 6.019531 -12.484375 7.023438 -12.171875 7.765625 -11.546875 C 8.503906 -10.929688 8.875 -10.09375 8.875 -9.03125 C 8.875 -7.832031 8.035156 -6.398438 6.359375 -4.734375 C 6.234375 -4.609375 6.132812 -4.507812 6.0625 -4.4375 L 2.96875 -1.34375 L 8.09375 -1.34375 L 8.09375 -2.859375 L 9.046875 -2.859375 L 9.046875 0 L 1.140625 0 L 1.140625 -0.890625 L 4.859375 -4.609375 C 5.679688 -5.429688 6.265625 -6.179688 6.609375 -6.859375 C 6.960938 -7.546875 7.140625 -8.269531 7.140625 -9.03125 C 7.140625 -9.851562 6.925781 -10.5 6.5 -10.96875 C 6.070312 -11.4375 5.476562 -11.671875 4.71875 -11.671875 C 3.9375 -11.671875 3.332031 -11.472656 2.90625 -11.078125 C 2.476562 -10.691406 2.226562 -10.109375 2.15625 -9.328125 Z M 2.15625 -9.328125 \"/>\n",
       "</symbol>\n",
       "<symbol overflow=\"visible\" id=\"glyph-2020-08-1729104.871849783s0-7\">\n",
       "<path style=\"stroke:none;\" d=\"M 1.640625 -11.734375 C 2.273438 -11.972656 2.882812 -12.15625 3.46875 -12.28125 C 4.0625 -12.414062 4.613281 -12.484375 5.125 -12.484375 C 6.320312 -12.484375 7.257812 -12.222656 7.9375 -11.703125 C 8.613281 -11.179688 8.953125 -10.460938 8.953125 -9.546875 C 8.953125 -8.804688 8.71875 -8.1875 8.25 -7.6875 C 7.78125 -7.195312 7.117188 -6.863281 6.265625 -6.6875 C 7.273438 -6.550781 8.054688 -6.1875 8.609375 -5.59375 C 9.171875 -5.007812 9.453125 -4.25 9.453125 -3.3125 C 9.453125 -2.164062 9.066406 -1.285156 8.296875 -0.671875 C 7.523438 -0.0664062 6.414062 0.234375 4.96875 0.234375 C 4.332031 0.234375 3.707031 0.164062 3.09375 0.03125 C 2.488281 -0.101562 1.882812 -0.3125 1.28125 -0.59375 L 1.28125 -2.96875 L 2.203125 -2.96875 C 2.253906 -2.1875 2.515625 -1.59375 2.984375 -1.1875 C 3.460938 -0.78125 4.132812 -0.578125 5 -0.578125 C 5.84375 -0.578125 6.503906 -0.816406 6.984375 -1.296875 C 7.472656 -1.785156 7.71875 -2.453125 7.71875 -3.296875 C 7.71875 -4.253906 7.46875 -4.976562 6.96875 -5.46875 C 6.46875 -5.96875 5.738281 -6.21875 4.78125 -6.21875 L 4 -6.21875 L 4 -7.0625 L 4.40625 -7.0625 C 5.363281 -7.0625 6.082031 -7.257812 6.5625 -7.65625 C 7.039062 -8.050781 7.28125 -8.648438 7.28125 -9.453125 C 7.28125 -10.171875 7.082031 -10.71875 6.6875 -11.09375 C 6.289062 -11.476562 5.722656 -11.671875 4.984375 -11.671875 C 4.253906 -11.671875 3.679688 -11.492188 3.265625 -11.140625 C 2.859375 -10.785156 2.617188 -10.265625 2.546875 -9.578125 L 1.640625 -9.578125 Z M 1.640625 -11.734375 \"/>\n",
       "</symbol>\n",
       "<symbol overflow=\"visible\" id=\"glyph-2020-08-1729104.871849783s0-8\">\n",
       "<path style=\"stroke:none;\" d=\"M 5.875 -4.15625 L 5.875 -10.671875 L 1.6875 -4.15625 Z M 9.484375 0 L 3.90625 0 L 3.90625 -0.875 L 5.875 -0.875 L 5.875 -3.28125 L 0.515625 -3.28125 L 0.515625 -4.171875 L 5.890625 -12.484375 L 7.515625 -12.484375 L 7.515625 -4.15625 L 9.84375 -4.15625 L 9.84375 -3.28125 L 7.515625 -3.28125 L 7.515625 -0.875 L 9.484375 -0.875 Z M 9.484375 0 \"/>\n",
       "</symbol>\n",
       "<symbol overflow=\"visible\" id=\"glyph-2020-08-1729104.871849783s0-9\">\n",
       "<path style=\"stroke:none;\" d=\"M 8.453125 -12.25 L 8.453125 -10.90625 L 2.84375 -10.90625 L 2.84375 -7.390625 C 3.125 -7.585938 3.453125 -7.734375 3.828125 -7.828125 C 4.210938 -7.929688 4.640625 -7.984375 5.109375 -7.984375 C 6.429688 -7.984375 7.476562 -7.613281 8.25 -6.875 C 9.019531 -6.144531 9.40625 -5.148438 9.40625 -3.890625 C 9.40625 -2.585938 9.015625 -1.570312 8.234375 -0.84375 C 7.460938 -0.125 6.375 0.234375 4.96875 0.234375 C 4.40625 0.234375 3.828125 0.164062 3.234375 0.03125 C 2.648438 -0.101562 2.046875 -0.3125 1.421875 -0.59375 L 1.421875 -2.96875 L 2.359375 -2.96875 C 2.410156 -2.195312 2.65625 -1.601562 3.09375 -1.1875 C 3.539062 -0.78125 4.164062 -0.578125 4.96875 -0.578125 C 5.832031 -0.578125 6.5 -0.859375 6.96875 -1.421875 C 7.4375 -1.992188 7.671875 -2.816406 7.671875 -3.890625 C 7.671875 -4.941406 7.4375 -5.75 6.96875 -6.3125 C 6.507812 -6.882812 5.84375 -7.171875 4.96875 -7.171875 C 4.476562 -7.171875 4.046875 -7.082031 3.671875 -6.90625 C 3.296875 -6.738281 2.960938 -6.46875 2.671875 -6.09375 L 1.96875 -6.09375 L 1.96875 -12.25 Z M 8.453125 -12.25 \"/>\n",
       "</symbol>\n",
       "</g>\n",
       "</defs>\n",
       "<g id=\"surface26\">\n",
       "<path style=\" stroke:none;fill-rule:nonzero;fill:rgb(96.078431%,96.078431%,96.078431%);fill-opacity:1;\" d=\"M 450.0625 158.847656 L 450.0625 7.566406 L 21.429688 7.566406 L 21.429688 158.847656 Z M 450.0625 158.847656 \"/>\n",
       "<path style=\"fill:none;stroke-width:1.120439;stroke-linecap:butt;stroke-linejoin:miter;stroke:rgb(0%,0%,0%);stroke-opacity:1;stroke-miterlimit:10;\" d=\"M 286.175781 28.367188 L 387.03125 53.582031 \"/>\n",
       "<path style=\"fill:none;stroke-width:1.120439;stroke-linecap:butt;stroke-linejoin:miter;stroke:rgb(0%,0%,0%);stroke-opacity:1;stroke-miterlimit:10;\" d=\"M 286.175781 28.367188 L 185.320312 53.582031 \"/>\n",
       "<path style=\"fill:none;stroke-width:1.120439;stroke-linecap:butt;stroke-linejoin:miter;stroke:rgb(0%,0%,0%);stroke-opacity:1;stroke-miterlimit:10;\" d=\"M 387.03125 53.578125 L 412.246094 78.792969 \"/>\n",
       "<path style=\"fill:none;stroke-width:1.120439;stroke-linecap:butt;stroke-linejoin:miter;stroke:rgb(0%,0%,0%);stroke-opacity:1;stroke-miterlimit:10;\" d=\"M 387.03125 53.578125 L 336.605469 78.792969 \"/>\n",
       "<path style=\"fill-rule:nonzero;fill:rgb(100%,84.313725%,0%);fill-opacity:1;stroke-width:1.120439;stroke-linecap:butt;stroke-linejoin:miter;stroke:rgb(0%,0%,0%);stroke-opacity:1;stroke-miterlimit:10;\" d=\"M 431.152344 83.203125 L 431.152344 74.378906 C 431.152344 72.289062 429.460938 70.597656 427.371094 70.597656 L 397.113281 70.597656 C 395.023438 70.597656 393.332031 72.289062 393.332031 74.378906 L 393.332031 83.203125 C 393.332031 85.292969 395.023438 86.984375 397.113281 86.984375 L 427.371094 86.984375 C 429.460938 86.984375 431.152344 85.292969 431.152344 83.203125 Z M 431.152344 83.203125 \"/>\n",
       "<g style=\"fill:rgb(0%,0%,0%);fill-opacity:1;\">\n",
       "  <use xlink:href=\"#glyph-2020-08-1729104.871849783s0-1\" x=\"393.2431\" y=\"84.611977\"/>\n",
       "  <use xlink:href=\"#glyph-2020-08-1729104.871849783s0-2\" x=\"404.2431\" y=\"84.611977\"/>\n",
       "  <use xlink:href=\"#glyph-2020-08-1729104.871849783s0-3\" x=\"415.2431\" y=\"84.611977\"/>\n",
       "  <use xlink:href=\"#glyph-2020-08-1729104.871849783s0-4\" x=\"420.2431\" y=\"84.611977\"/>\n",
       "</g>\n",
       "<path style=\"fill:none;stroke-width:1.120439;stroke-linecap:butt;stroke-linejoin:miter;stroke:rgb(0%,0%,0%);stroke-opacity:1;stroke-miterlimit:10;\" d=\"M 336.601562 78.792969 L 361.816406 104.007812 \"/>\n",
       "<path style=\"fill:none;stroke-width:1.120439;stroke-linecap:butt;stroke-linejoin:miter;stroke:rgb(0%,0%,0%);stroke-opacity:1;stroke-miterlimit:10;\" d=\"M 336.601562 78.792969 L 311.386719 104.007812 \"/>\n",
       "<path style=\"fill-rule:nonzero;fill:rgb(100%,84.313725%,0%);fill-opacity:1;stroke-width:1.120439;stroke-linecap:butt;stroke-linejoin:miter;stroke:rgb(0%,0%,0%);stroke-opacity:1;stroke-miterlimit:10;\" d=\"M 380.726562 108.417969 L 380.726562 99.59375 C 380.726562 97.503906 379.035156 95.8125 376.945312 95.8125 L 346.6875 95.8125 C 344.597656 95.8125 342.90625 97.503906 342.90625 99.59375 L 342.90625 108.417969 C 342.90625 110.507812 344.597656 112.199219 346.6875 112.199219 L 376.945312 112.199219 C 379.035156 112.199219 380.726562 110.507812 380.726562 108.417969 Z M 380.726562 108.417969 \"/>\n",
       "<g style=\"fill:rgb(0%,0%,0%);fill-opacity:1;\">\n",
       "  <use xlink:href=\"#glyph-2020-08-1729104.871849783s0-1\" x=\"342.81581\" y=\"109.825623\"/>\n",
       "  <use xlink:href=\"#glyph-2020-08-1729104.871849783s0-2\" x=\"353.81581\" y=\"109.825623\"/>\n",
       "  <use xlink:href=\"#glyph-2020-08-1729104.871849783s0-3\" x=\"364.81581\" y=\"109.825623\"/>\n",
       "  <use xlink:href=\"#glyph-2020-08-1729104.871849783s0-5\" x=\"369.81581\" y=\"109.825623\"/>\n",
       "</g>\n",
       "<path style=\"fill-rule:nonzero;fill:rgb(100%,84.313725%,0%);fill-opacity:1;stroke-width:1.120439;stroke-linecap:butt;stroke-linejoin:miter;stroke:rgb(0%,0%,0%);stroke-opacity:1;stroke-miterlimit:10;\" d=\"M 330.296875 108.417969 L 330.296875 99.59375 C 330.296875 97.503906 328.605469 95.8125 326.515625 95.8125 L 296.257812 95.8125 C 294.167969 95.8125 292.476562 97.503906 292.476562 99.59375 L 292.476562 108.417969 C 292.476562 110.507812 294.167969 112.199219 296.257812 112.199219 L 326.515625 112.199219 C 328.605469 112.199219 330.296875 110.507812 330.296875 108.417969 Z M 330.296875 108.417969 \"/>\n",
       "<g style=\"fill:rgb(0%,0%,0%);fill-opacity:1;\">\n",
       "  <use xlink:href=\"#glyph-2020-08-1729104.871849783s0-1\" x=\"292.388519\" y=\"109.825623\"/>\n",
       "  <use xlink:href=\"#glyph-2020-08-1729104.871849783s0-2\" x=\"303.388519\" y=\"109.825623\"/>\n",
       "  <use xlink:href=\"#glyph-2020-08-1729104.871849783s0-3\" x=\"314.388519\" y=\"109.825623\"/>\n",
       "  <use xlink:href=\"#glyph-2020-08-1729104.871849783s0-4\" x=\"319.388519\" y=\"109.825623\"/>\n",
       "</g>\n",
       "<path style=\"fill-rule:nonzero;fill:rgb(100%,84.313725%,0%);fill-opacity:1;stroke-width:1.120439;stroke-linecap:butt;stroke-linejoin:miter;stroke:rgb(0%,0%,0%);stroke-opacity:1;stroke-miterlimit:10;\" d=\"M 355.511719 83.203125 L 355.511719 74.378906 C 355.511719 72.289062 353.820312 70.597656 351.730469 70.597656 L 321.472656 70.597656 C 319.382812 70.597656 317.691406 72.289062 317.691406 74.378906 L 317.691406 83.203125 C 317.691406 85.292969 319.382812 86.984375 321.472656 86.984375 L 351.730469 86.984375 C 353.820312 86.984375 355.511719 85.292969 355.511719 83.203125 Z M 355.511719 83.203125 \"/>\n",
       "<g style=\"fill:rgb(0%,0%,0%);fill-opacity:1;\">\n",
       "  <use xlink:href=\"#glyph-2020-08-1729104.871849783s0-1\" x=\"317.602165\" y=\"84.611977\"/>\n",
       "  <use xlink:href=\"#glyph-2020-08-1729104.871849783s0-2\" x=\"328.602165\" y=\"84.611977\"/>\n",
       "  <use xlink:href=\"#glyph-2020-08-1729104.871849783s0-3\" x=\"339.602165\" y=\"84.611977\"/>\n",
       "  <use xlink:href=\"#glyph-2020-08-1729104.871849783s0-6\" x=\"344.602165\" y=\"84.611977\"/>\n",
       "</g>\n",
       "<path style=\"fill-rule:nonzero;fill:rgb(100%,84.313725%,0%);fill-opacity:1;stroke-width:1.120439;stroke-linecap:butt;stroke-linejoin:miter;stroke:rgb(0%,0%,0%);stroke-opacity:1;stroke-miterlimit:10;\" d=\"M 405.941406 57.992188 L 405.941406 49.167969 C 405.941406 47.078125 404.25 45.386719 402.160156 45.386719 L 371.902344 45.386719 C 369.8125 45.386719 368.121094 47.078125 368.121094 49.167969 L 368.121094 57.992188 C 368.121094 60.082031 369.8125 61.773438 371.902344 61.773438 L 402.160156 61.773438 C 404.25 61.773438 405.941406 60.082031 405.941406 57.992188 Z M 405.941406 57.992188 \"/>\n",
       "<g style=\"fill:rgb(0%,0%,0%);fill-opacity:1;\">\n",
       "  <use xlink:href=\"#glyph-2020-08-1729104.871849783s0-1\" x=\"368.029455\" y=\"59.398332\"/>\n",
       "  <use xlink:href=\"#glyph-2020-08-1729104.871849783s0-2\" x=\"379.029455\" y=\"59.398332\"/>\n",
       "  <use xlink:href=\"#glyph-2020-08-1729104.871849783s0-3\" x=\"390.029455\" y=\"59.398332\"/>\n",
       "  <use xlink:href=\"#glyph-2020-08-1729104.871849783s0-7\" x=\"395.029455\" y=\"59.398332\"/>\n",
       "</g>\n",
       "<path style=\"fill:none;stroke-width:1.120439;stroke-linecap:butt;stroke-linejoin:miter;stroke:rgb(0%,0%,0%);stroke-opacity:1;stroke-miterlimit:10;\" d=\"M 185.320312 53.578125 L 235.746094 78.792969 \"/>\n",
       "<path style=\"fill:none;stroke-width:1.120439;stroke-linecap:butt;stroke-linejoin:miter;stroke:rgb(0%,0%,0%);stroke-opacity:1;stroke-miterlimit:10;\" d=\"M 185.320312 53.578125 L 134.894531 78.792969 \"/>\n",
       "<path style=\"fill:none;stroke-width:1.120439;stroke-linecap:butt;stroke-linejoin:miter;stroke:rgb(0%,0%,0%);stroke-opacity:1;stroke-miterlimit:10;\" d=\"M 235.746094 78.792969 L 260.960938 104.007812 \"/>\n",
       "<path style=\"fill:none;stroke-width:1.120439;stroke-linecap:butt;stroke-linejoin:miter;stroke:rgb(0%,0%,0%);stroke-opacity:1;stroke-miterlimit:10;\" d=\"M 235.746094 78.792969 L 210.53125 104.007812 \"/>\n",
       "<path style=\"fill-rule:nonzero;fill:rgb(100%,84.313725%,0%);fill-opacity:1;stroke-width:1.120439;stroke-linecap:butt;stroke-linejoin:miter;stroke:rgb(0%,0%,0%);stroke-opacity:1;stroke-miterlimit:10;\" d=\"M 279.871094 108.417969 L 279.871094 99.59375 C 279.871094 97.503906 278.179688 95.8125 276.089844 95.8125 L 245.832031 95.8125 C 243.742188 95.8125 242.050781 97.503906 242.050781 99.59375 L 242.050781 108.417969 C 242.050781 110.507812 243.742188 112.199219 245.832031 112.199219 L 276.089844 112.199219 C 278.179688 112.199219 279.871094 110.507812 279.871094 108.417969 Z M 279.871094 108.417969 \"/>\n",
       "<g style=\"fill:rgb(0%,0%,0%);fill-opacity:1;\">\n",
       "  <use xlink:href=\"#glyph-2020-08-1729104.871849783s0-1\" x=\"241.961229\" y=\"109.825623\"/>\n",
       "  <use xlink:href=\"#glyph-2020-08-1729104.871849783s0-2\" x=\"252.961229\" y=\"109.825623\"/>\n",
       "  <use xlink:href=\"#glyph-2020-08-1729104.871849783s0-3\" x=\"263.961229\" y=\"109.825623\"/>\n",
       "  <use xlink:href=\"#glyph-2020-08-1729104.871849783s0-5\" x=\"268.961229\" y=\"109.825623\"/>\n",
       "</g>\n",
       "<path style=\"fill-rule:nonzero;fill:rgb(100%,84.313725%,0%);fill-opacity:1;stroke-width:1.120439;stroke-linecap:butt;stroke-linejoin:miter;stroke:rgb(0%,0%,0%);stroke-opacity:1;stroke-miterlimit:10;\" d=\"M 229.445312 108.417969 L 229.445312 99.59375 C 229.445312 97.503906 227.753906 95.8125 225.664062 95.8125 L 195.40625 95.8125 C 193.316406 95.8125 191.625 97.503906 191.625 99.59375 L 191.625 108.417969 C 191.625 110.507812 193.316406 112.199219 195.40625 112.199219 L 225.664062 112.199219 C 227.753906 112.199219 229.445312 110.507812 229.445312 108.417969 Z M 229.445312 108.417969 \"/>\n",
       "<g style=\"fill:rgb(0%,0%,0%);fill-opacity:1;\">\n",
       "  <use xlink:href=\"#glyph-2020-08-1729104.871849783s0-1\" x=\"191.533938\" y=\"109.825623\"/>\n",
       "  <use xlink:href=\"#glyph-2020-08-1729104.871849783s0-2\" x=\"202.533938\" y=\"109.825623\"/>\n",
       "  <use xlink:href=\"#glyph-2020-08-1729104.871849783s0-3\" x=\"213.533938\" y=\"109.825623\"/>\n",
       "  <use xlink:href=\"#glyph-2020-08-1729104.871849783s0-4\" x=\"218.533938\" y=\"109.825623\"/>\n",
       "</g>\n",
       "<path style=\"fill-rule:nonzero;fill:rgb(100%,84.313725%,0%);fill-opacity:1;stroke-width:1.120439;stroke-linecap:butt;stroke-linejoin:miter;stroke:rgb(0%,0%,0%);stroke-opacity:1;stroke-miterlimit:10;\" d=\"M 254.65625 83.203125 L 254.65625 74.378906 C 254.65625 72.289062 252.964844 70.597656 250.875 70.597656 L 220.617188 70.597656 C 218.527344 70.597656 216.835938 72.289062 216.835938 74.378906 L 216.835938 83.203125 C 216.835938 85.292969 218.527344 86.984375 220.617188 86.984375 L 250.875 86.984375 C 252.964844 86.984375 254.65625 85.292969 254.65625 83.203125 Z M 254.65625 83.203125 \"/>\n",
       "<g style=\"fill:rgb(0%,0%,0%);fill-opacity:1;\">\n",
       "  <use xlink:href=\"#glyph-2020-08-1729104.871849783s0-1\" x=\"216.747583\" y=\"84.611977\"/>\n",
       "  <use xlink:href=\"#glyph-2020-08-1729104.871849783s0-2\" x=\"227.747583\" y=\"84.611977\"/>\n",
       "  <use xlink:href=\"#glyph-2020-08-1729104.871849783s0-3\" x=\"238.747583\" y=\"84.611977\"/>\n",
       "  <use xlink:href=\"#glyph-2020-08-1729104.871849783s0-6\" x=\"243.747583\" y=\"84.611977\"/>\n",
       "</g>\n",
       "<path style=\"fill:none;stroke-width:1.120439;stroke-linecap:butt;stroke-linejoin:miter;stroke:rgb(0%,0%,0%);stroke-opacity:1;stroke-miterlimit:10;\" d=\"M 134.894531 78.792969 L 160.109375 104.007812 \"/>\n",
       "<path style=\"fill:none;stroke-width:1.120439;stroke-linecap:butt;stroke-linejoin:miter;stroke:rgb(0%,0%,0%);stroke-opacity:1;stroke-miterlimit:10;\" d=\"M 134.894531 78.792969 L 84.46875 104.007812 \"/>\n",
       "<path style=\"fill-rule:nonzero;fill:rgb(100%,84.313725%,0%);fill-opacity:1;stroke-width:1.120439;stroke-linecap:butt;stroke-linejoin:miter;stroke:rgb(0%,0%,0%);stroke-opacity:1;stroke-miterlimit:10;\" d=\"M 179.015625 108.417969 L 179.015625 99.59375 C 179.015625 97.503906 177.324219 95.8125 175.234375 95.8125 L 144.976562 95.8125 C 142.886719 95.8125 141.195312 97.503906 141.195312 99.59375 L 141.195312 108.417969 C 141.195312 110.507812 142.886719 112.199219 144.976562 112.199219 L 175.234375 112.199219 C 177.324219 112.199219 179.015625 110.507812 179.015625 108.417969 Z M 179.015625 108.417969 \"/>\n",
       "<g style=\"fill:rgb(0%,0%,0%);fill-opacity:1;\">\n",
       "  <use xlink:href=\"#glyph-2020-08-1729104.871849783s0-1\" x=\"141.106648\" y=\"109.825623\"/>\n",
       "  <use xlink:href=\"#glyph-2020-08-1729104.871849783s0-2\" x=\"152.106648\" y=\"109.825623\"/>\n",
       "  <use xlink:href=\"#glyph-2020-08-1729104.871849783s0-3\" x=\"163.106648\" y=\"109.825623\"/>\n",
       "  <use xlink:href=\"#glyph-2020-08-1729104.871849783s0-4\" x=\"168.106648\" y=\"109.825623\"/>\n",
       "</g>\n",
       "<path style=\"fill:none;stroke-width:1.120439;stroke-linecap:butt;stroke-linejoin:miter;stroke:rgb(0%,0%,0%);stroke-opacity:1;stroke-miterlimit:10;\" d=\"M 84.464844 104.007812 L 109.679688 129.222656 \"/>\n",
       "<path style=\"fill:none;stroke-width:1.120439;stroke-linecap:butt;stroke-linejoin:miter;stroke:rgb(0%,0%,0%);stroke-opacity:1;stroke-miterlimit:10;\" d=\"M 84.464844 104.007812 L 59.25 129.222656 \"/>\n",
       "<path style=\"fill-rule:nonzero;fill:rgb(100%,84.313725%,0%);fill-opacity:1;stroke-width:1.120439;stroke-linecap:butt;stroke-linejoin:miter;stroke:rgb(0%,0%,0%);stroke-opacity:1;stroke-miterlimit:10;\" d=\"M 128.589844 133.632812 L 128.589844 124.808594 C 128.589844 122.71875 126.898438 121.027344 124.808594 121.027344 L 94.550781 121.027344 C 92.460938 121.027344 90.769531 122.71875 90.769531 124.808594 L 90.769531 133.632812 C 90.769531 135.722656 92.460938 137.414062 94.550781 137.414062 L 124.808594 137.414062 C 126.898438 137.414062 128.589844 135.722656 128.589844 133.632812 Z M 128.589844 133.632812 \"/>\n",
       "<g style=\"fill:rgb(0%,0%,0%);fill-opacity:1;\">\n",
       "  <use xlink:href=\"#glyph-2020-08-1729104.871849783s0-1\" x=\"90.679357\" y=\"135.039268\"/>\n",
       "  <use xlink:href=\"#glyph-2020-08-1729104.871849783s0-2\" x=\"101.679357\" y=\"135.039268\"/>\n",
       "  <use xlink:href=\"#glyph-2020-08-1729104.871849783s0-3\" x=\"112.679357\" y=\"135.039268\"/>\n",
       "  <use xlink:href=\"#glyph-2020-08-1729104.871849783s0-5\" x=\"117.679357\" y=\"135.039268\"/>\n",
       "</g>\n",
       "<path style=\"fill-rule:nonzero;fill:rgb(100%,84.313725%,0%);fill-opacity:1;stroke-width:1.120439;stroke-linecap:butt;stroke-linejoin:miter;stroke:rgb(0%,0%,0%);stroke-opacity:1;stroke-miterlimit:10;\" d=\"M 78.164062 133.632812 L 78.164062 124.808594 C 78.164062 122.71875 76.472656 121.027344 74.382812 121.027344 L 44.125 121.027344 C 42.035156 121.027344 40.34375 122.71875 40.34375 124.808594 L 40.34375 133.632812 C 40.34375 135.722656 42.035156 137.414062 44.125 137.414062 L 74.382812 137.414062 C 76.472656 137.414062 78.164062 135.722656 78.164062 133.632812 Z M 78.164062 133.632812 \"/>\n",
       "<g style=\"fill:rgb(0%,0%,0%);fill-opacity:1;\">\n",
       "  <use xlink:href=\"#glyph-2020-08-1729104.871849783s0-1\" x=\"40.252066\" y=\"135.039268\"/>\n",
       "  <use xlink:href=\"#glyph-2020-08-1729104.871849783s0-2\" x=\"51.252066\" y=\"135.039268\"/>\n",
       "  <use xlink:href=\"#glyph-2020-08-1729104.871849783s0-3\" x=\"62.252066\" y=\"135.039268\"/>\n",
       "  <use xlink:href=\"#glyph-2020-08-1729104.871849783s0-4\" x=\"67.252066\" y=\"135.039268\"/>\n",
       "</g>\n",
       "<path style=\"fill-rule:nonzero;fill:rgb(100%,84.313725%,0%);fill-opacity:1;stroke-width:1.120439;stroke-linecap:butt;stroke-linejoin:miter;stroke:rgb(0%,0%,0%);stroke-opacity:1;stroke-miterlimit:10;\" d=\"M 103.375 108.417969 L 103.375 99.59375 C 103.375 97.503906 101.683594 95.8125 99.59375 95.8125 L 69.335938 95.8125 C 67.246094 95.8125 65.554688 97.503906 65.554688 99.59375 L 65.554688 108.417969 C 65.554688 110.507812 67.246094 112.199219 69.335938 112.199219 L 99.59375 112.199219 C 101.683594 112.199219 103.375 110.507812 103.375 108.417969 Z M 103.375 108.417969 \"/>\n",
       "<g style=\"fill:rgb(0%,0%,0%);fill-opacity:1;\">\n",
       "  <use xlink:href=\"#glyph-2020-08-1729104.871849783s0-1\" x=\"65.465712\" y=\"109.825623\"/>\n",
       "  <use xlink:href=\"#glyph-2020-08-1729104.871849783s0-2\" x=\"76.465712\" y=\"109.825623\"/>\n",
       "  <use xlink:href=\"#glyph-2020-08-1729104.871849783s0-3\" x=\"87.465712\" y=\"109.825623\"/>\n",
       "  <use xlink:href=\"#glyph-2020-08-1729104.871849783s0-6\" x=\"92.465712\" y=\"109.825623\"/>\n",
       "</g>\n",
       "<path style=\"fill-rule:nonzero;fill:rgb(100%,84.313725%,0%);fill-opacity:1;stroke-width:1.120439;stroke-linecap:butt;stroke-linejoin:miter;stroke:rgb(0%,0%,0%);stroke-opacity:1;stroke-miterlimit:10;\" d=\"M 153.804688 83.203125 L 153.804688 74.378906 C 153.804688 72.289062 152.113281 70.597656 150.023438 70.597656 L 119.765625 70.597656 C 117.675781 70.597656 115.984375 72.289062 115.984375 74.378906 L 115.984375 83.203125 C 115.984375 85.292969 117.675781 86.984375 119.765625 86.984375 L 150.023438 86.984375 C 152.113281 86.984375 153.804688 85.292969 153.804688 83.203125 Z M 153.804688 83.203125 \"/>\n",
       "<g style=\"fill:rgb(0%,0%,0%);fill-opacity:1;\">\n",
       "  <use xlink:href=\"#glyph-2020-08-1729104.871849783s0-1\" x=\"115.893002\" y=\"84.611977\"/>\n",
       "  <use xlink:href=\"#glyph-2020-08-1729104.871849783s0-2\" x=\"126.893002\" y=\"84.611977\"/>\n",
       "  <use xlink:href=\"#glyph-2020-08-1729104.871849783s0-3\" x=\"137.893002\" y=\"84.611977\"/>\n",
       "  <use xlink:href=\"#glyph-2020-08-1729104.871849783s0-7\" x=\"142.893002\" y=\"84.611977\"/>\n",
       "</g>\n",
       "<path style=\"fill-rule:nonzero;fill:rgb(100%,84.313725%,0%);fill-opacity:1;stroke-width:1.120439;stroke-linecap:butt;stroke-linejoin:miter;stroke:rgb(0%,0%,0%);stroke-opacity:1;stroke-miterlimit:10;\" d=\"M 204.230469 57.992188 L 204.230469 49.167969 C 204.230469 47.078125 202.539062 45.386719 200.449219 45.386719 L 170.191406 45.386719 C 168.101562 45.386719 166.410156 47.078125 166.410156 49.167969 L 166.410156 57.992188 C 166.410156 60.082031 168.101562 61.773438 170.191406 61.773438 L 200.449219 61.773438 C 202.539062 61.773438 204.230469 60.082031 204.230469 57.992188 Z M 204.230469 57.992188 \"/>\n",
       "<g style=\"fill:rgb(0%,0%,0%);fill-opacity:1;\">\n",
       "  <use xlink:href=\"#glyph-2020-08-1729104.871849783s0-1\" x=\"166.320293\" y=\"59.398332\"/>\n",
       "  <use xlink:href=\"#glyph-2020-08-1729104.871849783s0-2\" x=\"177.320293\" y=\"59.398332\"/>\n",
       "  <use xlink:href=\"#glyph-2020-08-1729104.871849783s0-3\" x=\"188.320293\" y=\"59.398332\"/>\n",
       "  <use xlink:href=\"#glyph-2020-08-1729104.871849783s0-8\" x=\"193.320293\" y=\"59.398332\"/>\n",
       "</g>\n",
       "<path style=\"fill-rule:nonzero;fill:rgb(100%,84.313725%,0%);fill-opacity:1;stroke-width:1.120439;stroke-linecap:butt;stroke-linejoin:miter;stroke:rgb(0%,0%,0%);stroke-opacity:1;stroke-miterlimit:10;\" d=\"M 305.085938 32.777344 L 305.085938 23.953125 C 305.085938 21.863281 303.394531 20.171875 301.304688 20.171875 L 271.046875 20.171875 C 268.957031 20.171875 267.265625 21.863281 267.265625 23.953125 L 267.265625 32.777344 C 267.265625 34.867188 268.957031 36.558594 271.046875 36.558594 L 301.304688 36.558594 C 303.394531 36.558594 305.085938 34.867188 305.085938 32.777344 Z M 305.085938 32.777344 \"/>\n",
       "<g style=\"fill:rgb(0%,0%,0%);fill-opacity:1;\">\n",
       "  <use xlink:href=\"#glyph-2020-08-1729104.871849783s0-1\" x=\"267.174874\" y=\"34.184687\"/>\n",
       "  <use xlink:href=\"#glyph-2020-08-1729104.871849783s0-2\" x=\"278.174874\" y=\"34.184687\"/>\n",
       "  <use xlink:href=\"#glyph-2020-08-1729104.871849783s0-3\" x=\"289.174874\" y=\"34.184687\"/>\n",
       "  <use xlink:href=\"#glyph-2020-08-1729104.871849783s0-9\" x=\"294.174874\" y=\"34.184687\"/>\n",
       "</g>\n",
       "</g>\n",
       "</svg>\n"
      ]
     },
     "metadata": {},
     "output_type": "display_data"
    }
   ],
   "source": [
    "diagram example"
   ]
  },
  {
   "cell_type": "code",
   "execution_count": null,
   "metadata": {},
   "outputs": [],
   "source": []
  }
 ],
 "metadata": {
  "kernelspec": {
   "display_name": "Haskell - haskell",
   "language": "haskell",
   "name": "ihaskell_haskell"
  },
  "language_info": {
   "codemirror_mode": "ihaskell",
   "file_extension": ".hs",
   "name": "haskell",
   "pygments_lexer": "Haskell",
   "version": "8.8.3"
  }
 },
 "nbformat": 4,
 "nbformat_minor": 4
}
