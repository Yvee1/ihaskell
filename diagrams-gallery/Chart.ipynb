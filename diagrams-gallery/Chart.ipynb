{
 "cells": [
  {
   "cell_type": "code",
   "execution_count": 2,
   "metadata": {
    "collapsed": false,
    "jupyter": {
     "outputs_hidden": false
    }
   },
   "outputs": [],
   "source": [
    "import Diagrams.Backend.SVG.CmdLine"
   ]
  },
  {
   "cell_type": "code",
   "execution_count": 3,
   "metadata": {
    "collapsed": false,
    "jupyter": {
     "outputs_hidden": false
    }
   },
   "outputs": [
    {
     "ename": "",
     "evalue": "",
     "header": "MessageHeader {mhIdentifiers = [\"1f005eac-e929-4fa5-b927-0dd61ae0712e\"], mhParentHeader = Just (MessageHeader {mhIdentifiers = [\"1f005eac-e929-4fa5-b927-0dd61ae0712e\"], mhParentHeader = Nothing, mhMetadata = Metadata (fromList [(\"jupyter\",Object (fromList [(\"outputs_hidden\",Bool False)])),(\"recordTiming\",Bool False),(\"deletedCells\",Array []),(\"cellId\",String \"744dabfe-5d06-425a-8e51-c8493a7af724\"),(\"collapsed\",Bool False)]), mhMessageId = UUID {uuidToString = \"afcc5d7d-729f-4029-aa9c-28fc61fed6ea\"}, mhSessionId = UUID {uuidToString = \"1f005eac-e929-4fa5-b927-0dd61ae0712e\"}, mhUsername = \"\", mhMsgType = ExecuteRequestMessage, mhBuffers = []}), mhMetadata = Metadata (fromList []), mhMessageId = UUID {uuidToString = \"149b0fe2-751c-4c5e-8a91-958138759151\"}, mhSessionId = UUID {uuidToString = \"1f005eac-e929-4fa5-b927-0dd61ae0712e\"}, mhUsername = \"\", mhMsgType = ExecuteErrorMessage, mhBuffers = []}",
     "output_type": "error",
     "traceback": [
      "<interactive>:1:1: error:\n    Could not find module ‘Graphics.SVGFonts’\n    Use -v (or `:set -v` in ghci) to see a list of the files searched for."
     ]
    }
   ],
   "source": [
    "import Diagrams.Prelude\n",
    "import Graphics.SVGFonts\n",
    "import Graphics.SVGFonts.ReadFont (PreparedFont)\n",
    "\n",
    "import Diagrams.Core.Points -- needed to work around bug in GHC 7.4"
   ]
  },
  {
   "cell_type": "markdown",
   "metadata": {
    "hidden": false
   },
   "source": [
    "Each series is a label and a list of points (x-y pairs).  Each series\n",
    "will be drawn as a separate line, with its own combination of colour,\n",
    "dashing pattern and shape.\n",
    "\n"
   ]
  },
  {
   "cell_type": "code",
   "execution_count": null,
   "metadata": {
    "collapsed": false,
    "jupyter": {
     "outputs_hidden": false
    }
   },
   "outputs": [],
   "source": [
    "type Pt = (Double, Double)\n",
    "type Points = [Pt]\n",
    "\n",
    "dataSeries :: [(String,Points)]\n",
    "dataSeries =\n",
    "  [ (\"upward\",   zip [0.0, 1.0 .. 10.0] [0.0, 1.0 .. 10.0])\n",
    "  , (\"downward\", zip [0.0, 1.0 .. 10.0] [10.0, 9.0 .. 0.0])\n",
    "  , (\"cycle\",    zip [0.0, 1.0 .. 10.0] (cycle [3,4,5]))\n",
    "  , (\"arbitrary\", [(2,4), (4,2), (5,4), (10,5)])\n",
    "  , (\"sin\",      map (\\x -> (x, 8+sin x)) [0.0, 0.5 .. 10.0])\n",
    "  ]\n",
    "\n",
    "type Dia = Diagram B\n"
   ]
  },
  {
   "cell_type": "markdown",
   "metadata": {
    "hidden": false
   },
   "source": [
    "The final diagram is the chart with the legend next to it.\n",
    "\n",
    "\n"
   ]
  },
  {
   "cell_type": "code",
   "execution_count": null,
   "metadata": {
    "collapsed": false,
    "jupyter": {
     "outputs_hidden": false
    }
   },
   "outputs": [],
   "source": [
    "example :: IO Dia\n",
    "example = do\n",
    "  lin2_ <- lin2\n",
    "  return . centerXY $\n",
    "    (centerY (chart lin2_ (map snd dataSeries) plotStyles [0,2,4,6,8,10] [0,2,4,6,8,10])\n",
    "     ||| strutX 1\n",
    "     ||| centerY (legend lin2_ plotStyles (map fst dataSeries)))\n",
    "     `atop` square 12 # translateX 5 # scaleY 0.85 -- border\n"
   ]
  },
  {
   "cell_type": "markdown",
   "metadata": {
    "hidden": false
   },
   "source": [
    "The size of the chart, in logical units.\n",
    "\n"
   ]
  },
  {
   "cell_type": "code",
   "execution_count": null,
   "metadata": {
    "collapsed": false,
    "jupyter": {
     "outputs_hidden": false
    }
   },
   "outputs": [],
   "source": [
    "h,w :: Double\n",
    "h = 7\n",
    "w = 7\n"
   ]
  },
  {
   "cell_type": "markdown",
   "metadata": {
    "hidden": false
   },
   "source": [
    "The chart is made of the data series, the outer box, and the\n",
    "horizontal and vertical axes markings.\n",
    "\n",
    "\"dataToFrac\" converts points from the \"data\" space [0..10] into the\n",
    "[0..1] range.\n",
    "\n"
   ]
  },
  {
   "cell_type": "code",
   "execution_count": null,
   "metadata": {
    "collapsed": false,
    "jupyter": {
     "outputs_hidden": false
    }
   },
   "outputs": [],
   "source": [
    "chart :: PreparedFont Double -> [Points] -> [(Dia, Dia -> Dia)] -> [Double] -> [Double] -> Dia\n",
    "chart font series styles xs ys = mconcat\n",
    "  [ plotMany styles series dataToFrac\n",
    "  , horizticks font (map (\\x -> ((x-minx)/xrange, showFloor x)) xs)\n",
    "  , vertticks  font (map (\\y -> ((y-miny)/yrange, showFloor y)) ys)\n",
    "  , box\n",
    "  ]\n",
    "  where maxx = last xs\n",
    "        minx = head xs\n",
    "        maxy = last ys\n",
    "        miny = head ys\n",
    "        xrange = maxx-minx\n",
    "        yrange = maxy-miny\n",
    "        dataToFrac (x,y) = ((x-minx)/xrange, (y-miny)/yrange)\n",
    "        showFloor = show . (floor :: Double -> Integer)\n"
   ]
  },
  {
   "cell_type": "markdown",
   "metadata": {
    "hidden": false
   },
   "source": [
    "Plot a single data series.  A \"shape\" is drawn at every data point,\n",
    "and straight lines are drawn between points.\n",
    "\n"
   ]
  },
  {
   "cell_type": "code",
   "execution_count": null,
   "metadata": {
    "collapsed": false,
    "jupyter": {
     "outputs_hidden": false
    }
   },
   "outputs": [],
   "source": [
    "plot :: ((Double, Double) -> (Double, Double)) -> Dia -> (Dia -> Dia) -> Points -> Dia\n",
    "plot dataToFrac shape lineStyle ps =\n",
    "    let scalify (x,y) = (x*w,y*h)\n",
    "        ps' = map (p2 . scalify . dataToFrac) ps\n",
    "    in (strokeP $ fromVertices ps') # lineStyle\n",
    "         `beneath` mconcat [ shape # moveTo p | p <- ps' ]\n"
   ]
  },
  {
   "cell_type": "markdown",
   "metadata": {
    "hidden": false
   },
   "source": [
    "Plot many data series using the given list of styles.\n",
    "\n"
   ]
  },
  {
   "cell_type": "code",
   "execution_count": null,
   "metadata": {
    "collapsed": false,
    "jupyter": {
     "outputs_hidden": false
    }
   },
   "outputs": [],
   "source": [
    "plotMany :: [(Dia, Dia -> Dia)] -> [Points] -> (Pt -> Pt) -> Dia\n",
    "plotMany styles seriesList dataToFrac =\n",
    "    mconcat $ zipWith (uncurry (plot dataToFrac)) (styles ++ plotStyles) seriesList\n"
   ]
  },
  {
   "cell_type": "markdown",
   "metadata": {
    "hidden": false
   },
   "source": [
    "A string of text, converted to a path and filled.\n",
    "\n"
   ]
  },
  {
   "cell_type": "code",
   "execution_count": null,
   "metadata": {
    "collapsed": false,
    "jupyter": {
     "outputs_hidden": false
    }
   },
   "outputs": [],
   "source": [
    "text' :: PreparedFont Double -> String -> Dia\n",
    "text' font s = (strokeP $ textSVG' (TextOpts font INSIDE_H KERN False 0.4 0.4) s) # fc black # lw none\n"
   ]
  },
  {
   "cell_type": "markdown",
   "metadata": {
    "hidden": false
   },
   "source": [
    "The chart's legend.  Each label is drawn next to a little example of\n",
    "how the line looks in the chart.\n",
    "\n"
   ]
  },
  {
   "cell_type": "code",
   "execution_count": null,
   "metadata": {
    "collapsed": false,
    "jupyter": {
     "outputs_hidden": false
    }
   },
   "outputs": [],
   "source": [
    "legend :: PreparedFont Double -> [(Dia, Dia -> Dia)] -> [String] -> Dia\n",
    "legend font styles labels = centerXY $\n",
    "    vcat' with {_sep=0.15} $\n",
    "      map (\\(l,s) -> littleLine s ||| strutX 0.4 ||| text' font l # alignL)\n",
    "        (zip labels (styles ++ plotStyles))\n",
    "  where littleLine (d,l) = (strokeP $ fromVertices [ 0^&0, 1^&0 ]) # l\n",
    "                           <> d # moveTo (0.5^&0)\n"
   ]
  },
  {
   "cell_type": "markdown",
   "metadata": {
    "hidden": false
   },
   "source": [
    "The outer box is just a rectangle.\n",
    "\n"
   ]
  },
  {
   "cell_type": "code",
   "execution_count": null,
   "metadata": {
    "collapsed": false,
    "jupyter": {
     "outputs_hidden": false
    }
   },
   "outputs": [],
   "source": [
    "box :: Dia\n",
    "box = strokeLoop . closeLine . fromVertices $ [ 0^&0, 0^&h, w^&h, w^&0 ]\n"
   ]
  },
  {
   "cell_type": "markdown",
   "metadata": {
    "hidden": false
   },
   "source": [
    "Each tick on the vertical axis has a text part, a solid line on the\n",
    "left, a solid line on the right, and a long dashed line from left to\n",
    "right.\n",
    "\n"
   ]
  },
  {
   "cell_type": "code",
   "execution_count": null,
   "metadata": {
    "collapsed": false,
    "jupyter": {
     "outputs_hidden": false
    }
   },
   "outputs": [],
   "source": [
    "vertticks :: PreparedFont Double -> [(Double, String)] -> Dia\n",
    "vertticks font pairs =\n",
    "    let textBits = mconcat [ text' font t # alignR # moveTo ((-0.2)^&(y*h)) | (y,t) <- pairs ]\n",
    "        tickBits =    mconcat [ fromVertices [ 0^&(y*h), 0.1    ^&(y*h) ] | (y,_) <- pairs ]\n",
    "                   <> mconcat [ fromVertices [ w^&(y*h), (w-0.1)^&(y*h) ] | (y,_) <- pairs ]\n",
    "                   <> mconcat [ fromVertices [ 0^&(y*h), w^&(y*h)       ] # lc gray # dashingG [ 0.1, 0.1 ] 0 | (y,_) <- pairs ]\n",
    "    in textBits <> tickBits\n"
   ]
  },
  {
   "cell_type": "markdown",
   "metadata": {
    "hidden": false
   },
   "source": [
    "(Similar for the horizontal axis.)\n",
    "\n"
   ]
  },
  {
   "cell_type": "code",
   "execution_count": null,
   "metadata": {
    "collapsed": false,
    "jupyter": {
     "outputs_hidden": false
    }
   },
   "outputs": [],
   "source": [
    "horizticks :: PreparedFont Double -> [(Double, String)] -> Dia\n",
    "horizticks font pairs =\n",
    "    let textBits = mconcat [ text' font t # moveTo ((x*w)^&(-0.3)) | (x,t) <- pairs ]\n",
    "        tickBits =    mconcat [ fromVertices [ (x*w)^&0, (x*w)^&0.1     ] | (x,_) <- pairs ]\n",
    "                   <> mconcat [ fromVertices [ (x*w)^&h, (x*w)^&(h-0.1) ] | (x,_) <- pairs ]\n",
    "                   <> mconcat [ fromVertices [ (x*w)^&0, (x*w)^&h       ] # lc gray # dashingG [ 0.1, 0.1 ] 0 | (x,_) <- pairs ]\n",
    "    in textBits <> tickBits\n"
   ]
  },
  {
   "cell_type": "markdown",
   "metadata": {
    "hidden": false
   },
   "source": [
    "A dot style is a shape (any diagram) and a boolean indicating whether\n",
    "the shape should be filled, a line style is a dashing pattern, and a\n",
    "colour style is just a colour.  These three combined give a \"style\".\n",
    "\n"
   ]
  },
  {
   "cell_type": "code",
   "execution_count": null,
   "metadata": {
    "collapsed": false,
    "jupyter": {
     "outputs_hidden": false
    }
   },
   "outputs": [],
   "source": [
    "newtype Fill = Fill Bool\n",
    "type Shape = Dia\n",
    "type DotStyle = (Shape, Fill)\n",
    "type LineStyle = Dia -> Dia\n",
    "\n",
    "plotStyles :: [ (Shape, LineStyle) ]\n",
    "plotStyles = zipWith3 combineStyles dotStyles colourStyles lineStyles\n",
    "\n",
    "combineStyles :: DotStyle -> Colour Double -> LineStyle -> (Shape, LineStyle)\n",
    "combineStyles (d,Fill f) c l =\n",
    "  ( d # (if f then fcA (c `withOpacity` 0.5) else id) # lc c, lc c . l )\n"
   ]
  },
  {
   "cell_type": "markdown",
   "metadata": {
    "hidden": false
   },
   "source": [
    "The dot styles.\n",
    "\n"
   ]
  },
  {
   "cell_type": "code",
   "execution_count": null,
   "metadata": {
    "collapsed": false,
    "jupyter": {
     "outputs_hidden": false
    }
   },
   "outputs": [],
   "source": [
    "dotStyles :: [DotStyle]\n",
    "dotStyles = cycle $\n",
    "    let shapes = map (strokeP)\n",
    "           [ circle 0.07\n",
    "           , square 0.1\n",
    "           , eqTriangle 0.1\n",
    "           , pentagon 0.1\n",
    "           , cross 0.07\n",
    "           , plus 0.07\n",
    "           , star (StarSkip 2) (pentagon 0.1)\n",
    "           ]\n",
    "    in [ (s, Fill b) | b <- [True,False], s <- shapes ]\n"
   ]
  },
  {
   "cell_type": "markdown",
   "metadata": {
    "hidden": false
   },
   "source": [
    "Some custom shapes.\n",
    "\n"
   ]
  },
  {
   "cell_type": "code",
   "execution_count": null,
   "metadata": {
    "collapsed": false,
    "jupyter": {
     "outputs_hidden": false
    }
   },
   "outputs": [],
   "source": [
    "cross :: Double -> Path V2 Double\n",
    "cross x = fromVertices [ x^&(-x) , ((-x)^&x) ]\n",
    "          <> fromVertices [ x^&x , ((-x)^&(-x)) ]\n",
    "\n",
    "plus :: Double -> Path V2 Double\n",
    "plus x = cross x # rotate (45 @@ deg)\n"
   ]
  },
  {
   "cell_type": "markdown",
   "metadata": {
    "hidden": false
   },
   "source": [
    "The colour styles.\n",
    "\n"
   ]
  },
  {
   "cell_type": "code",
   "execution_count": null,
   "metadata": {
    "collapsed": false,
    "jupyter": {
     "outputs_hidden": false
    }
   },
   "outputs": [],
   "source": [
    "colourStyles :: [Colour Double]\n",
    "colourStyles = cycle $ [ red, green, blue, brown ]\n"
   ]
  },
  {
   "cell_type": "markdown",
   "metadata": {
    "hidden": false
   },
   "source": [
    "The line styles.\n",
    "\n"
   ]
  },
  {
   "cell_type": "code",
   "execution_count": null,
   "metadata": {
    "collapsed": false,
    "jupyter": {
     "outputs_hidden": false
    }
   },
   "outputs": [],
   "source": [
    "lineStyles :: [Dia -> Dia]\n",
    "lineStyles = cycle $\n",
    "               [ id, dashingG [0.1,0.1] 0, dashingG [0.02,0.02] 0\n",
    "               , dashingG [0.1,0.1,0.03,0.1] 0, dashingG [0.1,0.1,0.02,0.02,0.02,0.1] 0 ]\n"
   ]
  },
  {
   "cell_type": "code",
   "execution_count": null,
   "metadata": {
    "collapsed": false,
    "jupyter": {
     "outputs_hidden": false
    }
   },
   "outputs": [],
   "source": [
    "main = mainWith (example :: Diagram B)\n"
   ]
  }
 ],
 "metadata": {
  "kernelspec": {
   "display_name": "Haskell - haskell",
   "language": "haskell",
   "name": "ihaskell_haskell"
  },
  "language_info": {
   "codemirror_mode": "ihaskell",
   "file_extension": ".hs",
   "name": "haskell",
   "pygments_lexer": "Haskell",
   "version": "8.8.3"
  }
 },
 "nbformat": 4,
 "nbformat_minor": 4
}
