{
 "cells": [
  {
   "cell_type": "code",
   "execution_count": 43,
   "metadata": {
    "collapsed": false,
    "jupyter": {
     "outputs_hidden": false
    }
   },
   "outputs": [],
   "source": [
    "{-# LANGUAGE FlexibleContexts TypeFamilies #-}\n",
    "import Diagrams.Backend.Cairo.CmdLine"
   ]
  },
  {
   "cell_type": "code",
   "execution_count": 44,
   "metadata": {
    "collapsed": false,
    "jupyter": {
     "outputs_hidden": false
    }
   },
   "outputs": [],
   "source": [
    "import Diagrams.Prelude\n",
    "import Graphics.SVGFonts\n",
    "import Graphics.SVGFonts.ReadFont (PreparedFont)\n",
    "\n",
    "import Diagrams.Core.Points -- needed to work around bug in GHC 7.4"
   ]
  },
  {
   "cell_type": "markdown",
   "metadata": {
    "hidden": false
   },
   "source": [
    "Each series is a label and a list of points (x-y pairs).  Each series\n",
    "will be drawn as a separate line, with its own combination of colour,\n",
    "dashing pattern and shape.\n",
    "\n"
   ]
  },
  {
   "cell_type": "code",
   "execution_count": 45,
   "metadata": {
    "collapsed": false,
    "jupyter": {
     "outputs_hidden": false
    }
   },
   "outputs": [],
   "source": [
    "type Pt = (Double, Double)\n",
    "type Points = [Pt]\n",
    "\n",
    "dataSeries :: [(String,Points)]\n",
    "dataSeries =\n",
    "  [ (\"upward\",   zip [0.0, 1.0 .. 10.0] [0.0, 1.0 .. 10.0])\n",
    "  , (\"downward\", zip [0.0, 1.0 .. 10.0] [10.0, 9.0 .. 0.0])\n",
    "  , (\"cycle\",    zip [0.0, 1.0 .. 10.0] (cycle [3,4,5]))\n",
    "  , (\"arbitrary\", [(2,4), (4,2), (5,4), (10,5)])\n",
    "  , (\"sin\",      map (\\x -> (x, 8+sin x)) [0.0, 0.5 .. 10.0])\n",
    "  ]\n",
    "\n",
    "type Dia = Diagram B"
   ]
  },
  {
   "cell_type": "markdown",
   "metadata": {
    "hidden": false
   },
   "source": [
    "The final diagram is the chart with the legend next to it.\n",
    "\n",
    "\n"
   ]
  },
  {
   "cell_type": "code",
   "execution_count": 67,
   "metadata": {
    "collapsed": false,
    "jupyter": {
     "outputs_hidden": false
    }
   },
   "outputs": [],
   "source": [
    "example :: IO Dia\n",
    "example = do\n",
    "  lin2_ <- lin2\n",
    "  return . centerXY $\n",
    "    (centerY (chart lin2_ (map snd dataSeries) plotStyles [0,2,4,6,8,10] [0,2,4,6,8,10])\n",
    "     ||| strutX 1\n",
    "     ||| centerY (legend lin2_ plotStyles (map fst dataSeries)))\n",
    "     `atop` square 12 # translateX 5 # scaleY 0.85 -- border"
   ]
  },
  {
   "cell_type": "markdown",
   "metadata": {
    "hidden": false
   },
   "source": [
    "The size of the chart, in logical units.\n",
    "\n"
   ]
  },
  {
   "cell_type": "code",
   "execution_count": 47,
   "metadata": {
    "collapsed": false,
    "jupyter": {
     "outputs_hidden": false
    }
   },
   "outputs": [],
   "source": [
    "h,w :: Double\n",
    "h = 7\n",
    "w = 7"
   ]
  },
  {
   "cell_type": "markdown",
   "metadata": {
    "hidden": false
   },
   "source": [
    "The chart is made of the data series, the outer box, and the\n",
    "horizontal and vertical axes markings.\n",
    "\n",
    "\"dataToFrac\" converts points from the \"data\" space [0..10] into the\n",
    "[0..1] range.\n",
    "\n"
   ]
  },
  {
   "cell_type": "code",
   "execution_count": 64,
   "metadata": {
    "collapsed": false,
    "jupyter": {
     "outputs_hidden": false
    }
   },
   "outputs": [],
   "source": [
    "chart :: PreparedFont Double -> [Points] -> [(Dia, Dia -> Dia)] -> [Double] -> [Double] -> Dia\n",
    "chart font series styles xs ys = mconcat\n",
    "  [ plotMany styles series dataToFrac\n",
    "  , horizticks font (map (\\x -> ((x-minx)/xrange, showFloor x)) xs)\n",
    "  , vertticks  font (map (\\y -> ((y-miny)/yrange, showFloor y)) ys)\n",
    "  , box\n",
    "  ]\n",
    "  where maxx = last xs\n",
    "        minx = head xs\n",
    "        maxy = last ys\n",
    "        miny = head ys\n",
    "        xrange = maxx-minx\n",
    "        yrange = maxy-miny\n",
    "        dataToFrac (x,y) = ((x-minx)/xrange, (y-miny)/yrange)\n",
    "        showFloor = show . (floor :: Double -> Integer)"
   ]
  },
  {
   "cell_type": "markdown",
   "metadata": {
    "hidden": false
   },
   "source": [
    "Plot a single data series.  A \"shape\" is drawn at every data point,\n",
    "and straight lines are drawn between points.\n",
    "\n"
   ]
  },
  {
   "cell_type": "code",
   "execution_count": 49,
   "metadata": {
    "collapsed": false,
    "jupyter": {
     "outputs_hidden": false
    }
   },
   "outputs": [
    {
     "data": {
      "text/html": [
       "<style>/* Styles used for the Hoogle display in the pager */\n",
       ".hoogle-doc {\n",
       "display: block;\n",
       "padding-bottom: 1.3em;\n",
       "padding-left: 0.4em;\n",
       "}\n",
       ".hoogle-code {\n",
       "display: block;\n",
       "font-family: monospace;\n",
       "white-space: pre;\n",
       "}\n",
       ".hoogle-text {\n",
       "display: block;\n",
       "}\n",
       ".hoogle-name {\n",
       "color: green;\n",
       "font-weight: bold;\n",
       "}\n",
       ".hoogle-head {\n",
       "font-weight: bold;\n",
       "}\n",
       ".hoogle-sub {\n",
       "display: block;\n",
       "margin-left: 0.4em;\n",
       "}\n",
       ".hoogle-package {\n",
       "font-weight: bold;\n",
       "font-style: italic;\n",
       "}\n",
       ".hoogle-module {\n",
       "font-weight: bold;\n",
       "}\n",
       ".hoogle-class {\n",
       "font-weight: bold;\n",
       "}\n",
       ".get-type {\n",
       "color: green;\n",
       "font-weight: bold;\n",
       "font-family: monospace;\n",
       "display: block;\n",
       "white-space: pre-wrap;\n",
       "}\n",
       ".show-type {\n",
       "color: green;\n",
       "font-weight: bold;\n",
       "font-family: monospace;\n",
       "margin-left: 1em;\n",
       "}\n",
       ".mono {\n",
       "font-family: monospace;\n",
       "display: block;\n",
       "}\n",
       ".err-msg {\n",
       "color: red;\n",
       "font-style: italic;\n",
       "font-family: monospace;\n",
       "white-space: pre;\n",
       "display: block;\n",
       "}\n",
       "#unshowable {\n",
       "color: red;\n",
       "font-weight: bold;\n",
       "}\n",
       ".err-msg.in.collapse {\n",
       "padding-top: 0.7em;\n",
       "}\n",
       ".highlight-code {\n",
       "white-space: pre;\n",
       "font-family: monospace;\n",
       "}\n",
       ".suggestion-warning { \n",
       "font-weight: bold;\n",
       "color: rgb(200, 130, 0);\n",
       "}\n",
       ".suggestion-error { \n",
       "font-weight: bold;\n",
       "color: red;\n",
       "}\n",
       ".suggestion-name {\n",
       "font-weight: bold;\n",
       "}\n",
       "</style><div class=\"suggestion-name\" style=\"clear:both;\">Move brackets to avoid $</div><div class=\"suggestion-row\" style=\"float: left;\"><div class=\"suggestion-warning\">Found:</div><div class=\"highlight-code\" id=\"haskell\">(strokeP \\$ fromVertices ps') # lineStyle</div></div><div class=\"suggestion-row\" style=\"float: left;\"><div class=\"suggestion-warning\">Why Not:</div><div class=\"highlight-code\" id=\"haskell\">strokeP (fromVertices ps') # lineStyle</div></div>"
      ],
      "text/plain": [
       "Line 5: Move brackets to avoid $\n",
       "Found:\n",
       "(strokeP $ fromVertices ps') # lineStyle\n",
       "Why not:\n",
       "strokeP (fromVertices ps') # lineStyle"
      ]
     },
     "metadata": {},
     "output_type": "display_data"
    }
   ],
   "source": [
    "plot :: ((Double, Double) -> (Double, Double)) -> Dia -> (Dia -> Dia) -> Points -> Dia\n",
    "plot dataToFrac shape lineStyle ps =\n",
    "    let scalify (x,y) = (x*w,y*h)\n",
    "        ps' = map (p2 . scalify . dataToFrac) ps\n",
    "    in (strokeP $ fromVertices ps') # lineStyle\n",
    "         `beneath` mconcat [ shape # moveTo p | p <- ps' ]\n"
   ]
  },
  {
   "cell_type": "markdown",
   "metadata": {
    "hidden": false
   },
   "source": [
    "Plot many data series using the given list of styles.\n",
    "\n"
   ]
  },
  {
   "cell_type": "code",
   "execution_count": 63,
   "metadata": {
    "collapsed": false,
    "jupyter": {
     "outputs_hidden": false
    }
   },
   "outputs": [],
   "source": [
    "plotMany :: [(Dia, Dia -> Dia)] -> [Points] -> (Pt -> Pt) -> Dia\n",
    "plotMany styles seriesList dataToFrac =\n",
    "    mconcat $ zipWith (uncurry (plot dataToFrac)) (styles ++ plotStyles) seriesList\n"
   ]
  },
  {
   "cell_type": "markdown",
   "metadata": {
    "hidden": false
   },
   "source": [
    "A string of text, converted to a path and filled.\n",
    "\n"
   ]
  },
  {
   "cell_type": "code",
   "execution_count": 51,
   "metadata": {
    "collapsed": false,
    "jupyter": {
     "outputs_hidden": false
    }
   },
   "outputs": [
    {
     "data": {
      "text/html": [
       "<style>/* Styles used for the Hoogle display in the pager */\n",
       ".hoogle-doc {\n",
       "display: block;\n",
       "padding-bottom: 1.3em;\n",
       "padding-left: 0.4em;\n",
       "}\n",
       ".hoogle-code {\n",
       "display: block;\n",
       "font-family: monospace;\n",
       "white-space: pre;\n",
       "}\n",
       ".hoogle-text {\n",
       "display: block;\n",
       "}\n",
       ".hoogle-name {\n",
       "color: green;\n",
       "font-weight: bold;\n",
       "}\n",
       ".hoogle-head {\n",
       "font-weight: bold;\n",
       "}\n",
       ".hoogle-sub {\n",
       "display: block;\n",
       "margin-left: 0.4em;\n",
       "}\n",
       ".hoogle-package {\n",
       "font-weight: bold;\n",
       "font-style: italic;\n",
       "}\n",
       ".hoogle-module {\n",
       "font-weight: bold;\n",
       "}\n",
       ".hoogle-class {\n",
       "font-weight: bold;\n",
       "}\n",
       ".get-type {\n",
       "color: green;\n",
       "font-weight: bold;\n",
       "font-family: monospace;\n",
       "display: block;\n",
       "white-space: pre-wrap;\n",
       "}\n",
       ".show-type {\n",
       "color: green;\n",
       "font-weight: bold;\n",
       "font-family: monospace;\n",
       "margin-left: 1em;\n",
       "}\n",
       ".mono {\n",
       "font-family: monospace;\n",
       "display: block;\n",
       "}\n",
       ".err-msg {\n",
       "color: red;\n",
       "font-style: italic;\n",
       "font-family: monospace;\n",
       "white-space: pre;\n",
       "display: block;\n",
       "}\n",
       "#unshowable {\n",
       "color: red;\n",
       "font-weight: bold;\n",
       "}\n",
       ".err-msg.in.collapse {\n",
       "padding-top: 0.7em;\n",
       "}\n",
       ".highlight-code {\n",
       "white-space: pre;\n",
       "font-family: monospace;\n",
       "}\n",
       ".suggestion-warning { \n",
       "font-weight: bold;\n",
       "color: rgb(200, 130, 0);\n",
       "}\n",
       ".suggestion-error { \n",
       "font-weight: bold;\n",
       "color: red;\n",
       "}\n",
       ".suggestion-name {\n",
       "font-weight: bold;\n",
       "}\n",
       "</style><div class=\"suggestion-name\" style=\"clear:both;\">Move brackets to avoid $</div><div class=\"suggestion-row\" style=\"float: left;\"><div class=\"suggestion-warning\">Found:</div><div class=\"highlight-code\" id=\"haskell\">(strokeP \\$ textSVG' (TextOpts font INSIDE_H KERN False 0.4 0.4) s)\n",
       "  # fc black</div></div><div class=\"suggestion-row\" style=\"float: left;\"><div class=\"suggestion-warning\">Why Not:</div><div class=\"highlight-code\" id=\"haskell\">strokeP (textSVG' (TextOpts font INSIDE_H KERN False 0.4 0.4) s)\n",
       "  # fc black</div></div>"
      ],
      "text/plain": [
       "Line 2: Move brackets to avoid $\n",
       "Found:\n",
       "(strokeP $ textSVG' (TextOpts font INSIDE_H KERN False 0.4 0.4) s)\n",
       "  # fc black\n",
       "Why not:\n",
       "strokeP (textSVG' (TextOpts font INSIDE_H KERN False 0.4 0.4) s)\n",
       "  # fc black"
      ]
     },
     "metadata": {},
     "output_type": "display_data"
    }
   ],
   "source": [
    "text' :: PreparedFont Double -> String -> Dia\n",
    "text' font s = (strokeP $ textSVG' (TextOpts font INSIDE_H KERN False 0.4 0.4) s) # fc black # lw none\n"
   ]
  },
  {
   "cell_type": "markdown",
   "metadata": {
    "hidden": false
   },
   "source": [
    "The chart's legend.  Each label is drawn next to a little example of\n",
    "how the line looks in the chart.\n",
    "\n"
   ]
  },
  {
   "cell_type": "code",
   "execution_count": 66,
   "metadata": {
    "collapsed": false,
    "jupyter": {
     "outputs_hidden": false
    }
   },
   "outputs": [
    {
     "data": {
      "text/html": [
       "<style>/* Styles used for the Hoogle display in the pager */\n",
       ".hoogle-doc {\n",
       "display: block;\n",
       "padding-bottom: 1.3em;\n",
       "padding-left: 0.4em;\n",
       "}\n",
       ".hoogle-code {\n",
       "display: block;\n",
       "font-family: monospace;\n",
       "white-space: pre;\n",
       "}\n",
       ".hoogle-text {\n",
       "display: block;\n",
       "}\n",
       ".hoogle-name {\n",
       "color: green;\n",
       "font-weight: bold;\n",
       "}\n",
       ".hoogle-head {\n",
       "font-weight: bold;\n",
       "}\n",
       ".hoogle-sub {\n",
       "display: block;\n",
       "margin-left: 0.4em;\n",
       "}\n",
       ".hoogle-package {\n",
       "font-weight: bold;\n",
       "font-style: italic;\n",
       "}\n",
       ".hoogle-module {\n",
       "font-weight: bold;\n",
       "}\n",
       ".hoogle-class {\n",
       "font-weight: bold;\n",
       "}\n",
       ".get-type {\n",
       "color: green;\n",
       "font-weight: bold;\n",
       "font-family: monospace;\n",
       "display: block;\n",
       "white-space: pre-wrap;\n",
       "}\n",
       ".show-type {\n",
       "color: green;\n",
       "font-weight: bold;\n",
       "font-family: monospace;\n",
       "margin-left: 1em;\n",
       "}\n",
       ".mono {\n",
       "font-family: monospace;\n",
       "display: block;\n",
       "}\n",
       ".err-msg {\n",
       "color: red;\n",
       "font-style: italic;\n",
       "font-family: monospace;\n",
       "white-space: pre;\n",
       "display: block;\n",
       "}\n",
       "#unshowable {\n",
       "color: red;\n",
       "font-weight: bold;\n",
       "}\n",
       ".err-msg.in.collapse {\n",
       "padding-top: 0.7em;\n",
       "}\n",
       ".highlight-code {\n",
       "white-space: pre;\n",
       "font-family: monospace;\n",
       "}\n",
       ".suggestion-warning { \n",
       "font-weight: bold;\n",
       "color: rgb(200, 130, 0);\n",
       "}\n",
       ".suggestion-error { \n",
       "font-weight: bold;\n",
       "color: red;\n",
       "}\n",
       ".suggestion-name {\n",
       "font-weight: bold;\n",
       "}\n",
       "</style><div class=\"suggestion-name\" style=\"clear:both;\">Use zipWith</div><div class=\"suggestion-row\" style=\"float: left;\"><div class=\"suggestion-warning\">Found:</div><div class=\"highlight-code\" id=\"haskell\">map\n",
       "  (\\ (l, s) -> littleLine s ||| strutX 0.4 ||| text' font l # alignL)\n",
       "  (zip labels (styles ++ plotStyles))</div></div><div class=\"suggestion-row\" style=\"float: left;\"><div class=\"suggestion-warning\">Why Not:</div><div class=\"highlight-code\" id=\"haskell\">zipWith\n",
       "  (curry\n",
       "     (\\ (l, s)\n",
       "        -> littleLine s ||| strutX 0.4 ||| text' font l # alignL))\n",
       "  labels (styles ++ plotStyles)</div></div><div class=\"suggestion-name\" style=\"clear:both;\">Move brackets to avoid $</div><div class=\"suggestion-row\" style=\"float: left;\"><div class=\"suggestion-warning\">Found:</div><div class=\"highlight-code\" id=\"haskell\">(strokeP \\$ fromVertices [0 ^& 0, 1 ^& 0]) # l</div></div><div class=\"suggestion-row\" style=\"float: left;\"><div class=\"suggestion-warning\">Why Not:</div><div class=\"highlight-code\" id=\"haskell\">strokeP (fromVertices [0 ^& 0, 1 ^& 0]) # l</div></div>"
      ],
      "text/plain": [
       "Line 4: Use zipWith\n",
       "Found:\n",
       "map\n",
       "  (\\ (l, s) -> littleLine s ||| strutX 0.4 ||| text' font l # alignL)\n",
       "  (zip labels (styles ++ plotStyles))\n",
       "Why not:\n",
       "zipWith\n",
       "  (curry\n",
       "     (\\ (l, s)\n",
       "        -> littleLine s ||| strutX 0.4 ||| text' font l # alignL))\n",
       "  labels (styles ++ plotStyles)Line 6: Move brackets to avoid $\n",
       "Found:\n",
       "(strokeP $ fromVertices [0 ^& 0, 1 ^& 0]) # l\n",
       "Why not:\n",
       "strokeP (fromVertices [0 ^& 0, 1 ^& 0]) # l"
      ]
     },
     "metadata": {},
     "output_type": "display_data"
    }
   ],
   "source": [
    "legend :: PreparedFont Double -> [(Dia, Dia -> Dia)] -> [String] -> Dia\n",
    "legend font styles labels = centerXY $\n",
    "    vcat' with {_sep=0.15} $\n",
    "      map (\\(l,s) -> littleLine s ||| strutX 0.4 ||| text' font l # alignL)\n",
    "        (zip labels (styles ++ plotStyles))\n",
    "  where littleLine (d,l) = (strokeP $ fromVertices [ 0^&0, 1^&0 ]) # l\n",
    "                           <> d # moveTo (0.5^&0)\n"
   ]
  },
  {
   "cell_type": "markdown",
   "metadata": {
    "hidden": false
   },
   "source": [
    "The outer box is just a rectangle.\n",
    "\n"
   ]
  },
  {
   "cell_type": "code",
   "execution_count": 53,
   "metadata": {
    "collapsed": false,
    "jupyter": {
     "outputs_hidden": false
    }
   },
   "outputs": [],
   "source": [
    "box :: Dia\n",
    "box = strokeLoop . closeLine . fromVertices $ [ 0^&0, 0^&h, w^&h, w^&0 ]\n"
   ]
  },
  {
   "cell_type": "markdown",
   "metadata": {
    "hidden": false
   },
   "source": [
    "Each tick on the vertical axis has a text part, a solid line on the\n",
    "left, a solid line on the right, and a long dashed line from left to\n",
    "right.\n",
    "\n"
   ]
  },
  {
   "cell_type": "code",
   "execution_count": 54,
   "metadata": {
    "collapsed": false,
    "jupyter": {
     "outputs_hidden": false
    }
   },
   "outputs": [],
   "source": [
    "vertticks :: PreparedFont Double -> [(Double, String)] -> Dia\n",
    "vertticks font pairs =\n",
    "    let textBits = mconcat [ text' font t # alignR # moveTo ((-0.2)^&(y*h)) | (y,t) <- pairs ]\n",
    "        tickBits =    mconcat [ fromVertices [ 0^&(y*h), 0.1    ^&(y*h) ] | (y,_) <- pairs ]\n",
    "                   <> mconcat [ fromVertices [ w^&(y*h), (w-0.1)^&(y*h) ] | (y,_) <- pairs ]\n",
    "                   <> mconcat [ fromVertices [ 0^&(y*h), w^&(y*h)       ] # lc gray # dashingG [ 0.1, 0.1 ] 0 | (y,_) <- pairs ]\n",
    "    in textBits <> tickBits\n"
   ]
  },
  {
   "cell_type": "markdown",
   "metadata": {
    "hidden": false
   },
   "source": [
    "(Similar for the horizontal axis.)\n",
    "\n"
   ]
  },
  {
   "cell_type": "code",
   "execution_count": 60,
   "metadata": {
    "collapsed": false,
    "jupyter": {
     "outputs_hidden": false
    }
   },
   "outputs": [],
   "source": [
    "horizticks :: PreparedFont Double -> [(Double, String)] -> Dia\n",
    "horizticks font pairs =\n",
    "    let textBits = mconcat [ text' font t # moveTo ((x*w)^&(-0.3)) | (x,t) <- pairs ]\n",
    "        tickBits =    mconcat [ fromVertices [ (x*w)^&0, (x*w)^&0.1     ] | (x,_) <- pairs ]\n",
    "                   <> mconcat [ fromVertices [ (x*w)^&h, (x*w)^&(h-0.1) ] | (x,_) <- pairs ]\n",
    "                   <> mconcat [ fromVertices [ (x*w)^&0, (x*w)^&h       ] # lc gray # dashingG [ 0.1, 0.1 ] 0 | (x,_) <- pairs ]\n",
    "    in textBits <> tickBits"
   ]
  },
  {
   "cell_type": "markdown",
   "metadata": {
    "hidden": false
   },
   "source": [
    "A dot style is a shape (any diagram) and a boolean indicating whether\n",
    "the shape should be filled, a line style is a dashing pattern, and a\n",
    "colour style is just a colour.  These three combined give a \"style\".\n",
    "\n"
   ]
  },
  {
   "cell_type": "code",
   "execution_count": 59,
   "metadata": {
    "collapsed": false,
    "jupyter": {
     "outputs_hidden": false
    }
   },
   "outputs": [
    {
     "data": {
      "text/html": [
       "<style>/* Styles used for the Hoogle display in the pager */\n",
       ".hoogle-doc {\n",
       "display: block;\n",
       "padding-bottom: 1.3em;\n",
       "padding-left: 0.4em;\n",
       "}\n",
       ".hoogle-code {\n",
       "display: block;\n",
       "font-family: monospace;\n",
       "white-space: pre;\n",
       "}\n",
       ".hoogle-text {\n",
       "display: block;\n",
       "}\n",
       ".hoogle-name {\n",
       "color: green;\n",
       "font-weight: bold;\n",
       "}\n",
       ".hoogle-head {\n",
       "font-weight: bold;\n",
       "}\n",
       ".hoogle-sub {\n",
       "display: block;\n",
       "margin-left: 0.4em;\n",
       "}\n",
       ".hoogle-package {\n",
       "font-weight: bold;\n",
       "font-style: italic;\n",
       "}\n",
       ".hoogle-module {\n",
       "font-weight: bold;\n",
       "}\n",
       ".hoogle-class {\n",
       "font-weight: bold;\n",
       "}\n",
       ".get-type {\n",
       "color: green;\n",
       "font-weight: bold;\n",
       "font-family: monospace;\n",
       "display: block;\n",
       "white-space: pre-wrap;\n",
       "}\n",
       ".show-type {\n",
       "color: green;\n",
       "font-weight: bold;\n",
       "font-family: monospace;\n",
       "margin-left: 1em;\n",
       "}\n",
       ".mono {\n",
       "font-family: monospace;\n",
       "display: block;\n",
       "}\n",
       ".err-msg {\n",
       "color: red;\n",
       "font-style: italic;\n",
       "font-family: monospace;\n",
       "white-space: pre;\n",
       "display: block;\n",
       "}\n",
       "#unshowable {\n",
       "color: red;\n",
       "font-weight: bold;\n",
       "}\n",
       ".err-msg.in.collapse {\n",
       "padding-top: 0.7em;\n",
       "}\n",
       ".highlight-code {\n",
       "white-space: pre;\n",
       "font-family: monospace;\n",
       "}\n",
       ".suggestion-warning { \n",
       "font-weight: bold;\n",
       "color: rgb(200, 130, 0);\n",
       "}\n",
       ".suggestion-error { \n",
       "font-weight: bold;\n",
       "color: red;\n",
       "}\n",
       ".suggestion-name {\n",
       "font-weight: bold;\n",
       "}\n",
       "</style><div class=\"suggestion-name\" style=\"clear:both;\">Redundant bracket</div><div class=\"suggestion-row\" style=\"float: left;\"><div class=\"suggestion-warning\">Found:</div><div class=\"highlight-code\" id=\"haskell\">(strokeP)</div></div><div class=\"suggestion-row\" style=\"float: left;\"><div class=\"suggestion-warning\">Why Not:</div><div class=\"highlight-code\" id=\"haskell\">strokeP</div></div>"
      ],
      "text/plain": [
       "Line 16: Redundant bracket\n",
       "Found:\n",
       "(strokeP)\n",
       "Why not:\n",
       "strokeP"
      ]
     },
     "metadata": {},
     "output_type": "display_data"
    }
   ],
   "source": [
    "newtype Fill = Fill Bool\n",
    "type Shape = Dia\n",
    "type DotStyle = (Shape, Fill)\n",
    "type LineStyle = Dia -> Dia\n",
    "\n",
    "plotStyles :: [ (Shape, LineStyle) ]\n",
    "plotStyles = zipWith3 combineStyles dotStyles colourStyles lineStyles\n",
    "\n",
    "combineStyles :: DotStyle -> Colour Double -> LineStyle -> (Shape, LineStyle)\n",
    "combineStyles (d,Fill f) c l =\n",
    "  ( d # (if f then fcA (c `withOpacity` 0.5) else id) # lc c, lc c . l )\n",
    "\n",
    "-- The dot styles.\n",
    "dotStyles :: [DotStyle]\n",
    "dotStyles = cycle $\n",
    "    let shapes = map (strokeP)\n",
    "           [ circle 0.07\n",
    "           , square 0.1\n",
    "           , eqTriangle 0.1\n",
    "           , pentagon 0.1\n",
    "           , cross 0.07\n",
    "           , plus 0.07\n",
    "           , star (StarSkip 2) (pentagon 0.1)\n",
    "           ]\n",
    "    in [ (s, Fill b) | b <- [True,False], s <- shapes ]"
   ]
  },
  {
   "cell_type": "markdown",
   "metadata": {
    "hidden": false
   },
   "source": [
    "Some custom shapes.\n",
    "\n"
   ]
  },
  {
   "cell_type": "code",
   "execution_count": 37,
   "metadata": {
    "collapsed": false,
    "jupyter": {
     "outputs_hidden": false
    }
   },
   "outputs": [
    {
     "data": {
      "text/html": [
       "<style>/* Styles used for the Hoogle display in the pager */\n",
       ".hoogle-doc {\n",
       "display: block;\n",
       "padding-bottom: 1.3em;\n",
       "padding-left: 0.4em;\n",
       "}\n",
       ".hoogle-code {\n",
       "display: block;\n",
       "font-family: monospace;\n",
       "white-space: pre;\n",
       "}\n",
       ".hoogle-text {\n",
       "display: block;\n",
       "}\n",
       ".hoogle-name {\n",
       "color: green;\n",
       "font-weight: bold;\n",
       "}\n",
       ".hoogle-head {\n",
       "font-weight: bold;\n",
       "}\n",
       ".hoogle-sub {\n",
       "display: block;\n",
       "margin-left: 0.4em;\n",
       "}\n",
       ".hoogle-package {\n",
       "font-weight: bold;\n",
       "font-style: italic;\n",
       "}\n",
       ".hoogle-module {\n",
       "font-weight: bold;\n",
       "}\n",
       ".hoogle-class {\n",
       "font-weight: bold;\n",
       "}\n",
       ".get-type {\n",
       "color: green;\n",
       "font-weight: bold;\n",
       "font-family: monospace;\n",
       "display: block;\n",
       "white-space: pre-wrap;\n",
       "}\n",
       ".show-type {\n",
       "color: green;\n",
       "font-weight: bold;\n",
       "font-family: monospace;\n",
       "margin-left: 1em;\n",
       "}\n",
       ".mono {\n",
       "font-family: monospace;\n",
       "display: block;\n",
       "}\n",
       ".err-msg {\n",
       "color: red;\n",
       "font-style: italic;\n",
       "font-family: monospace;\n",
       "white-space: pre;\n",
       "display: block;\n",
       "}\n",
       "#unshowable {\n",
       "color: red;\n",
       "font-weight: bold;\n",
       "}\n",
       ".err-msg.in.collapse {\n",
       "padding-top: 0.7em;\n",
       "}\n",
       ".highlight-code {\n",
       "white-space: pre;\n",
       "font-family: monospace;\n",
       "}\n",
       ".suggestion-warning { \n",
       "font-weight: bold;\n",
       "color: rgb(200, 130, 0);\n",
       "}\n",
       ".suggestion-error { \n",
       "font-weight: bold;\n",
       "color: red;\n",
       "}\n",
       ".suggestion-name {\n",
       "font-weight: bold;\n",
       "}\n",
       "</style><div class=\"suggestion-name\" style=\"clear:both;\">Redundant bracket</div><div class=\"suggestion-row\" style=\"float: left;\"><div class=\"suggestion-warning\">Found:</div><div class=\"highlight-code\" id=\"haskell\">[x ^& (- x), ((- x) ^& x)]</div></div><div class=\"suggestion-row\" style=\"float: left;\"><div class=\"suggestion-warning\">Why Not:</div><div class=\"highlight-code\" id=\"haskell\">[x ^& (- x), (- x) ^& x]</div></div><div class=\"suggestion-name\" style=\"clear:both;\">Redundant bracket</div><div class=\"suggestion-row\" style=\"float: left;\"><div class=\"suggestion-warning\">Found:</div><div class=\"highlight-code\" id=\"haskell\">[x ^& x, ((- x) ^& (- x))]</div></div><div class=\"suggestion-row\" style=\"float: left;\"><div class=\"suggestion-warning\">Why Not:</div><div class=\"highlight-code\" id=\"haskell\">[x ^& x, (- x) ^& (- x)]</div></div>"
      ],
      "text/plain": [
       "Line 2: Redundant bracket\n",
       "Found:\n",
       "[x ^& (- x), ((- x) ^& x)]\n",
       "Why not:\n",
       "[x ^& (- x), (- x) ^& x]Line 3: Redundant bracket\n",
       "Found:\n",
       "[x ^& x, ((- x) ^& (- x))]\n",
       "Why not:\n",
       "[x ^& x, (- x) ^& (- x)]"
      ]
     },
     "metadata": {},
     "output_type": "display_data"
    }
   ],
   "source": [
    "cross :: Double -> Path V2 Double\n",
    "cross x = fromVertices [ x^&(-x) , ((-x)^&x) ]\n",
    "          <> fromVertices [ x^&x , ((-x)^&(-x)) ]\n",
    "\n",
    "plus :: Double -> Path V2 Double\n",
    "plus x = cross x # rotate (45 @@ deg)\n"
   ]
  },
  {
   "cell_type": "markdown",
   "metadata": {
    "hidden": false
   },
   "source": [
    "The colour styles.\n",
    "\n"
   ]
  },
  {
   "cell_type": "code",
   "execution_count": 39,
   "metadata": {
    "collapsed": false,
    "jupyter": {
     "outputs_hidden": false
    }
   },
   "outputs": [],
   "source": [
    "colourStyles :: [Colour Double]\n",
    "colourStyles = cycle [ red, green, blue, brown ]\n"
   ]
  },
  {
   "cell_type": "markdown",
   "metadata": {
    "hidden": false
   },
   "source": [
    "The line styles.\n",
    "\n"
   ]
  },
  {
   "cell_type": "code",
   "execution_count": 40,
   "metadata": {
    "collapsed": false,
    "jupyter": {
     "outputs_hidden": false
    }
   },
   "outputs": [],
   "source": [
    "lineStyles :: [Dia -> Dia]\n",
    "lineStyles = cycle\n",
    "               [ id, dashingG [0.1,0.1] 0, dashingG [0.02,0.02] 0\n",
    "               , dashingG [0.1,0.1,0.03,0.1] 0, dashingG [0.1,0.1,0.02,0.02,0.02,0.1] 0 ]\n"
   ]
  },
  {
   "cell_type": "code",
   "execution_count": 68,
   "metadata": {
    "collapsed": false,
    "jupyter": {
     "outputs_hidden": false
    }
   },
   "outputs": [
    {
     "data": {
      "image/png": "[encoded data removed]",
      "image/svg+xml": [
       "<?xml version=\"1.0\" encoding=\"UTF-8\"?>\n",
       "<svg xmlns=\"http://www.w3.org/2000/svg\" xmlns:xlink=\"http://www.w3.org/1999/xlink\" width=\"380.969659pt\" height=\"323.82421pt\" viewBox=\"0 0 380.969659 323.82421\" version=\"1.1\">\n",
       "<g id=\"surface2\">\n",
       "<path style=\"fill:none;stroke-width:1.404947;stroke-linecap:butt;stroke-linejoin:miter;stroke:rgb(0%,0%,0%);stroke-opacity:1;stroke-miterlimit:10;\" d=\"M 380.96875 323.824219 L 380.96875 0 L 0 0 L 0 323.824219 Z M 380.96875 323.824219 \"/>\n",
       "<path style=\" stroke:none;fill-rule:nonzero;fill:rgb(0%,0%,0%);fill-opacity:1;\" d=\"M 333.644531 193.03125 Z M 334.097656 191.558594 L 334.382812 191.546875 C 334.414062 191.808594 334.53125 192.316406 334.761719 192.558594 C 334.867188 192.675781 335.152344 192.863281 335.539062 192.863281 C 335.90625 192.863281 336.457031 192.570312 336.457031 192.050781 C 336.457031 191.597656 336.203125 191.292969 335.371094 190.933594 C 334.601562 190.597656 334.203125 190.375 334.203125 189.585938 C 334.203125 188.878906 334.824219 188.375 335.65625 188.375 C 336.183594 188.375 336.574219 188.46875 336.898438 188.636719 C 336.960938 188.972656 336.992188 189.332031 337.015625 189.710938 L 336.730469 189.722656 C 336.507812 188.859375 335.878906 188.691406 335.65625 188.691406 C 335.257812 188.691406 334.84375 188.847656 334.84375 189.429688 C 334.84375 189.851562 335.042969 190.0625 335.621094 190.273438 C 336.472656 190.589844 337.160156 190.96875 337.160156 191.8125 C 337.160156 192.855469 336.054688 193.160156 335.558594 193.160156 C 335.191406 193.160156 334.882812 193.117188 334.609375 193.042969 C 334.535156 193.03125 334.484375 193.023438 334.410156 193.023438 C 334.359375 193.023438 334.273438 193.035156 334.167969 193.054688 C 334.167969 192.613281 334.136719 192.074219 334.09375 191.558594 Z M 337.550781 193.03125 Z M 338.371094 187.019531 C 338.371094 186.746094 338.59375 186.515625 338.867188 186.515625 C 339.152344 186.515625 339.371094 186.746094 339.371094 187.019531 C 339.371094 187.304688 339.148438 187.523438 338.867188 187.523438 C 338.59375 187.523438 338.371094 187.300781 338.371094 187.019531 Z M 338.371094 187.019531 Z M 339.371094 192.273438 C 339.371094 192.578125 339.488281 192.738281 339.824219 192.738281 L 340.023438 192.738281 C 340.074219 192.738281 340.117188 192.769531 340.117188 192.824219 L 340.117188 193.023438 L 340.097656 193.042969 C 340.097656 193.042969 339.371094 193.023438 338.960938 193.023438 C 338.59375 193.023438 337.875 193.042969 337.875 193.042969 L 337.855469 193.023438 L 337.855469 192.824219 C 337.855469 192.773438 337.886719 192.738281 337.941406 192.738281 L 338.140625 192.738281 C 338.488281 192.738281 338.59375 192.582031 338.59375 192.273438 L 338.59375 189.652344 C 338.59375 189.09375 338.5 189.011719 338.351562 189.011719 C 338.214844 189.011719 338.089844 189.023438 337.910156 189.0625 L 337.859375 188.769531 C 338.535156 188.652344 338.648438 188.613281 338.953125 188.464844 C 339.070312 188.421875 339.144531 188.378906 339.214844 188.378906 L 339.371094 188.378906 Z M 340.328125 193.03125 Z M 344.164062 192.273438 L 344.164062 189.96875 C 344.164062 189.230469 344.039062 188.882812 343.480469 188.882812 C 343.015625 188.882812 342.617188 189.0625 342.078125 189.695312 L 342.078125 192.273438 C 342.078125 192.578125 342.183594 192.738281 342.53125 192.738281 L 342.679688 192.738281 C 342.730469 192.738281 342.765625 192.769531 342.765625 192.824219 L 342.765625 193.023438 L 342.746094 193.042969 C 342.746094 193.042969 342.082031 193.023438 341.671875 193.023438 C 341.292969 193.023438 340.578125 193.042969 340.578125 193.042969 L 340.558594 193.023438 L 340.558594 192.824219 C 340.558594 192.773438 340.589844 192.738281 340.644531 192.738281 L 340.84375 192.738281 C 341.203125 192.738281 341.296875 192.582031 341.296875 192.273438 L 341.296875 189.652344 C 341.296875 189.082031 341.210938 189.011719 341.066406 189.011719 C 340.929688 189.011719 340.804688 189.023438 340.625 189.0625 L 340.574219 188.769531 C 341.015625 188.695312 341.332031 188.644531 341.660156 188.464844 C 341.777344 188.414062 341.859375 188.378906 341.933594 188.378906 L 342.089844 188.378906 L 342.058594 189.316406 L 342.089844 189.316406 C 342.765625 188.527344 343.269531 188.378906 343.804688 188.378906 C 344.753906 188.378906 344.953125 189.105469 344.953125 190.042969 L 344.953125 192.273438 C 344.953125 192.578125 345.070312 192.738281 345.40625 192.738281 L 345.605469 192.738281 C 345.65625 192.738281 345.699219 192.769531 345.699219 192.824219 L 345.699219 193.023438 L 345.679688 193.042969 C 345.679688 193.042969 344.953125 193.023438 344.542969 193.023438 C 344.175781 193.023438 343.511719 193.042969 343.511719 193.042969 L 343.492188 193.023438 L 343.492188 192.824219 C 343.492188 192.773438 343.523438 192.738281 343.578125 192.738281 L 343.726562 192.738281 C 344.074219 192.738281 344.179688 192.582031 344.179688 192.273438 Z M 344.164062 192.273438 \"/>\n",
       "<path style=\"fill:none;stroke-width:1.404947;stroke-linecap:butt;stroke-linejoin:miter;stroke:rgb(100%,0%,0%);stroke-opacity:1;stroke-miterlimit:10;\" d=\"M 307.746094 192.058594 L 303.300781 187.613281 M 307.746094 187.613281 L 303.300781 192.058594 \"/>\n",
       "<path style=\"fill:none;stroke-width:1.404947;stroke-linecap:butt;stroke-linejoin:miter;stroke:rgb(100%,0%,0%);stroke-opacity:1;stroke-dasharray:3.174747,3.174747,0.634949,0.634949,0.634949,3.174747;stroke-miterlimit:10;\" d=\"M 289.648438 189.835938 L 321.394531 189.835938 \"/>\n",
       "<path style=\" stroke:none;fill-rule:nonzero;fill:rgb(0%,0%,0%);fill-opacity:1;\" d=\"M 333.683594 179.332031 Z M 336.75 176.75 L 335.917969 176.960938 C 334.992188 177.246094 334.855469 177.730469 334.855469 178.203125 C 334.855469 178.53125 335.011719 179.023438 335.675781 179.023438 C 335.992188 179.023438 336.476562 178.71875 336.75 178.488281 Z M 336.75 176.75 Z M 337.421875 179.457031 C 337.023438 179.457031 336.800781 179.097656 336.757812 178.847656 L 336.515625 179.015625 C 336.03125 179.351562 335.851562 179.457031 335.367188 179.457031 C 334.628906 179.457031 334.09375 179.035156 334.09375 178.246094 C 334.09375 177.445312 334.777344 176.898438 335.777344 176.644531 L 336.746094 176.402344 C 336.746094 175.210938 336.199219 174.992188 335.839844 174.992188 C 335.441406 174.992188 334.976562 175.171875 334.976562 175.496094 C 334.976562 175.613281 334.996094 175.675781 335.007812 175.707031 C 335.027344 175.75 335.039062 175.824219 335.039062 175.898438 C 335.039062 176.035156 334.933594 176.246094 334.628906 176.246094 C 334.375 176.246094 334.207031 176.078125 334.207031 175.824219 C 334.207031 175.214844 335.195312 174.675781 335.871094 174.675781 C 336.640625 174.675781 337.523438 174.992188 337.523438 176.488281 L 337.523438 178.035156 C 337.523438 178.675781 337.535156 178.953125 337.777344 178.953125 C 338.007812 178.953125 338.070312 178.660156 338.082031 178.425781 L 338.34375 178.476562 C 338.28125 179.246094 337.953125 179.457031 337.417969 179.457031 Z M 338.433594 179.332031 Z M 339.371094 178.574219 L 339.371094 175.953125 C 339.371094 175.425781 339.296875 175.3125 339.140625 175.3125 C 339.003906 175.3125 338.878906 175.324219 338.699219 175.363281 L 338.648438 175.070312 C 339.3125 174.953125 339.425781 174.921875 339.742188 174.765625 C 339.847656 174.714844 339.933594 174.679688 340.003906 174.679688 L 340.160156 174.679688 L 340.128906 175.628906 L 340.160156 175.628906 C 340.433594 175.21875 340.898438 174.679688 341.390625 174.679688 C 341.824219 174.679688 341.980469 174.890625 341.980469 175.164062 C 341.980469 175.4375 341.800781 175.605469 341.527344 175.605469 C 341.316406 175.605469 341.199219 175.519531 341.09375 175.414062 C 341.03125 175.351562 340.957031 175.320312 340.882812 175.320312 C 340.765625 175.320312 340.535156 175.511719 340.28125 175.867188 C 340.207031 175.960938 340.15625 176.097656 340.15625 176.234375 L 340.15625 178.570312 C 340.15625 178.875 340.261719 179.035156 340.609375 179.035156 L 340.914062 179.035156 C 340.964844 179.035156 341.007812 179.066406 341.007812 179.121094 L 341.007812 179.320312 L 340.988281 179.339844 C 340.988281 179.339844 340.15625 179.320312 339.746094 179.320312 C 339.367188 179.320312 338.652344 179.339844 338.652344 179.339844 L 338.640625 179.320312 L 338.640625 179.121094 C 338.640625 179.070312 338.660156 179.035156 338.714844 179.035156 L 338.914062 179.035156 C 339.273438 179.035156 339.367188 178.878906 339.367188 178.570312 Z M 342.089844 179.332031 Z M 343.65625 178.753906 C 343.867188 179.007812 344.089844 179.089844 344.414062 179.089844 C 345.414062 179.089844 345.917969 178.164062 345.917969 176.960938 C 345.917969 175.886719 345.371094 175.117188 344.726562 175.117188 C 344.609375 175.117188 344.0625 175.136719 343.652344 175.570312 L 343.652344 178.75 Z M 343.65625 178.753906 Z M 342.867188 173.296875 C 342.867188 172.695312 342.761719 172.527344 342.550781 172.527344 L 342.214844 172.570312 C 342.183594 172.570312 342.164062 172.550781 342.164062 172.519531 L 342.144531 172.257812 C 342.3125 172.257812 342.691406 172.195312 342.871094 172.164062 C 343.0625 172.121094 343.21875 172.078125 343.429688 171.984375 L 343.660156 171.984375 L 343.660156 175.25 C 344.019531 174.859375 344.4375 174.671875 344.945312 174.671875 C 345.863281 174.671875 346.734375 175.546875 346.734375 176.832031 C 346.734375 178.507812 345.554688 179.453125 344.480469 179.453125 C 344.027344 179.453125 343.691406 179.328125 343.386719 179.0625 C 343.292969 179.1875 343.15625 179.347656 343.058594 179.453125 L 342.835938 179.402344 C 342.867188 179.148438 342.867188 178.980469 342.867188 178.570312 Z M 347.121094 179.332031 Z M 347.941406 173.320312 C 347.941406 173.046875 348.164062 172.816406 348.4375 172.816406 C 348.722656 172.816406 348.941406 173.046875 348.941406 173.320312 C 348.941406 173.605469 348.71875 173.824219 348.4375 173.824219 C 348.164062 173.824219 347.941406 173.601562 347.941406 173.320312 Z M 347.941406 173.320312 Z M 348.941406 178.574219 C 348.941406 178.878906 349.058594 179.039062 349.394531 179.039062 L 349.59375 179.039062 C 349.644531 179.039062 349.6875 179.070312 349.6875 179.125 L 349.6875 179.324219 L 349.667969 179.34375 C 349.667969 179.34375 348.941406 179.324219 348.53125 179.324219 C 348.164062 179.324219 347.445312 179.34375 347.445312 179.34375 L 347.425781 179.324219 L 347.425781 179.125 C 347.425781 179.074219 347.457031 179.039062 347.511719 179.039062 L 347.710938 179.039062 C 348.058594 179.039062 348.164062 178.882812 348.164062 178.574219 L 348.164062 175.953125 C 348.164062 175.394531 348.070312 175.3125 347.921875 175.3125 C 347.785156 175.3125 347.660156 175.324219 347.480469 175.363281 L 347.429688 175.070312 C 348.105469 174.953125 348.21875 174.914062 348.523438 174.765625 C 348.640625 174.722656 348.714844 174.679688 348.785156 174.679688 L 348.941406 174.679688 Z M 349.902344 179.332031 Z M 351.628906 175.214844 L 351.628906 177.910156 C 351.628906 178.5625 351.691406 178.878906 351.976562 178.878906 C 352.25 178.878906 352.460938 178.792969 352.734375 178.585938 L 352.925781 178.765625 C 352.515625 179.230469 352.09375 179.460938 351.609375 179.460938 C 351.125 179.460938 350.839844 179.167969 350.839844 178.417969 L 350.839844 175.21875 L 350.15625 175.21875 C 350.125 175.21875 350.113281 175.207031 350.113281 175.175781 L 350.113281 174.847656 C 350.113281 174.816406 350.125 174.804688 350.144531 174.804688 C 350.851562 174.804688 351.019531 174.394531 351.019531 173.59375 L 351.019531 173.394531 L 351.628906 173.183594 L 351.628906 174.804688 L 352.789062 174.804688 C 352.839844 174.804688 352.875 174.824219 352.875 174.867188 L 352.875 175.078125 C 352.875 175.171875 352.726562 175.214844 352.621094 175.214844 Z M 353.082031 179.332031 Z M 354.019531 178.574219 L 354.019531 175.953125 C 354.019531 175.425781 353.945312 175.3125 353.789062 175.3125 C 353.652344 175.3125 353.527344 175.324219 353.347656 175.363281 L 353.296875 175.070312 C 353.960938 174.953125 354.074219 174.921875 354.390625 174.765625 C 354.496094 174.714844 354.582031 174.679688 354.652344 174.679688 L 354.808594 174.679688 L 354.777344 175.628906 L 354.808594 175.628906 C 355.082031 175.21875 355.546875 174.679688 356.039062 174.679688 C 356.472656 174.679688 356.628906 174.890625 356.628906 175.164062 C 356.628906 175.4375 356.449219 175.605469 356.175781 175.605469 C 355.964844 175.605469 355.847656 175.519531 355.742188 175.414062 C 355.679688 175.351562 355.605469 175.320312 355.53125 175.320312 C 355.414062 175.320312 355.183594 175.511719 354.929688 175.867188 C 354.855469 175.960938 354.804688 176.097656 354.804688 176.234375 L 354.804688 178.570312 C 354.804688 178.875 354.910156 179.035156 355.257812 179.035156 L 355.5625 179.035156 C 355.613281 179.035156 355.65625 179.066406 355.65625 179.121094 L 355.65625 179.320312 L 355.636719 179.339844 C 355.636719 179.339844 354.804688 179.320312 354.394531 179.320312 C 354.015625 179.320312 353.300781 179.339844 353.300781 179.339844 L 353.289062 179.320312 L 353.289062 179.121094 C 353.289062 179.070312 353.308594 179.035156 353.363281 179.035156 L 353.5625 179.035156 C 353.921875 179.035156 354.015625 178.878906 354.015625 178.570312 Z M 356.734375 179.332031 Z M 359.800781 176.75 L 358.96875 176.960938 C 358.042969 177.246094 357.90625 177.730469 357.90625 178.203125 C 357.90625 178.53125 358.0625 179.023438 358.726562 179.023438 C 359.042969 179.023438 359.527344 178.71875 359.800781 178.488281 Z M 359.800781 176.75 Z M 360.472656 179.457031 C 360.074219 179.457031 359.851562 179.097656 359.808594 178.847656 L 359.566406 179.015625 C 359.082031 179.351562 358.902344 179.457031 358.417969 179.457031 C 357.679688 179.457031 357.144531 179.035156 357.144531 178.246094 C 357.144531 177.445312 357.828125 176.898438 358.828125 176.644531 L 359.796875 176.402344 C 359.796875 175.210938 359.25 174.992188 358.890625 174.992188 C 358.492188 174.992188 358.027344 175.171875 358.027344 175.496094 C 358.027344 175.613281 358.046875 175.675781 358.058594 175.707031 C 358.078125 175.75 358.089844 175.824219 358.089844 175.898438 C 358.089844 176.035156 357.984375 176.246094 357.679688 176.246094 C 357.425781 176.246094 357.257812 176.078125 357.257812 175.824219 C 357.257812 175.214844 358.246094 174.675781 358.921875 174.675781 C 359.691406 174.675781 360.574219 174.992188 360.574219 176.488281 L 360.574219 178.035156 C 360.574219 178.675781 360.585938 178.953125 360.828125 178.953125 C 361.058594 178.953125 361.121094 178.660156 361.132812 178.425781 L 361.394531 178.476562 C 361.332031 179.246094 361.003906 179.457031 360.46875 179.457031 Z M 361.484375 179.332031 Z M 362.421875 178.574219 L 362.421875 175.953125 C 362.421875 175.425781 362.347656 175.3125 362.191406 175.3125 C 362.054688 175.3125 361.929688 175.324219 361.75 175.363281 L 361.699219 175.070312 C 362.363281 174.953125 362.476562 174.921875 362.792969 174.765625 C 362.898438 174.714844 362.984375 174.679688 363.054688 174.679688 L 363.210938 174.679688 L 363.179688 175.628906 L 363.210938 175.628906 C 363.484375 175.21875 363.949219 174.679688 364.441406 174.679688 C 364.875 174.679688 365.03125 174.890625 365.03125 175.164062 C 365.03125 175.4375 364.851562 175.605469 364.578125 175.605469 C 364.367188 175.605469 364.25 175.519531 364.144531 175.414062 C 364.082031 175.351562 364.007812 175.320312 363.933594 175.320312 C 363.816406 175.320312 363.585938 175.511719 363.332031 175.867188 C 363.257812 175.960938 363.207031 176.097656 363.207031 176.234375 L 363.207031 178.570312 C 363.207031 178.875 363.3125 179.035156 363.660156 179.035156 L 363.964844 179.035156 C 364.015625 179.035156 364.058594 179.066406 364.058594 179.121094 L 364.058594 179.320312 L 364.039062 179.339844 C 364.039062 179.339844 363.207031 179.320312 362.796875 179.320312 C 362.417969 179.320312 361.703125 179.339844 361.703125 179.339844 L 361.691406 179.320312 L 361.691406 179.121094 C 361.691406 179.070312 361.710938 179.035156 361.765625 179.035156 L 361.964844 179.035156 C 362.324219 179.035156 362.417969 178.878906 362.417969 178.570312 Z M 365.136719 179.332031 Z M 367.328125 175.015625 C 367.328125 175.066406 367.265625 175.101562 367.210938 175.101562 C 366.894531 175.101562 366.757812 175.164062 366.757812 175.332031 C 366.757812 175.394531 366.777344 175.480469 366.820312 175.574219 L 367.980469 178.289062 L 369.148438 175.613281 C 369.199219 175.519531 369.222656 175.433594 369.222656 175.371094 C 369.222656 175.148438 369.011719 175.097656 368.78125 175.097656 L 368.738281 175.097656 C 368.6875 175.097656 368.632812 175.054688 368.632812 175.023438 L 368.632812 174.824219 L 368.652344 174.792969 C 368.652344 174.792969 369.273438 174.8125 369.640625 174.8125 C 369.933594 174.8125 370.367188 174.792969 370.367188 174.792969 L 370.398438 174.8125 L 370.398438 175.011719 C 370.398438 175.0625 370.355469 175.097656 370.28125 175.097656 C 369.882812 175.097656 369.679688 175.507812 369.535156 175.8125 C 368.976562 176.992188 368.515625 178.078125 367.671875 180.109375 C 367.355469 180.867188 366.976562 181.753906 366.230469 181.753906 C 366.03125 181.753906 365.621094 181.636719 365.621094 181.257812 C 365.621094 180.941406 365.851562 180.847656 366.019531 180.847656 C 366.175781 180.847656 366.28125 180.910156 366.347656 180.996094 C 366.453125 181.101562 366.527344 181.175781 366.632812 181.175781 C 366.789062 181.175781 367.160156 180.269531 367.421875 179.628906 C 367.484375 179.503906 367.507812 179.398438 367.507812 179.300781 C 367.507812 179.195312 367.414062 178.910156 367.328125 178.699219 L 366 175.613281 C 365.832031 175.214844 365.714844 175.097656 365.359375 175.097656 C 365.296875 175.097656 365.253906 175.066406 365.253906 175.023438 L 365.253906 174.8125 L 365.273438 174.792969 C 365.273438 174.792969 365.738281 174.8125 366.050781 174.8125 C 366.546875 174.8125 367.304688 174.792969 367.304688 174.792969 L 367.324219 174.824219 L 367.324219 175.015625 Z M 367.328125 175.015625 \"/>\n",
       "<path style=\"fill-rule:nonzero;fill:rgb(64.705882%,16.470588%,16.470588%);fill-opacity:0.5;stroke-width:1.404947;stroke-linecap:butt;stroke-linejoin:miter;stroke:rgb(64.705882%,16.470588%,16.470588%);stroke-opacity:1;stroke-miterlimit:10;\" d=\"M 307.109375 179.050781 L 308.089844 176.03125 L 305.519531 174.164062 L 302.949219 176.03125 L 303.929688 179.050781 Z M 307.109375 179.050781 \"/>\n",
       "<path style=\"fill:none;stroke-width:1.404947;stroke-linecap:butt;stroke-linejoin:miter;stroke:rgb(64.705882%,16.470588%,16.470588%);stroke-opacity:1;stroke-dasharray:3.174747,3.174747,0.952424,3.174747;stroke-miterlimit:10;\" d=\"M 289.648438 176.867188 L 321.394531 176.867188 \"/>\n",
       "<path style=\" stroke:none;fill-rule:nonzero;fill:rgb(0%,0%,0%);fill-opacity:1;\" d=\"M 333.707031 164.796875 Z M 337.75 163.839844 C 337.285156 164.640625 336.78125 164.925781 336.148438 164.925781 C 334.886719 164.925781 334.09375 163.96875 334.09375 162.609375 C 334.09375 161.113281 335.03125 160.144531 336.167969 160.144531 C 337.179688 160.144531 337.714844 160.660156 337.714844 161.21875 C 337.714844 161.523438 337.523438 161.683594 337.304688 161.683594 C 337.082031 161.683594 336.871094 161.566406 336.839844 161.304688 C 336.796875 160.957031 336.734375 160.503906 336.113281 160.503906 C 335.417969 160.503906 334.902344 161.242188 334.902344 162.378906 C 334.902344 163.609375 335.566406 164.464844 336.375 164.464844 C 336.828125 164.464844 337.226562 164.171875 337.554688 163.695312 Z M 337.949219 164.796875 Z M 340.140625 160.480469 C 340.140625 160.53125 340.078125 160.566406 340.023438 160.566406 C 339.707031 160.566406 339.570312 160.628906 339.570312 160.796875 C 339.570312 160.859375 339.589844 160.945312 339.632812 161.039062 L 340.792969 163.753906 L 341.960938 161.078125 C 342.011719 160.984375 342.035156 160.898438 342.035156 160.835938 C 342.035156 160.613281 341.824219 160.5625 341.59375 160.5625 L 341.550781 160.5625 C 341.5 160.5625 341.445312 160.519531 341.445312 160.488281 L 341.445312 160.289062 L 341.464844 160.257812 C 341.464844 160.257812 342.085938 160.277344 342.453125 160.277344 C 342.746094 160.277344 343.179688 160.257812 343.179688 160.257812 L 343.210938 160.277344 L 343.210938 160.476562 C 343.210938 160.527344 343.167969 160.5625 343.09375 160.5625 C 342.695312 160.5625 342.492188 160.972656 342.347656 161.277344 C 341.789062 162.457031 341.328125 163.542969 340.484375 165.574219 C 340.167969 166.332031 339.789062 167.21875 339.042969 167.21875 C 338.84375 167.21875 338.433594 167.101562 338.433594 166.722656 C 338.433594 166.40625 338.664062 166.3125 338.832031 166.3125 C 338.988281 166.3125 339.09375 166.375 339.160156 166.460938 C 339.265625 166.566406 339.339844 166.640625 339.445312 166.640625 C 339.601562 166.640625 339.972656 165.734375 340.234375 165.09375 C 340.296875 164.96875 340.320312 164.863281 340.320312 164.765625 C 340.320312 164.660156 340.226562 164.375 340.140625 164.164062 L 338.8125 161.078125 C 338.644531 160.679688 338.527344 160.5625 338.171875 160.5625 C 338.109375 160.5625 338.066406 160.53125 338.066406 160.488281 L 338.066406 160.277344 L 338.085938 160.257812 C 338.085938 160.257812 338.550781 160.277344 338.863281 160.277344 C 339.359375 160.277344 340.117188 160.257812 340.117188 160.257812 L 340.136719 160.289062 L 340.136719 160.480469 Z M 343.308594 164.796875 Z M 347.351562 163.839844 C 346.886719 164.640625 346.382812 164.925781 345.75 164.925781 C 344.488281 164.925781 343.695312 163.96875 343.695312 162.609375 C 343.695312 161.113281 344.632812 160.144531 345.769531 160.144531 C 346.78125 160.144531 347.316406 160.660156 347.316406 161.21875 C 347.316406 161.523438 347.125 161.683594 346.90625 161.683594 C 346.683594 161.683594 346.472656 161.566406 346.441406 161.304688 C 346.398438 160.957031 346.335938 160.503906 345.714844 160.503906 C 345.019531 160.503906 344.503906 161.242188 344.503906 162.378906 C 344.503906 163.609375 345.167969 164.464844 345.976562 164.464844 C 346.429688 164.464844 346.828125 164.171875 347.15625 163.695312 Z M 347.554688 164.796875 Z M 348.554688 164.039062 L 348.554688 158.761719 C 348.554688 158.160156 348.449219 157.992188 348.238281 157.992188 L 347.902344 158.035156 C 347.871094 158.035156 347.839844 158.015625 347.839844 157.984375 L 347.820312 157.722656 C 347.988281 157.722656 348.378906 157.660156 348.558594 157.628906 C 348.75 157.585938 348.894531 157.542969 349.105469 157.449219 L 349.335938 157.449219 L 349.335938 164.039062 C 349.335938 164.34375 349.453125 164.503906 349.789062 164.503906 L 350.042969 164.503906 C 350.085938 164.503906 350.128906 164.535156 350.128906 164.589844 L 350.128906 164.789062 L 350.109375 164.808594 C 350.109375 164.808594 349.339844 164.789062 348.929688 164.789062 C 348.5625 164.789062 347.792969 164.808594 347.792969 164.808594 L 347.78125 164.789062 L 347.78125 164.589844 C 347.78125 164.539062 347.800781 164.503906 347.855469 164.503906 L 348.109375 164.503906 C 348.457031 164.503906 348.5625 164.347656 348.5625 164.039062 Z M 350.289062 164.796875 Z M 351.492188 161.878906 L 353.429688 161.878906 C 353.535156 161.878906 353.578125 161.828125 353.578125 161.730469 C 353.578125 160.75 353.082031 160.5 352.703125 160.5 C 352.460938 160.5 351.671875 160.59375 351.492188 161.878906 Z M 351.492188 161.878906 Z M 354.269531 163.816406 L 354.480469 163.984375 C 354.082031 164.53125 353.460938 164.921875 352.699219 164.921875 C 351.257812 164.921875 350.644531 163.847656 350.644531 162.699219 C 350.644531 161.097656 351.699219 160.140625 352.699219 160.140625 C 354.089844 160.140625 354.414062 161.226562 354.414062 162.109375 C 354.414062 162.226562 354.339844 162.289062 354.222656 162.289062 L 351.453125 162.289062 C 351.441406 162.351562 351.441406 162.414062 351.441406 162.5 C 351.441406 163.574219 352.1875 164.40625 352.945312 164.40625 C 353.523438 164.40625 353.894531 164.214844 354.261719 163.816406 Z M 354.269531 163.816406 \"/>\n",
       "<path style=\"fill-rule:nonzero;fill:rgb(0%,0%,100%);fill-opacity:0.5;stroke-width:1.404947;stroke-linecap:butt;stroke-linejoin:miter;stroke:rgb(0%,0%,100%);stroke-opacity:1;stroke-miterlimit:10;\" d=\"M 307.109375 163.25 L 305.523438 160.5 L 303.9375 163.25 Z M 307.109375 163.25 \"/>\n",
       "<path style=\"fill:none;stroke-width:1.404947;stroke-linecap:butt;stroke-linejoin:miter;stroke:rgb(0%,0%,100%);stroke-opacity:1;stroke-dasharray:0.634949,0.634949;stroke-miterlimit:10;\" d=\"M 289.648438 162.332031 L 321.394531 162.332031 \"/>\n",
       "<path style=\" stroke:none;fill-rule:nonzero;fill:rgb(0%,0%,0%);fill-opacity:1;\" d=\"M 333.738281 152.558594 Z M 337.253906 151.621094 L 337.253906 148.894531 C 337 148.496094 336.71875 148.273438 336.222656 148.273438 C 336.011719 148.273438 335.582031 148.304688 335.242188 148.800781 C 335.09375 149.023438 334.914062 149.476562 334.914062 150.234375 C 334.914062 151.613281 335.628906 152.246094 336.199219 152.246094 C 336.546875 152.246094 336.832031 152.035156 337.253906 151.625 Z M 337.253906 151.621094 Z M 338.042969 145.210938 L 338.042969 151.296875 C 338.042969 151.613281 338.0625 151.78125 338.085938 151.855469 C 338.117188 151.949219 338.234375 152.011719 338.316406 152.011719 C 338.441406 152.011719 338.675781 152.011719 338.832031 151.980469 L 338.875 152.273438 C 338.265625 152.378906 337.714844 152.496094 337.496094 152.683594 L 337.242188 152.683594 L 337.273438 151.957031 C 336.875 152.367188 336.460938 152.683594 335.925781 152.683594 C 334.789062 152.683594 334.09375 151.714844 334.09375 150.417969 C 334.09375 149.640625 334.304688 148.984375 334.757812 148.53125 C 335.179688 148.132812 335.640625 147.898438 336.335938 147.898438 C 336.546875 147.898438 337.011719 147.992188 337.253906 148.128906 L 337.253906 146.519531 C 337.253906 145.917969 337.160156 145.75 336.949219 145.75 L 336.601562 145.792969 C 336.582031 145.792969 336.550781 145.773438 336.550781 145.742188 L 336.53125 145.480469 C 336.699219 145.480469 337.078125 145.417969 337.257812 145.386719 C 337.457031 145.34375 337.605469 145.300781 337.816406 145.207031 L 338.046875 145.207031 Z M 338.941406 152.558594 Z M 339.296875 150.398438 C 339.296875 148.957031 340.074219 147.902344 341.476562 147.902344 C 343.035156 147.902344 343.636719 149.207031 343.636719 150.304688 C 343.636719 151.359375 342.953125 152.683594 341.457031 152.683594 C 340.046875 152.683594 339.296875 151.472656 339.296875 150.398438 Z M 339.296875 150.398438 Z M 341.363281 148.253906 C 340.519531 148.253906 340.132812 149.242188 340.132812 150.160156 C 340.132812 150.972656 340.597656 152.320312 341.636719 152.320312 C 342.109375 152.320312 342.804688 152.035156 342.804688 150.644531 C 342.804688 149.097656 342.226562 148.253906 341.363281 148.253906 Z M 343.984375 152.558594 Z M 346.109375 148.242188 C 346.109375 148.292969 346.066406 148.328125 346.015625 148.328125 L 345.859375 148.328125 C 345.628906 148.328125 345.554688 148.390625 345.554688 148.496094 C 345.554688 148.570312 345.597656 148.664062 345.648438 148.8125 L 346.753906 151.59375 L 347.671875 149.308594 L 347.480469 148.835938 C 347.34375 148.476562 347.121094 148.332031 346.804688 148.332031 C 346.753906 148.332031 346.699219 148.3125 346.699219 148.257812 L 346.699219 148.046875 L 346.71875 148.027344 C 346.71875 148.027344 347.308594 148.046875 347.675781 148.046875 L 348.730469 148.027344 L 348.761719 148.046875 L 348.761719 148.246094 C 348.761719 148.296875 348.710938 148.332031 348.65625 148.332031 L 348.464844 148.332031 C 348.253906 148.332031 348.160156 148.375 348.160156 148.480469 C 348.160156 148.566406 348.203125 148.671875 348.265625 148.816406 L 349.359375 151.597656 L 350.453125 148.871094 C 350.484375 148.808594 350.503906 148.722656 350.503906 148.640625 C 350.503906 148.460938 350.386719 148.335938 350.03125 148.335938 L 349.875 148.335938 C 349.824219 148.335938 349.78125 148.292969 349.78125 148.261719 L 349.78125 148.050781 L 349.8125 148.03125 C 349.8125 148.03125 350.507812 148.050781 350.898438 148.050781 C 351.257812 148.050781 351.675781 148.03125 351.675781 148.03125 L 351.6875 148.050781 L 351.6875 148.25 C 351.6875 148.3125 351.625 148.335938 351.5625 148.335938 C 351.300781 148.335938 351.027344 148.453125 350.835938 148.914062 L 349.402344 152.472656 C 349.339844 152.628906 349.253906 152.695312 349.160156 152.695312 C 349.054688 152.695312 348.96875 152.632812 348.90625 152.484375 L 347.851562 149.851562 L 346.796875 152.464844 C 346.722656 152.632812 346.640625 152.695312 346.542969 152.695312 C 346.4375 152.695312 346.351562 152.632812 346.289062 152.484375 L 344.847656 148.839844 C 344.691406 148.429688 344.5 148.335938 344.183594 148.335938 C 344.132812 148.335938 344.058594 148.316406 344.058594 148.261719 L 344.058594 148.050781 L 344.078125 148.03125 C 344.078125 148.03125 344.574219 148.050781 345.035156 148.050781 C 345.519531 148.050781 346.078125 148.03125 346.078125 148.03125 L 346.097656 148.0625 L 346.097656 148.253906 Z M 351.816406 152.558594 Z M 355.652344 151.800781 L 355.652344 149.496094 C 355.652344 148.757812 355.527344 148.410156 354.96875 148.410156 C 354.503906 148.410156 354.105469 148.589844 353.566406 149.222656 L 353.566406 151.800781 C 353.566406 152.105469 353.671875 152.265625 354.019531 152.265625 L 354.167969 152.265625 C 354.21875 152.265625 354.253906 152.296875 354.253906 152.351562 L 354.253906 152.550781 L 354.234375 152.570312 C 354.234375 152.570312 353.570312 152.550781 353.160156 152.550781 C 352.78125 152.550781 352.066406 152.570312 352.066406 152.570312 L 352.046875 152.550781 L 352.046875 152.351562 C 352.046875 152.300781 352.078125 152.265625 352.132812 152.265625 L 352.332031 152.265625 C 352.691406 152.265625 352.785156 152.109375 352.785156 151.800781 L 352.785156 149.179688 C 352.785156 148.609375 352.699219 148.539062 352.554688 148.539062 C 352.417969 148.539062 352.292969 148.550781 352.113281 148.589844 L 352.0625 148.296875 C 352.503906 148.222656 352.820312 148.171875 353.148438 147.992188 C 353.265625 147.941406 353.347656 147.90625 353.421875 147.90625 L 353.578125 147.90625 L 353.546875 148.84375 L 353.578125 148.84375 C 354.253906 148.054688 354.757812 147.90625 355.292969 147.90625 C 356.242188 147.90625 356.441406 148.632812 356.441406 149.570312 L 356.441406 151.800781 C 356.441406 152.105469 356.558594 152.265625 356.894531 152.265625 L 357.09375 152.265625 C 357.144531 152.265625 357.1875 152.296875 357.1875 152.351562 L 357.1875 152.550781 L 357.167969 152.570312 C 357.167969 152.570312 356.441406 152.550781 356.03125 152.550781 C 355.664062 152.550781 355 152.570312 355 152.570312 L 354.980469 152.550781 L 354.980469 152.351562 C 354.980469 152.300781 355.011719 152.265625 355.066406 152.265625 L 355.214844 152.265625 C 355.5625 152.265625 355.667969 152.109375 355.667969 151.800781 Z M 357.292969 152.558594 Z M 359.421875 148.242188 C 359.421875 148.292969 359.378906 148.328125 359.328125 148.328125 L 359.171875 148.328125 C 358.941406 148.328125 358.867188 148.390625 358.867188 148.496094 C 358.867188 148.570312 358.910156 148.664062 358.960938 148.8125 L 360.066406 151.59375 L 360.984375 149.308594 L 360.792969 148.835938 C 360.65625 148.476562 360.433594 148.332031 360.117188 148.332031 C 360.066406 148.332031 360.011719 148.3125 360.011719 148.257812 L 360.011719 148.046875 L 360.03125 148.027344 C 360.03125 148.027344 360.621094 148.046875 360.988281 148.046875 L 362.042969 148.027344 L 362.074219 148.046875 L 362.074219 148.246094 C 362.074219 148.296875 362.023438 148.332031 361.96875 148.332031 L 361.777344 148.332031 C 361.566406 148.332031 361.472656 148.375 361.472656 148.480469 C 361.472656 148.566406 361.515625 148.671875 361.578125 148.816406 L 362.671875 151.597656 L 363.765625 148.871094 C 363.796875 148.808594 363.816406 148.722656 363.816406 148.640625 C 363.816406 148.460938 363.699219 148.335938 363.34375 148.335938 L 363.1875 148.335938 C 363.136719 148.335938 363.09375 148.292969 363.09375 148.261719 L 363.09375 148.050781 L 363.125 148.03125 C 363.125 148.03125 363.820312 148.050781 364.210938 148.050781 C 364.570312 148.050781 364.988281 148.03125 364.988281 148.03125 L 365 148.050781 L 365 148.25 C 365 148.3125 364.9375 148.335938 364.875 148.335938 C 364.613281 148.335938 364.339844 148.453125 364.148438 148.914062 L 362.714844 152.472656 C 362.652344 152.628906 362.566406 152.695312 362.472656 152.695312 C 362.367188 152.695312 362.28125 152.632812 362.21875 152.484375 L 361.164062 149.851562 L 360.109375 152.464844 C 360.035156 152.632812 359.953125 152.695312 359.855469 152.695312 C 359.75 152.695312 359.664062 152.632812 359.601562 152.484375 L 358.160156 148.839844 C 358.003906 148.429688 357.8125 148.335938 357.496094 148.335938 C 357.445312 148.335938 357.371094 148.316406 357.371094 148.261719 L 357.371094 148.050781 L 357.390625 148.03125 C 357.390625 148.03125 357.886719 148.050781 358.347656 148.050781 C 358.832031 148.050781 359.390625 148.03125 359.390625 148.03125 L 359.410156 148.0625 L 359.410156 148.253906 Z M 365.128906 152.558594 Z M 368.191406 149.980469 L 367.359375 150.191406 C 366.433594 150.476562 366.296875 150.960938 366.296875 151.433594 C 366.296875 151.761719 366.453125 152.253906 367.117188 152.253906 C 367.433594 152.253906 367.917969 151.949219 368.191406 151.71875 Z M 368.191406 149.980469 Z M 368.867188 152.683594 C 368.46875 152.683594 368.246094 152.324219 368.203125 152.074219 L 367.960938 152.242188 C 367.476562 152.578125 367.296875 152.683594 366.8125 152.683594 C 366.074219 152.683594 365.539062 152.261719 365.539062 151.472656 C 365.539062 150.671875 366.222656 150.125 367.222656 149.871094 L 368.191406 149.628906 C 368.191406 148.4375 367.644531 148.21875 367.285156 148.21875 C 366.886719 148.21875 366.421875 148.398438 366.421875 148.722656 C 366.421875 148.839844 366.441406 148.902344 366.453125 148.933594 C 366.472656 148.976562 366.484375 149.050781 366.484375 149.125 C 366.484375 149.261719 366.378906 149.472656 366.074219 149.472656 C 365.820312 149.472656 365.652344 149.304688 365.652344 149.050781 C 365.652344 148.441406 366.640625 147.902344 367.316406 147.902344 C 368.085938 147.902344 368.96875 148.21875 368.96875 149.714844 L 368.96875 151.261719 C 368.96875 151.902344 368.980469 152.179688 369.222656 152.179688 C 369.453125 152.179688 369.515625 151.886719 369.527344 151.652344 L 369.789062 151.703125 C 369.726562 152.472656 369.398438 152.683594 368.863281 152.683594 Z M 369.875 152.558594 Z M 370.8125 151.800781 L 370.8125 149.179688 C 370.8125 148.652344 370.738281 148.539062 370.582031 148.539062 C 370.445312 148.539062 370.320312 148.550781 370.140625 148.589844 L 370.089844 148.296875 C 370.753906 148.179688 370.867188 148.148438 371.183594 147.992188 C 371.289062 147.941406 371.375 147.90625 371.445312 147.90625 L 371.601562 147.90625 L 371.570312 148.855469 L 371.601562 148.855469 C 371.875 148.445312 372.339844 147.90625 372.832031 147.90625 C 373.265625 147.90625 373.421875 148.117188 373.421875 148.390625 C 373.421875 148.664062 373.242188 148.832031 372.96875 148.832031 C 372.757812 148.832031 372.640625 148.746094 372.535156 148.640625 C 372.472656 148.578125 372.398438 148.546875 372.324219 148.546875 C 372.207031 148.546875 371.976562 148.738281 371.722656 149.09375 C 371.648438 149.1875 371.597656 149.324219 371.597656 149.460938 L 371.597656 151.796875 C 371.597656 152.101562 371.703125 152.261719 372.050781 152.261719 L 372.355469 152.261719 C 372.40625 152.261719 372.449219 152.292969 372.449219 152.347656 L 372.449219 152.546875 L 372.429688 152.566406 C 372.429688 152.566406 371.597656 152.546875 371.1875 152.546875 C 370.808594 152.546875 370.09375 152.566406 370.09375 152.566406 L 370.082031 152.546875 L 370.082031 152.347656 C 370.082031 152.296875 370.101562 152.261719 370.15625 152.261719 L 370.355469 152.261719 C 370.714844 152.261719 370.808594 152.105469 370.808594 151.796875 Z M 373.53125 152.558594 Z M 377.046875 151.621094 L 377.046875 148.894531 C 376.792969 148.496094 376.511719 148.273438 376.015625 148.273438 C 375.804688 148.273438 375.375 148.304688 375.035156 148.800781 C 374.886719 149.023438 374.707031 149.476562 374.707031 150.234375 C 374.707031 151.613281 375.421875 152.246094 375.992188 152.246094 C 376.339844 152.246094 376.625 152.035156 377.046875 151.625 Z M 377.046875 151.621094 Z M 377.835938 145.210938 L 377.835938 151.296875 C 377.835938 151.613281 377.855469 151.78125 377.878906 151.855469 C 377.910156 151.949219 378.027344 152.011719 378.109375 152.011719 C 378.234375 152.011719 378.46875 152.011719 378.625 151.980469 L 378.667969 152.273438 C 378.058594 152.378906 377.507812 152.496094 377.289062 152.683594 L 377.035156 152.683594 L 377.066406 151.957031 C 376.667969 152.367188 376.253906 152.683594 375.71875 152.683594 C 374.582031 152.683594 373.886719 151.714844 373.886719 150.417969 C 373.886719 149.640625 374.097656 148.984375 374.550781 148.53125 C 374.972656 148.132812 375.433594 147.898438 376.128906 147.898438 C 376.339844 147.898438 376.804688 147.992188 377.046875 148.128906 L 377.046875 146.519531 C 377.046875 145.917969 376.953125 145.75 376.742188 145.75 L 376.394531 145.792969 C 376.375 145.792969 376.34375 145.773438 376.34375 145.742188 L 376.324219 145.480469 C 376.492188 145.480469 376.871094 145.417969 377.050781 145.386719 C 377.25 145.34375 377.398438 145.300781 377.609375 145.207031 L 377.839844 145.207031 Z M 377.835938 145.210938 \"/>\n",
       "<path style=\"fill-rule:nonzero;fill:rgb(0%,50.196078%,0%);fill-opacity:0.5;stroke-width:1.404947;stroke-linecap:butt;stroke-linejoin:miter;stroke:rgb(0%,50.196078%,0%);stroke-opacity:1;stroke-miterlimit:10;\" d=\"M 307.109375 150.535156 L 307.109375 147.359375 L 303.933594 147.359375 L 303.933594 150.535156 Z M 307.109375 150.535156 \"/>\n",
       "<path style=\"fill:none;stroke-width:1.404947;stroke-linecap:butt;stroke-linejoin:miter;stroke:rgb(0%,50.196078%,0%);stroke-opacity:1;stroke-dasharray:3.174747,3.174747;stroke-miterlimit:10;\" d=\"M 289.648438 148.945312 L 321.394531 148.945312 \"/>\n",
       "<path style=\" stroke:none;fill-rule:nonzero;fill:rgb(0%,0%,0%);fill-opacity:1;\" d=\"M 333.84375 138.015625 Z M 338.359375 136.792969 C 338.359375 137.320312 338.410156 137.488281 338.621094 137.488281 C 338.746094 137.488281 338.980469 137.46875 339.15625 137.4375 L 339.199219 137.730469 C 338.558594 137.847656 338.039062 137.953125 337.796875 138.140625 L 337.566406 138.140625 L 337.597656 137.363281 L 337.566406 137.363281 C 336.988281 137.996094 336.511719 138.140625 336.082031 138.140625 C 335.039062 138.140625 334.765625 137.433594 334.765625 136.707031 L 334.765625 134.304688 C 334.765625 133.957031 334.691406 133.777344 334.300781 133.777344 C 334.257812 133.777344 334.183594 133.789062 334.121094 133.789062 L 334.089844 133.777344 L 334.089844 133.503906 L 334.121094 133.472656 C 334.121094 133.472656 334.835938 133.492188 335.175781 133.492188 C 335.324219 133.492188 335.566406 133.472656 335.566406 133.472656 L 335.554688 134.316406 L 335.554688 136.558594 C 335.554688 137.496094 336.039062 137.664062 336.355469 137.664062 C 336.597656 137.664062 336.820312 137.570312 337.039062 137.410156 C 337.292969 137.21875 337.460938 137.074219 337.566406 136.9375 L 337.566406 134.335938 C 337.566406 133.957031 337.515625 133.777344 337.125 133.777344 C 337.0625 133.777344 336.945312 133.789062 336.914062 133.789062 L 336.894531 133.769531 L 336.894531 133.507812 L 336.914062 133.476562 C 336.914062 133.476562 337.660156 133.496094 337.957031 133.496094 C 338.199219 133.496094 338.367188 133.476562 338.367188 133.476562 L 338.355469 134.308594 L 338.355469 136.792969 Z M 339.289062 138.015625 Z M 340.855469 134.707031 L 340.855469 137.328125 C 341.222656 137.761719 341.570312 137.78125 341.738281 137.78125 C 342.863281 137.78125 343.117188 136.726562 343.117188 135.824219 C 343.117188 134.550781 342.601562 133.84375 341.957031 133.84375 C 341.597656 133.84375 341.082031 134.148438 340.851562 134.707031 Z M 340.855469 134.707031 Z M 340.078125 139.679688 L 340.078125 134.46875 C 340.078125 134.070312 339.984375 133.996094 339.835938 133.996094 C 339.699219 133.996094 339.574219 134.007812 339.394531 134.046875 L 339.34375 133.753906 C 340.019531 133.636719 340.144531 133.597656 340.4375 133.449219 C 340.554688 133.398438 340.628906 133.363281 340.699219 133.363281 L 340.855469 133.363281 L 340.824219 134.207031 L 340.855469 134.207031 C 341.339844 133.46875 341.910156 133.363281 342.246094 133.363281 C 343.265625 133.363281 343.941406 134.425781 343.941406 135.542969 C 343.941406 136.394531 343.679688 137.046875 343.203125 137.53125 C 342.792969 137.941406 342.359375 138.140625 341.800781 138.140625 C 341.421875 138.140625 341.125 138.054688 340.851562 137.910156 L 340.851562 139.679688 C 340.851562 139.984375 340.96875 140.144531 341.304688 140.144531 L 341.503906 140.144531 C 341.554688 140.144531 341.597656 140.175781 341.597656 140.230469 L 341.597656 140.429688 L 341.578125 140.449219 C 341.578125 140.449219 340.851562 140.429688 340.441406 140.429688 C 340.074219 140.429688 339.355469 140.449219 339.355469 140.449219 L 339.335938 140.429688 L 339.335938 140.230469 C 339.335938 140.179688 339.367188 140.144531 339.421875 140.144531 L 339.621094 140.144531 C 339.96875 140.144531 340.074219 139.988281 340.074219 139.679688 Z M 344.332031 138.015625 Z M 346.457031 133.699219 C 346.457031 133.75 346.414062 133.785156 346.363281 133.785156 L 346.207031 133.785156 C 345.976562 133.785156 345.902344 133.847656 345.902344 133.953125 C 345.902344 134.027344 345.945312 134.121094 345.996094 134.269531 L 347.101562 137.050781 L 348.019531 134.765625 L 347.828125 134.292969 C 347.691406 133.933594 347.46875 133.789062 347.152344 133.789062 C 347.101562 133.789062 347.046875 133.769531 347.046875 133.714844 L 347.046875 133.503906 L 347.066406 133.484375 C 347.066406 133.484375 347.65625 133.503906 348.023438 133.503906 L 349.078125 133.484375 L 349.109375 133.503906 L 349.109375 133.703125 C 349.109375 133.753906 349.058594 133.789062 349.003906 133.789062 L 348.8125 133.789062 C 348.601562 133.789062 348.507812 133.832031 348.507812 133.9375 C 348.507812 134.023438 348.550781 134.128906 348.613281 134.273438 L 349.707031 137.054688 L 350.800781 134.328125 C 350.832031 134.265625 350.851562 134.179688 350.851562 134.097656 C 350.851562 133.917969 350.734375 133.792969 350.378906 133.792969 L 350.222656 133.792969 C 350.171875 133.792969 350.128906 133.75 350.128906 133.71875 L 350.128906 133.507812 L 350.160156 133.488281 C 350.160156 133.488281 350.855469 133.507812 351.246094 133.507812 C 351.605469 133.507812 352.023438 133.488281 352.023438 133.488281 L 352.035156 133.507812 L 352.035156 133.707031 C 352.035156 133.769531 351.972656 133.792969 351.910156 133.792969 C 351.648438 133.792969 351.375 133.910156 351.183594 134.371094 L 349.75 137.929688 C 349.6875 138.085938 349.601562 138.152344 349.507812 138.152344 C 349.402344 138.152344 349.316406 138.089844 349.253906 137.941406 L 348.199219 135.308594 L 347.144531 137.921875 C 347.070312 138.089844 346.988281 138.152344 346.890625 138.152344 C 346.785156 138.152344 346.699219 138.089844 346.636719 137.941406 L 345.195312 134.296875 C 345.039062 133.886719 344.847656 133.792969 344.53125 133.792969 C 344.480469 133.792969 344.40625 133.773438 344.40625 133.71875 L 344.40625 133.507812 L 344.425781 133.488281 C 344.425781 133.488281 344.921875 133.507812 345.382812 133.507812 C 345.867188 133.507812 346.425781 133.488281 346.425781 133.488281 L 346.445312 133.519531 L 346.445312 133.710938 Z M 352.164062 138.015625 Z M 355.230469 135.433594 L 354.398438 135.644531 C 353.472656 135.929688 353.335938 136.414062 353.335938 136.886719 C 353.335938 137.214844 353.492188 137.707031 354.15625 137.707031 C 354.472656 137.707031 354.957031 137.402344 355.230469 137.171875 Z M 355.230469 135.433594 Z M 355.902344 138.140625 C 355.503906 138.140625 355.28125 137.78125 355.238281 137.53125 L 354.996094 137.699219 C 354.511719 138.035156 354.332031 138.140625 353.847656 138.140625 C 353.109375 138.140625 352.574219 137.71875 352.574219 136.929688 C 352.574219 136.128906 353.257812 135.582031 354.257812 135.328125 L 355.226562 135.085938 C 355.226562 133.894531 354.679688 133.675781 354.320312 133.675781 C 353.921875 133.675781 353.457031 133.855469 353.457031 134.179688 C 353.457031 134.296875 353.476562 134.359375 353.488281 134.390625 C 353.507812 134.433594 353.519531 134.507812 353.519531 134.582031 C 353.519531 134.71875 353.414062 134.929688 353.109375 134.929688 C 352.855469 134.929688 352.6875 134.761719 352.6875 134.507812 C 352.6875 133.898438 353.675781 133.359375 354.351562 133.359375 C 355.121094 133.359375 356.003906 133.675781 356.003906 135.171875 L 356.003906 136.71875 C 356.003906 137.359375 356.015625 137.636719 356.257812 137.636719 C 356.488281 137.636719 356.550781 137.34375 356.5625 137.109375 L 356.824219 137.160156 C 356.761719 137.929688 356.433594 138.140625 355.898438 138.140625 Z M 356.914062 138.015625 Z M 357.851562 137.257812 L 357.851562 134.636719 C 357.851562 134.109375 357.777344 133.996094 357.621094 133.996094 C 357.484375 133.996094 357.359375 134.007812 357.179688 134.046875 L 357.128906 133.753906 C 357.792969 133.636719 357.90625 133.605469 358.222656 133.449219 C 358.328125 133.398438 358.414062 133.363281 358.484375 133.363281 L 358.640625 133.363281 L 358.609375 134.3125 L 358.640625 134.3125 C 358.914062 133.902344 359.378906 133.363281 359.871094 133.363281 C 360.304688 133.363281 360.460938 133.574219 360.460938 133.847656 C 360.460938 134.121094 360.28125 134.289062 360.007812 134.289062 C 359.796875 134.289062 359.679688 134.203125 359.574219 134.097656 C 359.511719 134.035156 359.4375 134.003906 359.363281 134.003906 C 359.246094 134.003906 359.015625 134.195312 358.761719 134.550781 C 358.6875 134.644531 358.636719 134.78125 358.636719 134.917969 L 358.636719 137.253906 C 358.636719 137.558594 358.742188 137.71875 359.089844 137.71875 L 359.394531 137.71875 C 359.445312 137.71875 359.488281 137.75 359.488281 137.804688 L 359.488281 138.003906 L 359.46875 138.023438 C 359.46875 138.023438 358.636719 138.003906 358.226562 138.003906 C 357.847656 138.003906 357.132812 138.023438 357.132812 138.023438 L 357.121094 138.003906 L 357.121094 137.804688 C 357.121094 137.753906 357.140625 137.71875 357.195312 137.71875 L 357.394531 137.71875 C 357.753906 137.71875 357.847656 137.5625 357.847656 137.253906 Z M 360.566406 138.015625 Z M 364.085938 137.078125 L 364.085938 134.351562 C 363.832031 133.953125 363.550781 133.730469 363.054688 133.730469 C 362.84375 133.730469 362.414062 133.761719 362.074219 134.257812 C 361.925781 134.480469 361.746094 134.933594 361.746094 135.691406 C 361.746094 137.070312 362.460938 137.703125 363.03125 137.703125 C 363.378906 137.703125 363.664062 137.492188 364.085938 137.082031 Z M 364.085938 137.078125 Z M 364.875 130.664062 L 364.875 136.75 C 364.875 137.066406 364.894531 137.234375 364.917969 137.308594 C 364.949219 137.402344 365.066406 137.464844 365.148438 137.464844 C 365.273438 137.464844 365.507812 137.464844 365.664062 137.433594 L 365.707031 137.726562 C 365.097656 137.832031 364.546875 137.949219 364.328125 138.136719 L 364.074219 138.136719 L 364.105469 137.410156 C 363.707031 137.820312 363.292969 138.136719 362.757812 138.136719 C 361.621094 138.136719 360.925781 137.167969 360.925781 135.871094 C 360.925781 135.09375 361.136719 134.4375 361.589844 133.984375 C 362.011719 133.585938 362.472656 133.351562 363.167969 133.351562 C 363.378906 133.351562 363.84375 133.445312 364.085938 133.582031 L 364.085938 131.972656 C 364.085938 131.371094 363.992188 131.203125 363.78125 131.203125 L 363.433594 131.246094 C 363.414062 131.246094 363.382812 131.226562 363.382812 131.195312 L 363.363281 130.933594 C 363.53125 130.933594 363.910156 130.871094 364.089844 130.839844 C 364.289062 130.796875 364.4375 130.753906 364.648438 130.660156 L 364.878906 130.660156 Z M 364.875 130.664062 \"/>\n",
       "<path style=\"fill-rule:nonzero;fill:rgb(100%,0%,0%);fill-opacity:0.5;stroke-width:1.404947;stroke-linecap:butt;stroke-linejoin:miter;stroke:rgb(100%,0%,0%);stroke-opacity:1;stroke-miterlimit:10;\" d=\"M 307.746094 135.554688 C 307.746094 134.328125 306.75 133.332031 305.523438 133.332031 C 304.296875 133.332031 303.300781 134.328125 303.300781 135.554688 C 303.300781 136.78125 304.296875 137.777344 305.523438 137.777344 C 306.75 137.777344 307.746094 136.78125 307.746094 135.554688 Z M 307.746094 135.554688 \"/>\n",
       "<path style=\"fill:none;stroke-width:1.404947;stroke-linecap:butt;stroke-linejoin:miter;stroke:rgb(100%,0%,0%);stroke-opacity:1;stroke-miterlimit:10;\" d=\"M 289.648438 135.554688 L 321.394531 135.554688 \"/>\n",
       "<path style=\"fill:none;stroke-width:1.404947;stroke-linecap:butt;stroke-linejoin:miter;stroke:rgb(0%,0%,0%);stroke-opacity:1;stroke-miterlimit:10;\" d=\"M 31.746094 268.265625 L 31.746094 46.035156 L 253.976562 46.035156 L 253.976562 268.265625 Z M 31.746094 268.265625 \"/>\n",
       "<path style=\"fill:none;stroke-width:1.404947;stroke-linecap:butt;stroke-linejoin:miter;stroke:rgb(50.196078%,50.196078%,50.196078%);stroke-opacity:1;stroke-dasharray:3.174747,3.174747;stroke-miterlimit:10;\" d=\"M 31.746094 46.035156 L 253.976562 46.035156 \"/>\n",
       "<path style=\"fill:none;stroke-width:1.404947;stroke-linecap:butt;stroke-linejoin:miter;stroke:rgb(50.196078%,50.196078%,50.196078%);stroke-opacity:1;stroke-dasharray:3.174747,3.174747;stroke-miterlimit:10;\" d=\"M 31.746094 90.480469 L 253.976562 90.480469 \"/>\n",
       "<path style=\"fill:none;stroke-width:1.404947;stroke-linecap:butt;stroke-linejoin:miter;stroke:rgb(50.196078%,50.196078%,50.196078%);stroke-opacity:1;stroke-dasharray:3.174747,3.174747;stroke-miterlimit:10;\" d=\"M 31.746094 134.925781 L 253.976562 134.925781 \"/>\n",
       "<path style=\"fill:none;stroke-width:1.404947;stroke-linecap:butt;stroke-linejoin:miter;stroke:rgb(50.196078%,50.196078%,50.196078%);stroke-opacity:1;stroke-dasharray:3.174747,3.174747;stroke-miterlimit:10;\" d=\"M 31.746094 179.375 L 253.976562 179.375 \"/>\n",
       "<path style=\"fill:none;stroke-width:1.404947;stroke-linecap:butt;stroke-linejoin:miter;stroke:rgb(50.196078%,50.196078%,50.196078%);stroke-opacity:1;stroke-dasharray:3.174747,3.174747;stroke-miterlimit:10;\" d=\"M 31.746094 223.820312 L 253.976562 223.820312 \"/>\n",
       "<path style=\"fill:none;stroke-width:1.404947;stroke-linecap:butt;stroke-linejoin:miter;stroke:rgb(50.196078%,50.196078%,50.196078%);stroke-opacity:1;stroke-dasharray:3.174747,3.174747;stroke-miterlimit:10;\" d=\"M 31.746094 268.265625 L 253.976562 268.265625 \"/>\n",
       "<path style=\"fill:none;stroke-width:1.404947;stroke-linecap:butt;stroke-linejoin:miter;stroke:rgb(0%,0%,0%);stroke-opacity:1;stroke-miterlimit:10;\" d=\"M 253.980469 46.035156 L 250.804688 46.035156 \"/>\n",
       "<path style=\"fill:none;stroke-width:1.404947;stroke-linecap:butt;stroke-linejoin:miter;stroke:rgb(0%,0%,0%);stroke-opacity:1;stroke-miterlimit:10;\" d=\"M 253.980469 90.480469 L 250.804688 90.480469 \"/>\n",
       "<path style=\"fill:none;stroke-width:1.404947;stroke-linecap:butt;stroke-linejoin:miter;stroke:rgb(0%,0%,0%);stroke-opacity:1;stroke-miterlimit:10;\" d=\"M 253.980469 134.925781 L 250.804688 134.925781 \"/>\n",
       "<path style=\"fill:none;stroke-width:1.404947;stroke-linecap:butt;stroke-linejoin:miter;stroke:rgb(0%,0%,0%);stroke-opacity:1;stroke-miterlimit:10;\" d=\"M 253.980469 179.375 L 250.804688 179.375 \"/>\n",
       "<path style=\"fill:none;stroke-width:1.404947;stroke-linecap:butt;stroke-linejoin:miter;stroke:rgb(0%,0%,0%);stroke-opacity:1;stroke-miterlimit:10;\" d=\"M 253.980469 223.820312 L 250.804688 223.820312 \"/>\n",
       "<path style=\"fill:none;stroke-width:1.404947;stroke-linecap:butt;stroke-linejoin:miter;stroke:rgb(0%,0%,0%);stroke-opacity:1;stroke-miterlimit:10;\" d=\"M 253.980469 268.265625 L 250.804688 268.265625 \"/>\n",
       "<path style=\"fill:none;stroke-width:1.404947;stroke-linecap:butt;stroke-linejoin:miter;stroke:rgb(0%,0%,0%);stroke-opacity:1;stroke-miterlimit:10;\" d=\"M 31.746094 46.035156 L 34.921875 46.035156 \"/>\n",
       "<path style=\"fill:none;stroke-width:1.404947;stroke-linecap:butt;stroke-linejoin:miter;stroke:rgb(0%,0%,0%);stroke-opacity:1;stroke-miterlimit:10;\" d=\"M 31.746094 90.480469 L 34.921875 90.480469 \"/>\n",
       "<path style=\"fill:none;stroke-width:1.404947;stroke-linecap:butt;stroke-linejoin:miter;stroke:rgb(0%,0%,0%);stroke-opacity:1;stroke-miterlimit:10;\" d=\"M 31.746094 134.925781 L 34.921875 134.925781 \"/>\n",
       "<path style=\"fill:none;stroke-width:1.404947;stroke-linecap:butt;stroke-linejoin:miter;stroke:rgb(0%,0%,0%);stroke-opacity:1;stroke-miterlimit:10;\" d=\"M 31.746094 179.375 L 34.921875 179.375 \"/>\n",
       "<path style=\"fill:none;stroke-width:1.404947;stroke-linecap:butt;stroke-linejoin:miter;stroke:rgb(0%,0%,0%);stroke-opacity:1;stroke-miterlimit:10;\" d=\"M 31.746094 223.820312 L 34.921875 223.820312 \"/>\n",
       "<path style=\"fill:none;stroke-width:1.404947;stroke-linecap:butt;stroke-linejoin:miter;stroke:rgb(0%,0%,0%);stroke-opacity:1;stroke-miterlimit:10;\" d=\"M 31.746094 268.265625 L 34.921875 268.265625 \"/>\n",
       "<path style=\" stroke:none;fill-rule:nonzero;fill:rgb(0%,0%,0%);fill-opacity:1;\" d=\"M 16.59375 49.015625 Z M 18.574219 43.992188 C 18.375 43.992188 17.910156 44.183594 17.679688 44.285156 L 17.554688 43.957031 C 18.480469 43.523438 18.839844 43.304688 19.367188 42.925781 L 19.566406 42.925781 L 19.566406 48.222656 C 19.566406 48.601562 19.617188 48.707031 19.964844 48.707031 L 20.511719 48.707031 C 20.542969 48.707031 20.597656 48.726562 20.597656 48.792969 L 20.597656 49.023438 L 19.15625 49.003906 L 17.691406 49.023438 L 17.691406 48.792969 C 17.703125 48.761719 17.710938 48.707031 17.777344 48.707031 L 18.410156 48.707031 C 18.808594 48.707031 18.808594 48.527344 18.808594 48.222656 L 18.808594 44.601562 C 18.808594 44.242188 18.808594 43.992188 18.578125 43.992188 Z M 21.207031 49.015625 Z M 23.511719 43.296875 C 23.058594 43.296875 22.394531 43.738281 22.394531 46.191406 C 22.394531 47.054688 22.550781 48.792969 23.480469 48.792969 C 23.660156 48.792969 24.164062 48.675781 24.386719 47.855469 C 24.523438 47.351562 24.597656 46.71875 24.597656 45.800781 C 24.597656 44.464844 24.261719 43.714844 23.957031 43.453125 C 23.839844 43.347656 23.683594 43.296875 23.515625 43.296875 Z M 23.511719 43.296875 Z M 23.472656 49.140625 C 22.347656 49.140625 21.585938 47.699219 21.585938 46.085938 C 21.585938 44.117188 22.523438 42.925781 23.511719 42.925781 C 23.964844 42.925781 24.417969 43.210938 24.722656 43.621094 C 25.164062 44.210938 25.398438 45 25.398438 45.992188 C 25.398438 48.328125 24.238281 49.140625 23.472656 49.140625 Z M 23.472656 49.140625 \"/>\n",
       "<path style=\" stroke:none;fill-rule:nonzero;fill:rgb(0%,0%,0%);fill-opacity:1;\" d=\"M 21.226562 93.460938 Z M 23.566406 87.625 C 22.964844 87.625 22.578125 88.097656 22.578125 88.5625 C 22.578125 88.867188 22.703125 89.238281 23.335938 89.648438 L 23.640625 89.839844 C 23.914062 89.640625 24.558594 89.15625 24.558594 88.617188 C 24.558594 88.152344 24.222656 87.628906 23.570312 87.628906 Z M 23.566406 87.625 Z M 25.175781 88.628906 C 25.175781 89.269531 24.449219 89.777344 24.007812 90.070312 L 24.617188 90.46875 C 25.132812 90.804688 25.394531 91.269531 25.394531 91.847656 C 25.394531 92.605469 24.773438 93.585938 23.46875 93.585938 C 22.414062 93.585938 21.6875 93.027344 21.6875 92.007812 C 21.6875 91.617188 21.855469 91.164062 22.265625 90.808594 C 22.519531 90.585938 22.738281 90.398438 22.992188 90.207031 L 22.8125 90.101562 C 22.203125 89.722656 21.894531 89.3125 21.894531 88.753906 C 21.894531 87.984375 22.589844 87.375 23.609375 87.375 C 24.589844 87.375 25.167969 87.910156 25.167969 88.628906 Z M 25.175781 88.628906 Z M 23.492188 93.292969 C 23.945312 93.292969 24.734375 93.050781 24.734375 92.050781 C 24.734375 91.578125 24.441406 91.101562 23.816406 90.722656 L 23.351562 90.4375 C 22.5 91.007812 22.308594 91.710938 22.308594 92.007812 C 22.308594 92.902344 23.035156 93.292969 23.488281 93.292969 Z M 23.492188 93.292969 \"/>\n",
       "<path style=\" stroke:none;fill-rule:nonzero;fill:rgb(0%,0%,0%);fill-opacity:1;\" d=\"M 21.164062 137.90625 Z M 22.386719 135.148438 C 22.375 135.253906 22.375 135.410156 22.375 135.515625 C 22.375 137.285156 23.164062 137.726562 23.691406 137.726562 C 24.175781 137.726562 24.691406 137.273438 24.691406 136.179688 C 24.691406 135.683594 24.4375 134.675781 23.429688 134.675781 C 23.207031 134.675781 22.808594 134.695312 22.386719 135.148438 Z M 22.386719 135.148438 Z M 25.144531 132.09375 C 24.460938 132.15625 23.871094 132.335938 23.363281 132.832031 C 22.878906 133.304688 22.53125 134.011719 22.414062 134.855469 C 22.65625 134.5625 23.234375 134.339844 23.636719 134.339844 C 25.195312 134.339844 25.394531 135.625 25.394531 136.109375 C 25.394531 136.824219 25.035156 138.035156 23.582031 138.035156 C 22.8125 138.035156 21.644531 137.582031 21.644531 135.488281 C 21.644531 134.519531 21.972656 133.570312 22.699219 132.84375 C 23.375 132.160156 24.078125 131.875 25.109375 131.824219 Z M 25.144531 132.09375 \"/>\n",
       "<path style=\" stroke:none;fill-rule:nonzero;fill:rgb(0%,0%,0%);fill-opacity:1;\" d=\"M 21.113281 182.410156 Z M 23.828125 178.671875 C 23.828125 178.597656 23.839844 178.515625 23.933594 178.460938 C 24.050781 178.375 24.238281 178.28125 24.398438 178.28125 C 24.535156 178.28125 24.546875 178.398438 24.546875 178.609375 L 24.546875 180.304688 L 25.398438 180.304688 L 25.335938 180.800781 L 24.546875 180.800781 L 24.546875 181.675781 C 24.546875 181.96875 24.589844 182.117188 24.894531 182.117188 L 25.179688 182.117188 C 25.242188 182.117188 25.253906 182.167969 25.253906 182.191406 L 25.253906 182.421875 C 25.253906 182.421875 24.578125 182.402344 24.136719 182.402344 C 23.738281 182.402344 23.117188 182.421875 23.117188 182.421875 L 23.117188 182.191406 C 23.117188 182.171875 23.128906 182.117188 23.191406 182.117188 L 23.476562 182.117188 C 23.804688 182.117188 23.835938 181.980469 23.835938 181.675781 L 23.835938 180.800781 L 21.773438 180.800781 C 21.730469 180.800781 21.710938 180.78125 21.679688 180.738281 L 21.59375 180.621094 L 21.46875 180.398438 C 21.457031 180.398438 21.457031 180.386719 21.457031 180.378906 C 21.457031 180.367188 21.46875 180.359375 21.476562 180.347656 C 22.160156 179.589844 23.371094 177.242188 23.75 176.378906 C 23.761719 176.335938 23.78125 176.328125 23.824219 176.328125 C 23.835938 176.328125 24.066406 176.421875 24.191406 176.445312 C 23.71875 177.71875 22.9375 179.089844 22.167969 180.308594 L 23.832031 180.308594 L 23.832031 178.675781 Z M 23.828125 178.671875 \"/>\n",
       "<path style=\" stroke:none;fill-rule:nonzero;fill:rgb(0%,0%,0%);fill-opacity:1;\" d=\"M 21.332031 226.863281 Z M 21.945312 222.199219 C 21.945312 221.597656 22.523438 220.777344 23.628906 220.777344 C 24.441406 220.777344 25.386719 221.082031 25.386719 222.292969 C 25.386719 223.09375 24.976562 223.492188 24.40625 224.039062 L 23.40625 225.007812 C 23.355469 225.058594 22.648438 225.753906 22.648438 226.25 L 24.4375 226.25 C 24.796875 226.25 24.984375 226.070312 25.132812 225.492188 L 25.394531 225.535156 L 25.183594 226.863281 L 21.929688 226.863281 C 21.929688 226.273438 22.023438 225.820312 23.003906 224.820312 L 23.742188 224.09375 C 24.332031 223.492188 24.574219 222.976562 24.574219 222.335938 C 24.574219 221.378906 23.921875 221.105469 23.5625 221.105469 C 22.835938 221.105469 22.636719 221.484375 22.636719 221.738281 C 22.636719 221.824219 22.65625 221.90625 22.679688 221.980469 C 22.699219 222.054688 22.722656 222.128906 22.722656 222.210938 C 22.722656 222.484375 22.511719 222.589844 22.34375 222.589844 C 22.113281 222.589844 21.945312 222.410156 21.945312 222.199219 Z M 21.945312 222.199219 \"/>\n",
       "<path style=\" stroke:none;fill-rule:nonzero;fill:rgb(0%,0%,0%);fill-opacity:1;\" d=\"M 21.207031 271.246094 Z M 23.511719 265.527344 C 23.058594 265.527344 22.394531 265.96875 22.394531 268.421875 C 22.394531 269.285156 22.550781 271.023438 23.480469 271.023438 C 23.660156 271.023438 24.164062 270.90625 24.386719 270.085938 C 24.523438 269.582031 24.597656 268.949219 24.597656 268.03125 C 24.597656 266.695312 24.261719 265.945312 23.957031 265.683594 C 23.839844 265.578125 23.683594 265.527344 23.515625 265.527344 Z M 23.511719 265.527344 Z M 23.472656 271.371094 C 22.347656 271.371094 21.585938 269.929688 21.585938 268.316406 C 21.585938 266.347656 22.523438 265.15625 23.511719 265.15625 C 23.964844 265.15625 24.417969 265.441406 24.722656 265.851562 C 25.164062 266.441406 25.398438 267.230469 25.398438 268.222656 C 25.398438 270.558594 24.238281 271.371094 23.472656 271.371094 Z M 23.472656 271.371094 \"/>\n",
       "<path style=\"fill:none;stroke-width:1.404947;stroke-linecap:butt;stroke-linejoin:miter;stroke:rgb(50.196078%,50.196078%,50.196078%);stroke-opacity:1;stroke-dasharray:3.174747,3.174747;stroke-miterlimit:10;\" d=\"M 253.980469 268.265625 L 253.980469 46.035156 \"/>\n",
       "<path style=\"fill:none;stroke-width:1.404947;stroke-linecap:butt;stroke-linejoin:miter;stroke:rgb(50.196078%,50.196078%,50.196078%);stroke-opacity:1;stroke-dasharray:3.174747,3.174747;stroke-miterlimit:10;\" d=\"M 209.535156 268.265625 L 209.535156 46.035156 \"/>\n",
       "<path style=\"fill:none;stroke-width:1.404947;stroke-linecap:butt;stroke-linejoin:miter;stroke:rgb(50.196078%,50.196078%,50.196078%);stroke-opacity:1;stroke-dasharray:3.174747,3.174747;stroke-miterlimit:10;\" d=\"M 165.085938 268.265625 L 165.085938 46.035156 \"/>\n",
       "<path style=\"fill:none;stroke-width:1.404947;stroke-linecap:butt;stroke-linejoin:miter;stroke:rgb(50.196078%,50.196078%,50.196078%);stroke-opacity:1;stroke-dasharray:3.174747,3.174747;stroke-miterlimit:10;\" d=\"M 120.640625 268.265625 L 120.640625 46.035156 \"/>\n",
       "<path style=\"fill:none;stroke-width:1.404947;stroke-linecap:butt;stroke-linejoin:miter;stroke:rgb(50.196078%,50.196078%,50.196078%);stroke-opacity:1;stroke-dasharray:3.174747,3.174747;stroke-miterlimit:10;\" d=\"M 76.195312 268.265625 L 76.195312 46.035156 \"/>\n",
       "<path style=\"fill:none;stroke-width:1.404947;stroke-linecap:butt;stroke-linejoin:miter;stroke:rgb(50.196078%,50.196078%,50.196078%);stroke-opacity:1;stroke-dasharray:3.174747,3.174747;stroke-miterlimit:10;\" d=\"M 31.746094 268.265625 L 31.746094 46.035156 \"/>\n",
       "<path style=\"fill:none;stroke-width:1.404947;stroke-linecap:butt;stroke-linejoin:miter;stroke:rgb(0%,0%,0%);stroke-opacity:1;stroke-miterlimit:10;\" d=\"M 253.980469 46.035156 L 253.980469 49.210938 \"/>\n",
       "<path style=\"fill:none;stroke-width:1.404947;stroke-linecap:butt;stroke-linejoin:miter;stroke:rgb(0%,0%,0%);stroke-opacity:1;stroke-miterlimit:10;\" d=\"M 209.535156 46.035156 L 209.535156 49.210938 \"/>\n",
       "<path style=\"fill:none;stroke-width:1.404947;stroke-linecap:butt;stroke-linejoin:miter;stroke:rgb(0%,0%,0%);stroke-opacity:1;stroke-miterlimit:10;\" d=\"M 165.085938 46.035156 L 165.085938 49.210938 \"/>\n",
       "<path style=\"fill:none;stroke-width:1.404947;stroke-linecap:butt;stroke-linejoin:miter;stroke:rgb(0%,0%,0%);stroke-opacity:1;stroke-miterlimit:10;\" d=\"M 120.640625 46.035156 L 120.640625 49.210938 \"/>\n",
       "<path style=\"fill:none;stroke-width:1.404947;stroke-linecap:butt;stroke-linejoin:miter;stroke:rgb(0%,0%,0%);stroke-opacity:1;stroke-miterlimit:10;\" d=\"M 76.195312 46.035156 L 76.195312 49.210938 \"/>\n",
       "<path style=\"fill:none;stroke-width:1.404947;stroke-linecap:butt;stroke-linejoin:miter;stroke:rgb(0%,0%,0%);stroke-opacity:1;stroke-miterlimit:10;\" d=\"M 31.746094 46.035156 L 31.746094 49.210938 \"/>\n",
       "<path style=\"fill:none;stroke-width:1.404947;stroke-linecap:butt;stroke-linejoin:miter;stroke:rgb(0%,0%,0%);stroke-opacity:1;stroke-miterlimit:10;\" d=\"M 253.980469 268.265625 L 253.980469 265.089844 \"/>\n",
       "<path style=\"fill:none;stroke-width:1.404947;stroke-linecap:butt;stroke-linejoin:miter;stroke:rgb(0%,0%,0%);stroke-opacity:1;stroke-miterlimit:10;\" d=\"M 209.535156 268.265625 L 209.535156 265.089844 \"/>\n",
       "<path style=\"fill:none;stroke-width:1.404947;stroke-linecap:butt;stroke-linejoin:miter;stroke:rgb(0%,0%,0%);stroke-opacity:1;stroke-miterlimit:10;\" d=\"M 165.085938 268.265625 L 165.085938 265.089844 \"/>\n",
       "<path style=\"fill:none;stroke-width:1.404947;stroke-linecap:butt;stroke-linejoin:miter;stroke:rgb(0%,0%,0%);stroke-opacity:1;stroke-miterlimit:10;\" d=\"M 120.640625 268.265625 L 120.640625 265.089844 \"/>\n",
       "<path style=\"fill:none;stroke-width:1.404947;stroke-linecap:butt;stroke-linejoin:miter;stroke:rgb(0%,0%,0%);stroke-opacity:1;stroke-miterlimit:10;\" d=\"M 76.195312 268.265625 L 76.195312 265.089844 \"/>\n",
       "<path style=\"fill:none;stroke-width:1.404947;stroke-linecap:butt;stroke-linejoin:miter;stroke:rgb(0%,0%,0%);stroke-opacity:1;stroke-miterlimit:10;\" d=\"M 31.746094 268.265625 L 31.746094 265.089844 \"/>\n",
       "<path style=\" stroke:none;fill-rule:nonzero;fill:rgb(0%,0%,0%);fill-opacity:1;\" d=\"M 249.097656 280.769531 Z M 251.078125 275.746094 C 250.878906 275.746094 250.414062 275.9375 250.183594 276.039062 L 250.058594 275.710938 C 250.984375 275.277344 251.34375 275.058594 251.871094 274.679688 L 252.070312 274.679688 L 252.070312 279.976562 C 252.070312 280.355469 252.121094 280.460938 252.46875 280.460938 L 253.015625 280.460938 C 253.046875 280.460938 253.101562 280.480469 253.101562 280.546875 L 253.101562 280.777344 L 251.660156 280.757812 L 250.195312 280.777344 L 250.195312 280.546875 C 250.207031 280.515625 250.214844 280.460938 250.28125 280.460938 L 250.914062 280.460938 C 251.3125 280.460938 251.3125 280.28125 251.3125 279.976562 L 251.3125 276.355469 C 251.3125 275.996094 251.3125 275.746094 251.082031 275.746094 Z M 253.710938 280.769531 Z M 256.015625 275.050781 C 255.5625 275.050781 254.898438 275.492188 254.898438 277.945312 C 254.898438 278.808594 255.054688 280.546875 255.984375 280.546875 C 256.164062 280.546875 256.667969 280.429688 256.890625 279.609375 C 257.027344 279.105469 257.101562 278.472656 257.101562 277.554688 C 257.101562 276.21875 256.765625 275.46875 256.460938 275.207031 C 256.34375 275.101562 256.1875 275.050781 256.019531 275.050781 Z M 256.015625 275.050781 Z M 255.976562 280.898438 C 254.851562 280.898438 254.089844 279.457031 254.089844 277.84375 C 254.089844 275.875 255.027344 274.683594 256.015625 274.683594 C 256.46875 274.683594 256.921875 274.96875 257.226562 275.378906 C 257.667969 275.96875 257.902344 276.757812 257.902344 277.75 C 257.902344 280.085938 256.742188 280.898438 255.976562 280.898438 Z M 255.976562 280.898438 \"/>\n",
       "<path style=\" stroke:none;fill-rule:nonzero;fill:rgb(0%,0%,0%);fill-opacity:1;\" d=\"M 207.214844 280.769531 Z M 209.554688 274.9375 C 208.953125 274.9375 208.566406 275.410156 208.566406 275.875 C 208.566406 276.179688 208.691406 276.550781 209.324219 276.960938 L 209.628906 277.152344 C 209.902344 276.953125 210.546875 276.46875 210.546875 275.929688 C 210.546875 275.464844 210.210938 274.941406 209.558594 274.941406 Z M 209.554688 274.9375 Z M 211.164062 275.9375 C 211.164062 276.578125 210.4375 277.085938 209.996094 277.378906 L 210.605469 277.777344 C 211.121094 278.113281 211.382812 278.578125 211.382812 279.15625 C 211.382812 279.914062 210.761719 280.894531 209.457031 280.894531 C 208.402344 280.894531 207.675781 280.335938 207.675781 279.316406 C 207.675781 278.925781 207.84375 278.472656 208.253906 278.117188 C 208.507812 277.894531 208.726562 277.707031 208.980469 277.515625 L 208.800781 277.410156 C 208.191406 277.03125 207.882812 276.621094 207.882812 276.0625 C 207.882812 275.292969 208.578125 274.683594 209.597656 274.683594 C 210.578125 274.683594 211.15625 275.21875 211.15625 275.9375 Z M 211.164062 275.9375 Z M 209.480469 280.601562 C 209.933594 280.601562 210.722656 280.359375 210.722656 279.359375 C 210.722656 278.886719 210.429688 278.410156 209.804688 278.03125 L 209.339844 277.746094 C 208.488281 278.316406 208.296875 279.019531 208.296875 279.316406 C 208.296875 280.210938 209.023438 280.601562 209.476562 280.601562 Z M 209.480469 280.601562 \"/>\n",
       "<path style=\" stroke:none;fill-rule:nonzero;fill:rgb(0%,0%,0%);fill-opacity:1;\" d=\"M 162.726562 280.769531 Z M 163.949219 278.011719 C 163.9375 278.117188 163.9375 278.273438 163.9375 278.378906 C 163.9375 280.148438 164.726562 280.589844 165.253906 280.589844 C 165.738281 280.589844 166.253906 280.136719 166.253906 279.042969 C 166.253906 278.546875 166 277.539062 164.992188 277.539062 C 164.769531 277.539062 164.371094 277.558594 163.949219 278.011719 Z M 163.949219 278.011719 Z M 166.707031 274.957031 C 166.023438 275.019531 165.433594 275.199219 164.925781 275.695312 C 164.441406 276.167969 164.09375 276.875 163.976562 277.71875 C 164.21875 277.425781 164.796875 277.203125 165.199219 277.203125 C 166.757812 277.203125 166.957031 278.488281 166.957031 278.972656 C 166.957031 279.6875 166.597656 280.898438 165.144531 280.898438 C 164.375 280.898438 163.207031 280.445312 163.207031 278.351562 C 163.207031 277.382812 163.535156 276.433594 164.261719 275.707031 C 164.9375 275.023438 165.640625 274.738281 166.671875 274.6875 Z M 166.707031 274.957031 \"/>\n",
       "<path style=\" stroke:none;fill-rule:nonzero;fill:rgb(0%,0%,0%);fill-opacity:1;\" d=\"M 118.328125 280.828125 Z M 121.046875 277.089844 C 121.046875 277.015625 121.058594 276.933594 121.152344 276.878906 C 121.269531 276.792969 121.457031 276.699219 121.617188 276.699219 C 121.753906 276.699219 121.765625 276.816406 121.765625 277.027344 L 121.765625 278.722656 L 122.617188 278.722656 L 122.554688 279.21875 L 121.765625 279.21875 L 121.765625 280.09375 C 121.765625 280.386719 121.808594 280.535156 122.113281 280.535156 L 122.398438 280.535156 C 122.460938 280.535156 122.472656 280.585938 122.472656 280.609375 L 122.472656 280.839844 C 122.472656 280.839844 121.796875 280.820312 121.355469 280.820312 C 120.957031 280.820312 120.335938 280.839844 120.335938 280.839844 L 120.335938 280.609375 C 120.335938 280.589844 120.347656 280.535156 120.410156 280.535156 L 120.695312 280.535156 C 121.023438 280.535156 121.054688 280.398438 121.054688 280.09375 L 121.054688 279.21875 L 118.992188 279.21875 C 118.949219 279.21875 118.929688 279.199219 118.898438 279.15625 L 118.8125 279.039062 L 118.6875 278.816406 C 118.675781 278.816406 118.675781 278.804688 118.675781 278.796875 C 118.675781 278.785156 118.6875 278.777344 118.695312 278.765625 C 119.378906 278.007812 120.589844 275.660156 120.96875 274.796875 C 120.980469 274.753906 121 274.746094 121.042969 274.746094 C 121.054688 274.746094 121.285156 274.839844 121.410156 274.863281 C 120.9375 276.136719 120.15625 277.507812 119.386719 278.726562 L 121.050781 278.726562 L 121.050781 277.09375 Z M 121.046875 277.089844 \"/>\n",
       "<path style=\" stroke:none;fill-rule:nonzero;fill:rgb(0%,0%,0%);fill-opacity:1;\" d=\"M 73.863281 280.832031 Z M 74.472656 276.167969 C 74.472656 275.566406 75.050781 274.746094 76.15625 274.746094 C 76.96875 274.746094 77.914062 275.050781 77.914062 276.261719 C 77.914062 277.0625 77.503906 277.460938 76.933594 278.007812 L 75.933594 278.976562 C 75.882812 279.027344 75.175781 279.722656 75.175781 280.21875 L 76.964844 280.21875 C 77.324219 280.21875 77.511719 280.039062 77.660156 279.460938 L 77.921875 279.503906 L 77.710938 280.832031 L 74.457031 280.832031 C 74.457031 280.242188 74.550781 279.789062 75.53125 278.789062 L 76.269531 278.0625 C 76.859375 277.460938 77.101562 276.945312 77.101562 276.304688 C 77.101562 275.347656 76.449219 275.074219 76.089844 275.074219 C 75.363281 275.074219 75.164062 275.453125 75.164062 275.707031 C 75.164062 275.792969 75.183594 275.875 75.207031 275.949219 C 75.226562 276.023438 75.25 276.097656 75.25 276.179688 C 75.25 276.453125 75.039062 276.558594 74.871094 276.558594 C 74.640625 276.558594 74.472656 276.378906 74.472656 276.167969 Z M 74.472656 276.167969 \"/>\n",
       "<path style=\" stroke:none;fill-rule:nonzero;fill:rgb(0%,0%,0%);fill-opacity:1;\" d=\"M 29.460938 280.769531 Z M 31.769531 275.050781 C 31.316406 275.050781 30.652344 275.492188 30.652344 277.945312 C 30.652344 278.808594 30.808594 280.546875 31.738281 280.546875 C 31.917969 280.546875 32.421875 280.429688 32.644531 279.609375 C 32.78125 279.105469 32.855469 278.472656 32.855469 277.554688 C 32.855469 276.21875 32.519531 275.46875 32.214844 275.207031 C 32.097656 275.101562 31.941406 275.050781 31.773438 275.050781 Z M 31.769531 275.050781 Z M 31.726562 280.898438 C 30.601562 280.898438 29.839844 279.457031 29.839844 277.84375 C 29.839844 275.875 30.777344 274.683594 31.765625 274.683594 C 32.21875 274.683594 32.671875 274.96875 32.976562 275.378906 C 33.417969 275.96875 33.652344 276.757812 33.652344 277.75 C 33.652344 280.085938 32.492188 280.898438 31.726562 280.898438 Z M 31.726562 280.898438 \"/>\n",
       "<path style=\"fill:none;stroke-width:1.404947;stroke-linecap:butt;stroke-linejoin:miter;stroke:rgb(100%,0%,0%);stroke-opacity:1;stroke-dasharray:3.174747,3.174747,0.634949,0.634949,0.634949,3.174747;stroke-miterlimit:10;\" d=\"M 31.746094 90.480469 L 42.859375 79.824219 L 53.972656 71.777344 L 65.085938 68.308594 L 76.199219 70.269531 L 87.3125 77.175781 L 98.425781 87.339844 L 109.539062 98.273438 L 120.652344 107.296875 L 131.765625 112.203125 L 142.878906 111.789062 L 153.992188 106.15625 L 165.105469 96.6875 L 176.21875 85.699219 L 187.332031 75.878906 L 198.445312 69.632812 L 209.558594 68.492188 L 220.671875 72.734375 L 231.785156 81.320312 L 242.898438 92.148438 L 254.011719 102.566406 \"/>\n",
       "<path style=\"fill:none;stroke-width:1.404947;stroke-linecap:butt;stroke-linejoin:miter;stroke:rgb(100%,0%,0%);stroke-opacity:1;stroke-miterlimit:10;\" d=\"M 256.203125 104.792969 L 251.757812 100.347656 M 256.203125 100.347656 L 251.757812 104.792969 \"/>\n",
       "<path style=\"fill:none;stroke-width:1.404947;stroke-linecap:butt;stroke-linejoin:miter;stroke:rgb(100%,0%,0%);stroke-opacity:1;stroke-miterlimit:10;\" d=\"M 245.089844 94.371094 L 240.644531 89.925781 M 245.089844 89.929688 L 240.644531 94.375 \"/>\n",
       "<path style=\"fill:none;stroke-width:1.404947;stroke-linecap:butt;stroke-linejoin:miter;stroke:rgb(100%,0%,0%);stroke-opacity:1;stroke-miterlimit:10;\" d=\"M 233.980469 83.542969 L 229.535156 79.097656 M 233.980469 79.097656 L 229.535156 83.542969 \"/>\n",
       "<path style=\"fill:none;stroke-width:1.404947;stroke-linecap:butt;stroke-linejoin:miter;stroke:rgb(100%,0%,0%);stroke-opacity:1;stroke-miterlimit:10;\" d=\"M 222.867188 74.957031 L 218.421875 70.511719 M 222.867188 70.511719 L 218.421875 74.957031 \"/>\n",
       "<path style=\"fill:none;stroke-width:1.404947;stroke-linecap:butt;stroke-linejoin:miter;stroke:rgb(100%,0%,0%);stroke-opacity:1;stroke-miterlimit:10;\" d=\"M 211.753906 70.714844 L 207.308594 66.269531 M 211.753906 66.269531 L 207.308594 70.714844 \"/>\n",
       "<path style=\"fill:none;stroke-width:1.404947;stroke-linecap:butt;stroke-linejoin:miter;stroke:rgb(100%,0%,0%);stroke-opacity:1;stroke-miterlimit:10;\" d=\"M 200.644531 71.855469 L 196.199219 67.410156 M 200.644531 67.414062 L 196.199219 71.859375 \"/>\n",
       "<path style=\"fill:none;stroke-width:1.404947;stroke-linecap:butt;stroke-linejoin:miter;stroke:rgb(100%,0%,0%);stroke-opacity:1;stroke-miterlimit:10;\" d=\"M 189.53125 78.101562 L 185.085938 73.65625 M 189.53125 73.65625 L 185.085938 78.101562 \"/>\n",
       "<path style=\"fill:none;stroke-width:1.404947;stroke-linecap:butt;stroke-linejoin:miter;stroke:rgb(100%,0%,0%);stroke-opacity:1;stroke-miterlimit:10;\" d=\"M 178.421875 87.921875 L 173.976562 83.476562 M 178.421875 83.476562 L 173.976562 87.921875 \"/>\n",
       "<path style=\"fill:none;stroke-width:1.404947;stroke-linecap:butt;stroke-linejoin:miter;stroke:rgb(100%,0%,0%);stroke-opacity:1;stroke-miterlimit:10;\" d=\"M 167.308594 98.914062 L 162.863281 94.46875 M 167.308594 94.46875 L 162.863281 98.914062 \"/>\n",
       "<path style=\"fill:none;stroke-width:1.404947;stroke-linecap:butt;stroke-linejoin:miter;stroke:rgb(100%,0%,0%);stroke-opacity:1;stroke-miterlimit:10;\" d=\"M 156.199219 108.382812 L 151.753906 103.9375 M 156.199219 103.9375 L 151.753906 108.382812 \"/>\n",
       "<path style=\"fill:none;stroke-width:1.404947;stroke-linecap:butt;stroke-linejoin:miter;stroke:rgb(100%,0%,0%);stroke-opacity:1;stroke-miterlimit:10;\" d=\"M 145.085938 114.011719 L 140.640625 109.566406 M 145.085938 109.570312 L 140.640625 114.015625 \"/>\n",
       "<path style=\"fill:none;stroke-width:1.404947;stroke-linecap:butt;stroke-linejoin:miter;stroke:rgb(100%,0%,0%);stroke-opacity:1;stroke-miterlimit:10;\" d=\"M 133.972656 114.425781 L 129.527344 109.980469 M 133.972656 109.980469 L 129.527344 114.425781 \"/>\n",
       "<path style=\"fill:none;stroke-width:1.404947;stroke-linecap:butt;stroke-linejoin:miter;stroke:rgb(100%,0%,0%);stroke-opacity:1;stroke-miterlimit:10;\" d=\"M 122.863281 109.519531 L 118.417969 105.074219 M 122.863281 105.078125 L 118.417969 109.523438 \"/>\n",
       "<path style=\"fill:none;stroke-width:1.404947;stroke-linecap:butt;stroke-linejoin:miter;stroke:rgb(100%,0%,0%);stroke-opacity:1;stroke-miterlimit:10;\" d=\"M 111.75 100.5 L 107.304688 96.054688 M 111.75 96.054688 L 107.304688 100.5 \"/>\n",
       "<path style=\"fill:none;stroke-width:1.404947;stroke-linecap:butt;stroke-linejoin:miter;stroke:rgb(100%,0%,0%);stroke-opacity:1;stroke-miterlimit:10;\" d=\"M 100.640625 89.566406 L 96.195312 85.121094 M 100.640625 85.121094 L 96.195312 89.566406 \"/>\n",
       "<path style=\"fill:none;stroke-width:1.404947;stroke-linecap:butt;stroke-linejoin:miter;stroke:rgb(100%,0%,0%);stroke-opacity:1;stroke-miterlimit:10;\" d=\"M 89.527344 79.402344 L 85.082031 74.957031 M 89.527344 74.957031 L 85.082031 79.402344 \"/>\n",
       "<path style=\"fill:none;stroke-width:1.404947;stroke-linecap:butt;stroke-linejoin:miter;stroke:rgb(100%,0%,0%);stroke-opacity:1;stroke-miterlimit:10;\" d=\"M 78.417969 72.496094 L 73.972656 68.050781 M 78.417969 68.050781 L 73.972656 72.496094 \"/>\n",
       "<path style=\"fill:none;stroke-width:1.404947;stroke-linecap:butt;stroke-linejoin:miter;stroke:rgb(100%,0%,0%);stroke-opacity:1;stroke-miterlimit:10;\" d=\"M 67.304688 70.535156 L 62.859375 66.089844 M 67.304688 66.089844 L 62.859375 70.535156 \"/>\n",
       "<path style=\"fill:none;stroke-width:1.404947;stroke-linecap:butt;stroke-linejoin:miter;stroke:rgb(100%,0%,0%);stroke-opacity:1;stroke-miterlimit:10;\" d=\"M 56.191406 74.003906 L 51.746094 69.558594 M 56.191406 69.558594 L 51.746094 74.003906 \"/>\n",
       "<path style=\"fill:none;stroke-width:1.404947;stroke-linecap:butt;stroke-linejoin:miter;stroke:rgb(100%,0%,0%);stroke-opacity:1;stroke-miterlimit:10;\" d=\"M 45.082031 82.046875 L 40.636719 77.601562 M 45.082031 77.605469 L 40.636719 82.050781 \"/>\n",
       "<path style=\"fill:none;stroke-width:1.404947;stroke-linecap:butt;stroke-linejoin:miter;stroke:rgb(100%,0%,0%);stroke-opacity:1;stroke-miterlimit:10;\" d=\"M 33.96875 92.703125 L 29.523438 88.257812 M 33.96875 88.257812 L 29.523438 92.703125 \"/>\n",
       "<path style=\"fill:none;stroke-width:1.404947;stroke-linecap:butt;stroke-linejoin:miter;stroke:rgb(64.705882%,16.470588%,16.470588%);stroke-opacity:1;stroke-dasharray:3.174747,3.174747,0.952424,3.174747;stroke-miterlimit:10;\" d=\"M 76.195312 179.375 L 120.640625 223.820312 L 142.863281 179.375 L 253.980469 157.152344 \"/>\n",
       "<path style=\"fill-rule:nonzero;fill:rgb(64.705882%,16.470588%,16.470588%);fill-opacity:0.5;stroke-width:1.404947;stroke-linecap:butt;stroke-linejoin:miter;stroke:rgb(64.705882%,16.470588%,16.470588%);stroke-opacity:1;stroke-miterlimit:10;\" d=\"M 255.566406 159.335938 L 256.546875 156.316406 L 253.976562 154.449219 L 251.40625 156.316406 L 252.386719 159.335938 Z M 255.566406 159.335938 \"/>\n",
       "<path style=\"fill-rule:nonzero;fill:rgb(64.705882%,16.470588%,16.470588%);fill-opacity:0.5;stroke-width:1.404947;stroke-linecap:butt;stroke-linejoin:miter;stroke:rgb(64.705882%,16.470588%,16.470588%);stroke-opacity:1;stroke-miterlimit:10;\" d=\"M 144.449219 181.558594 L 145.429688 178.539062 L 142.859375 176.671875 L 140.289062 178.539062 L 141.269531 181.558594 Z M 144.449219 181.558594 \"/>\n",
       "<path style=\"fill-rule:nonzero;fill:rgb(64.705882%,16.470588%,16.470588%);fill-opacity:0.5;stroke-width:1.404947;stroke-linecap:butt;stroke-linejoin:miter;stroke:rgb(64.705882%,16.470588%,16.470588%);stroke-opacity:1;stroke-miterlimit:10;\" d=\"M 122.226562 226.003906 L 123.207031 222.984375 L 120.636719 221.117188 L 118.066406 222.984375 L 119.046875 226.003906 Z M 122.226562 226.003906 \"/>\n",
       "<path style=\"fill-rule:nonzero;fill:rgb(64.705882%,16.470588%,16.470588%);fill-opacity:0.5;stroke-width:1.404947;stroke-linecap:butt;stroke-linejoin:miter;stroke:rgb(64.705882%,16.470588%,16.470588%);stroke-opacity:1;stroke-miterlimit:10;\" d=\"M 77.78125 181.558594 L 78.761719 178.539062 L 76.191406 176.671875 L 73.621094 178.539062 L 74.601562 181.558594 Z M 77.78125 181.558594 \"/>\n",
       "<path style=\"fill:none;stroke-width:1.404947;stroke-linecap:butt;stroke-linejoin:miter;stroke:rgb(0%,0%,100%);stroke-opacity:1;stroke-dasharray:0.634949,0.634949;stroke-miterlimit:10;\" d=\"M 31.746094 201.597656 L 76.191406 157.152344 L 98.414062 201.597656 L 142.859375 157.152344 L 165.082031 201.597656 L 209.527344 157.152344 L 231.75 201.597656 L 253.972656 179.375 \"/>\n",
       "<path style=\"fill-rule:nonzero;fill:rgb(0%,0%,100%);fill-opacity:0.5;stroke-width:1.404947;stroke-linecap:butt;stroke-linejoin:miter;stroke:rgb(0%,0%,100%);stroke-opacity:1;stroke-miterlimit:10;\" d=\"M 255.566406 180.289062 L 253.980469 177.539062 L 252.394531 180.289062 Z M 255.566406 180.289062 \"/>\n",
       "<path style=\"fill-rule:nonzero;fill:rgb(0%,0%,100%);fill-opacity:0.5;stroke-width:1.404947;stroke-linecap:butt;stroke-linejoin:miter;stroke:rgb(0%,0%,100%);stroke-opacity:1;stroke-miterlimit:10;\" d=\"M 233.34375 202.511719 L 231.757812 199.761719 L 230.171875 202.511719 Z M 233.34375 202.511719 \"/>\n",
       "<path style=\"fill-rule:nonzero;fill:rgb(0%,0%,100%);fill-opacity:0.5;stroke-width:1.404947;stroke-linecap:butt;stroke-linejoin:miter;stroke:rgb(0%,0%,100%);stroke-opacity:1;stroke-miterlimit:10;\" d=\"M 211.121094 158.066406 L 209.535156 155.316406 L 207.949219 158.066406 Z M 211.121094 158.066406 \"/>\n",
       "<path style=\"fill-rule:nonzero;fill:rgb(0%,0%,100%);fill-opacity:0.5;stroke-width:1.404947;stroke-linecap:butt;stroke-linejoin:miter;stroke:rgb(0%,0%,100%);stroke-opacity:1;stroke-miterlimit:10;\" d=\"M 188.898438 180.289062 L 187.3125 177.539062 L 185.726562 180.289062 Z M 188.898438 180.289062 \"/>\n",
       "<path style=\"fill-rule:nonzero;fill:rgb(0%,0%,100%);fill-opacity:0.5;stroke-width:1.404947;stroke-linecap:butt;stroke-linejoin:miter;stroke:rgb(0%,0%,100%);stroke-opacity:1;stroke-miterlimit:10;\" d=\"M 166.675781 202.511719 L 165.089844 199.761719 L 163.503906 202.511719 Z M 166.675781 202.511719 \"/>\n",
       "<path style=\"fill-rule:nonzero;fill:rgb(0%,0%,100%);fill-opacity:0.5;stroke-width:1.404947;stroke-linecap:butt;stroke-linejoin:miter;stroke:rgb(0%,0%,100%);stroke-opacity:1;stroke-miterlimit:10;\" d=\"M 144.449219 158.066406 L 142.863281 155.316406 L 141.277344 158.066406 Z M 144.449219 158.066406 \"/>\n",
       "<path style=\"fill-rule:nonzero;fill:rgb(0%,0%,100%);fill-opacity:0.5;stroke-width:1.404947;stroke-linecap:butt;stroke-linejoin:miter;stroke:rgb(0%,0%,100%);stroke-opacity:1;stroke-miterlimit:10;\" d=\"M 122.226562 180.289062 L 120.640625 177.539062 L 119.054688 180.289062 Z M 122.226562 180.289062 \"/>\n",
       "<path style=\"fill-rule:nonzero;fill:rgb(0%,0%,100%);fill-opacity:0.5;stroke-width:1.404947;stroke-linecap:butt;stroke-linejoin:miter;stroke:rgb(0%,0%,100%);stroke-opacity:1;stroke-miterlimit:10;\" d=\"M 100.003906 202.511719 L 98.417969 199.761719 L 96.832031 202.511719 Z M 100.003906 202.511719 \"/>\n",
       "<path style=\"fill-rule:nonzero;fill:rgb(0%,0%,100%);fill-opacity:0.5;stroke-width:1.404947;stroke-linecap:butt;stroke-linejoin:miter;stroke:rgb(0%,0%,100%);stroke-opacity:1;stroke-miterlimit:10;\" d=\"M 77.78125 158.066406 L 76.195312 155.316406 L 74.609375 158.066406 Z M 77.78125 158.066406 \"/>\n",
       "<path style=\"fill-rule:nonzero;fill:rgb(0%,0%,100%);fill-opacity:0.5;stroke-width:1.404947;stroke-linecap:butt;stroke-linejoin:miter;stroke:rgb(0%,0%,100%);stroke-opacity:1;stroke-miterlimit:10;\" d=\"M 55.558594 180.289062 L 53.972656 177.539062 L 52.386719 180.289062 Z M 55.558594 180.289062 \"/>\n",
       "<path style=\"fill-rule:nonzero;fill:rgb(0%,0%,100%);fill-opacity:0.5;stroke-width:1.404947;stroke-linecap:butt;stroke-linejoin:miter;stroke:rgb(0%,0%,100%);stroke-opacity:1;stroke-miterlimit:10;\" d=\"M 33.335938 202.511719 L 31.75 199.761719 L 30.164062 202.511719 Z M 33.335938 202.511719 \"/>\n",
       "<path style=\"fill:none;stroke-width:1.404947;stroke-linecap:butt;stroke-linejoin:miter;stroke:rgb(0%,50.196078%,0%);stroke-opacity:1;stroke-dasharray:3.174747,3.174747;stroke-miterlimit:10;\" d=\"M 31.746094 46.035156 L 253.972656 268.261719 \"/>\n",
       "<path style=\"fill-rule:nonzero;fill:rgb(0%,50.196078%,0%);fill-opacity:0.5;stroke-width:1.404947;stroke-linecap:butt;stroke-linejoin:miter;stroke:rgb(0%,50.196078%,0%);stroke-opacity:1;stroke-miterlimit:10;\" d=\"M 255.566406 269.851562 L 255.566406 266.675781 L 252.390625 266.675781 L 252.390625 269.851562 Z M 255.566406 269.851562 \"/>\n",
       "<path style=\"fill-rule:nonzero;fill:rgb(0%,50.196078%,0%);fill-opacity:0.5;stroke-width:1.404947;stroke-linecap:butt;stroke-linejoin:miter;stroke:rgb(0%,50.196078%,0%);stroke-opacity:1;stroke-miterlimit:10;\" d=\"M 233.34375 247.628906 L 233.34375 244.453125 L 230.167969 244.453125 L 230.167969 247.628906 Z M 233.34375 247.628906 \"/>\n",
       "<path style=\"fill-rule:nonzero;fill:rgb(0%,50.196078%,0%);fill-opacity:0.5;stroke-width:1.404947;stroke-linecap:butt;stroke-linejoin:miter;stroke:rgb(0%,50.196078%,0%);stroke-opacity:1;stroke-miterlimit:10;\" d=\"M 211.121094 225.40625 L 211.121094 222.230469 L 207.945312 222.230469 L 207.945312 225.40625 Z M 211.121094 225.40625 \"/>\n",
       "<path style=\"fill-rule:nonzero;fill:rgb(0%,50.196078%,0%);fill-opacity:0.5;stroke-width:1.404947;stroke-linecap:butt;stroke-linejoin:miter;stroke:rgb(0%,50.196078%,0%);stroke-opacity:1;stroke-miterlimit:10;\" d=\"M 188.898438 203.183594 L 188.898438 200.007812 L 185.722656 200.007812 L 185.722656 203.183594 Z M 188.898438 203.183594 \"/>\n",
       "<path style=\"fill-rule:nonzero;fill:rgb(0%,50.196078%,0%);fill-opacity:0.5;stroke-width:1.404947;stroke-linecap:butt;stroke-linejoin:miter;stroke:rgb(0%,50.196078%,0%);stroke-opacity:1;stroke-miterlimit:10;\" d=\"M 166.675781 180.960938 L 166.675781 177.785156 L 163.5 177.785156 L 163.5 180.960938 Z M 166.675781 180.960938 \"/>\n",
       "<path style=\"fill-rule:nonzero;fill:rgb(0%,50.196078%,0%);fill-opacity:0.5;stroke-width:1.404947;stroke-linecap:butt;stroke-linejoin:miter;stroke:rgb(0%,50.196078%,0%);stroke-opacity:1;stroke-miterlimit:10;\" d=\"M 144.449219 158.738281 L 144.449219 155.5625 L 141.273438 155.5625 L 141.273438 158.738281 Z M 144.449219 158.738281 \"/>\n",
       "<path style=\"fill-rule:nonzero;fill:rgb(0%,50.196078%,0%);fill-opacity:0.5;stroke-width:1.404947;stroke-linecap:butt;stroke-linejoin:miter;stroke:rgb(0%,50.196078%,0%);stroke-opacity:1;stroke-miterlimit:10;\" d=\"M 122.226562 136.515625 L 122.226562 133.339844 L 119.050781 133.339844 L 119.050781 136.515625 Z M 122.226562 136.515625 \"/>\n",
       "<path style=\"fill-rule:nonzero;fill:rgb(0%,50.196078%,0%);fill-opacity:0.5;stroke-width:1.404947;stroke-linecap:butt;stroke-linejoin:miter;stroke:rgb(0%,50.196078%,0%);stroke-opacity:1;stroke-miterlimit:10;\" d=\"M 100.003906 114.289062 L 100.003906 111.113281 L 96.828125 111.113281 L 96.828125 114.289062 Z M 100.003906 114.289062 \"/>\n",
       "<path style=\"fill-rule:nonzero;fill:rgb(0%,50.196078%,0%);fill-opacity:0.5;stroke-width:1.404947;stroke-linecap:butt;stroke-linejoin:miter;stroke:rgb(0%,50.196078%,0%);stroke-opacity:1;stroke-miterlimit:10;\" d=\"M 77.78125 92.066406 L 77.78125 88.890625 L 74.605469 88.890625 L 74.605469 92.066406 Z M 77.78125 92.066406 \"/>\n",
       "<path style=\"fill-rule:nonzero;fill:rgb(0%,50.196078%,0%);fill-opacity:0.5;stroke-width:1.404947;stroke-linecap:butt;stroke-linejoin:miter;stroke:rgb(0%,50.196078%,0%);stroke-opacity:1;stroke-miterlimit:10;\" d=\"M 55.558594 69.84375 L 55.558594 66.667969 L 52.382812 66.667969 L 52.382812 69.84375 Z M 55.558594 69.84375 \"/>\n",
       "<path style=\"fill-rule:nonzero;fill:rgb(0%,50.196078%,0%);fill-opacity:0.5;stroke-width:1.404947;stroke-linecap:butt;stroke-linejoin:miter;stroke:rgb(0%,50.196078%,0%);stroke-opacity:1;stroke-miterlimit:10;\" d=\"M 33.335938 47.621094 L 33.335938 44.445312 L 30.160156 44.445312 L 30.160156 47.621094 Z M 33.335938 47.621094 \"/>\n",
       "<path style=\"fill:none;stroke-width:1.404947;stroke-linecap:butt;stroke-linejoin:miter;stroke:rgb(100%,0%,0%);stroke-opacity:1;stroke-miterlimit:10;\" d=\"M 31.746094 268.265625 L 253.972656 46.039062 \"/>\n",
       "<path style=\"fill-rule:nonzero;fill:rgb(100%,0%,0%);fill-opacity:0.5;stroke-width:1.404947;stroke-linecap:butt;stroke-linejoin:miter;stroke:rgb(100%,0%,0%);stroke-opacity:1;stroke-miterlimit:10;\" d=\"M 256.203125 46.035156 C 256.203125 44.808594 255.207031 43.8125 253.980469 43.8125 C 252.753906 43.8125 251.757812 44.808594 251.757812 46.035156 C 251.757812 47.261719 252.753906 48.257812 253.980469 48.257812 C 255.207031 48.257812 256.203125 47.261719 256.203125 46.035156 Z M 256.203125 46.035156 \"/>\n",
       "<path style=\"fill-rule:nonzero;fill:rgb(100%,0%,0%);fill-opacity:0.5;stroke-width:1.404947;stroke-linecap:butt;stroke-linejoin:miter;stroke:rgb(100%,0%,0%);stroke-opacity:1;stroke-miterlimit:10;\" d=\"M 233.980469 68.257812 C 233.980469 67.03125 232.984375 66.035156 231.757812 66.035156 C 230.53125 66.035156 229.535156 67.03125 229.535156 68.257812 C 229.535156 69.484375 230.53125 70.480469 231.757812 70.480469 C 232.984375 70.480469 233.980469 69.484375 233.980469 68.257812 Z M 233.980469 68.257812 \"/>\n",
       "<path style=\"fill-rule:nonzero;fill:rgb(100%,0%,0%);fill-opacity:0.5;stroke-width:1.404947;stroke-linecap:butt;stroke-linejoin:miter;stroke:rgb(100%,0%,0%);stroke-opacity:1;stroke-miterlimit:10;\" d=\"M 211.753906 90.480469 C 211.753906 89.253906 210.757812 88.257812 209.53125 88.257812 C 208.304688 88.257812 207.308594 89.253906 207.308594 90.480469 C 207.308594 91.707031 208.304688 92.703125 209.53125 92.703125 C 210.757812 92.703125 211.753906 91.707031 211.753906 90.480469 Z M 211.753906 90.480469 \"/>\n",
       "<path style=\"fill-rule:nonzero;fill:rgb(100%,0%,0%);fill-opacity:0.5;stroke-width:1.404947;stroke-linecap:butt;stroke-linejoin:miter;stroke:rgb(100%,0%,0%);stroke-opacity:1;stroke-miterlimit:10;\" d=\"M 189.53125 112.703125 C 189.53125 111.476562 188.535156 110.480469 187.308594 110.480469 C 186.082031 110.480469 185.085938 111.476562 185.085938 112.703125 C 185.085938 113.929688 186.082031 114.925781 187.308594 114.925781 C 188.535156 114.925781 189.53125 113.929688 189.53125 112.703125 Z M 189.53125 112.703125 \"/>\n",
       "<path style=\"fill-rule:nonzero;fill:rgb(100%,0%,0%);fill-opacity:0.5;stroke-width:1.404947;stroke-linecap:butt;stroke-linejoin:miter;stroke:rgb(100%,0%,0%);stroke-opacity:1;stroke-miterlimit:10;\" d=\"M 167.308594 134.925781 C 167.308594 133.699219 166.3125 132.703125 165.085938 132.703125 C 163.859375 132.703125 162.863281 133.699219 162.863281 134.925781 C 162.863281 136.152344 163.859375 137.148438 165.085938 137.148438 C 166.3125 137.148438 167.308594 136.152344 167.308594 134.925781 Z M 167.308594 134.925781 \"/>\n",
       "<path style=\"fill-rule:nonzero;fill:rgb(100%,0%,0%);fill-opacity:0.5;stroke-width:1.404947;stroke-linecap:butt;stroke-linejoin:miter;stroke:rgb(100%,0%,0%);stroke-opacity:1;stroke-miterlimit:10;\" d=\"M 145.085938 157.148438 C 145.085938 155.921875 144.089844 154.925781 142.863281 154.925781 C 141.636719 154.925781 140.640625 155.921875 140.640625 157.148438 C 140.640625 158.375 141.636719 159.371094 142.863281 159.371094 C 144.089844 159.371094 145.085938 158.375 145.085938 157.148438 Z M 145.085938 157.148438 \"/>\n",
       "<path style=\"fill-rule:nonzero;fill:rgb(100%,0%,0%);fill-opacity:0.5;stroke-width:1.404947;stroke-linecap:butt;stroke-linejoin:miter;stroke:rgb(100%,0%,0%);stroke-opacity:1;stroke-miterlimit:10;\" d=\"M 122.863281 179.375 C 122.863281 178.148438 121.867188 177.152344 120.640625 177.152344 C 119.414062 177.152344 118.417969 178.148438 118.417969 179.375 C 118.417969 180.601562 119.414062 181.597656 120.640625 181.597656 C 121.867188 181.597656 122.863281 180.601562 122.863281 179.375 Z M 122.863281 179.375 \"/>\n",
       "<path style=\"fill-rule:nonzero;fill:rgb(100%,0%,0%);fill-opacity:0.5;stroke-width:1.404947;stroke-linecap:butt;stroke-linejoin:miter;stroke:rgb(100%,0%,0%);stroke-opacity:1;stroke-miterlimit:10;\" d=\"M 100.640625 201.597656 C 100.640625 200.371094 99.644531 199.375 98.417969 199.375 C 97.191406 199.375 96.195312 200.371094 96.195312 201.597656 C 96.195312 202.824219 97.191406 203.820312 98.417969 203.820312 C 99.644531 203.820312 100.640625 202.824219 100.640625 201.597656 Z M 100.640625 201.597656 \"/>\n",
       "<path style=\"fill-rule:nonzero;fill:rgb(100%,0%,0%);fill-opacity:0.5;stroke-width:1.404947;stroke-linecap:butt;stroke-linejoin:miter;stroke:rgb(100%,0%,0%);stroke-opacity:1;stroke-miterlimit:10;\" d=\"M 78.417969 223.820312 C 78.417969 222.59375 77.421875 221.597656 76.195312 221.597656 C 74.96875 221.597656 73.972656 222.59375 73.972656 223.820312 C 73.972656 225.046875 74.96875 226.042969 76.195312 226.042969 C 77.421875 226.042969 78.417969 225.046875 78.417969 223.820312 Z M 78.417969 223.820312 \"/>\n",
       "<path style=\"fill-rule:nonzero;fill:rgb(100%,0%,0%);fill-opacity:0.5;stroke-width:1.404947;stroke-linecap:butt;stroke-linejoin:miter;stroke:rgb(100%,0%,0%);stroke-opacity:1;stroke-miterlimit:10;\" d=\"M 56.191406 246.042969 C 56.191406 244.816406 55.195312 243.820312 53.96875 243.820312 C 52.742188 243.820312 51.746094 244.816406 51.746094 246.042969 C 51.746094 247.269531 52.742188 248.265625 53.96875 248.265625 C 55.195312 248.265625 56.191406 247.269531 56.191406 246.042969 Z M 56.191406 246.042969 \"/>\n",
       "<path style=\"fill-rule:nonzero;fill:rgb(100%,0%,0%);fill-opacity:0.5;stroke-width:1.404947;stroke-linecap:butt;stroke-linejoin:miter;stroke:rgb(100%,0%,0%);stroke-opacity:1;stroke-miterlimit:10;\" d=\"M 33.96875 268.265625 C 33.96875 267.039062 32.972656 266.042969 31.746094 266.042969 C 30.519531 266.042969 29.523438 267.039062 29.523438 268.265625 C 29.523438 269.492188 30.519531 270.488281 31.746094 270.488281 C 32.972656 270.488281 33.96875 269.492188 33.96875 268.265625 Z M 33.96875 268.265625 \"/>\n",
       "</g>\n",
       "</svg>\n"
      ]
     },
     "metadata": {},
     "output_type": "display_data"
    }
   ],
   "source": [
    "example"
   ]
  },
  {
   "cell_type": "code",
   "execution_count": null,
   "metadata": {},
   "outputs": [],
   "source": []
  }
 ],
 "metadata": {
  "kernelspec": {
   "display_name": "Haskell - haskell",
   "language": "haskell",
   "name": "ihaskell_haskell"
  },
  "language_info": {
   "codemirror_mode": "ihaskell",
   "file_extension": ".hs",
   "name": "haskell",
   "pygments_lexer": "Haskell",
   "version": "8.8.3"
  }
 },
 "nbformat": 4,
 "nbformat_minor": 4
}
