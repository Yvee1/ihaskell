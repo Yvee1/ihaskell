{
 "cells": [
  {
   "cell_type": "code",
   "execution_count": 1,
   "metadata": {
    "collapsed": false,
    "jupyter": {
     "outputs_hidden": false
    }
   },
   "outputs": [],
   "source": [
    "import Diagrams.Backend.SVG.CmdLine"
   ]
  },
  {
   "cell_type": "markdown",
   "metadata": {
    "hidden": false
   },
   "source": [
    "We recreate the [\"Universal Declaration of Human Rights\" by Kenneth Knowlton](http://recodeproject.com/artwork/v1n2universal-declaration-of-human-rights).\n",
    "The picture is taken from [here](https://raw.githubusercontent.com/matthewepler/ReCode_Project/master/quin_kennedy/recode_v1n2_universal_declaration_of_human_rights/data/girl_gaze_contrast1_small2.jpg).\n",
    "\n"
   ]
  },
  {
   "cell_type": "code",
   "execution_count": 2,
   "metadata": {
    "collapsed": false,
    "jupyter": {
     "outputs_hidden": false
    }
   },
   "outputs": [
    {
     "ename": "",
     "evalue": "",
     "header": "MessageHeader {mhIdentifiers = [\"bc59fa58-827e-4fed-a846-5949b4b3efd0\"], mhParentHeader = Just (MessageHeader {mhIdentifiers = [\"bc59fa58-827e-4fed-a846-5949b4b3efd0\"], mhParentHeader = Nothing, mhMetadata = Metadata (fromList [(\"jupyter\",Object (fromList [(\"outputs_hidden\",Bool False)])),(\"recordTiming\",Bool False),(\"deletedCells\",Array []),(\"cellId\",String \"60ae2e48-06ea-41bc-9e6c-32c8489b509b\"),(\"collapsed\",Bool False)]), mhMessageId = UUID {uuidToString = \"d855fd0c-aa73-444d-bd97-d28c3d079e0c\"}, mhSessionId = UUID {uuidToString = \"bc59fa58-827e-4fed-a846-5949b4b3efd0\"}, mhUsername = \"\", mhMsgType = ExecuteRequestMessage, mhBuffers = []}), mhMetadata = Metadata (fromList []), mhMessageId = UUID {uuidToString = \"43a38cf8-d7f7-46ea-a598-4d869e9a0534\"}, mhSessionId = UUID {uuidToString = \"bc59fa58-827e-4fed-a846-5949b4b3efd0\"}, mhUsername = \"\", mhMsgType = ExecuteErrorMessage, mhBuffers = []}",
     "output_type": "error",
     "traceback": [
      "<interactive>:1:1: error:\n    Could not find module ‘Diagrams.Backend.Rasterific.CmdLine’\n    Perhaps you meant Diagrams.Backend.Cairo.CmdLine (from diagrams-cairo-1.4.1.1)\n    Use -v (or `:set -v` in ghci) to see a list of the files searched for."
     ]
    }
   ],
   "source": [
    "{-# LANGUAGE NoMonomorphismRestriction #-}\n",
    "\n",
    "import Codec.Picture\n",
    "import Codec.Picture.Types\n",
    "import Data.Colour.CIE\n",
    "import Data.List.Split\n",
    "import qualified Data.Text as T\n",
    "import qualified Data.Text.IO as TIO\n",
    "import Diagrams.Prelude\n",
    "import Diagrams.Backend.Rasterific.CmdLine"
   ]
  },
  {
   "cell_type": "markdown",
   "metadata": {
    "hidden": false
   },
   "source": [
    "The idea is to split the Declaration into a set of lines and apply to each line\n",
    "a gradient corresponding to the picture.\n",
    "\n",
    "First, we load an image using `JuicyPixels`. More precisely, we extract a list of\n",
    "colors. For convenience, we use a custom datatype containing the height, width\n",
    "and the list of colours. To be consistent with diagrams, colors are stored as\n",
    "`Colour`.\n",
    "\n"
   ]
  },
  {
   "cell_type": "code",
   "execution_count": null,
   "metadata": {
    "collapsed": false,
    "jupyter": {
     "outputs_hidden": false
    }
   },
   "outputs": [],
   "source": [
    "data ColourImage b = ColourImage { cColors :: [Colour b]\n",
    "                   , cHeight :: Int\n",
    "                   , cWidth :: Int\n",
    "                   }\n"
   ]
  },
  {
   "cell_type": "markdown",
   "metadata": {
    "hidden": false
   },
   "source": [
    "  \n",
    "\n",
    "Then we load the image using `JuicyPixels`, knowing the image is in `YcbCr8` format\n",
    "(not quite portable...). Each pixel is converted to a `Colour`.\n",
    "\n"
   ]
  },
  {
   "cell_type": "code",
   "execution_count": null,
   "metadata": {
    "collapsed": false,
    "jupyter": {
     "outputs_hidden": false
    }
   },
   "outputs": [],
   "source": [
    "getColors :: (Ord b, Floating b) => FilePath -> IO (Maybe (ColourImage b))\n",
    "getColors fp = do\n",
    "    image <- readImage fp\n",
    "    case image of\n",
    "        Left _ -> return Nothing\n",
    "        Right image' -> return (getColors' image')\n",
    "\n",
    "getColors' :: (Ord b, Floating b) => DynamicImage -> Maybe (ColourImage b)\n",
    "getColors' (ImageYCbCr8 image@(Image w h _)) =\n",
    "    Just (ColourImage colors h w)\n",
    "      where colors =  pixelFold (\\acc i j pix -> (ycbcrToRGB pix) : acc) [] image\n",
    "getColors' _ = Nothing\n",
    "\n",
    "ycbcrToRGB :: (Ord b, Floating b) => PixelYCbCr8 -> Colour b\n",
    "ycbcrToRGB pix = sRGB24 r g b\n",
    "  where (PixelRGB8 r g b ) = convertPixel pix :: PixelRGB8\n"
   ]
  },
  {
   "cell_type": "markdown",
   "metadata": {
    "hidden": false
   },
   "source": [
    "Now we have the colors, we need the text. Knowing the width and height of the\n",
    "picture, we generate a set of lines with constant width from the Declaration:\n",
    "\n"
   ]
  },
  {
   "cell_type": "code",
   "execution_count": null,
   "metadata": {
    "collapsed": false,
    "jupyter": {
     "outputs_hidden": false
    }
   },
   "outputs": [],
   "source": [
    "  -- We want as many lines as there are pixels lines\n",
    "content :: Int -> Int -> IO [T.Text]\n",
    "content w h = do \n",
    "  text1 <- TIO.readFile \"doc/static/Universal Declaration of Human Rights.txt\"\n",
    "  -- At most h repeat as we cannot have \"cycle\" for Text\n",
    "  return $ take h $ T.chunksOf w $ T.replicate h text1\n"
   ]
  },
  {
   "cell_type": "markdown",
   "metadata": {
    "hidden": false
   },
   "source": [
    "Next, we create the gradient. All colors will be split into constant-width\n",
    "\"lines\" of color. For each line, we create a gradient.\n",
    "\n"
   ]
  },
  {
   "cell_type": "code",
   "execution_count": null,
   "metadata": {
    "collapsed": false,
    "jupyter": {
     "outputs_hidden": false
    }
   },
   "outputs": [],
   "source": [
    "stops :: Fractional d => [Colour Double] -> d -> [GradientStop d]\n",
    "stops colors w = mkStops stops'\n",
    "  where \n",
    "    n = length colors-1\n",
    "    stops' = map createStop [0..n]\n",
    "    dx = 1 / fromIntegral n\n",
    "    createStop i = (colors !! i, fromIntegral i * dx, 1)\n",
    "\n",
    "gradient colors w = \n",
    "  mkLinearGradient (stops colors w) ((-frac*w) ^& 0) ((frac*w) ^& 0) GradPad\n",
    "    where frac = 0.7\n",
    "    -- The fraction show only parts of the image here\n"
   ]
  },
  {
   "cell_type": "markdown",
   "metadata": {
    "hidden": false
   },
   "source": [
    "We can now create the line from the text and apply the gradient:\n",
    "\n"
   ]
  },
  {
   "cell_type": "code",
   "execution_count": null,
   "metadata": {
    "collapsed": false,
    "jupyter": {
     "outputs_hidden": false
    }
   },
   "outputs": [],
   "source": [
    "createText :: T.Text -> Diagram B\n",
    "createText s = text (T.unpack s) # fontSize (local 8)\n",
    "\n",
    "createLine :: Int -> Int -> ([Colour Double], T.Text) ->  Diagram B\n",
    "createLine w h (colors, s) = \n",
    "  (createText s # fillTexture (gradient colors w')) `atop` rect w' h' # fc black\n",
    "    where (w', h') = (fromIntegral w, fromIntegral h)\n",
    "\n"
   ]
  },
  {
   "cell_type": "markdown",
   "metadata": {
    "hidden": false
   },
   "source": [
    "The final function will load the list of colors and create lines according to\n",
    "the procedure above. As some parts of the picture are pitch black, we still want\n",
    "to see the text, so we define a minimum luminance:\n",
    "\n"
   ]
  },
  {
   "cell_type": "code",
   "execution_count": null,
   "metadata": {
    "collapsed": false,
    "jupyter": {
     "outputs_hidden": false
    }
   },
   "outputs": [],
   "source": [
    "minLuminance :: (Ord b, Floating b) => Colour b -> Colour b\n",
    "minLuminance c \n",
    "  | (luminance c) < 0.032 = sRGB24 50 50 50\n",
    "  | otherwise = c\n",
    "\n",
    "\n",
    "example :: IO (Diagram B )\n",
    "example = do\n",
    "  Just img <- getColors \"doc/static/girl_gaze_contrast1_small2.jpg\"\n",
    "  let colors' = map minLuminance $ cColors img\n",
    "  let (h, w) = (cHeight img, cWidth img)\n",
    "  let heightRect = 15\n",
    "  let width = heightRect*h\n",
    "  let colors = chunksOf w colors'\n",
    "  lines <- content 280 h\n",
    "  -- We need a rectangle for each line\n",
    "  let all = map (createLine width heightRect) $ zip colors lines  :: [Diagram B]\n",
    "  return $ cat (r2 (0, 1)) all\n"
   ]
  },
  {
   "cell_type": "code",
   "execution_count": null,
   "metadata": {
    "collapsed": false,
    "jupyter": {
     "outputs_hidden": false
    }
   },
   "outputs": [],
   "source": [
    "main = mainWith (example :: Diagram B)\n"
   ]
  }
 ],
 "metadata": {
  "kernelspec": {
   "display_name": "Haskell - haskell",
   "language": "haskell",
   "name": "ihaskell_haskell"
  },
  "language_info": {
   "codemirror_mode": "ihaskell",
   "file_extension": ".hs",
   "name": "haskell",
   "pygments_lexer": "Haskell",
   "version": "8.8.3"
  }
 },
 "nbformat": 4,
 "nbformat_minor": 4
}
