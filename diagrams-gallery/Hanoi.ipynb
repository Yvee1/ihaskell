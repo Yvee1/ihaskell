{
 "cells": [
  {
   "cell_type": "code",
   "execution_count": 1,
   "metadata": {
    "collapsed": false,
    "jupyter": {
     "outputs_hidden": false
    }
   },
   "outputs": [],
   "source": [
    "import Diagrams.Backend.SVG.CmdLine"
   ]
  },
  {
   "cell_type": "code",
   "execution_count": 12,
   "metadata": {
    "collapsed": false,
    "jupyter": {
     "outputs_hidden": false
    }
   },
   "outputs": [],
   "source": [
    "{-# LANGUAGE NoMonomorphismRestriction FlexibleContexts GADTs #-}\n",
    "import Diagrams.Prelude\n",
    "import Data.List\n",
    "import Data.Colour.SRGB (sRGB24read)\n",
    "\n",
    "type Dia = Diagram B"
   ]
  },
  {
   "cell_type": "markdown",
   "metadata": {
    "hidden": false
   },
   "source": [
    "First, some colors for our disks, and types to represent the data\n",
    "structures involved.\n",
    "\n"
   ]
  },
  {
   "cell_type": "code",
   "execution_count": 4,
   "metadata": {
    "collapsed": false,
    "jupyter": {
     "outputs_hidden": false
    }
   },
   "outputs": [],
   "source": [
    "colors = cycle $ map sRGB24read [ \"#9FB4CC\", \"#CCCC9F\", \"#DB4105\", \"#FFF8E3\", \"#33332D\"]\n",
    "\n",
    "type Disk  = Int\n",
    "type Stack = [Disk]\n",
    "type Hanoi = [Stack]\n",
    "type Move  = (Int,Int)\n"
   ]
  },
  {
   "cell_type": "markdown",
   "metadata": {
    "hidden": false
   },
   "source": [
    "To render a single disk, draw a rectangle with width proportional to\n",
    "its disk number, using a color selected from the `colors` list.\n",
    "\n"
   ]
  },
  {
   "cell_type": "code",
   "execution_count": 6,
   "metadata": {
    "collapsed": false,
    "jupyter": {
     "outputs_hidden": false
    }
   },
   "outputs": [],
   "source": [
    "renderDisk :: Disk -> Dia\n",
    "renderDisk n = rect (fromIntegral n + 2) 1\n",
    "               # lc black\n",
    "               # lw thin\n",
    "               # fc (colors !! n)"
   ]
  },
  {
   "cell_type": "markdown",
   "metadata": {
    "hidden": false
   },
   "source": [
    "To render a stack of disks, just stack their renderings on top of a\n",
    "drawing of a peg.  We use `alignB` to place stack of disks at the\n",
    "bottom of the peg.\n",
    "\n"
   ]
  },
  {
   "cell_type": "code",
   "execution_count": 13,
   "metadata": {
    "collapsed": false,
    "jupyter": {
     "outputs_hidden": false
    }
   },
   "outputs": [],
   "source": [
    "renderStack :: Stack -> Dia\n",
    "renderStack s = disks `atop` post\n",
    "  where disks = (vcat . map renderDisk $ s)\n",
    "                # alignB\n",
    "        post  = rect 0.8 6\n",
    "                # lw none\n",
    "                # fc black\n",
    "                # alignB"
   ]
  },
  {
   "cell_type": "markdown",
   "metadata": {
    "hidden": false
   },
   "source": [
    "Finally, to render a collection of stacks, lay them out\n",
    "horizontally, using the `Distrib` method so the pegs end up spaced\n",
    "evenly no matter the width of the disks on any particular peg.\n",
    "\n"
   ]
  },
  {
   "cell_type": "code",
   "execution_count": 14,
   "metadata": {
    "collapsed": false,
    "jupyter": {
     "outputs_hidden": false
    }
   },
   "outputs": [],
   "source": [
    "renderHanoi :: Hanoi -> Dia\n",
    "renderHanoi = hcat' (with & catMethod .~ Distrib & sep .~ 7) . map renderStack\n"
   ]
  },
  {
   "cell_type": "markdown",
   "metadata": {
    "hidden": false
   },
   "source": [
    "Now some code to actually solve the puzzle, generating a list of moves\n",
    "which are then used to simulate the solution and generate a list of\n",
    "configurations.\n",
    "\n"
   ]
  },
  {
   "cell_type": "code",
   "execution_count": 15,
   "metadata": {
    "collapsed": false,
    "jupyter": {
     "outputs_hidden": false
    }
   },
   "outputs": [
    {
     "data": {
      "text/html": [
       "<style>/* Styles used for the Hoogle display in the pager */\n",
       ".hoogle-doc {\n",
       "display: block;\n",
       "padding-bottom: 1.3em;\n",
       "padding-left: 0.4em;\n",
       "}\n",
       ".hoogle-code {\n",
       "display: block;\n",
       "font-family: monospace;\n",
       "white-space: pre;\n",
       "}\n",
       ".hoogle-text {\n",
       "display: block;\n",
       "}\n",
       ".hoogle-name {\n",
       "color: green;\n",
       "font-weight: bold;\n",
       "}\n",
       ".hoogle-head {\n",
       "font-weight: bold;\n",
       "}\n",
       ".hoogle-sub {\n",
       "display: block;\n",
       "margin-left: 0.4em;\n",
       "}\n",
       ".hoogle-package {\n",
       "font-weight: bold;\n",
       "font-style: italic;\n",
       "}\n",
       ".hoogle-module {\n",
       "font-weight: bold;\n",
       "}\n",
       ".hoogle-class {\n",
       "font-weight: bold;\n",
       "}\n",
       ".get-type {\n",
       "color: green;\n",
       "font-weight: bold;\n",
       "font-family: monospace;\n",
       "display: block;\n",
       "white-space: pre-wrap;\n",
       "}\n",
       ".show-type {\n",
       "color: green;\n",
       "font-weight: bold;\n",
       "font-family: monospace;\n",
       "margin-left: 1em;\n",
       "}\n",
       ".mono {\n",
       "font-family: monospace;\n",
       "display: block;\n",
       "}\n",
       ".err-msg {\n",
       "color: red;\n",
       "font-style: italic;\n",
       "font-family: monospace;\n",
       "white-space: pre;\n",
       "display: block;\n",
       "}\n",
       "#unshowable {\n",
       "color: red;\n",
       "font-weight: bold;\n",
       "}\n",
       ".err-msg.in.collapse {\n",
       "padding-top: 0.7em;\n",
       "}\n",
       ".highlight-code {\n",
       "white-space: pre;\n",
       "font-family: monospace;\n",
       "}\n",
       ".suggestion-warning { \n",
       "font-weight: bold;\n",
       "color: rgb(200, 130, 0);\n",
       "}\n",
       ".suggestion-error { \n",
       "font-weight: bold;\n",
       "color: red;\n",
       "}\n",
       ".suggestion-name {\n",
       "font-weight: bold;\n",
       "}\n",
       "</style><div class=\"suggestion-name\" style=\"clear:both;\">Redundant bracket</div><div class=\"suggestion-row\" style=\"float: left;\"><div class=\"suggestion-warning\">Found:</div><div class=\"highlight-code\" id=\"haskell\">(xs, (y : ys))</div></div><div class=\"suggestion-row\" style=\"float: left;\"><div class=\"suggestion-warning\">Why Not:</div><div class=\"highlight-code\" id=\"haskell\">(xs, y : ys)</div></div>"
      ],
      "text/plain": [
       "Line 14: Redundant bracket\n",
       "Found:\n",
       "(xs, (y : ys))\n",
       "Why not:\n",
       "(xs, y : ys)"
      ]
     },
     "metadata": {},
     "output_type": "display_data"
    }
   ],
   "source": [
    "solveHanoi :: Int -> [Move]\n",
    "solveHanoi n = solveHanoi' n 0 1 2\n",
    "  where solveHanoi' 0 _ _ _ = []\n",
    "        solveHanoi' n a b c = solveHanoi' (n-1) a c b ++ [(a,c)]\n",
    "                              ++ solveHanoi' (n-1) b a c\n",
    "\n",
    "doMove :: Move -> Hanoi -> Hanoi\n",
    "doMove (x,y) h = h''\n",
    "  where (d,h')         = removeDisk x h\n",
    "        h''            = addDisk y d h'\n",
    "        removeDisk x h = (head (h!!x), modList x tail h)\n",
    "        addDisk y d    = modList y (d:)\n",
    "\n",
    "modList i f l  = let (xs,(y:ys)) = splitAt i l in xs ++ (f y : ys)\n",
    "\n",
    "hanoiSequence :: Int -> [Hanoi]\n",
    "hanoiSequence n = scanl (flip ($)) [[0..n-1], [], []] (map doMove (solveHanoi n))\n"
   ]
  },
  {
   "cell_type": "markdown",
   "metadata": {
    "hidden": false
   },
   "source": [
    "Finally, we render a sequence of configurations representing a\n",
    "solution by laying them out vertically.\n",
    "\n"
   ]
  },
  {
   "cell_type": "code",
   "execution_count": 21,
   "metadata": {
    "collapsed": false,
    "jupyter": {
     "outputs_hidden": false
    }
   },
   "outputs": [],
   "source": [
    "renderHanoiSeq :: [Hanoi] -> Dia\n",
    "renderHanoiSeq = vcat' (with & sep .~2) . map renderHanoi\n",
    "\n",
    "example = pad 1.1 $ renderHanoiSeq (hanoiSequence 4) # centerXY"
   ]
  },
  {
   "cell_type": "code",
   "execution_count": 22,
   "metadata": {
    "collapsed": false,
    "jupyter": {
     "outputs_hidden": false
    }
   },
   "outputs": [
    {
     "ename": "",
     "evalue": "",
     "header": "MessageHeader {mhIdentifiers = [\"cecfde2e-3996-4b37-80bd-8c8e4092d92e\"], mhParentHeader = Just (MessageHeader {mhIdentifiers = [\"cecfde2e-3996-4b37-80bd-8c8e4092d92e\"], mhParentHeader = Nothing, mhMetadata = Metadata (fromList [(\"jupyter\",Object (fromList [(\"outputs_hidden\",Bool False)])),(\"recordTiming\",Bool False),(\"deletedCells\",Array []),(\"cellId\",String \"655d9801-4222-4ba8-8367-c22cc6e9452d\"),(\"collapsed\",Bool False)]), mhMessageId = UUID {uuidToString = \"4603b470-3565-4009-9c17-bd72ac26b29d\"}, mhSessionId = UUID {uuidToString = \"cecfde2e-3996-4b37-80bd-8c8e4092d92e\"}, mhUsername = \"\", mhMsgType = ExecuteRequestMessage, mhBuffers = []}), mhMetadata = Metadata (fromList []), mhMessageId = UUID {uuidToString = \"ff9ef7eb-282c-45ca-aafd-7e2deab8aaeb\"}, mhSessionId = UUID {uuidToString = \"cecfde2e-3996-4b37-80bd-8c8e4092d92e\"}, mhUsername = \"\", mhMsgType = ExecuteErrorMessage, mhBuffers = []}",
     "output_type": "error",
     "traceback": [
      "<interactive>:1:10: error:\n    • Couldn't match type ‘SVG’ with ‘Diagrams.Backend.Cairo.Internal.Cairo’\n      Expected type: Diagram Diagrams.Backend.Cairo.Internal.Cairo\n        Actual type: Diagram B\n    • In the first argument of ‘diagram’, namely ‘(example :: Diagram B)’\n      In the expression: diagram (example :: Diagram B)\n      In an equation for ‘it’: it = diagram (example :: Diagram B)"
     ]
    }
   ],
   "source": [
    "diagram (example :: Diagram B)\n"
   ]
  },
  {
   "cell_type": "code",
   "execution_count": null,
   "metadata": {},
   "outputs": [],
   "source": []
  }
 ],
 "metadata": {
  "kernelspec": {
   "display_name": "Haskell - haskell",
   "language": "haskell",
   "name": "ihaskell_haskell"
  },
  "language_info": {
   "codemirror_mode": "ihaskell",
   "file_extension": ".hs",
   "name": "haskell",
   "pygments_lexer": "Haskell",
   "version": "8.8.3"
  }
 },
 "nbformat": 4,
 "nbformat_minor": 4
}
