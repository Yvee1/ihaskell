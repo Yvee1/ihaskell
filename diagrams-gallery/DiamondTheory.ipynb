{
 "cells": [
  {
   "cell_type": "code",
   "execution_count": 4,
   "metadata": {
    "collapsed": false,
    "jupyter": {
     "outputs_hidden": false
    }
   },
   "outputs": [],
   "source": [
    "import Diagrams.Backend.SVG.CmdLine\n",
    "import Diagrams.Prelude"
   ]
  },
  {
   "cell_type": "markdown",
   "metadata": {
    "hidden": false
   },
   "source": [
    "We recreate the \"diamond theory\" by Steven H. Cullinane (see the Recode project\n",
    "http://recodeproject.com/artwork/v2n1diamond-theory).\n",
    "\n"
   ]
  },
  {
   "cell_type": "code",
   "execution_count": 14,
   "metadata": {
    "collapsed": false,
    "jupyter": {
     "outputs_hidden": false
    }
   },
   "outputs": [],
   "source": [
    "{-# LANGUAGE NoMonomorphismRestriction FlexibleContexts #-}\n",
    "\n",
    "import System.Random\n",
    "import Data.List.Split"
   ]
  },
  {
   "cell_type": "markdown",
   "metadata": {
    "hidden": false
   },
   "source": [
    "The idea is to generate a matrix of tiles, where each tile is a square with\n",
    "random black and white right triangles in it triangle. In practice, each\n",
    "tile is composed of 4 smaller (square) tiles and each of them has 4 very small\n",
    "tiles. We note the tiles \"large\", \"medium\" and \"small\" respectively in the code.\n",
    "\n",
    "We first define the small tile. It is composed of a square split into two right\n",
    "triangles. The upper left triangle is always white, the lower right triangle is\n",
    "always black.\n",
    "\n"
   ]
  },
  {
   "cell_type": "code",
   "execution_count": 6,
   "metadata": {
    "collapsed": false,
    "jupyter": {
     "outputs_hidden": false
    }
   },
   "outputs": [],
   "source": [
    "side = sqrt 2\n",
    "triangleRect :: Diagram B\n",
    "triangleRect = polygon ( with\n",
    "  & polyType .~ PolySides\n",
    "     [ 135 @@ deg, 90 @@ deg]\n",
    "     [ 1        , side      ]\n",
    "  )"
   ]
  },
  {
   "cell_type": "markdown",
   "metadata": {
    "hidden": false
   },
   "source": [
    "When defining each triangle, the enveloppe do not take the linewidth (lw) into\n",
    "account so we set it to none. This will cause issues later on.\n",
    "\n"
   ]
  },
  {
   "cell_type": "code",
   "execution_count": 7,
   "metadata": {
    "collapsed": false,
    "jupyter": {
     "outputs_hidden": false
    }
   },
   "outputs": [],
   "source": [
    "triangleLeft = triangleRect # rotateBy (1/2) # fc white # lc white # lw none\n",
    "\n",
    "triangleRight = triangleRect # fc black #lc black # lw none\n"
   ]
  },
  {
   "cell_type": "markdown",
   "metadata": {
    "hidden": false
   },
   "source": [
    "For the small tile, we enforce the old behaviour for the origin of the tile\n",
    "as we want the triangles to be composed at the point of tangency, enforced by\n",
    "\"align\".\n",
    "\n"
   ]
  },
  {
   "cell_type": "code",
   "execution_count": 8,
   "metadata": {
    "collapsed": false,
    "jupyter": {
     "outputs_hidden": false
    }
   },
   "outputs": [],
   "source": [
    "smallTile = beside (r2 (1,-1)) (triangleLeft # align (r2 (1, -1)))\n",
    "                                triangleRight\n"
   ]
  },
  {
   "cell_type": "markdown",
   "metadata": {
    "hidden": false
   },
   "source": [
    "For interesting results, the small tiles are rotated randomly\n",
    " with angles in `\\{0, \\frac{\\pi}{2}, \\pi, \\frac{3 \\pi}{2} \\}`.\n",
    "\n"
   ]
  },
  {
   "cell_type": "code",
   "execution_count": 9,
   "metadata": {
    "collapsed": false,
    "jupyter": {
     "outputs_hidden": false
    }
   },
   "outputs": [],
   "source": [
    "smallTile' :: Int -> Diagram B\n",
    "smallTile' x = smallTile # rotate x'\n",
    "  where x' = fromIntegral x *pi/2 @@ rad\n"
   ]
  },
  {
   "cell_type": "markdown",
   "metadata": {
    "hidden": false
   },
   "source": [
    "Now we can create the medium tile, where 4 small tiles are placed in a\n",
    "matrix-like fashion. The origin must be placed at the center with align\n",
    "\n"
   ]
  },
  {
   "cell_type": "markdown",
   "metadata": {
    "hidden": false
   },
   "source": [
    "We then create the large tiles as a composition of 4 medium tiles.\n",
    "For even more interesting results, we use a random number of axis of symmetry\n",
    "(between 0 and 2). Here, we take list of 16 angles as input, where each angle\n",
    "corresponds  to a random rotation for the small tiles.\n",
    "Beware reflectX is actually a reflection in respect to the Y axis, so the\n",
    "naming convention is inverted.\n",
    "\n"
   ]
  },
  {
   "cell_type": "code",
   "execution_count": 15,
   "metadata": {
    "collapsed": false,
    "jupyter": {
     "outputs_hidden": false
    }
   },
   "outputs": [
    {
     "data": {
      "text/html": [
       "<style>/* Styles used for the Hoogle display in the pager */\n",
       ".hoogle-doc {\n",
       "display: block;\n",
       "padding-bottom: 1.3em;\n",
       "padding-left: 0.4em;\n",
       "}\n",
       ".hoogle-code {\n",
       "display: block;\n",
       "font-family: monospace;\n",
       "white-space: pre;\n",
       "}\n",
       ".hoogle-text {\n",
       "display: block;\n",
       "}\n",
       ".hoogle-name {\n",
       "color: green;\n",
       "font-weight: bold;\n",
       "}\n",
       ".hoogle-head {\n",
       "font-weight: bold;\n",
       "}\n",
       ".hoogle-sub {\n",
       "display: block;\n",
       "margin-left: 0.4em;\n",
       "}\n",
       ".hoogle-package {\n",
       "font-weight: bold;\n",
       "font-style: italic;\n",
       "}\n",
       ".hoogle-module {\n",
       "font-weight: bold;\n",
       "}\n",
       ".hoogle-class {\n",
       "font-weight: bold;\n",
       "}\n",
       ".get-type {\n",
       "color: green;\n",
       "font-weight: bold;\n",
       "font-family: monospace;\n",
       "display: block;\n",
       "white-space: pre-wrap;\n",
       "}\n",
       ".show-type {\n",
       "color: green;\n",
       "font-weight: bold;\n",
       "font-family: monospace;\n",
       "margin-left: 1em;\n",
       "}\n",
       ".mono {\n",
       "font-family: monospace;\n",
       "display: block;\n",
       "}\n",
       ".err-msg {\n",
       "color: red;\n",
       "font-style: italic;\n",
       "font-family: monospace;\n",
       "white-space: pre;\n",
       "display: block;\n",
       "}\n",
       "#unshowable {\n",
       "color: red;\n",
       "font-weight: bold;\n",
       "}\n",
       ".err-msg.in.collapse {\n",
       "padding-top: 0.7em;\n",
       "}\n",
       ".highlight-code {\n",
       "white-space: pre;\n",
       "font-family: monospace;\n",
       "}\n",
       ".suggestion-warning { \n",
       "font-weight: bold;\n",
       "color: rgb(200, 130, 0);\n",
       "}\n",
       ".suggestion-error { \n",
       "font-weight: bold;\n",
       "color: red;\n",
       "}\n",
       ".suggestion-name {\n",
       "font-weight: bold;\n",
       "}\n",
       "</style><div class=\"suggestion-name\" style=\"clear:both;\">Use head</div><div class=\"suggestion-row\" style=\"float: left;\"><div class=\"suggestion-warning\">Found:</div><div class=\"highlight-code\" id=\"haskell\">chunks !! 0</div></div><div class=\"suggestion-row\" style=\"float: left;\"><div class=\"suggestion-warning\">Why Not:</div><div class=\"highlight-code\" id=\"haskell\">head chunks</div></div><div class=\"suggestion-name\" style=\"clear:both;\">Use head</div><div class=\"suggestion-row\" style=\"float: left;\"><div class=\"suggestion-warning\">Found:</div><div class=\"highlight-code\" id=\"haskell\">x !! 0</div></div><div class=\"suggestion-row\" style=\"float: left;\"><div class=\"suggestion-warning\">Why Not:</div><div class=\"highlight-code\" id=\"haskell\">head x</div></div>"
      ],
      "text/plain": [
       "Line 4: Use head\n",
       "Found:\n",
       "chunks !! 0\n",
       "Why not:\n",
       "head chunksLine 25: Use head\n",
       "Found:\n",
       "x !! 0\n",
       "Why not:\n",
       "head x"
      ]
     },
     "metadata": {},
     "output_type": "display_data"
    },
    {
     "ename": "",
     "evalue": "",
     "header": "MessageHeader {mhIdentifiers = [\"74854b53-fb74-4fdd-ae91-273b272af2e8\"], mhParentHeader = Just (MessageHeader {mhIdentifiers = [\"74854b53-fb74-4fdd-ae91-273b272af2e8\"], mhParentHeader = Nothing, mhMetadata = Metadata (fromList [(\"jupyter\",Object (fromList [(\"outputs_hidden\",Bool False)])),(\"recordTiming\",Bool False),(\"deletedCells\",Array []),(\"cellId\",String \"216f7919-59c8-4cba-b0cc-09337d88b153\"),(\"collapsed\",Bool False)]), mhMessageId = UUID {uuidToString = \"f39d183a-adb7-47cf-9020-e8f485a0aac1\"}, mhSessionId = UUID {uuidToString = \"74854b53-fb74-4fdd-ae91-273b272af2e8\"}, mhUsername = \"\", mhMsgType = ExecuteRequestMessage, mhBuffers = []}), mhMetadata = Metadata (fromList []), mhMessageId = UUID {uuidToString = \"8bb88af7-9515-4c72-a718-16e5395c8c6f\"}, mhSessionId = UUID {uuidToString = \"74854b53-fb74-4fdd-ae91-273b272af2e8\"}, mhUsername = \"\", mhMsgType = ExecuteErrorMessage, mhBuffers = []}",
     "output_type": "error",
     "traceback": [
      "<interactive>:20:1: error:\n    • Illegal equational constraint V b ~ V2\n      (Use GADTs or TypeFamilies to permit this)\n    • When checking the inferred type\n        createMatrix :: forall b. (Alignable b, HasOrigin b, Fractional (N b), Additive (V b), R2 (V b), Juxtaposable b, Semigroup b, V b ~ V2) => [b] -> b\n<interactive>:7:5: error:\n    • Illegal equational constraint V p ~ V2\n      (Use GADTs or TypeFamilies to permit this)\n    • When checking the inferred type\n        d :: forall p. (Transformable p, Additive (V p), R2 (V p), Floating (N p), V p ~ V2) => p\n      In an equation for ‘largeTile’:\n          largeTile angles xSymmetry ySymmetry\n            = createMatrix [a, b, c, ....]\n            where\n                a = mediumTile $ chunks !! 0\n                b = if ySymmetry then a # reflectX else mediumTile $ chunks !! 1\n                c = if xSymmetry then a # reflectY else mediumTile $ chunks !! 2\n                d | ySymmetry && xSymmetry = a # rotateBy (- 1 / 2)\n                  | ySymmetry = c # reflectX\n                  | xSymmetry = b # reflectY\n                  | otherwise = mediumTile $ chunks !! 3\n                ....\n<interactive>:2:57: error:\n    • Ambiguous type variable ‘a0’ arising from a use of ‘b’\n      prevents the constraint ‘(Additive (V a0))’ from being solved.\n      Probable fix: use a type annotation to specify what ‘a0’ should be.\n      These potential instances exist:\n        instance Additive Duration -- Defined in ‘Data.Active’\n        instance Additive Identity -- Defined in ‘Linear.Vector’\n        instance Additive (Measured n) -- Defined in ‘Diagrams.Core.Measure’\n        ...plus six others\n        ...plus 13 instances involving out-of-scope types\n        (use -fprint-potential-instances to see them all)\n      There are instances for similar types: instance forall k (n :: k). Linear.V.Dim n => Additive (Linear.V.V n) -- Defined in ‘Linear.V’\n    • In the expression: b\n      In the first argument of ‘createMatrix’, namely ‘[a, b, c, d]’\n      In the expression: createMatrix [a, b, c, d]\n<interactive>:2:60: error:\n    • Ambiguous type variable ‘a0’ arising from a use of ‘c’\n      prevents the constraint ‘(R2 (V a0))’ from being solved.\n      Probable fix: use a type annotation to specify what ‘a0’ should be.\n      These potential instances exist:\n        instance R2 f => R2 (Point f) -- Defined in ‘Linear.Affine’\n        instance R2 V2 -- Defined in ‘Linear.V2’\n        instance R2 V3 -- Defined in ‘Linear.V3’\n        ...plus one instance involving out-of-scope types\n        (use -fprint-potential-instances to see them all)\n    • In the expression: c\n      In the first argument of ‘createMatrix’, namely ‘[a, b, c, d]’\n      In the expression: createMatrix [a, b, c, d]"
     ]
    }
   ],
   "source": [
    "largeTile :: [Int] -> Bool -> Bool -> Diagram B\n",
    "largeTile angles xSymmetry ySymmetry = createMatrix [a, b, c, d]\n",
    "  where\n",
    "    a = mediumTile $ chunks !! 0\n",
    "    b = if ySymmetry then a # reflectX else mediumTile $ chunks !! 1\n",
    "    c = if xSymmetry then a # reflectY else mediumTile $ chunks !! 2\n",
    "    d\n",
    "      | ySymmetry && xSymmetry = a # rotateBy (-1/2)\n",
    "      | ySymmetry  = c # reflectX\n",
    "      | xSymmetry  = b # reflectY\n",
    "      | otherwise = mediumTile $ chunks !! 3\n",
    "    chunks = chunksOf 4 angles\n",
    "\n",
    "-- Needs a list of 16 angles and the number of axes\n",
    "largeTile' :: ([Int], Int) -> Diagram B\n",
    "largeTile' x = largeTile n xSymmetry ySymmetry\n",
    "  where\n",
    "    n = fst x\n",
    "    nbAxes = snd x\n",
    "    xSymmetry = nbAxes == 1 || nbAxes == 3\n",
    "    ySymmetry = nbAxes == 2 || nbAxes == 3\n",
    "\n",
    "\n",
    "createMatrix x = matrix # alignX 0 # alignY 0\n",
    "  where matrix = (x !! 0 ||| x !! 1 )\n",
    "                         ===\n",
    "                 (x !! 2 ||| x !! 3)\n",
    "\n",
    "mediumTile angles = createMatrix (map smallTile' angles)\n"
   ]
  },
  {
   "cell_type": "markdown",
   "metadata": {
    "hidden": false
   },
   "source": [
    "Finally, we create an array of large tiles by using `position`. The random\n",
    "angles and number of axis of symmetries are generated here, at the higher level.\n",
    "This allows us to only generate two random list. However, they must be split into\n",
    "chunks accordingly.\n",
    "As a final note, the bug with the linewidth will most likely appear in the final\n",
    "results as very fine gapes between the small tiles.\n",
    "\n"
   ]
  },
  {
   "cell_type": "code",
   "execution_count": null,
   "metadata": {
    "collapsed": false,
    "jupyter": {
     "outputs_hidden": false
    }
   },
   "outputs": [],
   "source": [
    "centerPos x = (x-0.5)*4 + (x-1)*d\n",
    "    where d = 1.5\n",
    "\n",
    "randInts :: Int -> [Int]\n",
    "randInts seed = randomRs (0, 3) (mkStdGen seed)\n",
    "\n",
    "example :: Diagram B\n",
    "example = position (zip (map p2 pos) (zipWith (curry largeTile') angles nbAxes))\n",
    "  where\n",
    "    nb = 10\n",
    "    pos = [(centerPos x, centerPos y) | x <- [1..nb], y <- [1..nb]]\n",
    "    angles = take (nb*nb) $ chunksOf 16 $ randInts 15\n",
    "    nbAxes = take (nb*nb) $ randInts 12\n"
   ]
  },
  {
   "cell_type": "code",
   "execution_count": null,
   "metadata": {
    "collapsed": false,
    "jupyter": {
     "outputs_hidden": false
    }
   },
   "outputs": [],
   "source": [
    "main = mainWith (example :: Diagram B)\n"
   ]
  }
 ],
 "metadata": {
  "kernelspec": {
   "display_name": "Haskell - haskell",
   "language": "haskell",
   "name": "ihaskell_haskell"
  },
  "language_info": {
   "codemirror_mode": "ihaskell",
   "file_extension": ".hs",
   "name": "haskell",
   "pygments_lexer": "Haskell",
   "version": "8.8.3"
  }
 },
 "nbformat": 4,
 "nbformat_minor": 4
}
