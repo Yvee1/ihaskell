{
 "cells": [
  {
   "cell_type": "markdown",
   "metadata": {},
   "source": [
    "see https://kcsongor.github.io/time-travel-in-haskell-for-dummies/\n",
    "and https://danilafe.com/blog/haskell_lazy_evaluation/"
   ]
  },
  {
   "cell_type": "code",
   "execution_count": 1,
   "metadata": {},
   "outputs": [],
   "source": [
    "foldmax :: (Ord a, Num a) => [a] -> [a]\n",
    "foldmax ls = ls'\n",
    "  where \n",
    "    (ls', largest) \n",
    "      = foldl (\\(b, c) a -> (largest : b, max a c)) ([], 0) ls"
   ]
  },
  {
   "cell_type": "markdown",
   "metadata": {},
   "source": [
    "Laziness is pretty cool"
   ]
  },
  {
   "cell_type": "code",
   "execution_count": 2,
   "metadata": {},
   "outputs": [
    {
     "data": {
      "text/plain": [
       "[6,6,6,6,6,6,6]"
      ]
     },
     "metadata": {},
     "output_type": "display_data"
    }
   ],
   "source": [
    "foldmax [0, 6, 2, 2, 6, 5, 2]"
   ]
  },
  {
   "cell_type": "markdown",
   "metadata": {},
   "source": [
    "In the end I think it's not much different than"
   ]
  },
  {
   "cell_type": "code",
   "execution_count": 3,
   "metadata": {},
   "outputs": [],
   "source": [
    "myFoldmax = myFoldmax' 0 0\n",
    "  where\n",
    "    myFoldmax' n m []     = replicate n m\n",
    "    myFoldmax' n m (x:xs) = myFoldmax' (n+1) (m `max` x) xs"
   ]
  },
  {
   "cell_type": "code",
   "execution_count": 4,
   "metadata": {},
   "outputs": [
    {
     "data": {
      "text/plain": [
       "[6,6,6,6,6,6,6]"
      ]
     },
     "metadata": {},
     "output_type": "display_data"
    }
   ],
   "source": [
    "myFoldmax [0, 6, 2, 2, 6, 5, 2]"
   ]
  },
  {
   "cell_type": "markdown",
   "metadata": {},
   "source": [
    "But still very cool that you can refer to a value that has not been computed yet"
   ]
  },
  {
   "cell_type": "code",
   "execution_count": null,
   "metadata": {},
   "outputs": [],
   "source": []
  }
 ],
 "metadata": {
  "kernelspec": {
   "display_name": "Haskell - haskell",
   "language": "haskell",
   "name": "ihaskell_haskell"
  },
  "language_info": {
   "codemirror_mode": "ihaskell",
   "file_extension": ".hs",
   "name": "haskell",
   "pygments_lexer": "Haskell",
   "version": "8.8.3"
  }
 },
 "nbformat": 4,
 "nbformat_minor": 4
}
