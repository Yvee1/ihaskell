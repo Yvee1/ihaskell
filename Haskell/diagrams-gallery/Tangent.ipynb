{
 "cells": [
  {
   "cell_type": "code",
   "execution_count": 1,
   "metadata": {
    "collapsed": false,
    "jupyter": {
     "outputs_hidden": false
    }
   },
   "outputs": [],
   "source": [
    "import Diagrams.Backend.Cairo.CmdLine"
   ]
  },
  {
   "cell_type": "code",
   "execution_count": 6,
   "metadata": {
    "collapsed": false,
    "jupyter": {
     "outputs_hidden": false
    }
   },
   "outputs": [],
   "source": [
    "{-# LANGUAGE NoMonomorphismRestriction FlexibleContexts TypeFamilies #-}\n",
    "import Diagrams.Prelude"
   ]
  },
  {
   "cell_type": "markdown",
   "metadata": {
    "hidden": false
   },
   "source": [
    "Some arbitrary points, with a cubic curve passing through them.\n",
    "\n"
   ]
  },
  {
   "cell_type": "code",
   "execution_count": 3,
   "metadata": {
    "collapsed": false,
    "jupyter": {
     "outputs_hidden": false
    }
   },
   "outputs": [],
   "source": [
    "pts = map p2 [(0,0), (1,1), (2,1), (3,0), (3.5,0)]\n",
    "\n",
    "spline :: Located (Trail V2 Double)\n",
    "spline = cubicSpline False pts"
   ]
  },
  {
   "cell_type": "markdown",
   "metadata": {
    "hidden": false
   },
   "source": [
    "Computing tangent and normal vectors at a particular point on the curve.\n",
    "\n"
   ]
  },
  {
   "cell_type": "code",
   "execution_count": 4,
   "metadata": {
    "collapsed": false,
    "jupyter": {
     "outputs_hidden": false
    }
   },
   "outputs": [],
   "source": [
    "param = 0.45 -- parameter on the curve where the tangent and normal are drawn\n",
    "pt = atParam spline param\n",
    "tangentVector = tangentAtParam spline param\n",
    "normalVector = normalAtParam spline param"
   ]
  },
  {
   "cell_type": "markdown",
   "metadata": {
    "hidden": false
   },
   "source": [
    "We can draw the tangent and normal vectors with lines of twice their length,\n",
    "with a square in between them to denote the right angle.\n",
    "\n"
   ]
  },
  {
   "cell_type": "code",
   "execution_count": 7,
   "metadata": {
    "collapsed": false,
    "jupyter": {
     "outputs_hidden": false
    }
   },
   "outputs": [],
   "source": [
    "symmetricLine v = fromOffsets [2 *^ v] # center\n",
    "tangentLine = symmetricLine tangentVector\n",
    "normalLine = symmetricLine normalVector\n",
    "\n",
    "rightAngleSquare = square 0.1 # alignBL # rotate (signedAngleBetween tangentVector unitX)"
   ]
  },
  {
   "cell_type": "markdown",
   "metadata": {
    "hidden": false
   },
   "source": [
    "Putting it all together, with some labels.\n",
    "\n"
   ]
  },
  {
   "cell_type": "code",
   "execution_count": 8,
   "metadata": {
    "collapsed": false,
    "jupyter": {
     "outputs_hidden": false
    }
   },
   "outputs": [],
   "source": [
    "example :: Diagram B\n",
    "example = frame 0.5 $\n",
    "  strokeLocTrail spline\n",
    "  <> mconcat\n",
    "     [ tangentLine\n",
    "     , baselineText \"tangent\" # translate tangentVector\n",
    "     , normalLine\n",
    "     , topLeftText \"normal\" # translate normalVector\n",
    "     , rightAngleSquare\n",
    "     ] # moveTo pt # fontSize large"
   ]
  },
  {
   "cell_type": "code",
   "execution_count": 9,
   "metadata": {
    "collapsed": false,
    "jupyter": {
     "outputs_hidden": false
    }
   },
   "outputs": [
    {
     "data": {
      "image/png": "[encoded data removed]",
      "image/svg+xml": [
       "<?xml version=\"1.0\" encoding=\"UTF-8\"?>\n",
       "<svg xmlns=\"http://www.w3.org/2000/svg\" xmlns:xlink=\"http://www.w3.org/1999/xlink\" width=\"408.947952pt\" height=\"287.683111pt\" viewBox=\"0 0 408.947952 287.683111\" version=\"1.1\">\n",
       "<defs>\n",
       "<g>\n",
       "<symbol overflow=\"visible\" id=\"glyph-2020-08-1734601.375186611s0-0\">\n",
       "<path style=\"stroke:none;\" d=\"M 1.140625 4.046875 L 1.140625 -16.125 L 12.5625 -16.125 L 12.5625 4.046875 Z M 2.421875 2.765625 L 11.296875 2.765625 L 11.296875 -14.828125 L 2.421875 -14.828125 Z M 2.421875 2.765625 \"/>\n",
       "</symbol>\n",
       "<symbol overflow=\"visible\" id=\"glyph-2020-08-1734601.375186611s0-1\">\n",
       "<path style=\"stroke:none;\" d=\"M 0.9375 0 L 0.9375 -1.1875 L 2.796875 -1.1875 L 2.796875 -10.671875 L 0.828125 -10.671875 L 0.828125 -11.859375 L 4.84375 -11.859375 L 4.84375 -9.75 C 5.21875 -10.550781 5.707031 -11.15625 6.3125 -11.5625 C 6.925781 -11.976562 7.632812 -12.1875 8.4375 -12.1875 C 9.75 -12.1875 10.710938 -11.8125 11.328125 -11.0625 C 11.941406 -10.3125 12.25 -9.140625 12.25 -7.546875 L 12.25 -1.1875 L 14.09375 -1.1875 L 14.09375 0 L 8.421875 0 L 8.421875 -1.1875 L 10.1875 -1.1875 L 10.1875 -6.890625 C 10.1875 -8.347656 10.007812 -9.34375 9.65625 -9.875 C 9.300781 -10.414062 8.671875 -10.6875 7.765625 -10.6875 C 6.816406 -10.6875 6.09375 -10.335938 5.59375 -9.640625 C 5.09375 -8.953125 4.84375 -7.941406 4.84375 -6.609375 L 4.84375 -1.1875 L 6.625 -1.1875 L 6.625 0 Z M 0.9375 0 \"/>\n",
       "</symbol>\n",
       "<symbol overflow=\"visible\" id=\"glyph-2020-08-1734601.375186611s0-2\">\n",
       "<path style=\"stroke:none;\" d=\"M 6.875 -0.78125 C 7.976562 -0.78125 8.8125 -1.210938 9.375 -2.078125 C 9.9375 -2.953125 10.21875 -4.238281 10.21875 -5.9375 C 10.21875 -7.632812 9.9375 -8.914062 9.375 -9.78125 C 8.8125 -10.644531 7.976562 -11.078125 6.875 -11.078125 C 5.769531 -11.078125 4.9375 -10.644531 4.375 -9.78125 C 3.8125 -8.914062 3.53125 -7.632812 3.53125 -5.9375 C 3.53125 -4.238281 3.8125 -2.953125 4.375 -2.078125 C 4.945312 -1.210938 5.78125 -0.78125 6.875 -0.78125 Z M 6.875 0.328125 C 5.144531 0.328125 3.753906 -0.242188 2.703125 -1.390625 C 1.660156 -2.535156 1.140625 -4.050781 1.140625 -5.9375 C 1.140625 -7.820312 1.660156 -9.332031 2.703125 -10.46875 C 3.753906 -11.613281 5.144531 -12.1875 6.875 -12.1875 C 8.601562 -12.1875 9.988281 -11.613281 11.03125 -10.46875 C 12.082031 -9.332031 12.609375 -7.820312 12.609375 -5.9375 C 12.609375 -4.050781 12.082031 -2.535156 11.03125 -1.390625 C 9.988281 -0.242188 8.601562 0.328125 6.875 0.328125 Z M 6.875 0.328125 \"/>\n",
       "</symbol>\n",
       "<symbol overflow=\"visible\" id=\"glyph-2020-08-1734601.375186611s0-3\">\n",
       "<path style=\"stroke:none;\" d=\"M 10.921875 -11.890625 L 10.921875 -8.921875 L 9.75 -8.921875 C 9.707031 -9.503906 9.539062 -9.941406 9.25 -10.234375 C 8.957031 -10.523438 8.535156 -10.671875 7.984375 -10.671875 C 6.972656 -10.671875 6.195312 -10.320312 5.65625 -9.625 C 5.113281 -8.925781 4.84375 -7.921875 4.84375 -6.609375 L 4.84375 -1.1875 L 7.21875 -1.1875 L 7.21875 0 L 0.9375 0 L 0.9375 -1.1875 L 2.796875 -1.1875 L 2.796875 -10.6875 L 0.828125 -10.6875 L 0.828125 -11.859375 L 4.84375 -11.859375 L 4.84375 -9.75 C 5.25 -10.582031 5.765625 -11.195312 6.390625 -11.59375 C 7.023438 -11.988281 7.796875 -12.1875 8.703125 -12.1875 C 9.035156 -12.1875 9.382812 -12.160156 9.75 -12.109375 C 10.125 -12.054688 10.515625 -11.984375 10.921875 -11.890625 Z M 10.921875 -11.890625 \"/>\n",
       "</symbol>\n",
       "<symbol overflow=\"visible\" id=\"glyph-2020-08-1734601.375186611s0-4\">\n",
       "<path style=\"stroke:none;\" d=\"M 11.84375 -9.546875 C 12.238281 -10.421875 12.742188 -11.078125 13.359375 -11.515625 C 13.972656 -11.960938 14.6875 -12.1875 15.5 -12.1875 C 16.75 -12.1875 17.675781 -11.800781 18.28125 -11.03125 C 18.894531 -10.257812 19.203125 -9.097656 19.203125 -7.546875 L 19.203125 -1.1875 L 21.046875 -1.1875 L 21.046875 0 L 15.359375 0 L 15.359375 -1.1875 L 17.140625 -1.1875 L 17.140625 -7.3125 C 17.140625 -8.519531 16.960938 -9.378906 16.609375 -9.890625 C 16.253906 -10.410156 15.660156 -10.671875 14.828125 -10.671875 C 13.921875 -10.671875 13.222656 -10.320312 12.734375 -9.625 C 12.253906 -8.9375 12.015625 -7.929688 12.015625 -6.609375 L 12.015625 -1.1875 L 13.8125 -1.1875 L 13.8125 0 L 8.1875 0 L 8.1875 -1.1875 L 9.96875 -1.1875 L 9.96875 -7.390625 C 9.96875 -8.566406 9.785156 -9.40625 9.421875 -9.90625 C 9.066406 -10.414062 8.476562 -10.671875 7.65625 -10.671875 C 6.738281 -10.671875 6.039062 -10.320312 5.5625 -9.625 C 5.082031 -8.9375 4.84375 -7.929688 4.84375 -6.609375 L 4.84375 -1.1875 L 6.625 -1.1875 L 6.625 0 L 0.9375 0 L 0.9375 -1.1875 L 2.796875 -1.1875 L 2.796875 -10.6875 L 0.828125 -10.6875 L 0.828125 -11.859375 L 4.84375 -11.859375 L 4.84375 -9.75 C 5.21875 -10.539062 5.695312 -11.144531 6.28125 -11.5625 C 6.875 -11.976562 7.546875 -12.1875 8.296875 -12.1875 C 9.210938 -12.1875 9.976562 -11.957031 10.59375 -11.5 C 11.21875 -11.039062 11.632812 -10.390625 11.84375 -9.546875 Z M 11.84375 -9.546875 \"/>\n",
       "</symbol>\n",
       "<symbol overflow=\"visible\" id=\"glyph-2020-08-1734601.375186611s0-5\">\n",
       "<path style=\"stroke:none;\" d=\"M 9.09375 -3.734375 L 9.09375 -6.234375 L 6.453125 -6.234375 C 5.429688 -6.234375 4.671875 -6.015625 4.171875 -5.578125 C 3.671875 -5.140625 3.421875 -4.46875 3.421875 -3.5625 C 3.421875 -2.738281 3.671875 -2.082031 4.171875 -1.59375 C 4.679688 -1.113281 5.367188 -0.875 6.234375 -0.875 C 7.085938 -0.875 7.773438 -1.132812 8.296875 -1.65625 C 8.828125 -2.1875 9.09375 -2.878906 9.09375 -3.734375 Z M 11.15625 -7.40625 L 11.15625 -1.1875 L 12.984375 -1.1875 L 12.984375 0 L 9.09375 0 L 9.09375 -1.28125 C 8.644531 -0.726562 8.117188 -0.320312 7.515625 -0.0625 C 6.921875 0.195312 6.226562 0.328125 5.4375 0.328125 C 4.113281 0.328125 3.066406 -0.0195312 2.296875 -0.71875 C 1.523438 -1.425781 1.140625 -2.375 1.140625 -3.5625 C 1.140625 -4.789062 1.582031 -5.742188 2.46875 -6.421875 C 3.351562 -7.097656 4.601562 -7.4375 6.21875 -7.4375 L 9.09375 -7.4375 L 9.09375 -8.25 C 9.09375 -9.144531 8.816406 -9.835938 8.265625 -10.328125 C 7.722656 -10.828125 6.957031 -11.078125 5.96875 -11.078125 C 5.15625 -11.078125 4.503906 -10.890625 4.015625 -10.515625 C 3.535156 -10.148438 3.234375 -9.601562 3.109375 -8.875 L 2.046875 -8.875 L 2.046875 -11.265625 C 2.765625 -11.578125 3.457031 -11.804688 4.125 -11.953125 C 4.800781 -12.109375 5.460938 -12.1875 6.109375 -12.1875 C 7.753906 -12.1875 9.003906 -11.78125 9.859375 -10.96875 C 10.722656 -10.15625 11.15625 -8.96875 11.15625 -7.40625 Z M 11.15625 -7.40625 \"/>\n",
       "</symbol>\n",
       "<symbol overflow=\"visible\" id=\"glyph-2020-08-1734601.375186611s0-6\">\n",
       "<path style=\"stroke:none;\" d=\"M 4.6875 -1.1875 L 6.625 -1.1875 L 6.625 0 L 0.65625 0 L 0.65625 -1.1875 L 2.640625 -1.1875 L 2.640625 -16.1875 L 0.65625 -16.1875 L 0.65625 -17.375 L 4.6875 -17.375 Z M 4.6875 -1.1875 \"/>\n",
       "</symbol>\n",
       "<symbol overflow=\"visible\" id=\"glyph-2020-08-1734601.375186611s0-7\">\n",
       "<path style=\"stroke:none;\" d=\"M 2.46875 -10.671875 L 0.65625 -10.671875 L 0.65625 -11.859375 L 2.46875 -11.859375 L 2.46875 -15.546875 L 4.53125 -15.546875 L 4.53125 -11.859375 L 8.390625 -11.859375 L 8.390625 -10.671875 L 4.53125 -10.671875 L 4.53125 -3.140625 C 4.53125 -2.128906 4.625 -1.484375 4.8125 -1.203125 C 5.007812 -0.921875 5.367188 -0.78125 5.890625 -0.78125 C 6.429688 -0.78125 6.820312 -0.9375 7.0625 -1.25 C 7.3125 -1.570312 7.441406 -2.085938 7.453125 -2.796875 L 9 -2.796875 C 8.945312 -1.710938 8.65625 -0.921875 8.125 -0.421875 C 7.59375 0.078125 6.789062 0.328125 5.71875 0.328125 C 4.53125 0.328125 3.691406 0.0664062 3.203125 -0.453125 C 2.710938 -0.984375 2.46875 -1.878906 2.46875 -3.140625 Z M 2.46875 -10.671875 \"/>\n",
       "</symbol>\n",
       "<symbol overflow=\"visible\" id=\"glyph-2020-08-1734601.375186611s0-8\">\n",
       "<path style=\"stroke:none;\" d=\"M 12 -10.671875 L 12 -0.25 C 12 1.445312 11.53125 2.757812 10.59375 3.6875 C 9.65625 4.613281 8.316406 5.078125 6.578125 5.078125 C 5.796875 5.078125 5.046875 5.003906 4.328125 4.859375 C 3.617188 4.722656 2.9375 4.515625 2.28125 4.234375 L 2.28125 1.734375 L 3.359375 1.734375 C 3.492188 2.515625 3.8125 3.082031 4.3125 3.4375 C 4.8125 3.789062 5.523438 3.96875 6.453125 3.96875 C 7.660156 3.96875 8.539062 3.628906 9.09375 2.953125 C 9.65625 2.273438 9.9375 1.207031 9.9375 -0.25 L 9.9375 -1.859375 C 9.539062 -1.109375 9.03125 -0.554688 8.40625 -0.203125 C 7.789062 0.148438 7.023438 0.328125 6.109375 0.328125 C 4.648438 0.328125 3.457031 -0.25 2.53125 -1.40625 C 1.601562 -2.5625 1.140625 -4.070312 1.140625 -5.9375 C 1.140625 -7.800781 1.597656 -9.304688 2.515625 -10.453125 C 3.441406 -11.609375 4.640625 -12.1875 6.109375 -12.1875 C 7.023438 -12.1875 7.789062 -12.007812 8.40625 -11.65625 C 9.03125 -11.300781 9.539062 -10.753906 9.9375 -10.015625 L 9.9375 -11.859375 L 13.96875 -11.859375 L 13.96875 -10.671875 Z M 9.9375 -6.515625 C 9.9375 -7.941406 9.660156 -9.03125 9.109375 -9.78125 C 8.566406 -10.53125 7.773438 -10.90625 6.734375 -10.90625 C 5.679688 -10.90625 4.882812 -10.488281 4.34375 -9.65625 C 3.800781 -8.820312 3.53125 -7.582031 3.53125 -5.9375 C 3.53125 -4.300781 3.800781 -3.0625 4.34375 -2.21875 C 4.882812 -1.375 5.679688 -0.953125 6.734375 -0.953125 C 7.773438 -0.953125 8.566406 -1.328125 9.109375 -2.078125 C 9.660156 -2.828125 9.9375 -3.914062 9.9375 -5.34375 Z M 9.9375 -6.515625 \"/>\n",
       "</symbol>\n",
       "<symbol overflow=\"visible\" id=\"glyph-2020-08-1734601.375186611s0-9\">\n",
       "<path style=\"stroke:none;\" d=\"M 12.390625 -5.71875 L 3.53125 -5.71875 L 3.53125 -5.625 C 3.53125 -4.019531 3.832031 -2.8125 4.4375 -2 C 5.039062 -1.1875 5.929688 -0.78125 7.109375 -0.78125 C 8.003906 -0.78125 8.738281 -1.015625 9.3125 -1.484375 C 9.894531 -1.960938 10.300781 -2.664062 10.53125 -3.59375 L 12.1875 -3.59375 C 11.863281 -2.289062 11.257812 -1.3125 10.375 -0.65625 C 9.488281 0 8.328125 0.328125 6.890625 0.328125 C 5.160156 0.328125 3.769531 -0.242188 2.71875 -1.390625 C 1.664062 -2.535156 1.140625 -4.050781 1.140625 -5.9375 C 1.140625 -7.8125 1.65625 -9.320312 2.6875 -10.46875 C 3.71875 -11.613281 5.078125 -12.1875 6.765625 -12.1875 C 8.554688 -12.1875 9.929688 -11.632812 10.890625 -10.53125 C 11.847656 -9.425781 12.347656 -7.820312 12.390625 -5.71875 Z M 9.96875 -6.890625 C 9.925781 -8.273438 9.632812 -9.316406 9.09375 -10.015625 C 8.550781 -10.722656 7.773438 -11.078125 6.765625 -11.078125 C 5.816406 -11.078125 5.070312 -10.722656 4.53125 -10.015625 C 3.988281 -9.316406 3.65625 -8.273438 3.53125 -6.890625 Z M 9.96875 -6.890625 \"/>\n",
       "</symbol>\n",
       "</g>\n",
       "</defs>\n",
       "<g id=\"surface13\">\n",
       "<path style=\"fill:none;stroke-width:1.371991;stroke-linecap:butt;stroke-linejoin:miter;stroke:rgb(0%,0%,0%);stroke-opacity:1;stroke-miterlimit:10;\" d=\"M 216.648438 132.976562 L 220.09375 124.566406 L 211.683594 121.121094 L 208.238281 129.53125 Z M 216.648438 132.976562 \"/>\n",
       "<g style=\"fill:rgb(0%,0%,0%);fill-opacity:1;\">\n",
       "  <use xlink:href=\"#glyph-2020-08-1734601.375186611s0-1\" x=\"173.781843\" y=\"234.846497\"/>\n",
       "  <use xlink:href=\"#glyph-2020-08-1734601.375186611s0-2\" x=\"188.781843\" y=\"234.846497\"/>\n",
       "  <use xlink:href=\"#glyph-2020-08-1734601.375186611s0-3\" x=\"202.781843\" y=\"234.846497\"/>\n",
       "  <use xlink:href=\"#glyph-2020-08-1734601.375186611s0-4\" x=\"213.781843\" y=\"234.846497\"/>\n",
       "  <use xlink:href=\"#glyph-2020-08-1734601.375186611s0-5\" x=\"235.781843\" y=\"234.846497\"/>\n",
       "  <use xlink:href=\"#glyph-2020-08-1734601.375186611s0-6\" x=\"249.781843\" y=\"234.846497\"/>\n",
       "</g>\n",
       "<path style=\"fill:none;stroke-width:1.371991;stroke-linecap:butt;stroke-linejoin:miter;stroke:rgb(0%,0%,0%);stroke-opacity:1;stroke-miterlimit:10;\" d=\"M 242.695312 45.4375 L 173.78125 213.621094 \"/>\n",
       "<g style=\"fill:rgb(0%,0%,0%);fill-opacity:1;\">\n",
       "  <use xlink:href=\"#glyph-2020-08-1734601.375186611s0-7\" x=\"301.38815\" y=\"167.69875\"/>\n",
       "  <use xlink:href=\"#glyph-2020-08-1734601.375186611s0-5\" x=\"310.38815\" y=\"167.69875\"/>\n",
       "  <use xlink:href=\"#glyph-2020-08-1734601.375186611s0-1\" x=\"324.38815\" y=\"167.69875\"/>\n",
       "  <use xlink:href=\"#glyph-2020-08-1734601.375186611s0-8\" x=\"339.38815\" y=\"167.69875\"/>\n",
       "  <use xlink:href=\"#glyph-2020-08-1734601.375186611s0-9\" x=\"354.38815\" y=\"167.69875\"/>\n",
       "  <use xlink:href=\"#glyph-2020-08-1734601.375186611s0-1\" x=\"368.38815\" y=\"167.69875\"/>\n",
       "  <use xlink:href=\"#glyph-2020-08-1734601.375186611s0-7\" x=\"383.38815\" y=\"167.69875\"/>\n",
       "</g>\n",
       "<path style=\"fill:none;stroke-width:1.371991;stroke-linecap:butt;stroke-linejoin:miter;stroke:rgb(0%,0%,0%);stroke-opacity:1;stroke-miterlimit:10;\" d=\"M 115.089844 91.363281 L 301.386719 167.699219 \"/>\n",
       "<path style=\"fill:none;stroke-width:1.371991;stroke-linecap:butt;stroke-linejoin:miter;stroke:rgb(0%,0%,0%);stroke-opacity:1;stroke-miterlimit:10;\" d=\"M 45.4375 231 C 76 195.296875 106.5625 159.597656 136.316406 140.121094 C 166.066406 120.648438 195.007812 117.402344 227.195312 140.121094 C 259.382812 162.839844 294.8125 211.523438 318.074219 231 C 341.335938 250.472656 352.421875 240.738281 363.511719 231 \"/>\n",
       "</g>\n",
       "</svg>\n"
      ]
     },
     "metadata": {},
     "output_type": "display_data"
    }
   ],
   "source": [
    "diagram example"
   ]
  },
  {
   "cell_type": "code",
   "execution_count": null,
   "metadata": {},
   "outputs": [],
   "source": []
  }
 ],
 "metadata": {
  "kernelspec": {
   "display_name": "Haskell - haskell",
   "language": "haskell",
   "name": "ihaskell_haskell"
  },
  "language_info": {
   "codemirror_mode": "ihaskell",
   "file_extension": ".hs",
   "name": "haskell",
   "pygments_lexer": "Haskell",
   "version": "8.8.3"
  }
 },
 "nbformat": 4,
 "nbformat_minor": 4
}
