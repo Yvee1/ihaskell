{
 "cells": [
  {
   "cell_type": "code",
   "execution_count": 5,
   "metadata": {
    "collapsed": false,
    "jupyter": {
     "outputs_hidden": false
    }
   },
   "outputs": [],
   "source": [
    "{-# LANGUAGE NoMonomorphismRestriction FlexibleContexts TypeFamilies #-}\n",
    "import Diagrams.Prelude\n",
    "import Diagrams.Backend.Cairo.CmdLine\n",
    "import Data.List\n",
    "import Data.Colour.SRGB (sRGB24read)\n",
    "\n",
    "type Dia = Diagram B"
   ]
  },
  {
   "cell_type": "markdown",
   "metadata": {
    "hidden": false
   },
   "source": [
    "First, some colors for our disks, and types to represent the data\n",
    "structures involved.\n",
    "\n"
   ]
  },
  {
   "cell_type": "code",
   "execution_count": 6,
   "metadata": {
    "collapsed": false,
    "jupyter": {
     "outputs_hidden": false
    }
   },
   "outputs": [],
   "source": [
    "colors = cycle $ map sRGB24read [ \"#9FB4CC\", \"#CCCC9F\", \"#DB4105\", \"#FFF8E3\", \"#33332D\"]\n",
    "\n",
    "type Disk  = Int\n",
    "type Stack = [Disk]\n",
    "type Hanoi = [Stack]\n",
    "type Move  = (Int,Int)"
   ]
  },
  {
   "cell_type": "markdown",
   "metadata": {
    "hidden": false
   },
   "source": [
    "To render a single disk, draw a rectangle with width proportional to\n",
    "its disk number, using a color selected from the `colors` list.\n",
    "\n"
   ]
  },
  {
   "cell_type": "code",
   "execution_count": 7,
   "metadata": {
    "collapsed": false,
    "jupyter": {
     "outputs_hidden": false
    }
   },
   "outputs": [],
   "source": [
    "renderDisk n = rect (fromIntegral n + 2) 1\n",
    "               # lc black\n",
    "               # lw thin\n",
    "               # fc (colors !! n)"
   ]
  },
  {
   "cell_type": "markdown",
   "metadata": {
    "hidden": false
   },
   "source": [
    "To render a stack of disks, just stack their renderings on top of a\n",
    "drawing of a peg.  We use `alignB` to place stack of disks at the\n",
    "bottom of the peg.\n",
    "\n"
   ]
  },
  {
   "cell_type": "code",
   "execution_count": 8,
   "metadata": {
    "collapsed": false,
    "jupyter": {
     "outputs_hidden": false
    }
   },
   "outputs": [],
   "source": [
    "renderStack :: Stack -> Dia\n",
    "renderStack s = disks `atop` post\n",
    "  where disks = (vcat . map renderDisk $ s)\n",
    "                # alignB\n",
    "        post  = rect 0.8 6\n",
    "                # lw none\n",
    "                # fc black\n",
    "                # alignB"
   ]
  },
  {
   "cell_type": "markdown",
   "metadata": {
    "hidden": false
   },
   "source": [
    "Finally, to render a collection of stacks, lay them out\n",
    "horizontally, using the `Distrib` method so the pegs end up spaced\n",
    "evenly no matter the width of the disks on any particular peg.\n",
    "\n"
   ]
  },
  {
   "cell_type": "code",
   "execution_count": 9,
   "metadata": {
    "collapsed": false,
    "jupyter": {
     "outputs_hidden": false
    }
   },
   "outputs": [],
   "source": [
    "renderHanoi :: Hanoi -> Dia\n",
    "renderHanoi = hcat' (with & catMethod .~ Distrib & sep .~ 7) . map renderStack\n"
   ]
  },
  {
   "cell_type": "markdown",
   "metadata": {
    "hidden": false
   },
   "source": [
    "Now some code to actually solve the puzzle, generating a list of moves\n",
    "which are then used to simulate the solution and generate a list of\n",
    "configurations.\n",
    "\n"
   ]
  },
  {
   "cell_type": "code",
   "execution_count": 10,
   "metadata": {
    "collapsed": false,
    "jupyter": {
     "outputs_hidden": false
    }
   },
   "outputs": [
    {
     "data": {
      "text/html": [
       "<style>/* Styles used for the Hoogle display in the pager */\n",
       ".hoogle-doc {\n",
       "display: block;\n",
       "padding-bottom: 1.3em;\n",
       "padding-left: 0.4em;\n",
       "}\n",
       ".hoogle-code {\n",
       "display: block;\n",
       "font-family: monospace;\n",
       "white-space: pre;\n",
       "}\n",
       ".hoogle-text {\n",
       "display: block;\n",
       "}\n",
       ".hoogle-name {\n",
       "color: green;\n",
       "font-weight: bold;\n",
       "}\n",
       ".hoogle-head {\n",
       "font-weight: bold;\n",
       "}\n",
       ".hoogle-sub {\n",
       "display: block;\n",
       "margin-left: 0.4em;\n",
       "}\n",
       ".hoogle-package {\n",
       "font-weight: bold;\n",
       "font-style: italic;\n",
       "}\n",
       ".hoogle-module {\n",
       "font-weight: bold;\n",
       "}\n",
       ".hoogle-class {\n",
       "font-weight: bold;\n",
       "}\n",
       ".get-type {\n",
       "color: green;\n",
       "font-weight: bold;\n",
       "font-family: monospace;\n",
       "display: block;\n",
       "white-space: pre-wrap;\n",
       "}\n",
       ".show-type {\n",
       "color: green;\n",
       "font-weight: bold;\n",
       "font-family: monospace;\n",
       "margin-left: 1em;\n",
       "}\n",
       ".mono {\n",
       "font-family: monospace;\n",
       "display: block;\n",
       "}\n",
       ".err-msg {\n",
       "color: red;\n",
       "font-style: italic;\n",
       "font-family: monospace;\n",
       "white-space: pre;\n",
       "display: block;\n",
       "}\n",
       "#unshowable {\n",
       "color: red;\n",
       "font-weight: bold;\n",
       "}\n",
       ".err-msg.in.collapse {\n",
       "padding-top: 0.7em;\n",
       "}\n",
       ".highlight-code {\n",
       "white-space: pre;\n",
       "font-family: monospace;\n",
       "}\n",
       ".suggestion-warning { \n",
       "font-weight: bold;\n",
       "color: rgb(200, 130, 0);\n",
       "}\n",
       ".suggestion-error { \n",
       "font-weight: bold;\n",
       "color: red;\n",
       "}\n",
       ".suggestion-name {\n",
       "font-weight: bold;\n",
       "}\n",
       "</style><div class=\"suggestion-name\" style=\"clear:both;\">Redundant bracket</div><div class=\"suggestion-row\" style=\"float: left;\"><div class=\"suggestion-warning\">Found:</div><div class=\"highlight-code\" id=\"haskell\">(xs, (y : ys))</div></div><div class=\"suggestion-row\" style=\"float: left;\"><div class=\"suggestion-warning\">Why Not:</div><div class=\"highlight-code\" id=\"haskell\">(xs, y : ys)</div></div>"
      ],
      "text/plain": [
       "Line 14: Redundant bracket\n",
       "Found:\n",
       "(xs, (y : ys))\n",
       "Why not:\n",
       "(xs, y : ys)"
      ]
     },
     "metadata": {},
     "output_type": "display_data"
    }
   ],
   "source": [
    "solveHanoi :: Int -> [Move]\n",
    "solveHanoi n = solveHanoi' n 0 1 2\n",
    "  where solveHanoi' 0 _ _ _ = []\n",
    "        solveHanoi' n a b c = solveHanoi' (n-1) a c b ++ [(a,c)]\n",
    "                              ++ solveHanoi' (n-1) b a c\n",
    "\n",
    "doMove :: Move -> Hanoi -> Hanoi\n",
    "doMove (x,y) h = h''\n",
    "  where (d,h')         = removeDisk x h\n",
    "        h''            = addDisk y d h'\n",
    "        removeDisk x h = (head (h!!x), modList x tail h)\n",
    "        addDisk y d    = modList y (d:)\n",
    "\n",
    "modList i f l  = let (xs,(y:ys)) = splitAt i l in xs ++ (f y : ys)\n",
    "\n",
    "hanoiSequence :: Int -> [Hanoi]\n",
    "hanoiSequence n = scanl (flip ($)) [[0..n-1], [], []] (map doMove (solveHanoi n))\n"
   ]
  },
  {
   "cell_type": "markdown",
   "metadata": {
    "hidden": false
   },
   "source": [
    "Finally, we render a sequence of configurations representing a\n",
    "solution by laying them out vertically.\n",
    "\n"
   ]
  },
  {
   "cell_type": "code",
   "execution_count": 11,
   "metadata": {
    "collapsed": false,
    "jupyter": {
     "outputs_hidden": false
    }
   },
   "outputs": [],
   "source": [
    "renderHanoiSeq :: [Hanoi] -> Dia\n",
    "renderHanoiSeq = vcat' (with & sep .~2) . map renderHanoi\n",
    "\n",
    "example = pad 1.1 $ renderHanoiSeq (hanoiSequence 4) # centerXY"
   ]
  },
  {
   "cell_type": "code",
   "execution_count": 13,
   "metadata": {
    "collapsed": false,
    "jupyter": {
     "outputs_hidden": false
    }
   },
   "outputs": [
    {
     "data": {
      "image/png": "[encoded data removed]",
      "image/svg+xml": [
       "<?xml version=\"1.0\" encoding=\"UTF-8\"?>\n",
       "<svg xmlns=\"http://www.w3.org/2000/svg\" xmlns:xlink=\"http://www.w3.org/1999/xlink\" width=\"74.553959pt\" height=\"494.410464pt\" viewBox=\"0 0 74.553959 494.410464\" version=\"1.1\">\n",
       "<g id=\"surface8\">\n",
       "<path style=\" stroke:none;fill-rule:nonzero;fill:rgb(0%,0%,0%);fill-opacity:1;\" d=\"M 63.675781 471.9375 L 63.675781 450.535156 L 60.820312 450.535156 L 60.820312 471.9375 Z M 63.675781 471.9375 \"/>\n",
       "<path style=\"fill-rule:nonzero;fill:rgb(100%,97.254902%,89.019608%);fill-opacity:1;stroke-width:0.5;stroke-linecap:butt;stroke-linejoin:miter;stroke:rgb(0%,0%,0%);stroke-opacity:1;stroke-miterlimit:10;\" d=\"M 71.164062 471.9375 L 71.164062 468.371094 L 53.328125 468.371094 L 53.328125 471.9375 Z M 71.164062 471.9375 \"/>\n",
       "<path style=\"fill-rule:nonzero;fill:rgb(85.882353%,25.490196%,1.960784%);fill-opacity:1;stroke-width:0.5;stroke-linecap:butt;stroke-linejoin:miter;stroke:rgb(0%,0%,0%);stroke-opacity:1;stroke-miterlimit:10;\" d=\"M 69.382812 468.371094 L 69.382812 464.804688 L 55.113281 464.804688 L 55.113281 468.371094 Z M 69.382812 468.371094 \"/>\n",
       "<path style=\"fill-rule:nonzero;fill:rgb(80%,80%,62.352941%);fill-opacity:1;stroke-width:0.5;stroke-linecap:butt;stroke-linejoin:miter;stroke:rgb(0%,0%,0%);stroke-opacity:1;stroke-miterlimit:10;\" d=\"M 67.597656 464.804688 L 67.597656 461.238281 L 56.894531 461.238281 L 56.894531 464.804688 Z M 67.597656 464.804688 \"/>\n",
       "<path style=\"fill-rule:nonzero;fill:rgb(62.352941%,70.588235%,80%);fill-opacity:1;stroke-width:0.5;stroke-linecap:butt;stroke-linejoin:miter;stroke:rgb(0%,0%,0%);stroke-opacity:1;stroke-miterlimit:10;\" d=\"M 65.8125 461.234375 L 65.8125 457.667969 L 58.679688 457.667969 L 58.679688 461.234375 Z M 65.8125 461.234375 \"/>\n",
       "<path style=\" stroke:none;fill-rule:nonzero;fill:rgb(0%,0%,0%);fill-opacity:1;\" d=\"M 38.703125 471.9375 L 38.703125 450.535156 L 35.847656 450.535156 L 35.847656 471.9375 Z M 38.703125 471.9375 \"/>\n",
       "<path style=\" stroke:none;fill-rule:nonzero;fill:rgb(0%,0%,0%);fill-opacity:1;\" d=\"M 13.734375 471.9375 L 13.734375 450.535156 L 10.878906 450.535156 L 10.878906 471.9375 Z M 13.734375 471.9375 \"/>\n",
       "<path style=\" stroke:none;fill-rule:nonzero;fill:rgb(0%,0%,0%);fill-opacity:1;\" d=\"M 63.675781 443.398438 L 63.675781 421.996094 L 60.820312 421.996094 L 60.820312 443.398438 Z M 63.675781 443.398438 \"/>\n",
       "<path style=\"fill-rule:nonzero;fill:rgb(100%,97.254902%,89.019608%);fill-opacity:1;stroke-width:0.5;stroke-linecap:butt;stroke-linejoin:miter;stroke:rgb(0%,0%,0%);stroke-opacity:1;stroke-miterlimit:10;\" d=\"M 71.164062 443.398438 L 71.164062 439.832031 L 53.328125 439.832031 L 53.328125 443.398438 Z M 71.164062 443.398438 \"/>\n",
       "<path style=\"fill-rule:nonzero;fill:rgb(85.882353%,25.490196%,1.960784%);fill-opacity:1;stroke-width:0.5;stroke-linecap:butt;stroke-linejoin:miter;stroke:rgb(0%,0%,0%);stroke-opacity:1;stroke-miterlimit:10;\" d=\"M 69.382812 439.832031 L 69.382812 436.265625 L 55.113281 436.265625 L 55.113281 439.832031 Z M 69.382812 439.832031 \"/>\n",
       "<path style=\"fill-rule:nonzero;fill:rgb(80%,80%,62.352941%);fill-opacity:1;stroke-width:0.5;stroke-linecap:butt;stroke-linejoin:miter;stroke:rgb(0%,0%,0%);stroke-opacity:1;stroke-miterlimit:10;\" d=\"M 67.597656 436.265625 L 67.597656 432.699219 L 56.894531 432.699219 L 56.894531 436.265625 Z M 67.597656 436.265625 \"/>\n",
       "<path style=\" stroke:none;fill-rule:nonzero;fill:rgb(0%,0%,0%);fill-opacity:1;\" d=\"M 38.703125 443.398438 L 38.703125 421.996094 L 35.847656 421.996094 L 35.847656 443.398438 Z M 38.703125 443.398438 \"/>\n",
       "<path style=\"fill-rule:nonzero;fill:rgb(62.352941%,70.588235%,80%);fill-opacity:1;stroke-width:0.5;stroke-linecap:butt;stroke-linejoin:miter;stroke:rgb(0%,0%,0%);stroke-opacity:1;stroke-miterlimit:10;\" d=\"M 40.84375 443.398438 L 40.84375 439.832031 L 33.710938 439.832031 L 33.710938 443.398438 Z M 40.84375 443.398438 \"/>\n",
       "<path style=\" stroke:none;fill-rule:nonzero;fill:rgb(0%,0%,0%);fill-opacity:1;\" d=\"M 13.734375 443.398438 L 13.734375 421.996094 L 10.878906 421.996094 L 10.878906 443.398438 Z M 13.734375 443.398438 \"/>\n",
       "<path style=\" stroke:none;fill-rule:nonzero;fill:rgb(0%,0%,0%);fill-opacity:1;\" d=\"M 63.675781 414.863281 L 63.675781 393.460938 L 60.820312 393.460938 L 60.820312 414.863281 Z M 63.675781 414.863281 \"/>\n",
       "<path style=\"fill-rule:nonzero;fill:rgb(100%,97.254902%,89.019608%);fill-opacity:1;stroke-width:0.5;stroke-linecap:butt;stroke-linejoin:miter;stroke:rgb(0%,0%,0%);stroke-opacity:1;stroke-miterlimit:10;\" d=\"M 71.164062 414.863281 L 71.164062 411.296875 L 53.328125 411.296875 L 53.328125 414.863281 Z M 71.164062 414.863281 \"/>\n",
       "<path style=\"fill-rule:nonzero;fill:rgb(85.882353%,25.490196%,1.960784%);fill-opacity:1;stroke-width:0.5;stroke-linecap:butt;stroke-linejoin:miter;stroke:rgb(0%,0%,0%);stroke-opacity:1;stroke-miterlimit:10;\" d=\"M 69.382812 411.296875 L 69.382812 407.730469 L 55.113281 407.730469 L 55.113281 411.296875 Z M 69.382812 411.296875 \"/>\n",
       "<path style=\" stroke:none;fill-rule:nonzero;fill:rgb(0%,0%,0%);fill-opacity:1;\" d=\"M 38.703125 414.863281 L 38.703125 393.460938 L 35.847656 393.460938 L 35.847656 414.863281 Z M 38.703125 414.863281 \"/>\n",
       "<path style=\"fill-rule:nonzero;fill:rgb(62.352941%,70.588235%,80%);fill-opacity:1;stroke-width:0.5;stroke-linecap:butt;stroke-linejoin:miter;stroke:rgb(0%,0%,0%);stroke-opacity:1;stroke-miterlimit:10;\" d=\"M 40.84375 414.863281 L 40.84375 411.296875 L 33.710938 411.296875 L 33.710938 414.863281 Z M 40.84375 414.863281 \"/>\n",
       "<path style=\" stroke:none;fill-rule:nonzero;fill:rgb(0%,0%,0%);fill-opacity:1;\" d=\"M 13.734375 414.863281 L 13.734375 393.460938 L 10.878906 393.460938 L 10.878906 414.863281 Z M 13.734375 414.863281 \"/>\n",
       "<path style=\"fill-rule:nonzero;fill:rgb(80%,80%,62.352941%);fill-opacity:1;stroke-width:0.5;stroke-linecap:butt;stroke-linejoin:miter;stroke:rgb(0%,0%,0%);stroke-opacity:1;stroke-miterlimit:10;\" d=\"M 17.65625 414.863281 L 17.65625 411.296875 L 6.953125 411.296875 L 6.953125 414.863281 Z M 17.65625 414.863281 \"/>\n",
       "<path style=\" stroke:none;fill-rule:nonzero;fill:rgb(0%,0%,0%);fill-opacity:1;\" d=\"M 63.675781 386.324219 L 63.675781 364.921875 L 60.820312 364.921875 L 60.820312 386.324219 Z M 63.675781 386.324219 \"/>\n",
       "<path style=\"fill-rule:nonzero;fill:rgb(100%,97.254902%,89.019608%);fill-opacity:1;stroke-width:0.5;stroke-linecap:butt;stroke-linejoin:miter;stroke:rgb(0%,0%,0%);stroke-opacity:1;stroke-miterlimit:10;\" d=\"M 71.164062 386.324219 L 71.164062 382.757812 L 53.328125 382.757812 L 53.328125 386.324219 Z M 71.164062 386.324219 \"/>\n",
       "<path style=\"fill-rule:nonzero;fill:rgb(85.882353%,25.490196%,1.960784%);fill-opacity:1;stroke-width:0.5;stroke-linecap:butt;stroke-linejoin:miter;stroke:rgb(0%,0%,0%);stroke-opacity:1;stroke-miterlimit:10;\" d=\"M 69.382812 382.757812 L 69.382812 379.191406 L 55.113281 379.191406 L 55.113281 382.757812 Z M 69.382812 382.757812 \"/>\n",
       "<path style=\" stroke:none;fill-rule:nonzero;fill:rgb(0%,0%,0%);fill-opacity:1;\" d=\"M 38.703125 386.324219 L 38.703125 364.921875 L 35.847656 364.921875 L 35.847656 386.324219 Z M 38.703125 386.324219 \"/>\n",
       "<path style=\" stroke:none;fill-rule:nonzero;fill:rgb(0%,0%,0%);fill-opacity:1;\" d=\"M 13.734375 386.324219 L 13.734375 364.921875 L 10.878906 364.921875 L 10.878906 386.324219 Z M 13.734375 386.324219 \"/>\n",
       "<path style=\"fill-rule:nonzero;fill:rgb(80%,80%,62.352941%);fill-opacity:1;stroke-width:0.5;stroke-linecap:butt;stroke-linejoin:miter;stroke:rgb(0%,0%,0%);stroke-opacity:1;stroke-miterlimit:10;\" d=\"M 17.65625 386.324219 L 17.65625 382.757812 L 6.953125 382.757812 L 6.953125 386.324219 Z M 17.65625 386.324219 \"/>\n",
       "<path style=\"fill-rule:nonzero;fill:rgb(62.352941%,70.588235%,80%);fill-opacity:1;stroke-width:0.5;stroke-linecap:butt;stroke-linejoin:miter;stroke:rgb(0%,0%,0%);stroke-opacity:1;stroke-miterlimit:10;\" d=\"M 15.875 382.757812 L 15.875 379.191406 L 8.742188 379.191406 L 8.742188 382.757812 Z M 15.875 382.757812 \"/>\n",
       "<path style=\" stroke:none;fill-rule:nonzero;fill:rgb(0%,0%,0%);fill-opacity:1;\" d=\"M 63.675781 357.789062 L 63.675781 336.386719 L 60.820312 336.386719 L 60.820312 357.789062 Z M 63.675781 357.789062 \"/>\n",
       "<path style=\"fill-rule:nonzero;fill:rgb(100%,97.254902%,89.019608%);fill-opacity:1;stroke-width:0.5;stroke-linecap:butt;stroke-linejoin:miter;stroke:rgb(0%,0%,0%);stroke-opacity:1;stroke-miterlimit:10;\" d=\"M 71.164062 357.789062 L 71.164062 354.222656 L 53.328125 354.222656 L 53.328125 357.789062 Z M 71.164062 357.789062 \"/>\n",
       "<path style=\" stroke:none;fill-rule:nonzero;fill:rgb(0%,0%,0%);fill-opacity:1;\" d=\"M 38.703125 357.789062 L 38.703125 336.386719 L 35.847656 336.386719 L 35.847656 357.789062 Z M 38.703125 357.789062 \"/>\n",
       "<path style=\"fill-rule:nonzero;fill:rgb(85.882353%,25.490196%,1.960784%);fill-opacity:1;stroke-width:0.5;stroke-linecap:butt;stroke-linejoin:miter;stroke:rgb(0%,0%,0%);stroke-opacity:1;stroke-miterlimit:10;\" d=\"M 44.410156 357.789062 L 44.410156 354.222656 L 30.140625 354.222656 L 30.140625 357.789062 Z M 44.410156 357.789062 \"/>\n",
       "<path style=\" stroke:none;fill-rule:nonzero;fill:rgb(0%,0%,0%);fill-opacity:1;\" d=\"M 13.734375 357.789062 L 13.734375 336.386719 L 10.878906 336.386719 L 10.878906 357.789062 Z M 13.734375 357.789062 \"/>\n",
       "<path style=\"fill-rule:nonzero;fill:rgb(80%,80%,62.352941%);fill-opacity:1;stroke-width:0.5;stroke-linecap:butt;stroke-linejoin:miter;stroke:rgb(0%,0%,0%);stroke-opacity:1;stroke-miterlimit:10;\" d=\"M 17.65625 357.789062 L 17.65625 354.222656 L 6.953125 354.222656 L 6.953125 357.789062 Z M 17.65625 357.789062 \"/>\n",
       "<path style=\"fill-rule:nonzero;fill:rgb(62.352941%,70.588235%,80%);fill-opacity:1;stroke-width:0.5;stroke-linecap:butt;stroke-linejoin:miter;stroke:rgb(0%,0%,0%);stroke-opacity:1;stroke-miterlimit:10;\" d=\"M 15.875 354.21875 L 15.875 350.652344 L 8.742188 350.652344 L 8.742188 354.21875 Z M 15.875 354.21875 \"/>\n",
       "<path style=\" stroke:none;fill-rule:nonzero;fill:rgb(0%,0%,0%);fill-opacity:1;\" d=\"M 63.675781 329.25 L 63.675781 307.847656 L 60.820312 307.847656 L 60.820312 329.25 Z M 63.675781 329.25 \"/>\n",
       "<path style=\"fill-rule:nonzero;fill:rgb(100%,97.254902%,89.019608%);fill-opacity:1;stroke-width:0.5;stroke-linecap:butt;stroke-linejoin:miter;stroke:rgb(0%,0%,0%);stroke-opacity:1;stroke-miterlimit:10;\" d=\"M 71.164062 329.25 L 71.164062 325.683594 L 53.328125 325.683594 L 53.328125 329.25 Z M 71.164062 329.25 \"/>\n",
       "<path style=\"fill-rule:nonzero;fill:rgb(62.352941%,70.588235%,80%);fill-opacity:1;stroke-width:0.5;stroke-linecap:butt;stroke-linejoin:miter;stroke:rgb(0%,0%,0%);stroke-opacity:1;stroke-miterlimit:10;\" d=\"M 65.8125 325.683594 L 65.8125 322.117188 L 58.679688 322.117188 L 58.679688 325.683594 Z M 65.8125 325.683594 \"/>\n",
       "<path style=\" stroke:none;fill-rule:nonzero;fill:rgb(0%,0%,0%);fill-opacity:1;\" d=\"M 38.703125 329.25 L 38.703125 307.847656 L 35.847656 307.847656 L 35.847656 329.25 Z M 38.703125 329.25 \"/>\n",
       "<path style=\"fill-rule:nonzero;fill:rgb(85.882353%,25.490196%,1.960784%);fill-opacity:1;stroke-width:0.5;stroke-linecap:butt;stroke-linejoin:miter;stroke:rgb(0%,0%,0%);stroke-opacity:1;stroke-miterlimit:10;\" d=\"M 44.410156 329.25 L 44.410156 325.683594 L 30.140625 325.683594 L 30.140625 329.25 Z M 44.410156 329.25 \"/>\n",
       "<path style=\" stroke:none;fill-rule:nonzero;fill:rgb(0%,0%,0%);fill-opacity:1;\" d=\"M 13.734375 329.25 L 13.734375 307.847656 L 10.878906 307.847656 L 10.878906 329.25 Z M 13.734375 329.25 \"/>\n",
       "<path style=\"fill-rule:nonzero;fill:rgb(80%,80%,62.352941%);fill-opacity:1;stroke-width:0.5;stroke-linecap:butt;stroke-linejoin:miter;stroke:rgb(0%,0%,0%);stroke-opacity:1;stroke-miterlimit:10;\" d=\"M 17.65625 329.25 L 17.65625 325.683594 L 6.953125 325.683594 L 6.953125 329.25 Z M 17.65625 329.25 \"/>\n",
       "<path style=\" stroke:none;fill-rule:nonzero;fill:rgb(0%,0%,0%);fill-opacity:1;\" d=\"M 63.675781 300.710938 L 63.675781 279.308594 L 60.820312 279.308594 L 60.820312 300.710938 Z M 63.675781 300.710938 \"/>\n",
       "<path style=\"fill-rule:nonzero;fill:rgb(100%,97.254902%,89.019608%);fill-opacity:1;stroke-width:0.5;stroke-linecap:butt;stroke-linejoin:miter;stroke:rgb(0%,0%,0%);stroke-opacity:1;stroke-miterlimit:10;\" d=\"M 71.164062 300.710938 L 71.164062 297.144531 L 53.328125 297.144531 L 53.328125 300.710938 Z M 71.164062 300.710938 \"/>\n",
       "<path style=\"fill-rule:nonzero;fill:rgb(62.352941%,70.588235%,80%);fill-opacity:1;stroke-width:0.5;stroke-linecap:butt;stroke-linejoin:miter;stroke:rgb(0%,0%,0%);stroke-opacity:1;stroke-miterlimit:10;\" d=\"M 65.8125 297.144531 L 65.8125 293.578125 L 58.679688 293.578125 L 58.679688 297.144531 Z M 65.8125 297.144531 \"/>\n",
       "<path style=\" stroke:none;fill-rule:nonzero;fill:rgb(0%,0%,0%);fill-opacity:1;\" d=\"M 38.703125 300.710938 L 38.703125 279.308594 L 35.847656 279.308594 L 35.847656 300.710938 Z M 38.703125 300.710938 \"/>\n",
       "<path style=\"fill-rule:nonzero;fill:rgb(85.882353%,25.490196%,1.960784%);fill-opacity:1;stroke-width:0.5;stroke-linecap:butt;stroke-linejoin:miter;stroke:rgb(0%,0%,0%);stroke-opacity:1;stroke-miterlimit:10;\" d=\"M 44.410156 300.710938 L 44.410156 297.144531 L 30.140625 297.144531 L 30.140625 300.710938 Z M 44.410156 300.710938 \"/>\n",
       "<path style=\"fill-rule:nonzero;fill:rgb(80%,80%,62.352941%);fill-opacity:1;stroke-width:0.5;stroke-linecap:butt;stroke-linejoin:miter;stroke:rgb(0%,0%,0%);stroke-opacity:1;stroke-miterlimit:10;\" d=\"M 42.628906 297.144531 L 42.628906 293.578125 L 31.925781 293.578125 L 31.925781 297.144531 Z M 42.628906 297.144531 \"/>\n",
       "<path style=\" stroke:none;fill-rule:nonzero;fill:rgb(0%,0%,0%);fill-opacity:1;\" d=\"M 13.734375 300.710938 L 13.734375 279.308594 L 10.878906 279.308594 L 10.878906 300.710938 Z M 13.734375 300.710938 \"/>\n",
       "<path style=\" stroke:none;fill-rule:nonzero;fill:rgb(0%,0%,0%);fill-opacity:1;\" d=\"M 63.675781 272.175781 L 63.675781 250.773438 L 60.820312 250.773438 L 60.820312 272.175781 Z M 63.675781 272.175781 \"/>\n",
       "<path style=\"fill-rule:nonzero;fill:rgb(100%,97.254902%,89.019608%);fill-opacity:1;stroke-width:0.5;stroke-linecap:butt;stroke-linejoin:miter;stroke:rgb(0%,0%,0%);stroke-opacity:1;stroke-miterlimit:10;\" d=\"M 71.164062 272.175781 L 71.164062 268.609375 L 53.328125 268.609375 L 53.328125 272.175781 Z M 71.164062 272.175781 \"/>\n",
       "<path style=\" stroke:none;fill-rule:nonzero;fill:rgb(0%,0%,0%);fill-opacity:1;\" d=\"M 38.703125 272.175781 L 38.703125 250.773438 L 35.847656 250.773438 L 35.847656 272.175781 Z M 38.703125 272.175781 \"/>\n",
       "<path style=\"fill-rule:nonzero;fill:rgb(85.882353%,25.490196%,1.960784%);fill-opacity:1;stroke-width:0.5;stroke-linecap:butt;stroke-linejoin:miter;stroke:rgb(0%,0%,0%);stroke-opacity:1;stroke-miterlimit:10;\" d=\"M 44.410156 272.175781 L 44.410156 268.609375 L 30.140625 268.609375 L 30.140625 272.175781 Z M 44.410156 272.175781 \"/>\n",
       "<path style=\"fill-rule:nonzero;fill:rgb(80%,80%,62.352941%);fill-opacity:1;stroke-width:0.5;stroke-linecap:butt;stroke-linejoin:miter;stroke:rgb(0%,0%,0%);stroke-opacity:1;stroke-miterlimit:10;\" d=\"M 42.628906 268.609375 L 42.628906 265.042969 L 31.925781 265.042969 L 31.925781 268.609375 Z M 42.628906 268.609375 \"/>\n",
       "<path style=\"fill-rule:nonzero;fill:rgb(62.352941%,70.588235%,80%);fill-opacity:1;stroke-width:0.5;stroke-linecap:butt;stroke-linejoin:miter;stroke:rgb(0%,0%,0%);stroke-opacity:1;stroke-miterlimit:10;\" d=\"M 40.84375 265.042969 L 40.84375 261.476562 L 33.710938 261.476562 L 33.710938 265.042969 Z M 40.84375 265.042969 \"/>\n",
       "<path style=\" stroke:none;fill-rule:nonzero;fill:rgb(0%,0%,0%);fill-opacity:1;\" d=\"M 13.734375 272.175781 L 13.734375 250.773438 L 10.878906 250.773438 L 10.878906 272.175781 Z M 13.734375 272.175781 \"/>\n",
       "<path style=\" stroke:none;fill-rule:nonzero;fill:rgb(0%,0%,0%);fill-opacity:1;\" d=\"M 63.675781 243.636719 L 63.675781 222.234375 L 60.820312 222.234375 L 60.820312 243.636719 Z M 63.675781 243.636719 \"/>\n",
       "<path style=\" stroke:none;fill-rule:nonzero;fill:rgb(0%,0%,0%);fill-opacity:1;\" d=\"M 38.703125 243.636719 L 38.703125 222.234375 L 35.847656 222.234375 L 35.847656 243.636719 Z M 38.703125 243.636719 \"/>\n",
       "<path style=\"fill-rule:nonzero;fill:rgb(85.882353%,25.490196%,1.960784%);fill-opacity:1;stroke-width:0.5;stroke-linecap:butt;stroke-linejoin:miter;stroke:rgb(0%,0%,0%);stroke-opacity:1;stroke-miterlimit:10;\" d=\"M 44.410156 243.636719 L 44.410156 240.070312 L 30.140625 240.070312 L 30.140625 243.636719 Z M 44.410156 243.636719 \"/>\n",
       "<path style=\"fill-rule:nonzero;fill:rgb(80%,80%,62.352941%);fill-opacity:1;stroke-width:0.5;stroke-linecap:butt;stroke-linejoin:miter;stroke:rgb(0%,0%,0%);stroke-opacity:1;stroke-miterlimit:10;\" d=\"M 42.628906 240.070312 L 42.628906 236.503906 L 31.925781 236.503906 L 31.925781 240.070312 Z M 42.628906 240.070312 \"/>\n",
       "<path style=\"fill-rule:nonzero;fill:rgb(62.352941%,70.588235%,80%);fill-opacity:1;stroke-width:0.5;stroke-linecap:butt;stroke-linejoin:miter;stroke:rgb(0%,0%,0%);stroke-opacity:1;stroke-miterlimit:10;\" d=\"M 40.84375 236.503906 L 40.84375 232.9375 L 33.710938 232.9375 L 33.710938 236.503906 Z M 40.84375 236.503906 \"/>\n",
       "<path style=\" stroke:none;fill-rule:nonzero;fill:rgb(0%,0%,0%);fill-opacity:1;\" d=\"M 13.734375 243.636719 L 13.734375 222.234375 L 10.878906 222.234375 L 10.878906 243.636719 Z M 13.734375 243.636719 \"/>\n",
       "<path style=\"fill-rule:nonzero;fill:rgb(100%,97.254902%,89.019608%);fill-opacity:1;stroke-width:0.5;stroke-linecap:butt;stroke-linejoin:miter;stroke:rgb(0%,0%,0%);stroke-opacity:1;stroke-miterlimit:10;\" d=\"M 21.226562 243.636719 L 21.226562 240.070312 L 3.390625 240.070312 L 3.390625 243.636719 Z M 21.226562 243.636719 \"/>\n",
       "<path style=\" stroke:none;fill-rule:nonzero;fill:rgb(0%,0%,0%);fill-opacity:1;\" d=\"M 63.675781 215.101562 L 63.675781 193.699219 L 60.820312 193.699219 L 60.820312 215.101562 Z M 63.675781 215.101562 \"/>\n",
       "<path style=\" stroke:none;fill-rule:nonzero;fill:rgb(0%,0%,0%);fill-opacity:1;\" d=\"M 38.703125 215.101562 L 38.703125 193.699219 L 35.847656 193.699219 L 35.847656 215.101562 Z M 38.703125 215.101562 \"/>\n",
       "<path style=\"fill-rule:nonzero;fill:rgb(85.882353%,25.490196%,1.960784%);fill-opacity:1;stroke-width:0.5;stroke-linecap:butt;stroke-linejoin:miter;stroke:rgb(0%,0%,0%);stroke-opacity:1;stroke-miterlimit:10;\" d=\"M 44.410156 215.101562 L 44.410156 211.535156 L 30.140625 211.535156 L 30.140625 215.101562 Z M 44.410156 215.101562 \"/>\n",
       "<path style=\"fill-rule:nonzero;fill:rgb(80%,80%,62.352941%);fill-opacity:1;stroke-width:0.5;stroke-linecap:butt;stroke-linejoin:miter;stroke:rgb(0%,0%,0%);stroke-opacity:1;stroke-miterlimit:10;\" d=\"M 42.628906 211.535156 L 42.628906 207.96875 L 31.925781 207.96875 L 31.925781 211.535156 Z M 42.628906 211.535156 \"/>\n",
       "<path style=\" stroke:none;fill-rule:nonzero;fill:rgb(0%,0%,0%);fill-opacity:1;\" d=\"M 13.734375 215.101562 L 13.734375 193.699219 L 10.878906 193.699219 L 10.878906 215.101562 Z M 13.734375 215.101562 \"/>\n",
       "<path style=\"fill-rule:nonzero;fill:rgb(100%,97.254902%,89.019608%);fill-opacity:1;stroke-width:0.5;stroke-linecap:butt;stroke-linejoin:miter;stroke:rgb(0%,0%,0%);stroke-opacity:1;stroke-miterlimit:10;\" d=\"M 21.226562 215.101562 L 21.226562 211.535156 L 3.390625 211.535156 L 3.390625 215.101562 Z M 21.226562 215.101562 \"/>\n",
       "<path style=\"fill-rule:nonzero;fill:rgb(62.352941%,70.588235%,80%);fill-opacity:1;stroke-width:0.5;stroke-linecap:butt;stroke-linejoin:miter;stroke:rgb(0%,0%,0%);stroke-opacity:1;stroke-miterlimit:10;\" d=\"M 15.875 211.535156 L 15.875 207.96875 L 8.742188 207.96875 L 8.742188 211.535156 Z M 15.875 211.535156 \"/>\n",
       "<path style=\" stroke:none;fill-rule:nonzero;fill:rgb(0%,0%,0%);fill-opacity:1;\" d=\"M 63.675781 186.5625 L 63.675781 165.160156 L 60.820312 165.160156 L 60.820312 186.5625 Z M 63.675781 186.5625 \"/>\n",
       "<path style=\"fill-rule:nonzero;fill:rgb(80%,80%,62.352941%);fill-opacity:1;stroke-width:0.5;stroke-linecap:butt;stroke-linejoin:miter;stroke:rgb(0%,0%,0%);stroke-opacity:1;stroke-miterlimit:10;\" d=\"M 67.597656 186.5625 L 67.597656 182.996094 L 56.894531 182.996094 L 56.894531 186.5625 Z M 67.597656 186.5625 \"/>\n",
       "<path style=\" stroke:none;fill-rule:nonzero;fill:rgb(0%,0%,0%);fill-opacity:1;\" d=\"M 38.703125 186.5625 L 38.703125 165.160156 L 35.847656 165.160156 L 35.847656 186.5625 Z M 38.703125 186.5625 \"/>\n",
       "<path style=\"fill-rule:nonzero;fill:rgb(85.882353%,25.490196%,1.960784%);fill-opacity:1;stroke-width:0.5;stroke-linecap:butt;stroke-linejoin:miter;stroke:rgb(0%,0%,0%);stroke-opacity:1;stroke-miterlimit:10;\" d=\"M 44.410156 186.5625 L 44.410156 182.996094 L 30.140625 182.996094 L 30.140625 186.5625 Z M 44.410156 186.5625 \"/>\n",
       "<path style=\" stroke:none;fill-rule:nonzero;fill:rgb(0%,0%,0%);fill-opacity:1;\" d=\"M 13.734375 186.5625 L 13.734375 165.160156 L 10.878906 165.160156 L 10.878906 186.5625 Z M 13.734375 186.5625 \"/>\n",
       "<path style=\"fill-rule:nonzero;fill:rgb(100%,97.254902%,89.019608%);fill-opacity:1;stroke-width:0.5;stroke-linecap:butt;stroke-linejoin:miter;stroke:rgb(0%,0%,0%);stroke-opacity:1;stroke-miterlimit:10;\" d=\"M 21.226562 186.5625 L 21.226562 182.996094 L 3.390625 182.996094 L 3.390625 186.5625 Z M 21.226562 186.5625 \"/>\n",
       "<path style=\"fill-rule:nonzero;fill:rgb(62.352941%,70.588235%,80%);fill-opacity:1;stroke-width:0.5;stroke-linecap:butt;stroke-linejoin:miter;stroke:rgb(0%,0%,0%);stroke-opacity:1;stroke-miterlimit:10;\" d=\"M 15.875 182.996094 L 15.875 179.429688 L 8.742188 179.429688 L 8.742188 182.996094 Z M 15.875 182.996094 \"/>\n",
       "<path style=\" stroke:none;fill-rule:nonzero;fill:rgb(0%,0%,0%);fill-opacity:1;\" d=\"M 63.675781 158.027344 L 63.675781 136.625 L 60.820312 136.625 L 60.820312 158.027344 Z M 63.675781 158.027344 \"/>\n",
       "<path style=\"fill-rule:nonzero;fill:rgb(80%,80%,62.352941%);fill-opacity:1;stroke-width:0.5;stroke-linecap:butt;stroke-linejoin:miter;stroke:rgb(0%,0%,0%);stroke-opacity:1;stroke-miterlimit:10;\" d=\"M 67.597656 158.027344 L 67.597656 154.460938 L 56.894531 154.460938 L 56.894531 158.027344 Z M 67.597656 158.027344 \"/>\n",
       "<path style=\"fill-rule:nonzero;fill:rgb(62.352941%,70.588235%,80%);fill-opacity:1;stroke-width:0.5;stroke-linecap:butt;stroke-linejoin:miter;stroke:rgb(0%,0%,0%);stroke-opacity:1;stroke-miterlimit:10;\" d=\"M 65.8125 154.457031 L 65.8125 150.890625 L 58.679688 150.890625 L 58.679688 154.457031 Z M 65.8125 154.457031 \"/>\n",
       "<path style=\" stroke:none;fill-rule:nonzero;fill:rgb(0%,0%,0%);fill-opacity:1;\" d=\"M 38.703125 158.027344 L 38.703125 136.625 L 35.847656 136.625 L 35.847656 158.027344 Z M 38.703125 158.027344 \"/>\n",
       "<path style=\"fill-rule:nonzero;fill:rgb(85.882353%,25.490196%,1.960784%);fill-opacity:1;stroke-width:0.5;stroke-linecap:butt;stroke-linejoin:miter;stroke:rgb(0%,0%,0%);stroke-opacity:1;stroke-miterlimit:10;\" d=\"M 44.410156 158.027344 L 44.410156 154.460938 L 30.140625 154.460938 L 30.140625 158.027344 Z M 44.410156 158.027344 \"/>\n",
       "<path style=\" stroke:none;fill-rule:nonzero;fill:rgb(0%,0%,0%);fill-opacity:1;\" d=\"M 13.734375 158.027344 L 13.734375 136.625 L 10.878906 136.625 L 10.878906 158.027344 Z M 13.734375 158.027344 \"/>\n",
       "<path style=\"fill-rule:nonzero;fill:rgb(100%,97.254902%,89.019608%);fill-opacity:1;stroke-width:0.5;stroke-linecap:butt;stroke-linejoin:miter;stroke:rgb(0%,0%,0%);stroke-opacity:1;stroke-miterlimit:10;\" d=\"M 21.226562 158.027344 L 21.226562 154.460938 L 3.390625 154.460938 L 3.390625 158.027344 Z M 21.226562 158.027344 \"/>\n",
       "<path style=\" stroke:none;fill-rule:nonzero;fill:rgb(0%,0%,0%);fill-opacity:1;\" d=\"M 63.675781 129.488281 L 63.675781 108.085938 L 60.820312 108.085938 L 60.820312 129.488281 Z M 63.675781 129.488281 \"/>\n",
       "<path style=\"fill-rule:nonzero;fill:rgb(80%,80%,62.352941%);fill-opacity:1;stroke-width:0.5;stroke-linecap:butt;stroke-linejoin:miter;stroke:rgb(0%,0%,0%);stroke-opacity:1;stroke-miterlimit:10;\" d=\"M 67.597656 129.488281 L 67.597656 125.921875 L 56.894531 125.921875 L 56.894531 129.488281 Z M 67.597656 129.488281 \"/>\n",
       "<path style=\"fill-rule:nonzero;fill:rgb(62.352941%,70.588235%,80%);fill-opacity:1;stroke-width:0.5;stroke-linecap:butt;stroke-linejoin:miter;stroke:rgb(0%,0%,0%);stroke-opacity:1;stroke-miterlimit:10;\" d=\"M 65.8125 125.921875 L 65.8125 122.355469 L 58.679688 122.355469 L 58.679688 125.921875 Z M 65.8125 125.921875 \"/>\n",
       "<path style=\" stroke:none;fill-rule:nonzero;fill:rgb(0%,0%,0%);fill-opacity:1;\" d=\"M 38.703125 129.488281 L 38.703125 108.085938 L 35.847656 108.085938 L 35.847656 129.488281 Z M 38.703125 129.488281 \"/>\n",
       "<path style=\" stroke:none;fill-rule:nonzero;fill:rgb(0%,0%,0%);fill-opacity:1;\" d=\"M 13.734375 129.488281 L 13.734375 108.085938 L 10.878906 108.085938 L 10.878906 129.488281 Z M 13.734375 129.488281 \"/>\n",
       "<path style=\"fill-rule:nonzero;fill:rgb(100%,97.254902%,89.019608%);fill-opacity:1;stroke-width:0.5;stroke-linecap:butt;stroke-linejoin:miter;stroke:rgb(0%,0%,0%);stroke-opacity:1;stroke-miterlimit:10;\" d=\"M 21.226562 129.488281 L 21.226562 125.921875 L 3.390625 125.921875 L 3.390625 129.488281 Z M 21.226562 129.488281 \"/>\n",
       "<path style=\"fill-rule:nonzero;fill:rgb(85.882353%,25.490196%,1.960784%);fill-opacity:1;stroke-width:0.5;stroke-linecap:butt;stroke-linejoin:miter;stroke:rgb(0%,0%,0%);stroke-opacity:1;stroke-miterlimit:10;\" d=\"M 19.441406 125.921875 L 19.441406 122.355469 L 5.171875 122.355469 L 5.171875 125.921875 Z M 19.441406 125.921875 \"/>\n",
       "<path style=\" stroke:none;fill-rule:nonzero;fill:rgb(0%,0%,0%);fill-opacity:1;\" d=\"M 63.675781 100.949219 L 63.675781 79.546875 L 60.820312 79.546875 L 60.820312 100.949219 Z M 63.675781 100.949219 \"/>\n",
       "<path style=\"fill-rule:nonzero;fill:rgb(80%,80%,62.352941%);fill-opacity:1;stroke-width:0.5;stroke-linecap:butt;stroke-linejoin:miter;stroke:rgb(0%,0%,0%);stroke-opacity:1;stroke-miterlimit:10;\" d=\"M 67.597656 100.949219 L 67.597656 97.382812 L 56.894531 97.382812 L 56.894531 100.949219 Z M 67.597656 100.949219 \"/>\n",
       "<path style=\" stroke:none;fill-rule:nonzero;fill:rgb(0%,0%,0%);fill-opacity:1;\" d=\"M 38.703125 100.949219 L 38.703125 79.546875 L 35.847656 79.546875 L 35.847656 100.949219 Z M 38.703125 100.949219 \"/>\n",
       "<path style=\"fill-rule:nonzero;fill:rgb(62.352941%,70.588235%,80%);fill-opacity:1;stroke-width:0.5;stroke-linecap:butt;stroke-linejoin:miter;stroke:rgb(0%,0%,0%);stroke-opacity:1;stroke-miterlimit:10;\" d=\"M 40.84375 100.949219 L 40.84375 97.382812 L 33.710938 97.382812 L 33.710938 100.949219 Z M 40.84375 100.949219 \"/>\n",
       "<path style=\" stroke:none;fill-rule:nonzero;fill:rgb(0%,0%,0%);fill-opacity:1;\" d=\"M 13.734375 100.949219 L 13.734375 79.546875 L 10.878906 79.546875 L 10.878906 100.949219 Z M 13.734375 100.949219 \"/>\n",
       "<path style=\"fill-rule:nonzero;fill:rgb(100%,97.254902%,89.019608%);fill-opacity:1;stroke-width:0.5;stroke-linecap:butt;stroke-linejoin:miter;stroke:rgb(0%,0%,0%);stroke-opacity:1;stroke-miterlimit:10;\" d=\"M 21.226562 100.949219 L 21.226562 97.382812 L 3.390625 97.382812 L 3.390625 100.949219 Z M 21.226562 100.949219 \"/>\n",
       "<path style=\"fill-rule:nonzero;fill:rgb(85.882353%,25.490196%,1.960784%);fill-opacity:1;stroke-width:0.5;stroke-linecap:butt;stroke-linejoin:miter;stroke:rgb(0%,0%,0%);stroke-opacity:1;stroke-miterlimit:10;\" d=\"M 19.441406 97.382812 L 19.441406 93.816406 L 5.171875 93.816406 L 5.171875 97.382812 Z M 19.441406 97.382812 \"/>\n",
       "<path style=\" stroke:none;fill-rule:nonzero;fill:rgb(0%,0%,0%);fill-opacity:1;\" d=\"M 63.675781 72.414062 L 63.675781 51.011719 L 60.820312 51.011719 L 60.820312 72.414062 Z M 63.675781 72.414062 \"/>\n",
       "<path style=\" stroke:none;fill-rule:nonzero;fill:rgb(0%,0%,0%);fill-opacity:1;\" d=\"M 38.703125 72.414062 L 38.703125 51.011719 L 35.847656 51.011719 L 35.847656 72.414062 Z M 38.703125 72.414062 \"/>\n",
       "<path style=\"fill-rule:nonzero;fill:rgb(62.352941%,70.588235%,80%);fill-opacity:1;stroke-width:0.5;stroke-linecap:butt;stroke-linejoin:miter;stroke:rgb(0%,0%,0%);stroke-opacity:1;stroke-miterlimit:10;\" d=\"M 40.84375 72.414062 L 40.84375 68.847656 L 33.710938 68.847656 L 33.710938 72.414062 Z M 40.84375 72.414062 \"/>\n",
       "<path style=\" stroke:none;fill-rule:nonzero;fill:rgb(0%,0%,0%);fill-opacity:1;\" d=\"M 13.734375 72.414062 L 13.734375 51.011719 L 10.878906 51.011719 L 10.878906 72.414062 Z M 13.734375 72.414062 \"/>\n",
       "<path style=\"fill-rule:nonzero;fill:rgb(100%,97.254902%,89.019608%);fill-opacity:1;stroke-width:0.5;stroke-linecap:butt;stroke-linejoin:miter;stroke:rgb(0%,0%,0%);stroke-opacity:1;stroke-miterlimit:10;\" d=\"M 21.226562 72.414062 L 21.226562 68.847656 L 3.390625 68.847656 L 3.390625 72.414062 Z M 21.226562 72.414062 \"/>\n",
       "<path style=\"fill-rule:nonzero;fill:rgb(85.882353%,25.490196%,1.960784%);fill-opacity:1;stroke-width:0.5;stroke-linecap:butt;stroke-linejoin:miter;stroke:rgb(0%,0%,0%);stroke-opacity:1;stroke-miterlimit:10;\" d=\"M 19.441406 68.847656 L 19.441406 65.28125 L 5.171875 65.28125 L 5.171875 68.847656 Z M 19.441406 68.847656 \"/>\n",
       "<path style=\"fill-rule:nonzero;fill:rgb(80%,80%,62.352941%);fill-opacity:1;stroke-width:0.5;stroke-linecap:butt;stroke-linejoin:miter;stroke:rgb(0%,0%,0%);stroke-opacity:1;stroke-miterlimit:10;\" d=\"M 17.65625 65.28125 L 17.65625 61.714844 L 6.953125 61.714844 L 6.953125 65.28125 Z M 17.65625 65.28125 \"/>\n",
       "<path style=\" stroke:none;fill-rule:nonzero;fill:rgb(0%,0%,0%);fill-opacity:1;\" d=\"M 63.675781 43.875 L 63.675781 22.472656 L 60.820312 22.472656 L 60.820312 43.875 Z M 63.675781 43.875 \"/>\n",
       "<path style=\" stroke:none;fill-rule:nonzero;fill:rgb(0%,0%,0%);fill-opacity:1;\" d=\"M 38.703125 43.875 L 38.703125 22.472656 L 35.847656 22.472656 L 35.847656 43.875 Z M 38.703125 43.875 \"/>\n",
       "<path style=\" stroke:none;fill-rule:nonzero;fill:rgb(0%,0%,0%);fill-opacity:1;\" d=\"M 13.734375 43.875 L 13.734375 22.472656 L 10.878906 22.472656 L 10.878906 43.875 Z M 13.734375 43.875 \"/>\n",
       "<path style=\"fill-rule:nonzero;fill:rgb(100%,97.254902%,89.019608%);fill-opacity:1;stroke-width:0.5;stroke-linecap:butt;stroke-linejoin:miter;stroke:rgb(0%,0%,0%);stroke-opacity:1;stroke-miterlimit:10;\" d=\"M 21.226562 43.875 L 21.226562 40.308594 L 3.390625 40.308594 L 3.390625 43.875 Z M 21.226562 43.875 \"/>\n",
       "<path style=\"fill-rule:nonzero;fill:rgb(85.882353%,25.490196%,1.960784%);fill-opacity:1;stroke-width:0.5;stroke-linecap:butt;stroke-linejoin:miter;stroke:rgb(0%,0%,0%);stroke-opacity:1;stroke-miterlimit:10;\" d=\"M 19.441406 40.308594 L 19.441406 36.742188 L 5.171875 36.742188 L 5.171875 40.308594 Z M 19.441406 40.308594 \"/>\n",
       "<path style=\"fill-rule:nonzero;fill:rgb(80%,80%,62.352941%);fill-opacity:1;stroke-width:0.5;stroke-linecap:butt;stroke-linejoin:miter;stroke:rgb(0%,0%,0%);stroke-opacity:1;stroke-miterlimit:10;\" d=\"M 17.65625 36.742188 L 17.65625 33.175781 L 6.953125 33.175781 L 6.953125 36.742188 Z M 17.65625 36.742188 \"/>\n",
       "<path style=\"fill-rule:nonzero;fill:rgb(62.352941%,70.588235%,80%);fill-opacity:1;stroke-width:0.5;stroke-linecap:butt;stroke-linejoin:miter;stroke:rgb(0%,0%,0%);stroke-opacity:1;stroke-miterlimit:10;\" d=\"M 15.875 33.175781 L 15.875 29.609375 L 8.742188 29.609375 L 8.742188 33.175781 Z M 15.875 33.175781 \"/>\n",
       "</g>\n",
       "</svg>\n"
      ]
     },
     "metadata": {},
     "output_type": "display_data"
    }
   ],
   "source": [
    "diagram example\n"
   ]
  },
  {
   "cell_type": "code",
   "execution_count": null,
   "metadata": {},
   "outputs": [],
   "source": []
  }
 ],
 "metadata": {
  "kernelspec": {
   "display_name": "Haskell - haskell",
   "language": "haskell",
   "name": "ihaskell_haskell"
  },
  "language_info": {
   "codemirror_mode": "ihaskell",
   "file_extension": ".hs",
   "name": "haskell",
   "pygments_lexer": "Haskell",
   "version": "8.8.3"
  }
 },
 "nbformat": 4,
 "nbformat_minor": 4
}
