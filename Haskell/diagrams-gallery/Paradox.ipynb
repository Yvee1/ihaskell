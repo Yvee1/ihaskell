{
 "cells": [
  {
   "cell_type": "code",
   "execution_count": 1,
   "metadata": {
    "collapsed": false,
    "jupyter": {
     "outputs_hidden": false
    }
   },
   "outputs": [],
   "source": [
    "import Diagrams.Backend.Cairo.CmdLine"
   ]
  },
  {
   "cell_type": "code",
   "execution_count": 5,
   "metadata": {
    "collapsed": false,
    "jupyter": {
     "outputs_hidden": false
    }
   },
   "outputs": [],
   "source": [
    "{-# LANGUAGE NoMonomorphismRestriction FlexibleContexts TypeFamilies #-}\n",
    "import Diagrams.Prelude hiding (tri)\n",
    "import Data.Colour.SRGB (sRGB24read)"
   ]
  },
  {
   "cell_type": "markdown",
   "metadata": {
    "hidden": false
   },
   "source": [
    "The standard infinite list of Fibonacci numbers.\n",
    "\n"
   ]
  },
  {
   "cell_type": "code",
   "execution_count": 3,
   "metadata": {
    "collapsed": false,
    "jupyter": {
     "outputs_hidden": false
    }
   },
   "outputs": [],
   "source": [
    "fibs :: [Int]\n",
    "fibs = 0 : 1 : zipWith (+) fibs (tail fibs)"
   ]
  },
  {
   "cell_type": "markdown",
   "metadata": {
    "hidden": false
   },
   "source": [
    "Create a grid by gluing together a bunch of squares.\n",
    "\n"
   ]
  },
  {
   "cell_type": "code",
   "execution_count": 6,
   "metadata": {
    "collapsed": false,
    "jupyter": {
     "outputs_hidden": false
    }
   },
   "outputs": [
    {
     "data": {
      "text/html": [
       "<style>/* Styles used for the Hoogle display in the pager */\n",
       ".hoogle-doc {\n",
       "display: block;\n",
       "padding-bottom: 1.3em;\n",
       "padding-left: 0.4em;\n",
       "}\n",
       ".hoogle-code {\n",
       "display: block;\n",
       "font-family: monospace;\n",
       "white-space: pre;\n",
       "}\n",
       ".hoogle-text {\n",
       "display: block;\n",
       "}\n",
       ".hoogle-name {\n",
       "color: green;\n",
       "font-weight: bold;\n",
       "}\n",
       ".hoogle-head {\n",
       "font-weight: bold;\n",
       "}\n",
       ".hoogle-sub {\n",
       "display: block;\n",
       "margin-left: 0.4em;\n",
       "}\n",
       ".hoogle-package {\n",
       "font-weight: bold;\n",
       "font-style: italic;\n",
       "}\n",
       ".hoogle-module {\n",
       "font-weight: bold;\n",
       "}\n",
       ".hoogle-class {\n",
       "font-weight: bold;\n",
       "}\n",
       ".get-type {\n",
       "color: green;\n",
       "font-weight: bold;\n",
       "font-family: monospace;\n",
       "display: block;\n",
       "white-space: pre-wrap;\n",
       "}\n",
       ".show-type {\n",
       "color: green;\n",
       "font-weight: bold;\n",
       "font-family: monospace;\n",
       "margin-left: 1em;\n",
       "}\n",
       ".mono {\n",
       "font-family: monospace;\n",
       "display: block;\n",
       "}\n",
       ".err-msg {\n",
       "color: red;\n",
       "font-style: italic;\n",
       "font-family: monospace;\n",
       "white-space: pre;\n",
       "display: block;\n",
       "}\n",
       "#unshowable {\n",
       "color: red;\n",
       "font-weight: bold;\n",
       "}\n",
       ".err-msg.in.collapse {\n",
       "padding-top: 0.7em;\n",
       "}\n",
       ".highlight-code {\n",
       "white-space: pre;\n",
       "font-family: monospace;\n",
       "}\n",
       ".suggestion-warning { \n",
       "font-weight: bold;\n",
       "color: rgb(200, 130, 0);\n",
       "}\n",
       ".suggestion-error { \n",
       "font-weight: bold;\n",
       "color: red;\n",
       "}\n",
       ".suggestion-name {\n",
       "font-weight: bold;\n",
       "}\n",
       "</style><div class=\"suggestion-name\" style=\"clear:both;\">Redundant map</div><div class=\"suggestion-row\" style=\"float: left;\"><div class=\"suggestion-warning\">Found:</div><div class=\"highlight-code\" id=\"haskell\">map hcat . replicate y . replicate x</div></div><div class=\"suggestion-row\" style=\"float: left;\"><div class=\"suggestion-warning\">Why Not:</div><div class=\"highlight-code\" id=\"haskell\">replicate y . hcat . replicate x</div></div>"
      ],
      "text/plain": [
       "Line 6: Redundant map\n",
       "Found:\n",
       "map hcat . replicate y . replicate x\n",
       "Why not:\n",
       "replicate y . hcat . replicate x"
      ]
     },
     "metadata": {},
     "output_type": "display_data"
    }
   ],
   "source": [
    "grid :: Int -> Int -> Diagram B\n",
    "grid x y = frame <> lattice\n",
    "  where s       = unitSquare # lw thin\n",
    "        frame   = rect (fromIntegral x) (fromIntegral y)\n",
    "                # lw thick\n",
    "        lattice = centerXY . vcat . map hcat . replicate y . replicate x $ s"
   ]
  },
  {
   "cell_type": "markdown",
   "metadata": {
    "hidden": false
   },
   "source": [
    "The trapezoid and triangle shapes, with sides lengths based on two\n",
    "Fibonacci numbers.\n",
    "\n"
   ]
  },
  {
   "cell_type": "code",
   "execution_count": 8,
   "metadata": {
    "collapsed": false,
    "jupyter": {
     "outputs_hidden": false
    }
   },
   "outputs": [],
   "source": [
    "trap, tri :: Double -> Double -> Diagram B\n",
    "trap s1 s2 = lw none . strokeLoop . closeLine\n",
    "           . fromOffsets . map r2 $ [(0,-s2), (s2,0), (0,s1)]\n",
    "tri s1 s2  = lw none .  strokeLoop . closeLine\n",
    "           . fromOffsets . map r2 $ [(s1,0), (0,s1+s2)]"
   ]
  },
  {
   "cell_type": "markdown",
   "metadata": {
    "hidden": false
   },
   "source": [
    "Draw the paradox diagram based on the nth Fibonacci number.\n",
    "\n"
   ]
  },
  {
   "cell_type": "code",
   "execution_count": 13,
   "metadata": {
    "collapsed": false,
    "jupyter": {
     "outputs_hidden": false
    }
   },
   "outputs": [],
   "source": [
    "paradox :: Int -> Bool -> Diagram B\n",
    "paradox n drawDiags = (sq # rotateBy (1/4)\n",
    "                   ||| strutX (s2 / 2)\n",
    "                   ||| rect # rotateBy (1/4)) # centerXY\n",
    "  where f1 = fibs !! n\n",
    "        f2 = fibs !! (n+1)\n",
    "        s1 = fromIntegral f1\n",
    "        s2 = fromIntegral f2\n",
    "\n",
    "        trap1 = trap s1 s2 # fc (sRGB24read \"#BEC3C7\")\n",
    "        trap2 = trap s1 s2 # fc (sRGB24read \"#1ABC9C\")\n",
    "                           # rotateBy (1/2)\n",
    "\n",
    "        tri1  = tri s1 s2  # fc (sRGB24read \"#FF6666\")\n",
    "        tri2  = tri s1 s2  # fc (sRGB24read \"#37485D\")\n",
    "\n",
    "        -- The four shapes assembled into a square.\n",
    "\n",
    "        sq = (if drawDiags then sqDiags else mempty)\n",
    "             <> grid (f1+f2) (f1+f2)\n",
    "             <> sqShapes\n",
    "        sqDiags = (fromVertices [p2 (0,s2), p2 (s2,s1)] <>\n",
    "                   fromVertices [p2 (s2,0), p2 (s2,s1+s2)] <>\n",
    "                   fromVertices [p2 (s2,0), p2 (s1+s2,s1+s2)])\n",
    "                # strokeP\n",
    "                # lw thick\n",
    "                # centerXY\n",
    "\n",
    "        sqShapes = (traps # centerY ||| tris # centerY)\n",
    "                 # centerXY\n",
    "        traps = trap2 # alignL\n",
    "                      # translateY (s1 - s2)\n",
    "             <> trap1\n",
    "        tris  = tri1 # alignBL\n",
    "             <> tri2 # rotateBy (1/2)\n",
    "                     # alignBL\n",
    "\n",
    "        -- The four shapes assembled into a rectangle.\n",
    "\n",
    "        rect = (if drawDiags then rDiags else mempty)\n",
    "               <> grid (2*f2 + f1) f2\n",
    "               <> rShapes\n",
    "\n",
    "        rShapes = (bot # alignTL <> top # alignTL) # centerXY\n",
    "        bot = trap1 # alignB ||| rotateBy (-1/4) tri1 # alignB\n",
    "        top = rotateBy (1/4) tri2 # alignT ||| trap2 # alignT\n",
    "\n",
    "        rDiags = (fromVertices [p2 (0,s2), p2 (2*s2+s1, 0)] <>\n",
    "                  fromVertices [p2 (s2,0), p2 (s2,s1)] <>\n",
    "                  fromVertices [p2 (s1+s2,s2-s1), p2 (s1+s2,s2)]\n",
    "                  )\n",
    "                 # strokeP\n",
    "                 # lw thick\n",
    "                 # lineCap LineCapRound\n",
    "                 # centerXY\n"
   ]
  },
  {
   "cell_type": "markdown",
   "metadata": {
    "hidden": false
   },
   "source": [
    "Draw the order-4 diagram with thick lines in the middle. Passing the\n",
    "argument `False` causes the thick lines to be omitted, revealing the\n",
    "skinny gap in the rectangular assembly.  Lower-order diagrams make the\n",
    "gap more obvious; higher-order diagrams make it increasingly less\n",
    "obvious (but make the grid smaller).\n",
    "\n"
   ]
  },
  {
   "cell_type": "code",
   "execution_count": 14,
   "metadata": {
    "collapsed": false,
    "jupyter": {
     "outputs_hidden": false
    }
   },
   "outputs": [],
   "source": [
    "example = paradox 4 True # frame 0.5"
   ]
  },
  {
   "cell_type": "code",
   "execution_count": 16,
   "metadata": {
    "collapsed": false,
    "jupyter": {
     "outputs_hidden": false
    }
   },
   "outputs": [
    {
     "data": {
      "image/png": "[encoded data removed]",
      "image/svg+xml": [
       "<?xml version=\"1.0\" encoding=\"UTF-8\"?>\n",
       "<svg xmlns=\"http://www.w3.org/2000/svg\" xmlns:xlink=\"http://www.w3.org/1999/xlink\" width=\"381.254568pt\" height=\"323.488724pt\" viewBox=\"0 0 381.254568 323.488724\" version=\"1.1\">\n",
       "<g id=\"surface8\">\n",
       "<path style=\" stroke:none;fill-rule:nonzero;fill:rgb(10.196078%,73.72549%,61.176471%);fill-opacity:1;\" d=\"M 369.703125 11.554688 L 254.171875 11.554688 L 254.171875 127.085938 L 323.492188 127.085938 Z M 369.703125 11.554688 \"/>\n",
       "<path style=\" stroke:none;fill-rule:nonzero;fill:rgb(21.568627%,28.235294%,36.470588%);fill-opacity:1;\" d=\"M 323.488281 127.085938 L 254.167969 127.085938 L 254.167969 311.9375 Z M 323.488281 127.085938 \"/>\n",
       "<path style=\" stroke:none;fill-rule:nonzero;fill:rgb(100%,40%,40%);fill-opacity:1;\" d=\"M 300.382812 196.402344 L 369.703125 196.402344 L 369.703125 11.550781 Z M 300.382812 196.402344 \"/>\n",
       "<path style=\" stroke:none;fill-rule:nonzero;fill:rgb(74.509804%,76.470588%,78.039216%);fill-opacity:1;\" d=\"M 254.167969 311.9375 L 369.699219 311.9375 L 369.699219 196.40625 L 300.378906 196.40625 Z M 254.167969 311.9375 \"/>\n",
       "<path style=\"fill:none;stroke-width:0.702372;stroke-linecap:butt;stroke-linejoin:miter;stroke:rgb(0%,0%,0%);stroke-opacity:1;stroke-miterlimit:10;\" d=\"M 369.703125 11.554688 L 346.597656 11.554688 L 346.597656 34.660156 L 369.703125 34.660156 Z M 369.703125 11.554688 \"/>\n",
       "<path style=\"fill:none;stroke-width:0.702372;stroke-linecap:butt;stroke-linejoin:miter;stroke:rgb(0%,0%,0%);stroke-opacity:1;stroke-miterlimit:10;\" d=\"M 369.703125 34.660156 L 346.597656 34.660156 L 346.597656 57.765625 L 369.703125 57.765625 Z M 369.703125 34.660156 \"/>\n",
       "<path style=\"fill:none;stroke-width:0.702372;stroke-linecap:butt;stroke-linejoin:miter;stroke:rgb(0%,0%,0%);stroke-opacity:1;stroke-miterlimit:10;\" d=\"M 369.703125 57.765625 L 346.597656 57.765625 L 346.597656 80.871094 L 369.703125 80.871094 Z M 369.703125 57.765625 \"/>\n",
       "<path style=\"fill:none;stroke-width:0.702372;stroke-linecap:butt;stroke-linejoin:miter;stroke:rgb(0%,0%,0%);stroke-opacity:1;stroke-miterlimit:10;\" d=\"M 369.703125 80.871094 L 346.597656 80.871094 L 346.597656 103.976562 L 369.703125 103.976562 Z M 369.703125 80.871094 \"/>\n",
       "<path style=\"fill:none;stroke-width:0.702372;stroke-linecap:butt;stroke-linejoin:miter;stroke:rgb(0%,0%,0%);stroke-opacity:1;stroke-miterlimit:10;\" d=\"M 369.703125 103.980469 L 346.597656 103.980469 L 346.597656 127.085938 L 369.703125 127.085938 Z M 369.703125 103.980469 \"/>\n",
       "<path style=\"fill:none;stroke-width:0.702372;stroke-linecap:butt;stroke-linejoin:miter;stroke:rgb(0%,0%,0%);stroke-opacity:1;stroke-miterlimit:10;\" d=\"M 369.703125 127.085938 L 346.597656 127.085938 L 346.597656 150.191406 L 369.703125 150.191406 Z M 369.703125 127.085938 \"/>\n",
       "<path style=\"fill:none;stroke-width:0.702372;stroke-linecap:butt;stroke-linejoin:miter;stroke:rgb(0%,0%,0%);stroke-opacity:1;stroke-miterlimit:10;\" d=\"M 369.703125 150.191406 L 346.597656 150.191406 L 346.597656 173.296875 L 369.703125 173.296875 Z M 369.703125 150.191406 \"/>\n",
       "<path style=\"fill:none;stroke-width:0.702372;stroke-linecap:butt;stroke-linejoin:miter;stroke:rgb(0%,0%,0%);stroke-opacity:1;stroke-miterlimit:10;\" d=\"M 369.703125 173.296875 L 346.597656 173.296875 L 346.597656 196.402344 L 369.703125 196.402344 Z M 369.703125 173.296875 \"/>\n",
       "<path style=\"fill:none;stroke-width:0.702372;stroke-linecap:butt;stroke-linejoin:miter;stroke:rgb(0%,0%,0%);stroke-opacity:1;stroke-miterlimit:10;\" d=\"M 369.703125 196.402344 L 346.597656 196.402344 L 346.597656 219.507812 L 369.703125 219.507812 Z M 369.703125 196.402344 \"/>\n",
       "<path style=\"fill:none;stroke-width:0.702372;stroke-linecap:butt;stroke-linejoin:miter;stroke:rgb(0%,0%,0%);stroke-opacity:1;stroke-miterlimit:10;\" d=\"M 369.703125 219.511719 L 346.597656 219.511719 L 346.597656 242.617188 L 369.703125 242.617188 Z M 369.703125 219.511719 \"/>\n",
       "<path style=\"fill:none;stroke-width:0.702372;stroke-linecap:butt;stroke-linejoin:miter;stroke:rgb(0%,0%,0%);stroke-opacity:1;stroke-miterlimit:10;\" d=\"M 369.703125 242.617188 L 346.597656 242.617188 L 346.597656 265.722656 L 369.703125 265.722656 Z M 369.703125 242.617188 \"/>\n",
       "<path style=\"fill:none;stroke-width:0.702372;stroke-linecap:butt;stroke-linejoin:miter;stroke:rgb(0%,0%,0%);stroke-opacity:1;stroke-miterlimit:10;\" d=\"M 369.703125 265.722656 L 346.597656 265.722656 L 346.597656 288.828125 L 369.703125 288.828125 Z M 369.703125 265.722656 \"/>\n",
       "<path style=\"fill:none;stroke-width:0.702372;stroke-linecap:butt;stroke-linejoin:miter;stroke:rgb(0%,0%,0%);stroke-opacity:1;stroke-miterlimit:10;\" d=\"M 369.703125 288.828125 L 346.597656 288.828125 L 346.597656 311.933594 L 369.703125 311.933594 Z M 369.703125 288.828125 \"/>\n",
       "<path style=\"fill:none;stroke-width:0.702372;stroke-linecap:butt;stroke-linejoin:miter;stroke:rgb(0%,0%,0%);stroke-opacity:1;stroke-miterlimit:10;\" d=\"M 346.59375 11.554688 L 323.488281 11.554688 L 323.488281 34.660156 L 346.59375 34.660156 Z M 346.59375 11.554688 \"/>\n",
       "<path style=\"fill:none;stroke-width:0.702372;stroke-linecap:butt;stroke-linejoin:miter;stroke:rgb(0%,0%,0%);stroke-opacity:1;stroke-miterlimit:10;\" d=\"M 346.59375 34.660156 L 323.488281 34.660156 L 323.488281 57.765625 L 346.59375 57.765625 Z M 346.59375 34.660156 \"/>\n",
       "<path style=\"fill:none;stroke-width:0.702372;stroke-linecap:butt;stroke-linejoin:miter;stroke:rgb(0%,0%,0%);stroke-opacity:1;stroke-miterlimit:10;\" d=\"M 346.59375 57.765625 L 323.488281 57.765625 L 323.488281 80.871094 L 346.59375 80.871094 Z M 346.59375 57.765625 \"/>\n",
       "<path style=\"fill:none;stroke-width:0.702372;stroke-linecap:butt;stroke-linejoin:miter;stroke:rgb(0%,0%,0%);stroke-opacity:1;stroke-miterlimit:10;\" d=\"M 346.59375 80.871094 L 323.488281 80.871094 L 323.488281 103.976562 L 346.59375 103.976562 Z M 346.59375 80.871094 \"/>\n",
       "<path style=\"fill:none;stroke-width:0.702372;stroke-linecap:butt;stroke-linejoin:miter;stroke:rgb(0%,0%,0%);stroke-opacity:1;stroke-miterlimit:10;\" d=\"M 346.59375 103.980469 L 323.488281 103.980469 L 323.488281 127.085938 L 346.59375 127.085938 Z M 346.59375 103.980469 \"/>\n",
       "<path style=\"fill:none;stroke-width:0.702372;stroke-linecap:butt;stroke-linejoin:miter;stroke:rgb(0%,0%,0%);stroke-opacity:1;stroke-miterlimit:10;\" d=\"M 346.59375 127.085938 L 323.488281 127.085938 L 323.488281 150.191406 L 346.59375 150.191406 Z M 346.59375 127.085938 \"/>\n",
       "<path style=\"fill:none;stroke-width:0.702372;stroke-linecap:butt;stroke-linejoin:miter;stroke:rgb(0%,0%,0%);stroke-opacity:1;stroke-miterlimit:10;\" d=\"M 346.59375 150.191406 L 323.488281 150.191406 L 323.488281 173.296875 L 346.59375 173.296875 Z M 346.59375 150.191406 \"/>\n",
       "<path style=\"fill:none;stroke-width:0.702372;stroke-linecap:butt;stroke-linejoin:miter;stroke:rgb(0%,0%,0%);stroke-opacity:1;stroke-miterlimit:10;\" d=\"M 346.59375 173.296875 L 323.488281 173.296875 L 323.488281 196.402344 L 346.59375 196.402344 Z M 346.59375 173.296875 \"/>\n",
       "<path style=\"fill:none;stroke-width:0.702372;stroke-linecap:butt;stroke-linejoin:miter;stroke:rgb(0%,0%,0%);stroke-opacity:1;stroke-miterlimit:10;\" d=\"M 346.59375 196.402344 L 323.488281 196.402344 L 323.488281 219.507812 L 346.59375 219.507812 Z M 346.59375 196.402344 \"/>\n",
       "<path style=\"fill:none;stroke-width:0.702372;stroke-linecap:butt;stroke-linejoin:miter;stroke:rgb(0%,0%,0%);stroke-opacity:1;stroke-miterlimit:10;\" d=\"M 346.59375 219.511719 L 323.488281 219.511719 L 323.488281 242.617188 L 346.59375 242.617188 Z M 346.59375 219.511719 \"/>\n",
       "<path style=\"fill:none;stroke-width:0.702372;stroke-linecap:butt;stroke-linejoin:miter;stroke:rgb(0%,0%,0%);stroke-opacity:1;stroke-miterlimit:10;\" d=\"M 346.59375 242.617188 L 323.488281 242.617188 L 323.488281 265.722656 L 346.59375 265.722656 Z M 346.59375 242.617188 \"/>\n",
       "<path style=\"fill:none;stroke-width:0.702372;stroke-linecap:butt;stroke-linejoin:miter;stroke:rgb(0%,0%,0%);stroke-opacity:1;stroke-miterlimit:10;\" d=\"M 346.59375 265.722656 L 323.488281 265.722656 L 323.488281 288.828125 L 346.59375 288.828125 Z M 346.59375 265.722656 \"/>\n",
       "<path style=\"fill:none;stroke-width:0.702372;stroke-linecap:butt;stroke-linejoin:miter;stroke:rgb(0%,0%,0%);stroke-opacity:1;stroke-miterlimit:10;\" d=\"M 346.59375 288.828125 L 323.488281 288.828125 L 323.488281 311.933594 L 346.59375 311.933594 Z M 346.59375 288.828125 \"/>\n",
       "<path style=\"fill:none;stroke-width:0.702372;stroke-linecap:butt;stroke-linejoin:miter;stroke:rgb(0%,0%,0%);stroke-opacity:1;stroke-miterlimit:10;\" d=\"M 323.488281 11.554688 L 300.382812 11.554688 L 300.382812 34.660156 L 323.488281 34.660156 Z M 323.488281 11.554688 \"/>\n",
       "<path style=\"fill:none;stroke-width:0.702372;stroke-linecap:butt;stroke-linejoin:miter;stroke:rgb(0%,0%,0%);stroke-opacity:1;stroke-miterlimit:10;\" d=\"M 323.488281 34.660156 L 300.382812 34.660156 L 300.382812 57.765625 L 323.488281 57.765625 Z M 323.488281 34.660156 \"/>\n",
       "<path style=\"fill:none;stroke-width:0.702372;stroke-linecap:butt;stroke-linejoin:miter;stroke:rgb(0%,0%,0%);stroke-opacity:1;stroke-miterlimit:10;\" d=\"M 323.488281 57.765625 L 300.382812 57.765625 L 300.382812 80.871094 L 323.488281 80.871094 Z M 323.488281 57.765625 \"/>\n",
       "<path style=\"fill:none;stroke-width:0.702372;stroke-linecap:butt;stroke-linejoin:miter;stroke:rgb(0%,0%,0%);stroke-opacity:1;stroke-miterlimit:10;\" d=\"M 323.488281 80.871094 L 300.382812 80.871094 L 300.382812 103.976562 L 323.488281 103.976562 Z M 323.488281 80.871094 \"/>\n",
       "<path style=\"fill:none;stroke-width:0.702372;stroke-linecap:butt;stroke-linejoin:miter;stroke:rgb(0%,0%,0%);stroke-opacity:1;stroke-miterlimit:10;\" d=\"M 323.488281 103.980469 L 300.382812 103.980469 L 300.382812 127.085938 L 323.488281 127.085938 Z M 323.488281 103.980469 \"/>\n",
       "<path style=\"fill:none;stroke-width:0.702372;stroke-linecap:butt;stroke-linejoin:miter;stroke:rgb(0%,0%,0%);stroke-opacity:1;stroke-miterlimit:10;\" d=\"M 323.488281 127.085938 L 300.382812 127.085938 L 300.382812 150.191406 L 323.488281 150.191406 Z M 323.488281 127.085938 \"/>\n",
       "<path style=\"fill:none;stroke-width:0.702372;stroke-linecap:butt;stroke-linejoin:miter;stroke:rgb(0%,0%,0%);stroke-opacity:1;stroke-miterlimit:10;\" d=\"M 323.488281 150.191406 L 300.382812 150.191406 L 300.382812 173.296875 L 323.488281 173.296875 Z M 323.488281 150.191406 \"/>\n",
       "<path style=\"fill:none;stroke-width:0.702372;stroke-linecap:butt;stroke-linejoin:miter;stroke:rgb(0%,0%,0%);stroke-opacity:1;stroke-miterlimit:10;\" d=\"M 323.488281 173.296875 L 300.382812 173.296875 L 300.382812 196.402344 L 323.488281 196.402344 Z M 323.488281 173.296875 \"/>\n",
       "<path style=\"fill:none;stroke-width:0.702372;stroke-linecap:butt;stroke-linejoin:miter;stroke:rgb(0%,0%,0%);stroke-opacity:1;stroke-miterlimit:10;\" d=\"M 323.488281 196.402344 L 300.382812 196.402344 L 300.382812 219.507812 L 323.488281 219.507812 Z M 323.488281 196.402344 \"/>\n",
       "<path style=\"fill:none;stroke-width:0.702372;stroke-linecap:butt;stroke-linejoin:miter;stroke:rgb(0%,0%,0%);stroke-opacity:1;stroke-miterlimit:10;\" d=\"M 323.488281 219.511719 L 300.382812 219.511719 L 300.382812 242.617188 L 323.488281 242.617188 Z M 323.488281 219.511719 \"/>\n",
       "<path style=\"fill:none;stroke-width:0.702372;stroke-linecap:butt;stroke-linejoin:miter;stroke:rgb(0%,0%,0%);stroke-opacity:1;stroke-miterlimit:10;\" d=\"M 323.488281 242.617188 L 300.382812 242.617188 L 300.382812 265.722656 L 323.488281 265.722656 Z M 323.488281 242.617188 \"/>\n",
       "<path style=\"fill:none;stroke-width:0.702372;stroke-linecap:butt;stroke-linejoin:miter;stroke:rgb(0%,0%,0%);stroke-opacity:1;stroke-miterlimit:10;\" d=\"M 323.488281 265.722656 L 300.382812 265.722656 L 300.382812 288.828125 L 323.488281 288.828125 Z M 323.488281 265.722656 \"/>\n",
       "<path style=\"fill:none;stroke-width:0.702372;stroke-linecap:butt;stroke-linejoin:miter;stroke:rgb(0%,0%,0%);stroke-opacity:1;stroke-miterlimit:10;\" d=\"M 323.488281 288.828125 L 300.382812 288.828125 L 300.382812 311.933594 L 323.488281 311.933594 Z M 323.488281 288.828125 \"/>\n",
       "<path style=\"fill:none;stroke-width:0.702372;stroke-linecap:butt;stroke-linejoin:miter;stroke:rgb(0%,0%,0%);stroke-opacity:1;stroke-miterlimit:10;\" d=\"M 300.382812 11.554688 L 277.277344 11.554688 L 277.277344 34.660156 L 300.382812 34.660156 Z M 300.382812 11.554688 \"/>\n",
       "<path style=\"fill:none;stroke-width:0.702372;stroke-linecap:butt;stroke-linejoin:miter;stroke:rgb(0%,0%,0%);stroke-opacity:1;stroke-miterlimit:10;\" d=\"M 300.382812 34.660156 L 277.277344 34.660156 L 277.277344 57.765625 L 300.382812 57.765625 Z M 300.382812 34.660156 \"/>\n",
       "<path style=\"fill:none;stroke-width:0.702372;stroke-linecap:butt;stroke-linejoin:miter;stroke:rgb(0%,0%,0%);stroke-opacity:1;stroke-miterlimit:10;\" d=\"M 300.382812 57.765625 L 277.277344 57.765625 L 277.277344 80.871094 L 300.382812 80.871094 Z M 300.382812 57.765625 \"/>\n",
       "<path style=\"fill:none;stroke-width:0.702372;stroke-linecap:butt;stroke-linejoin:miter;stroke:rgb(0%,0%,0%);stroke-opacity:1;stroke-miterlimit:10;\" d=\"M 300.382812 80.871094 L 277.277344 80.871094 L 277.277344 103.976562 L 300.382812 103.976562 Z M 300.382812 80.871094 \"/>\n",
       "<path style=\"fill:none;stroke-width:0.702372;stroke-linecap:butt;stroke-linejoin:miter;stroke:rgb(0%,0%,0%);stroke-opacity:1;stroke-miterlimit:10;\" d=\"M 300.382812 103.980469 L 277.277344 103.980469 L 277.277344 127.085938 L 300.382812 127.085938 Z M 300.382812 103.980469 \"/>\n",
       "<path style=\"fill:none;stroke-width:0.702372;stroke-linecap:butt;stroke-linejoin:miter;stroke:rgb(0%,0%,0%);stroke-opacity:1;stroke-miterlimit:10;\" d=\"M 300.382812 127.085938 L 277.277344 127.085938 L 277.277344 150.191406 L 300.382812 150.191406 Z M 300.382812 127.085938 \"/>\n",
       "<path style=\"fill:none;stroke-width:0.702372;stroke-linecap:butt;stroke-linejoin:miter;stroke:rgb(0%,0%,0%);stroke-opacity:1;stroke-miterlimit:10;\" d=\"M 300.382812 150.191406 L 277.277344 150.191406 L 277.277344 173.296875 L 300.382812 173.296875 Z M 300.382812 150.191406 \"/>\n",
       "<path style=\"fill:none;stroke-width:0.702372;stroke-linecap:butt;stroke-linejoin:miter;stroke:rgb(0%,0%,0%);stroke-opacity:1;stroke-miterlimit:10;\" d=\"M 300.382812 173.296875 L 277.277344 173.296875 L 277.277344 196.402344 L 300.382812 196.402344 Z M 300.382812 173.296875 \"/>\n",
       "<path style=\"fill:none;stroke-width:0.702372;stroke-linecap:butt;stroke-linejoin:miter;stroke:rgb(0%,0%,0%);stroke-opacity:1;stroke-miterlimit:10;\" d=\"M 300.382812 196.402344 L 277.277344 196.402344 L 277.277344 219.507812 L 300.382812 219.507812 Z M 300.382812 196.402344 \"/>\n",
       "<path style=\"fill:none;stroke-width:0.702372;stroke-linecap:butt;stroke-linejoin:miter;stroke:rgb(0%,0%,0%);stroke-opacity:1;stroke-miterlimit:10;\" d=\"M 300.382812 219.511719 L 277.277344 219.511719 L 277.277344 242.617188 L 300.382812 242.617188 Z M 300.382812 219.511719 \"/>\n",
       "<path style=\"fill:none;stroke-width:0.702372;stroke-linecap:butt;stroke-linejoin:miter;stroke:rgb(0%,0%,0%);stroke-opacity:1;stroke-miterlimit:10;\" d=\"M 300.382812 242.617188 L 277.277344 242.617188 L 277.277344 265.722656 L 300.382812 265.722656 Z M 300.382812 242.617188 \"/>\n",
       "<path style=\"fill:none;stroke-width:0.702372;stroke-linecap:butt;stroke-linejoin:miter;stroke:rgb(0%,0%,0%);stroke-opacity:1;stroke-miterlimit:10;\" d=\"M 300.382812 265.722656 L 277.277344 265.722656 L 277.277344 288.828125 L 300.382812 288.828125 Z M 300.382812 265.722656 \"/>\n",
       "<path style=\"fill:none;stroke-width:0.702372;stroke-linecap:butt;stroke-linejoin:miter;stroke:rgb(0%,0%,0%);stroke-opacity:1;stroke-miterlimit:10;\" d=\"M 300.382812 288.828125 L 277.277344 288.828125 L 277.277344 311.933594 L 300.382812 311.933594 Z M 300.382812 288.828125 \"/>\n",
       "<path style=\"fill:none;stroke-width:0.702372;stroke-linecap:butt;stroke-linejoin:miter;stroke:rgb(0%,0%,0%);stroke-opacity:1;stroke-miterlimit:10;\" d=\"M 277.277344 11.554688 L 254.171875 11.554688 L 254.171875 34.660156 L 277.277344 34.660156 Z M 277.277344 11.554688 \"/>\n",
       "<path style=\"fill:none;stroke-width:0.702372;stroke-linecap:butt;stroke-linejoin:miter;stroke:rgb(0%,0%,0%);stroke-opacity:1;stroke-miterlimit:10;\" d=\"M 277.277344 34.660156 L 254.171875 34.660156 L 254.171875 57.765625 L 277.277344 57.765625 Z M 277.277344 34.660156 \"/>\n",
       "<path style=\"fill:none;stroke-width:0.702372;stroke-linecap:butt;stroke-linejoin:miter;stroke:rgb(0%,0%,0%);stroke-opacity:1;stroke-miterlimit:10;\" d=\"M 277.277344 57.765625 L 254.171875 57.765625 L 254.171875 80.871094 L 277.277344 80.871094 Z M 277.277344 57.765625 \"/>\n",
       "<path style=\"fill:none;stroke-width:0.702372;stroke-linecap:butt;stroke-linejoin:miter;stroke:rgb(0%,0%,0%);stroke-opacity:1;stroke-miterlimit:10;\" d=\"M 277.277344 80.871094 L 254.171875 80.871094 L 254.171875 103.976562 L 277.277344 103.976562 Z M 277.277344 80.871094 \"/>\n",
       "<path style=\"fill:none;stroke-width:0.702372;stroke-linecap:butt;stroke-linejoin:miter;stroke:rgb(0%,0%,0%);stroke-opacity:1;stroke-miterlimit:10;\" d=\"M 277.277344 103.980469 L 254.171875 103.980469 L 254.171875 127.085938 L 277.277344 127.085938 Z M 277.277344 103.980469 \"/>\n",
       "<path style=\"fill:none;stroke-width:0.702372;stroke-linecap:butt;stroke-linejoin:miter;stroke:rgb(0%,0%,0%);stroke-opacity:1;stroke-miterlimit:10;\" d=\"M 277.277344 127.085938 L 254.171875 127.085938 L 254.171875 150.191406 L 277.277344 150.191406 Z M 277.277344 127.085938 \"/>\n",
       "<path style=\"fill:none;stroke-width:0.702372;stroke-linecap:butt;stroke-linejoin:miter;stroke:rgb(0%,0%,0%);stroke-opacity:1;stroke-miterlimit:10;\" d=\"M 277.277344 150.191406 L 254.171875 150.191406 L 254.171875 173.296875 L 277.277344 173.296875 Z M 277.277344 150.191406 \"/>\n",
       "<path style=\"fill:none;stroke-width:0.702372;stroke-linecap:butt;stroke-linejoin:miter;stroke:rgb(0%,0%,0%);stroke-opacity:1;stroke-miterlimit:10;\" d=\"M 277.277344 173.296875 L 254.171875 173.296875 L 254.171875 196.402344 L 277.277344 196.402344 Z M 277.277344 173.296875 \"/>\n",
       "<path style=\"fill:none;stroke-width:0.702372;stroke-linecap:butt;stroke-linejoin:miter;stroke:rgb(0%,0%,0%);stroke-opacity:1;stroke-miterlimit:10;\" d=\"M 277.277344 196.402344 L 254.171875 196.402344 L 254.171875 219.507812 L 277.277344 219.507812 Z M 277.277344 196.402344 \"/>\n",
       "<path style=\"fill:none;stroke-width:0.702372;stroke-linecap:butt;stroke-linejoin:miter;stroke:rgb(0%,0%,0%);stroke-opacity:1;stroke-miterlimit:10;\" d=\"M 277.277344 219.511719 L 254.171875 219.511719 L 254.171875 242.617188 L 277.277344 242.617188 Z M 277.277344 219.511719 \"/>\n",
       "<path style=\"fill:none;stroke-width:0.702372;stroke-linecap:butt;stroke-linejoin:miter;stroke:rgb(0%,0%,0%);stroke-opacity:1;stroke-miterlimit:10;\" d=\"M 277.277344 242.617188 L 254.171875 242.617188 L 254.171875 265.722656 L 277.277344 265.722656 Z M 277.277344 242.617188 \"/>\n",
       "<path style=\"fill:none;stroke-width:0.702372;stroke-linecap:butt;stroke-linejoin:miter;stroke:rgb(0%,0%,0%);stroke-opacity:1;stroke-miterlimit:10;\" d=\"M 277.277344 265.722656 L 254.171875 265.722656 L 254.171875 288.828125 L 277.277344 288.828125 Z M 277.277344 265.722656 \"/>\n",
       "<path style=\"fill:none;stroke-width:0.702372;stroke-linecap:butt;stroke-linejoin:miter;stroke:rgb(0%,0%,0%);stroke-opacity:1;stroke-miterlimit:10;\" d=\"M 277.277344 288.828125 L 254.171875 288.828125 L 254.171875 311.933594 L 277.277344 311.933594 Z M 277.277344 288.828125 \"/>\n",
       "<path style=\"fill:none;stroke-width:2.633894;stroke-linecap:butt;stroke-linejoin:miter;stroke:rgb(0%,0%,0%);stroke-opacity:1;stroke-miterlimit:10;\" d=\"M 369.703125 11.554688 L 254.171875 11.554688 L 254.171875 311.9375 L 369.703125 311.9375 Z M 369.703125 11.554688 \"/>\n",
       "<path style=\"fill:none;stroke-width:2.633894;stroke-linecap:round;stroke-linejoin:miter;stroke:rgb(0%,0%,0%);stroke-opacity:1;stroke-miterlimit:10;\" d=\"M 254.167969 311.9375 L 369.699219 11.554688 M 369.703125 196.402344 L 300.382812 196.402344 M 323.488281 127.085938 L 254.167969 127.085938 \"/>\n",
       "<path style=\" stroke:none;fill-rule:nonzero;fill:rgb(21.568627%,28.235294%,36.470588%);fill-opacity:1;\" d=\"M 11.554688 69.320312 L 11.554688 138.640625 L 196.40625 138.640625 Z M 11.554688 69.320312 \"/>\n",
       "<path style=\" stroke:none;fill-rule:nonzero;fill:rgb(100%,40%,40%);fill-opacity:1;\" d=\"M 196.402344 138.636719 L 196.402344 69.316406 L 11.550781 69.316406 Z M 196.402344 138.636719 \"/>\n",
       "<path style=\" stroke:none;fill-rule:nonzero;fill:rgb(74.509804%,76.470588%,78.039216%);fill-opacity:1;\" d=\"M 80.871094 254.167969 L 196.402344 254.167969 L 196.402344 138.636719 L 127.082031 138.636719 Z M 80.871094 254.167969 \"/>\n",
       "<path style=\" stroke:none;fill-rule:nonzero;fill:rgb(10.196078%,73.72549%,61.176471%);fill-opacity:1;\" d=\"M 127.085938 138.636719 L 11.554688 138.636719 L 11.554688 254.167969 L 80.875 254.167969 Z M 127.085938 138.636719 \"/>\n",
       "<path style=\"fill:none;stroke-width:0.702372;stroke-linecap:butt;stroke-linejoin:miter;stroke:rgb(0%,0%,0%);stroke-opacity:1;stroke-miterlimit:10;\" d=\"M 196.402344 69.320312 L 173.296875 69.320312 L 173.296875 92.425781 L 196.402344 92.425781 Z M 196.402344 69.320312 \"/>\n",
       "<path style=\"fill:none;stroke-width:0.702372;stroke-linecap:butt;stroke-linejoin:miter;stroke:rgb(0%,0%,0%);stroke-opacity:1;stroke-miterlimit:10;\" d=\"M 196.402344 92.425781 L 173.296875 92.425781 L 173.296875 115.53125 L 196.402344 115.53125 Z M 196.402344 92.425781 \"/>\n",
       "<path style=\"fill:none;stroke-width:0.702372;stroke-linecap:butt;stroke-linejoin:miter;stroke:rgb(0%,0%,0%);stroke-opacity:1;stroke-miterlimit:10;\" d=\"M 196.402344 115.53125 L 173.296875 115.53125 L 173.296875 138.636719 L 196.402344 138.636719 Z M 196.402344 115.53125 \"/>\n",
       "<path style=\"fill:none;stroke-width:0.702372;stroke-linecap:butt;stroke-linejoin:miter;stroke:rgb(0%,0%,0%);stroke-opacity:1;stroke-miterlimit:10;\" d=\"M 196.402344 138.636719 L 173.296875 138.636719 L 173.296875 161.742188 L 196.402344 161.742188 Z M 196.402344 138.636719 \"/>\n",
       "<path style=\"fill:none;stroke-width:0.702372;stroke-linecap:butt;stroke-linejoin:miter;stroke:rgb(0%,0%,0%);stroke-opacity:1;stroke-miterlimit:10;\" d=\"M 196.402344 161.746094 L 173.296875 161.746094 L 173.296875 184.851562 L 196.402344 184.851562 Z M 196.402344 161.746094 \"/>\n",
       "<path style=\"fill:none;stroke-width:0.702372;stroke-linecap:butt;stroke-linejoin:miter;stroke:rgb(0%,0%,0%);stroke-opacity:1;stroke-miterlimit:10;\" d=\"M 196.402344 184.851562 L 173.296875 184.851562 L 173.296875 207.957031 L 196.402344 207.957031 Z M 196.402344 184.851562 \"/>\n",
       "<path style=\"fill:none;stroke-width:0.702372;stroke-linecap:butt;stroke-linejoin:miter;stroke:rgb(0%,0%,0%);stroke-opacity:1;stroke-miterlimit:10;\" d=\"M 196.402344 207.957031 L 173.296875 207.957031 L 173.296875 231.0625 L 196.402344 231.0625 Z M 196.402344 207.957031 \"/>\n",
       "<path style=\"fill:none;stroke-width:0.702372;stroke-linecap:butt;stroke-linejoin:miter;stroke:rgb(0%,0%,0%);stroke-opacity:1;stroke-miterlimit:10;\" d=\"M 196.402344 231.0625 L 173.296875 231.0625 L 173.296875 254.167969 L 196.402344 254.167969 Z M 196.402344 231.0625 \"/>\n",
       "<path style=\"fill:none;stroke-width:0.702372;stroke-linecap:butt;stroke-linejoin:miter;stroke:rgb(0%,0%,0%);stroke-opacity:1;stroke-miterlimit:10;\" d=\"M 173.296875 69.320312 L 150.191406 69.320312 L 150.191406 92.425781 L 173.296875 92.425781 Z M 173.296875 69.320312 \"/>\n",
       "<path style=\"fill:none;stroke-width:0.702372;stroke-linecap:butt;stroke-linejoin:miter;stroke:rgb(0%,0%,0%);stroke-opacity:1;stroke-miterlimit:10;\" d=\"M 173.296875 92.425781 L 150.191406 92.425781 L 150.191406 115.53125 L 173.296875 115.53125 Z M 173.296875 92.425781 \"/>\n",
       "<path style=\"fill:none;stroke-width:0.702372;stroke-linecap:butt;stroke-linejoin:miter;stroke:rgb(0%,0%,0%);stroke-opacity:1;stroke-miterlimit:10;\" d=\"M 173.296875 115.53125 L 150.191406 115.53125 L 150.191406 138.636719 L 173.296875 138.636719 Z M 173.296875 115.53125 \"/>\n",
       "<path style=\"fill:none;stroke-width:0.702372;stroke-linecap:butt;stroke-linejoin:miter;stroke:rgb(0%,0%,0%);stroke-opacity:1;stroke-miterlimit:10;\" d=\"M 173.296875 138.636719 L 150.191406 138.636719 L 150.191406 161.742188 L 173.296875 161.742188 Z M 173.296875 138.636719 \"/>\n",
       "<path style=\"fill:none;stroke-width:0.702372;stroke-linecap:butt;stroke-linejoin:miter;stroke:rgb(0%,0%,0%);stroke-opacity:1;stroke-miterlimit:10;\" d=\"M 173.296875 161.746094 L 150.191406 161.746094 L 150.191406 184.851562 L 173.296875 184.851562 Z M 173.296875 161.746094 \"/>\n",
       "<path style=\"fill:none;stroke-width:0.702372;stroke-linecap:butt;stroke-linejoin:miter;stroke:rgb(0%,0%,0%);stroke-opacity:1;stroke-miterlimit:10;\" d=\"M 173.296875 184.851562 L 150.191406 184.851562 L 150.191406 207.957031 L 173.296875 207.957031 Z M 173.296875 184.851562 \"/>\n",
       "<path style=\"fill:none;stroke-width:0.702372;stroke-linecap:butt;stroke-linejoin:miter;stroke:rgb(0%,0%,0%);stroke-opacity:1;stroke-miterlimit:10;\" d=\"M 173.296875 207.957031 L 150.191406 207.957031 L 150.191406 231.0625 L 173.296875 231.0625 Z M 173.296875 207.957031 \"/>\n",
       "<path style=\"fill:none;stroke-width:0.702372;stroke-linecap:butt;stroke-linejoin:miter;stroke:rgb(0%,0%,0%);stroke-opacity:1;stroke-miterlimit:10;\" d=\"M 173.296875 231.0625 L 150.191406 231.0625 L 150.191406 254.167969 L 173.296875 254.167969 Z M 173.296875 231.0625 \"/>\n",
       "<path style=\"fill:none;stroke-width:0.702372;stroke-linecap:butt;stroke-linejoin:miter;stroke:rgb(0%,0%,0%);stroke-opacity:1;stroke-miterlimit:10;\" d=\"M 150.191406 69.320312 L 127.085938 69.320312 L 127.085938 92.425781 L 150.191406 92.425781 Z M 150.191406 69.320312 \"/>\n",
       "<path style=\"fill:none;stroke-width:0.702372;stroke-linecap:butt;stroke-linejoin:miter;stroke:rgb(0%,0%,0%);stroke-opacity:1;stroke-miterlimit:10;\" d=\"M 150.191406 92.425781 L 127.085938 92.425781 L 127.085938 115.53125 L 150.191406 115.53125 Z M 150.191406 92.425781 \"/>\n",
       "<path style=\"fill:none;stroke-width:0.702372;stroke-linecap:butt;stroke-linejoin:miter;stroke:rgb(0%,0%,0%);stroke-opacity:1;stroke-miterlimit:10;\" d=\"M 150.191406 115.53125 L 127.085938 115.53125 L 127.085938 138.636719 L 150.191406 138.636719 Z M 150.191406 115.53125 \"/>\n",
       "<path style=\"fill:none;stroke-width:0.702372;stroke-linecap:butt;stroke-linejoin:miter;stroke:rgb(0%,0%,0%);stroke-opacity:1;stroke-miterlimit:10;\" d=\"M 150.191406 138.636719 L 127.085938 138.636719 L 127.085938 161.742188 L 150.191406 161.742188 Z M 150.191406 138.636719 \"/>\n",
       "<path style=\"fill:none;stroke-width:0.702372;stroke-linecap:butt;stroke-linejoin:miter;stroke:rgb(0%,0%,0%);stroke-opacity:1;stroke-miterlimit:10;\" d=\"M 150.191406 161.746094 L 127.085938 161.746094 L 127.085938 184.851562 L 150.191406 184.851562 Z M 150.191406 161.746094 \"/>\n",
       "<path style=\"fill:none;stroke-width:0.702372;stroke-linecap:butt;stroke-linejoin:miter;stroke:rgb(0%,0%,0%);stroke-opacity:1;stroke-miterlimit:10;\" d=\"M 150.191406 184.851562 L 127.085938 184.851562 L 127.085938 207.957031 L 150.191406 207.957031 Z M 150.191406 184.851562 \"/>\n",
       "<path style=\"fill:none;stroke-width:0.702372;stroke-linecap:butt;stroke-linejoin:miter;stroke:rgb(0%,0%,0%);stroke-opacity:1;stroke-miterlimit:10;\" d=\"M 150.191406 207.957031 L 127.085938 207.957031 L 127.085938 231.0625 L 150.191406 231.0625 Z M 150.191406 207.957031 \"/>\n",
       "<path style=\"fill:none;stroke-width:0.702372;stroke-linecap:butt;stroke-linejoin:miter;stroke:rgb(0%,0%,0%);stroke-opacity:1;stroke-miterlimit:10;\" d=\"M 150.191406 231.0625 L 127.085938 231.0625 L 127.085938 254.167969 L 150.191406 254.167969 Z M 150.191406 231.0625 \"/>\n",
       "<path style=\"fill:none;stroke-width:0.702372;stroke-linecap:butt;stroke-linejoin:miter;stroke:rgb(0%,0%,0%);stroke-opacity:1;stroke-miterlimit:10;\" d=\"M 127.085938 69.320312 L 103.980469 69.320312 L 103.980469 92.425781 L 127.085938 92.425781 Z M 127.085938 69.320312 \"/>\n",
       "<path style=\"fill:none;stroke-width:0.702372;stroke-linecap:butt;stroke-linejoin:miter;stroke:rgb(0%,0%,0%);stroke-opacity:1;stroke-miterlimit:10;\" d=\"M 127.085938 92.425781 L 103.980469 92.425781 L 103.980469 115.53125 L 127.085938 115.53125 Z M 127.085938 92.425781 \"/>\n",
       "<path style=\"fill:none;stroke-width:0.702372;stroke-linecap:butt;stroke-linejoin:miter;stroke:rgb(0%,0%,0%);stroke-opacity:1;stroke-miterlimit:10;\" d=\"M 127.085938 115.53125 L 103.980469 115.53125 L 103.980469 138.636719 L 127.085938 138.636719 Z M 127.085938 115.53125 \"/>\n",
       "<path style=\"fill:none;stroke-width:0.702372;stroke-linecap:butt;stroke-linejoin:miter;stroke:rgb(0%,0%,0%);stroke-opacity:1;stroke-miterlimit:10;\" d=\"M 127.085938 138.636719 L 103.980469 138.636719 L 103.980469 161.742188 L 127.085938 161.742188 Z M 127.085938 138.636719 \"/>\n",
       "<path style=\"fill:none;stroke-width:0.702372;stroke-linecap:butt;stroke-linejoin:miter;stroke:rgb(0%,0%,0%);stroke-opacity:1;stroke-miterlimit:10;\" d=\"M 127.085938 161.746094 L 103.980469 161.746094 L 103.980469 184.851562 L 127.085938 184.851562 Z M 127.085938 161.746094 \"/>\n",
       "<path style=\"fill:none;stroke-width:0.702372;stroke-linecap:butt;stroke-linejoin:miter;stroke:rgb(0%,0%,0%);stroke-opacity:1;stroke-miterlimit:10;\" d=\"M 127.085938 184.851562 L 103.980469 184.851562 L 103.980469 207.957031 L 127.085938 207.957031 Z M 127.085938 184.851562 \"/>\n",
       "<path style=\"fill:none;stroke-width:0.702372;stroke-linecap:butt;stroke-linejoin:miter;stroke:rgb(0%,0%,0%);stroke-opacity:1;stroke-miterlimit:10;\" d=\"M 127.085938 207.957031 L 103.980469 207.957031 L 103.980469 231.0625 L 127.085938 231.0625 Z M 127.085938 207.957031 \"/>\n",
       "<path style=\"fill:none;stroke-width:0.702372;stroke-linecap:butt;stroke-linejoin:miter;stroke:rgb(0%,0%,0%);stroke-opacity:1;stroke-miterlimit:10;\" d=\"M 127.085938 231.0625 L 103.980469 231.0625 L 103.980469 254.167969 L 127.085938 254.167969 Z M 127.085938 231.0625 \"/>\n",
       "<path style=\"fill:none;stroke-width:0.702372;stroke-linecap:butt;stroke-linejoin:miter;stroke:rgb(0%,0%,0%);stroke-opacity:1;stroke-miterlimit:10;\" d=\"M 103.980469 69.320312 L 80.875 69.320312 L 80.875 92.425781 L 103.980469 92.425781 Z M 103.980469 69.320312 \"/>\n",
       "<path style=\"fill:none;stroke-width:0.702372;stroke-linecap:butt;stroke-linejoin:miter;stroke:rgb(0%,0%,0%);stroke-opacity:1;stroke-miterlimit:10;\" d=\"M 103.980469 92.425781 L 80.875 92.425781 L 80.875 115.53125 L 103.980469 115.53125 Z M 103.980469 92.425781 \"/>\n",
       "<path style=\"fill:none;stroke-width:0.702372;stroke-linecap:butt;stroke-linejoin:miter;stroke:rgb(0%,0%,0%);stroke-opacity:1;stroke-miterlimit:10;\" d=\"M 103.980469 115.53125 L 80.875 115.53125 L 80.875 138.636719 L 103.980469 138.636719 Z M 103.980469 115.53125 \"/>\n",
       "<path style=\"fill:none;stroke-width:0.702372;stroke-linecap:butt;stroke-linejoin:miter;stroke:rgb(0%,0%,0%);stroke-opacity:1;stroke-miterlimit:10;\" d=\"M 103.980469 138.636719 L 80.875 138.636719 L 80.875 161.742188 L 103.980469 161.742188 Z M 103.980469 138.636719 \"/>\n",
       "<path style=\"fill:none;stroke-width:0.702372;stroke-linecap:butt;stroke-linejoin:miter;stroke:rgb(0%,0%,0%);stroke-opacity:1;stroke-miterlimit:10;\" d=\"M 103.980469 161.746094 L 80.875 161.746094 L 80.875 184.851562 L 103.980469 184.851562 Z M 103.980469 161.746094 \"/>\n",
       "<path style=\"fill:none;stroke-width:0.702372;stroke-linecap:butt;stroke-linejoin:miter;stroke:rgb(0%,0%,0%);stroke-opacity:1;stroke-miterlimit:10;\" d=\"M 103.980469 184.851562 L 80.875 184.851562 L 80.875 207.957031 L 103.980469 207.957031 Z M 103.980469 184.851562 \"/>\n",
       "<path style=\"fill:none;stroke-width:0.702372;stroke-linecap:butt;stroke-linejoin:miter;stroke:rgb(0%,0%,0%);stroke-opacity:1;stroke-miterlimit:10;\" d=\"M 103.980469 207.957031 L 80.875 207.957031 L 80.875 231.0625 L 103.980469 231.0625 Z M 103.980469 207.957031 \"/>\n",
       "<path style=\"fill:none;stroke-width:0.702372;stroke-linecap:butt;stroke-linejoin:miter;stroke:rgb(0%,0%,0%);stroke-opacity:1;stroke-miterlimit:10;\" d=\"M 103.980469 231.0625 L 80.875 231.0625 L 80.875 254.167969 L 103.980469 254.167969 Z M 103.980469 231.0625 \"/>\n",
       "<path style=\"fill:none;stroke-width:0.702372;stroke-linecap:butt;stroke-linejoin:miter;stroke:rgb(0%,0%,0%);stroke-opacity:1;stroke-miterlimit:10;\" d=\"M 80.871094 69.320312 L 57.765625 69.320312 L 57.765625 92.425781 L 80.871094 92.425781 Z M 80.871094 69.320312 \"/>\n",
       "<path style=\"fill:none;stroke-width:0.702372;stroke-linecap:butt;stroke-linejoin:miter;stroke:rgb(0%,0%,0%);stroke-opacity:1;stroke-miterlimit:10;\" d=\"M 80.871094 92.425781 L 57.765625 92.425781 L 57.765625 115.53125 L 80.871094 115.53125 Z M 80.871094 92.425781 \"/>\n",
       "<path style=\"fill:none;stroke-width:0.702372;stroke-linecap:butt;stroke-linejoin:miter;stroke:rgb(0%,0%,0%);stroke-opacity:1;stroke-miterlimit:10;\" d=\"M 80.871094 115.53125 L 57.765625 115.53125 L 57.765625 138.636719 L 80.871094 138.636719 Z M 80.871094 115.53125 \"/>\n",
       "<path style=\"fill:none;stroke-width:0.702372;stroke-linecap:butt;stroke-linejoin:miter;stroke:rgb(0%,0%,0%);stroke-opacity:1;stroke-miterlimit:10;\" d=\"M 80.871094 138.636719 L 57.765625 138.636719 L 57.765625 161.742188 L 80.871094 161.742188 Z M 80.871094 138.636719 \"/>\n",
       "<path style=\"fill:none;stroke-width:0.702372;stroke-linecap:butt;stroke-linejoin:miter;stroke:rgb(0%,0%,0%);stroke-opacity:1;stroke-miterlimit:10;\" d=\"M 80.871094 161.746094 L 57.765625 161.746094 L 57.765625 184.851562 L 80.871094 184.851562 Z M 80.871094 161.746094 \"/>\n",
       "<path style=\"fill:none;stroke-width:0.702372;stroke-linecap:butt;stroke-linejoin:miter;stroke:rgb(0%,0%,0%);stroke-opacity:1;stroke-miterlimit:10;\" d=\"M 80.871094 184.851562 L 57.765625 184.851562 L 57.765625 207.957031 L 80.871094 207.957031 Z M 80.871094 184.851562 \"/>\n",
       "<path style=\"fill:none;stroke-width:0.702372;stroke-linecap:butt;stroke-linejoin:miter;stroke:rgb(0%,0%,0%);stroke-opacity:1;stroke-miterlimit:10;\" d=\"M 80.871094 207.957031 L 57.765625 207.957031 L 57.765625 231.0625 L 80.871094 231.0625 Z M 80.871094 207.957031 \"/>\n",
       "<path style=\"fill:none;stroke-width:0.702372;stroke-linecap:butt;stroke-linejoin:miter;stroke:rgb(0%,0%,0%);stroke-opacity:1;stroke-miterlimit:10;\" d=\"M 80.871094 231.0625 L 57.765625 231.0625 L 57.765625 254.167969 L 80.871094 254.167969 Z M 80.871094 231.0625 \"/>\n",
       "<path style=\"fill:none;stroke-width:0.702372;stroke-linecap:butt;stroke-linejoin:miter;stroke:rgb(0%,0%,0%);stroke-opacity:1;stroke-miterlimit:10;\" d=\"M 57.765625 69.320312 L 34.660156 69.320312 L 34.660156 92.425781 L 57.765625 92.425781 Z M 57.765625 69.320312 \"/>\n",
       "<path style=\"fill:none;stroke-width:0.702372;stroke-linecap:butt;stroke-linejoin:miter;stroke:rgb(0%,0%,0%);stroke-opacity:1;stroke-miterlimit:10;\" d=\"M 57.765625 92.425781 L 34.660156 92.425781 L 34.660156 115.53125 L 57.765625 115.53125 Z M 57.765625 92.425781 \"/>\n",
       "<path style=\"fill:none;stroke-width:0.702372;stroke-linecap:butt;stroke-linejoin:miter;stroke:rgb(0%,0%,0%);stroke-opacity:1;stroke-miterlimit:10;\" d=\"M 57.765625 115.53125 L 34.660156 115.53125 L 34.660156 138.636719 L 57.765625 138.636719 Z M 57.765625 115.53125 \"/>\n",
       "<path style=\"fill:none;stroke-width:0.702372;stroke-linecap:butt;stroke-linejoin:miter;stroke:rgb(0%,0%,0%);stroke-opacity:1;stroke-miterlimit:10;\" d=\"M 57.765625 138.636719 L 34.660156 138.636719 L 34.660156 161.742188 L 57.765625 161.742188 Z M 57.765625 138.636719 \"/>\n",
       "<path style=\"fill:none;stroke-width:0.702372;stroke-linecap:butt;stroke-linejoin:miter;stroke:rgb(0%,0%,0%);stroke-opacity:1;stroke-miterlimit:10;\" d=\"M 57.765625 161.746094 L 34.660156 161.746094 L 34.660156 184.851562 L 57.765625 184.851562 Z M 57.765625 161.746094 \"/>\n",
       "<path style=\"fill:none;stroke-width:0.702372;stroke-linecap:butt;stroke-linejoin:miter;stroke:rgb(0%,0%,0%);stroke-opacity:1;stroke-miterlimit:10;\" d=\"M 57.765625 184.851562 L 34.660156 184.851562 L 34.660156 207.957031 L 57.765625 207.957031 Z M 57.765625 184.851562 \"/>\n",
       "<path style=\"fill:none;stroke-width:0.702372;stroke-linecap:butt;stroke-linejoin:miter;stroke:rgb(0%,0%,0%);stroke-opacity:1;stroke-miterlimit:10;\" d=\"M 57.765625 207.957031 L 34.660156 207.957031 L 34.660156 231.0625 L 57.765625 231.0625 Z M 57.765625 207.957031 \"/>\n",
       "<path style=\"fill:none;stroke-width:0.702372;stroke-linecap:butt;stroke-linejoin:miter;stroke:rgb(0%,0%,0%);stroke-opacity:1;stroke-miterlimit:10;\" d=\"M 57.765625 231.0625 L 34.660156 231.0625 L 34.660156 254.167969 L 57.765625 254.167969 Z M 57.765625 231.0625 \"/>\n",
       "<path style=\"fill:none;stroke-width:0.702372;stroke-linecap:butt;stroke-linejoin:miter;stroke:rgb(0%,0%,0%);stroke-opacity:1;stroke-miterlimit:10;\" d=\"M 34.660156 69.320312 L 11.554688 69.320312 L 11.554688 92.425781 L 34.660156 92.425781 Z M 34.660156 69.320312 \"/>\n",
       "<path style=\"fill:none;stroke-width:0.702372;stroke-linecap:butt;stroke-linejoin:miter;stroke:rgb(0%,0%,0%);stroke-opacity:1;stroke-miterlimit:10;\" d=\"M 34.660156 92.425781 L 11.554688 92.425781 L 11.554688 115.53125 L 34.660156 115.53125 Z M 34.660156 92.425781 \"/>\n",
       "<path style=\"fill:none;stroke-width:0.702372;stroke-linecap:butt;stroke-linejoin:miter;stroke:rgb(0%,0%,0%);stroke-opacity:1;stroke-miterlimit:10;\" d=\"M 34.660156 115.53125 L 11.554688 115.53125 L 11.554688 138.636719 L 34.660156 138.636719 Z M 34.660156 115.53125 \"/>\n",
       "<path style=\"fill:none;stroke-width:0.702372;stroke-linecap:butt;stroke-linejoin:miter;stroke:rgb(0%,0%,0%);stroke-opacity:1;stroke-miterlimit:10;\" d=\"M 34.660156 138.636719 L 11.554688 138.636719 L 11.554688 161.742188 L 34.660156 161.742188 Z M 34.660156 138.636719 \"/>\n",
       "<path style=\"fill:none;stroke-width:0.702372;stroke-linecap:butt;stroke-linejoin:miter;stroke:rgb(0%,0%,0%);stroke-opacity:1;stroke-miterlimit:10;\" d=\"M 34.660156 161.746094 L 11.554688 161.746094 L 11.554688 184.851562 L 34.660156 184.851562 Z M 34.660156 161.746094 \"/>\n",
       "<path style=\"fill:none;stroke-width:0.702372;stroke-linecap:butt;stroke-linejoin:miter;stroke:rgb(0%,0%,0%);stroke-opacity:1;stroke-miterlimit:10;\" d=\"M 34.660156 184.851562 L 11.554688 184.851562 L 11.554688 207.957031 L 34.660156 207.957031 Z M 34.660156 184.851562 \"/>\n",
       "<path style=\"fill:none;stroke-width:0.702372;stroke-linecap:butt;stroke-linejoin:miter;stroke:rgb(0%,0%,0%);stroke-opacity:1;stroke-miterlimit:10;\" d=\"M 34.660156 207.957031 L 11.554688 207.957031 L 11.554688 231.0625 L 34.660156 231.0625 Z M 34.660156 207.957031 \"/>\n",
       "<path style=\"fill:none;stroke-width:0.702372;stroke-linecap:butt;stroke-linejoin:miter;stroke:rgb(0%,0%,0%);stroke-opacity:1;stroke-miterlimit:10;\" d=\"M 34.660156 231.0625 L 11.554688 231.0625 L 11.554688 254.167969 L 34.660156 254.167969 Z M 34.660156 231.0625 \"/>\n",
       "<path style=\"fill:none;stroke-width:2.633894;stroke-linecap:butt;stroke-linejoin:miter;stroke:rgb(0%,0%,0%);stroke-opacity:1;stroke-miterlimit:10;\" d=\"M 196.402344 69.320312 L 11.550781 69.320312 L 11.550781 254.171875 L 196.402344 254.171875 Z M 196.402344 69.320312 \"/>\n",
       "<path style=\"fill:none;stroke-width:2.633894;stroke-linecap:butt;stroke-linejoin:miter;stroke:rgb(0%,0%,0%);stroke-opacity:1;stroke-miterlimit:10;\" d=\"M 80.871094 254.167969 L 127.082031 138.636719 M 196.402344 138.636719 L 11.550781 138.636719 M 196.402344 138.636719 L 11.550781 69.316406 \"/>\n",
       "</g>\n",
       "</svg>\n"
      ]
     },
     "metadata": {},
     "output_type": "display_data"
    }
   ],
   "source": [
    "diagram example"
   ]
  },
  {
   "cell_type": "code",
   "execution_count": null,
   "metadata": {},
   "outputs": [],
   "source": []
  }
 ],
 "metadata": {
  "kernelspec": {
   "display_name": "Haskell - haskell",
   "language": "haskell",
   "name": "ihaskell_haskell"
  },
  "language_info": {
   "codemirror_mode": "ihaskell",
   "file_extension": ".hs",
   "name": "haskell",
   "pygments_lexer": "Haskell",
   "version": "8.8.3"
  }
 },
 "nbformat": 4,
 "nbformat_minor": 4
}
